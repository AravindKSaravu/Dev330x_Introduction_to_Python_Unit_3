{
  "cells": [
    {
      "metadata": {},
      "cell_type": "markdown",
      "source": "# Section 1.1: Using Python Modules\n* import, import as\n* math: sqrt, //, %, \\**\n* order of operations\n* ceil, floor\n* random: random.randint(a, b), randrange(start, stop[,step])\n* random: random.choice(seq), random.shuffle(x[,random])\n\n### Students will be able to:\n* Import different Python modules\n* Compute mathematical expressions using functions from the math module\n* Recognize the effect of operator precedence\n* Round real numbers to the nearest integer\n* Generate (pseudo-)random integers\n* Select a random element from a list\n* Shuffle the elements of a list"
    },
    {
      "metadata": {
        "collapsed": true
      },
      "cell_type": "markdown",
      "source": "---\n<font size=\"6\" color=\"#00A0B2\"  face=\"verdana\"> <B>Concepts</B></font>  \n\n\n## Importing Modules\n\n[![view video](https://iajupyterprodblobs.blob.core.windows.net/imagecontainer/common/play_video.png)](https://www.youtube.com/watch?v=D6CNcAWR50g)\n\nWhen writing code, you do not have to create everything from scratch. As a matter of fact, you are encouraged to use previously developed functions written by other programmers. Such code is usually distributed as a library of functions and other facilities. Libraries are further organized into `modules` that contain related code. \n\nA module is basically a file that contains functions, variable, and classes. To use a function from a module, you need to import that module to your code. There are several ways to import a module; the following examples show you how to import and use the power function `pow` to compute 2<sup>3</sup>, and 5<sup>2</sup>.\n\n### Importing the whole library\n```python\n# import the whole math library\nimport math\n\n# compute 2 to the power 3\nmath.pow(2, 3)\n\n# compute 5 to the power 2\nmath.pow(5, 2)\n```\n\n### Importing the whole library and renaming it\n```python\n# import the whole math library and rename it ml\nimport math as ml\n\n# compute 2 to the power 3\nml.pow(2, 3)\n\n# compute 5 to the power 2\nml.pow(5, 2)\n```\n\n### Importing only the `pow` function\nIn this case, there is no need to refer to the `math` module when using `pow`.\n\n```python\n# import the `pow` function\nfrom math import pow\n\n# compute 2 to the power 3\npow(2, 3)\n\n# compute 5 to the power 2\npow(5, 2)\n```"
    },
    {
      "metadata": {},
      "cell_type": "markdown",
      "source": "---\n<font size=\"6\" color=\"#00A0B2\"  face=\"verdana\"> <B>Examples</B></font>\n\n### Importing the `fabs` Function\nThe following examples show you how to import and use the 'fabs' function, which calculates the absolute value of a number.\n* |-5| = 5\n* |12| = 12"
    },
    {
      "metadata": {
        "trusted": true
      },
      "cell_type": "code",
      "source": "import math\nx = -5\nmath.fabs(x)",
      "execution_count": 4,
      "outputs": [
        {
          "output_type": "execute_result",
          "execution_count": 4,
          "data": {
            "text/plain": "5.0"
          },
          "metadata": {}
        }
      ]
    },
    {
      "metadata": {
        "trusted": true
      },
      "cell_type": "code",
      "source": "import math as ml\ny = 12\nml.fabs(y)",
      "execution_count": 2,
      "outputs": [
        {
          "output_type": "execute_result",
          "execution_count": 2,
          "data": {
            "text/plain": "12.0"
          },
          "metadata": {}
        }
      ]
    },
    {
      "metadata": {
        "trusted": true
      },
      "cell_type": "code",
      "source": "from math import fabs\nfabs(-5)",
      "execution_count": 3,
      "outputs": [
        {
          "output_type": "execute_result",
          "execution_count": 3,
          "data": {
            "text/plain": "5.0"
          },
          "metadata": {}
        }
      ]
    },
    {
      "metadata": {},
      "cell_type": "markdown",
      "source": "---\n<font size=\"6\" color=\"#B24C00\" face=\"verdana\"><B>Task 1</B></font>\n\n## Importing Modules\n\n### Finding the greatest common divisor\nThe `math` module contains many useful functions. Skim through the Python Documentation Site's math page at https://docs.python.org/3/library/math.html and find an appropriate function that can compute the greatest common divisor of two numbers."
    },
    {
      "metadata": {
        "trusted": true
      },
      "cell_type": "code",
      "source": "# [ ] Import the math module and use an appropriate function to find the greatest common divisor of 16 and 28\nimport math\nmath.gcd(16,28)",
      "execution_count": 4,
      "outputs": [
        {
          "output_type": "execute_result",
          "execution_count": 4,
          "data": {
            "text/plain": "4"
          },
          "metadata": {}
        }
      ]
    },
    {
      "metadata": {
        "trusted": true
      },
      "cell_type": "code",
      "source": "# [ ] Prompt the user to input 2 positive integers then print their greatest common divisor\nimport math\na = int(input(\"Input an positive integer:\"))\nb = int(input(\"Input an positive integer:\"))\nprint(math.gcd(a,b))",
      "execution_count": 6,
      "outputs": [
        {
          "output_type": "stream",
          "name": "stdout",
          "text": "Input an positive integer:5\nInput an positive integer:6\n1\n"
        }
      ]
    },
    {
      "metadata": {
        "collapsed": true
      },
      "cell_type": "markdown",
      "source": "---\n<font size=\"6\" color=\"#00A0B2\"  face=\"verdana\"> <B>Concepts</B></font>  \n\n## Using `math` Functions\n\n[![view video](https://iajupyterprodblobs.blob.core.windows.net/imagecontainer/common/play_video.png)](https://www.youtube.com/watch?v=0kYUYLWELkM)\n\nThe Python Documentation Site's page on [math](https://docs.python.org/3.6/library/math.html) module contains a lot of mathematically useful functions and constants. For example, it contains trigonometric functions such as `cos` and `sin`, and other functions such as `sqrt`.\n\n### Square root\n\nThe `sqrt` function computes the square root of a number. The following examples show how to compute:\n* &radic;<span style=\"text-decoration: overline\">5</span>\n* &radic;<span style=\"text-decoration: overline\">30</span>\n\n```python\nfrom math import sqrt\n\n#compute the square root of 5\nsqrt(5)\n\n#compute the square root of 30\nsqrt(30)\n```\n\n### Other arithmetic operators\n\n#### Division operator `/`\nNormal division is performed by the `/` operator. For example:\n\n<sup>5</sup>/<sub>2</sub> = 2 <sup>1</sup>/<sub>2</sub> = 2.5\n\n```python\nIn [1]: 5/2\nOut[1]: 2.5\n```\n\n#### Integer division operator `//`\nWe can keep the integer and discard the fractional remainder by using the integer division operator `//`.\n\n```python\nIn [1]: 5//2\nOut[1]: 2\n```\n\n#### Modulo operator `%` \nThe modulo operator is opposite to the integer division operator; it keeps the remainder of a division.\n\n```python\nIn [1]: 5%2\nOut[1]: 1\n```\n\n#### Exponent operator `**`\nWe saw earlier that the `pow` function from the `math` module computes the exponent. We can achieve the same functionality using the exponent `**` operator. To compute 2<sup>3</sup> and 5<sup>2</sup>:\n\n```python\nIn [1]: 2**3\nOut[1]: 8\n\nIn [2]: 5**2\nOut[2]: 25\n```\n\n"
    },
    {
      "metadata": {},
      "cell_type": "markdown",
      "source": "---\n<font size=\"6\" color=\"#00A0B2\" face=\"verdana\"><B>Examples</B></font>\n\n### Pythagorean theorem\n\nWe can use the Pythagorean theorem (see the Wikipedia Site page on the [Pythagorean theorem](https://en.wikipedia.org/wiki/Pythagorean_theorem)) to compute the hypotenuse length of a right triangle as follows:\n\nh<sup>2</sup> = a<sup>2</sup> + b<sup>2</sup>\n\nh = &radic;<span style=\"text-decoration: overline\">a<sup style=\"vertical-align:-0.5ex\">2</sup> + b<sup style=\"vertical-align:-0.5ex\">2</sup></span>\n\nIn Python, we can compute `h` as follows:\n"
    },
    {
      "metadata": {
        "trusted": true
      },
      "cell_type": "code",
      "source": "from math import sqrt\na = 3\nb = 4\nh = sqrt(a ** 2 + b ** 2)\nprint(h)",
      "execution_count": 1,
      "outputs": [
        {
          "output_type": "stream",
          "text": "5.0\n",
          "name": "stdout"
        }
      ]
    },
    {
      "metadata": {},
      "cell_type": "markdown",
      "source": "### Even or Odd?\n\nTo test if a number is even or odd, we usually divide it by 2 and check the remainder. If the remainder is 0, the number is even; otherwise, the number is odd. We can use the modulo operator to test for the remainder as follows:"
    },
    {
      "metadata": {
        "trusted": true
      },
      "cell_type": "code",
      "source": "# Even number (print 0)\nprint(102 % 2)\n\n# Odd Number (print 1)\nprint(77 % 2)",
      "execution_count": 6,
      "outputs": [
        {
          "output_type": "stream",
          "text": "0\n1\n",
          "name": "stdout"
        }
      ]
    },
    {
      "metadata": {},
      "cell_type": "markdown",
      "source": "---\n<font size=\"6\" color=\"#B24C00\"  face=\"verdana\"> <B>Task 2</B></font>\n\n## Using `math` Functions"
    },
    {
      "metadata": {
        "trusted": true
      },
      "cell_type": "code",
      "source": "# [ ] Fill out the function is_even with a code block that returns True if n is even and returns False if n is odd\ndef is_even(n):\n    return not(n % 2)\n# TODO\n# Test the function\nx = 6\nif is_even(x):\n    print(\"Number is even\")\nelse:\n    print(\"Number is odd\")",
      "execution_count": 9,
      "outputs": [
        {
          "output_type": "stream",
          "text": "Number is even\n",
          "name": "stdout"
        }
      ]
    },
    {
      "metadata": {
        "trusted": true
      },
      "cell_type": "code",
      "source": "# [ ] Use the function is_even to print the square root of all the even numbers in the following list\nl = [25, 34, 193, 2, 81, 26, 44]\n\ndef is_even(n):\n    return (n % 2) == 0\n    return not(n % 2)\nfor i in l:\n    if is_even(i):\n        print(i)\n",
      "execution_count": 10,
      "outputs": [
        {
          "output_type": "stream",
          "text": "34\n2\n26\n44\n",
          "name": "stdout"
        }
      ]
    },
    {
      "metadata": {
        "collapsed": true
      },
      "cell_type": "markdown",
      "source": "---\n<font size=\"6\" color=\"#00A0B2\"  face=\"verdana\"> <B>Concepts</B></font>  \n\n## Operator Precedence\n\n[![view video](https://iajupyterprodblobs.blob.core.windows.net/imagecontainer/common/play_video.png)](https://www.youtube.com/watch?v=26qUip5e6E8)\n\nSimilar to arithmetic operators, Python's operators also have precedence. The following table shows some of the operators we have seen in order from highest to lowest precedence.\n\n| Operator | Description |\n|----------|-------------|\n| () | Parentheses|\n| \\** | Exponentiation| \n| *, /, //, %| Multiplication, division, integer division, modulo|\n|+, -| Addition, subtraction|\n\nThe parentheses can be used to group code to achieve the precedence you want."
    },
    {
      "metadata": {},
      "cell_type": "markdown",
      "source": "---\n<font size=\"6\" color=\"#00A0B2\" face=\"verdana\"><B>Examples</B></font>\n\n\n### 5 + 2 &times; 8\n\nMultiplication has a higher precedence, so the answer is: 5 + 16 = 21."
    },
    {
      "metadata": {
        "trusted": true
      },
      "cell_type": "code",
      "source": "5 + 2 * 8",
      "execution_count": 11,
      "outputs": [
        {
          "output_type": "execute_result",
          "execution_count": 11,
          "data": {
            "text/plain": "21"
          },
          "metadata": {}
        }
      ]
    },
    {
      "metadata": {},
      "cell_type": "markdown",
      "source": "If you meant the calculation to be 7 &times; 8 = 56, you should use parentheses as (5 + 2) &times; 8.\n"
    },
    {
      "metadata": {
        "trusted": true
      },
      "cell_type": "code",
      "source": "(5 + 2) * 8",
      "execution_count": 12,
      "outputs": [
        {
          "output_type": "execute_result",
          "execution_count": 12,
          "data": {
            "text/plain": "56"
          },
          "metadata": {}
        }
      ]
    },
    {
      "metadata": {},
      "cell_type": "markdown",
      "source": "### <sup>12</sup> / <sub>4 * 3</sub>\n\nThe answer should be <sup>12</sup> / <sub>12</sub> = 1."
    },
    {
      "metadata": {
        "trusted": true
      },
      "cell_type": "code",
      "source": "12 / 4 * 3",
      "execution_count": 13,
      "outputs": [
        {
          "output_type": "execute_result",
          "execution_count": 13,
          "data": {
            "text/plain": "9.0"
          },
          "metadata": {}
        }
      ]
    },
    {
      "metadata": {},
      "cell_type": "markdown",
      "source": "The expression resulted in a wrong answer because all three operators have the same precedence, and the expression was evaluated from left to right. There are 2 ways to fix this issue:"
    },
    {
      "metadata": {
        "trusted": true
      },
      "cell_type": "code",
      "source": "# Method 1\n12 / (4 * 3)",
      "execution_count": 14,
      "outputs": [
        {
          "output_type": "execute_result",
          "execution_count": 14,
          "data": {
            "text/plain": "1.0"
          },
          "metadata": {}
        }
      ]
    },
    {
      "metadata": {
        "trusted": true
      },
      "cell_type": "code",
      "source": "# Method 2\n12 / 4 / 3",
      "execution_count": 15,
      "outputs": [
        {
          "output_type": "execute_result",
          "execution_count": 15,
          "data": {
            "text/plain": "1.0"
          },
          "metadata": {}
        }
      ]
    },
    {
      "metadata": {},
      "cell_type": "markdown",
      "source": "---\n<font size=\"6\" color=\"#B24C00\"  face=\"verdana\"> <B>Task 3</B></font>\n\n## Operator Precedence"
    },
    {
      "metadata": {
        "trusted": true
      },
      "cell_type": "code",
      "source": "# [ ] Correct the following expression so the answer is 10\n\n(4 + 16) / 2\n\n",
      "execution_count": 16,
      "outputs": [
        {
          "output_type": "execute_result",
          "execution_count": 16,
          "data": {
            "text/plain": "10.0"
          },
          "metadata": {}
        }
      ]
    },
    {
      "metadata": {
        "trusted": true
      },
      "cell_type": "code",
      "source": "# [ ] Correct the following expression so the answer is 250; review the operator precedence table and use only one () pair\n\n2 * (3 + 2) ** 3\n\n",
      "execution_count": 17,
      "outputs": [
        {
          "output_type": "execute_result",
          "execution_count": 17,
          "data": {
            "text/plain": "250"
          },
          "metadata": {}
        }
      ]
    },
    {
      "metadata": {
        "collapsed": true
      },
      "cell_type": "markdown",
      "source": "---\n<font size=\"6\" color=\"#00A0B2\"  face=\"verdana\"> <B>Concepts</B></font>  \n\n\n## Rounding Numbers\n\n[![view video](https://iajupyterprodblobs.blob.core.windows.net/imagecontainer/common/play_video.png)](https://www.youtube.com/watch?v=t4yK5-0OV9w)\n\nIn some cases, you need to round a real number into an integer. For example, 31.8 can be rounded up to the next integer (32), and it can also be rounded down (to 31).\n\n#### Ceiling\nA real number can be rounded up in Python using the `ceil` function from the `math` module. The function takes a real number `x` and returns the smallest integer value greater than or equal to `x`.\n\n```python\n# importing the math library\nimport math\n\n# round up\nx = math.ceil(31.8)\nprint(x) #will print 32\n```  \n\n#### Truncate\nThe function `trunc` from the `math` module can round a real number into an integer by ignoring (truncating) the fraction part.\n\n```python\n# importing the math library\nimport math\nx = math.trunc(31.8)\nprint(x) #will print 31\n```\n\n#### Floor\nA real number can be rounded down in Python using the `floor` function from the `math` module. The function takes a real number `x` and returns the largest integer value less than or equal to `x`.\n\n```python\n# importing the math library\nimport math\n\n# round down\nx = math.floor(31.8)\nprint(x) #will print 31\n```  "
    },
    {
      "metadata": {},
      "cell_type": "markdown",
      "source": "---\n<font size=\"6\" color=\"#00A0B2\" face=\"verdana\"><B>Examples</B></font>\n\nYou and a friend participated in a programming contest. Your hard work paid off, and your team won a prize of \\$213, which you decide to split evenly. Unfortunately, you were given the prize in \\$1 bills and neither of you has any coins. How should you split the prize?\n\nAn equal division of the prize is <sup>213</sup>/<sub>2</sub> = 106.5; however, you cannot get \\$0.5 without destroying one of the \\$1 bills, so you decide to use Python to round:"
    },
    {
      "metadata": {
        "trusted": true
      },
      "cell_type": "code",
      "source": "from math import floor, ceil, trunc\n\nprize = 213\n\noption1 = floor(213 / 2)\nprint(\"You get\", option1, \" and your friend gets \", prize - option1)",
      "execution_count": 18,
      "outputs": [
        {
          "output_type": "stream",
          "text": "You get 106  and your friend gets  107\n",
          "name": "stdout"
        }
      ]
    },
    {
      "metadata": {
        "trusted": true
      },
      "cell_type": "code",
      "source": "from math import floor, ceil, trunc\n\nprize = 213\n\noption2 = ceil(213 / 2)\nprint(\"You get\", option2, \" and your friend gets \", prize - option2)",
      "execution_count": 19,
      "outputs": [
        {
          "output_type": "stream",
          "text": "You get 107  and your friend gets  106\n",
          "name": "stdout"
        }
      ]
    },
    {
      "metadata": {},
      "cell_type": "markdown",
      "source": "---\n<font size=\"6\" color=\"#B24C00\"  face=\"verdana\"> <B>Task 4</B></font>\n\n## Rounding Numbers\n"
    },
    {
      "metadata": {
        "trusted": true
      },
      "cell_type": "code",
      "source": "# [ ] Use an appropriate rounding function to round 75.34 to 75 and then to 76\n\nimport math\n\nx = 75.34\nprint(math.trunc(x))\nprint(math.ceil(x))\n",
      "execution_count": 20,
      "outputs": [
        {
          "output_type": "stream",
          "text": "75\n76\n",
          "name": "stdout"
        }
      ]
    },
    {
      "metadata": {},
      "cell_type": "markdown",
      "source": "### `float` error rounding\nRepresenting `float` numbers in a computer is prone to rounding errors. In this task you should use one of the rounding functions to fix the error."
    },
    {
      "metadata": {
        "trusted": true
      },
      "cell_type": "code",
      "source": "# [ ] Use an appropriate rounding function to fix the following `float` error\n\n# Price of a chocolate box\nimport math\np = 4.35\n\n# Quantity needed\nq = 200\n\n# Order total price (Should be 4.35 * 200 = $870.00)\ntotal = p * q\n\nprint(\"Total price: $\", float(math.ceil(total)))",
      "execution_count": 22,
      "outputs": [
        {
          "output_type": "stream",
          "text": "Total price: $ 870.0\n",
          "name": "stdout"
        }
      ]
    },
    {
      "metadata": {
        "collapsed": true
      },
      "cell_type": "markdown",
      "source": "---\n<font size=\"6\" color=\"#00A0B2\"  face=\"verdana\"> <B>Concepts</B></font>  \n\n\n## Generating Random Integers\n\n[![view video](https://iajupyterprodblobs.blob.core.windows.net/imagecontainer/common/play_video.png)](https://www.youtube.com/watch?v=SXBoyZkIw2A)\n\nIf you are programming a Sudoku game that generates the same pattern every time you start it, chances are you will not play it many times. Introducing some randomness would make the game much more interesting. Python has several random number generator functions in the `random` module. You need only to import the module and use an appropriate function that suits your application.\n\n#### Random integer between a and b\nThe function `randint(a, b)` generates a random number n, where a &leq; n &leq; b\n\nThe following generates a number between 1 and 10:\n"
    },
    {
      "metadata": {
        "trusted": true
      },
      "cell_type": "code",
      "source": "from random import randint\nprint(randint(1, 10))",
      "execution_count": 25,
      "outputs": [
        {
          "output_type": "stream",
          "text": "1\n",
          "name": "stdout"
        }
      ]
    },
    {
      "metadata": {},
      "cell_type": "markdown",
      "source": "#### Random integer from a range\nThe randrange(start, stop[, step]) function generates a random number from a range of integers between start (included) and stop (excluded) with an optional step. The following generates a number between 1 and 10:"
    },
    {
      "metadata": {
        "trusted": true
      },
      "cell_type": "code",
      "source": "from random import randrange\nprint(randrange(1, 11))",
      "execution_count": 26,
      "outputs": [
        {
          "output_type": "stream",
          "text": "9\n",
          "name": "stdout"
        }
      ]
    },
    {
      "metadata": {},
      "cell_type": "markdown",
      "source": "In this case start = 1 and stop = 11 and we didn't specify the step value, which is 1 by default.\n\nIf step were specified as a value other than 1, such as 2, then `randrange(1, 11, 2)` would generate a number from the following range [1, 3, 5, 7, 9]. In other words, the randrange randomly selects a value from the range of integer numbers between 1 (included) and 11 (excluded) where the elements are separated by 2."
    },
    {
      "metadata": {
        "trusted": true
      },
      "cell_type": "code",
      "source": "from random import randrange\nprint(randrange(1, 11, 2))",
      "execution_count": 29,
      "outputs": [
        {
          "output_type": "stream",
          "text": "1\n",
          "name": "stdout"
        }
      ]
    },
    {
      "metadata": {},
      "cell_type": "markdown",
      "source": "---\n<font size=\"6\" color=\"#00A0B2\" face=\"verdana\"><B>Examples</B></font>\n\n### Die roller\nIf you are designing a game, it will be useful to have a function that can roll a die for you. The following shows a function that generates a single die roll:"
    },
    {
      "metadata": {
        "trusted": true
      },
      "cell_type": "code",
      "source": "from random import randint\n\ndef die_roller ():\n    return (randint(1, 6))\n\n\n# roll a die\nprint(die_roller())",
      "execution_count": 33,
      "outputs": [
        {
          "output_type": "stream",
          "text": "5\n",
          "name": "stdout"
        }
      ]
    },
    {
      "metadata": {},
      "cell_type": "markdown",
      "source": "### Odd random integers\nThe following example shows you how to generate a random odd integer n, such that 1 &leq; n < 102:"
    },
    {
      "metadata": {
        "trusted": true
      },
      "cell_type": "code",
      "source": "from random import randrange\n\ndef odd_random():\n    return (randrange(1, 102, 2))\n\n# Generate an odd random integer\nprint(odd_random())",
      "execution_count": 43,
      "outputs": [
        {
          "output_type": "stream",
          "text": "3\n",
          "name": "stdout"
        }
      ]
    },
    {
      "metadata": {},
      "cell_type": "markdown",
      "source": "---\n<font size=\"6\" color=\"#B24C00\" face=\"verdana\"><B>Task 5</B></font>\n\n## Generating Random Integers\n"
    },
    {
      "metadata": {
        "collapsed": true,
        "trusted": false
      },
      "cell_type": "code",
      "source": "# [ ] Modify the die_roller() function to use randrange instead of randint\nfrom random import randrange\n\ndef die_roller ():\n    return (randrange(1, 6))\n\n\n# roll a die\nprint(die_roller())\n",
      "execution_count": null,
      "outputs": []
    },
    {
      "metadata": {
        "collapsed": true,
        "trusted": false
      },
      "cell_type": "code",
      "source": "# [ ] Modify the odd_random() function to use randint instead of randrange\nfrom random import randint\ndef odd_random():\n    r = (randint(1, 102))\n    if r % 2 == 0:\n        return r+1\n    else:\n        return r\nprint(odd_random())",
      "execution_count": null,
      "outputs": []
    },
    {
      "metadata": {
        "trusted": true
      },
      "cell_type": "code",
      "source": "# [ ] Complete the function dice_roller() so it rolls 2 dice\n# Use the die_roller function\n\nfrom random import randint\n\ndef die_roller():\n    return(randint(1, 6))\n\ndef dice_roller():\n    x = dice_roller()\n    y = dice_roller()\n    return(x,y)\n    \n    #TODO\nprint(dice_roller())\n\n\n\n",
      "execution_count": 71,
      "outputs": [
        {
          "output_type": "error",
          "ename": "RecursionError",
          "evalue": "maximum recursion depth exceeded",
          "traceback": [
            "\u001b[0;31m---------------------------------------------------------------------------\u001b[0m",
            "\u001b[0;31mRecursionError\u001b[0m                            Traceback (most recent call last)",
            "\u001b[0;32m<ipython-input-71-a65d4f3d3fed>\u001b[0m in \u001b[0;36m<module>\u001b[0;34m()\u001b[0m\n\u001b[1;32m     14\u001b[0m     \u001b[0;31m#TODO\u001b[0m\u001b[0;34m\u001b[0m\u001b[0;34m\u001b[0m\u001b[0m\n\u001b[1;32m     15\u001b[0m \u001b[0;34m\u001b[0m\u001b[0m\n\u001b[0;32m---> 16\u001b[0;31m \u001b[0mprint\u001b[0m\u001b[0;34m(\u001b[0m\u001b[0mdice_roller\u001b[0m\u001b[0;34m(\u001b[0m\u001b[0;34m)\u001b[0m\u001b[0;34m)\u001b[0m\u001b[0;34m\u001b[0m\u001b[0m\n\u001b[0m\u001b[1;32m     17\u001b[0m \u001b[0;34m\u001b[0m\u001b[0m\n\u001b[1;32m     18\u001b[0m \u001b[0;34m\u001b[0m\u001b[0m\n",
            "\u001b[0;32m<ipython-input-71-a65d4f3d3fed>\u001b[0m in \u001b[0;36mdice_roller\u001b[0;34m()\u001b[0m\n\u001b[1;32m      8\u001b[0m \u001b[0;34m\u001b[0m\u001b[0m\n\u001b[1;32m      9\u001b[0m \u001b[0;32mdef\u001b[0m \u001b[0mdice_roller\u001b[0m\u001b[0;34m(\u001b[0m\u001b[0;34m)\u001b[0m\u001b[0;34m:\u001b[0m\u001b[0;34m\u001b[0m\u001b[0m\n\u001b[0;32m---> 10\u001b[0;31m     \u001b[0mx\u001b[0m \u001b[0;34m=\u001b[0m \u001b[0mdice_roller\u001b[0m\u001b[0;34m(\u001b[0m\u001b[0;34m)\u001b[0m\u001b[0;34m\u001b[0m\u001b[0m\n\u001b[0m\u001b[1;32m     11\u001b[0m     \u001b[0my\u001b[0m \u001b[0;34m=\u001b[0m \u001b[0mdice_roller\u001b[0m\u001b[0;34m(\u001b[0m\u001b[0;34m)\u001b[0m\u001b[0;34m\u001b[0m\u001b[0m\n\u001b[1;32m     12\u001b[0m     \u001b[0;32mreturn\u001b[0m\u001b[0;34m(\u001b[0m\u001b[0mx\u001b[0m\u001b[0;34m,\u001b[0m\u001b[0my\u001b[0m\u001b[0;34m)\u001b[0m\u001b[0;34m\u001b[0m\u001b[0m\n",
            "... last 1 frames repeated, from the frame below ...\n",
            "\u001b[0;32m<ipython-input-71-a65d4f3d3fed>\u001b[0m in \u001b[0;36mdice_roller\u001b[0;34m()\u001b[0m\n\u001b[1;32m      8\u001b[0m \u001b[0;34m\u001b[0m\u001b[0m\n\u001b[1;32m      9\u001b[0m \u001b[0;32mdef\u001b[0m \u001b[0mdice_roller\u001b[0m\u001b[0;34m(\u001b[0m\u001b[0;34m)\u001b[0m\u001b[0;34m:\u001b[0m\u001b[0;34m\u001b[0m\u001b[0m\n\u001b[0;32m---> 10\u001b[0;31m     \u001b[0mx\u001b[0m \u001b[0;34m=\u001b[0m \u001b[0mdice_roller\u001b[0m\u001b[0;34m(\u001b[0m\u001b[0;34m)\u001b[0m\u001b[0;34m\u001b[0m\u001b[0m\n\u001b[0m\u001b[1;32m     11\u001b[0m     \u001b[0my\u001b[0m \u001b[0;34m=\u001b[0m \u001b[0mdice_roller\u001b[0m\u001b[0;34m(\u001b[0m\u001b[0;34m)\u001b[0m\u001b[0;34m\u001b[0m\u001b[0m\n\u001b[1;32m     12\u001b[0m     \u001b[0;32mreturn\u001b[0m\u001b[0;34m(\u001b[0m\u001b[0mx\u001b[0m\u001b[0;34m,\u001b[0m\u001b[0my\u001b[0m\u001b[0;34m)\u001b[0m\u001b[0;34m\u001b[0m\u001b[0m\n",
            "\u001b[0;31mRecursionError\u001b[0m: maximum recursion depth exceeded"
          ]
        }
      ]
    },
    {
      "metadata": {
        "collapsed": true
      },
      "cell_type": "markdown",
      "source": "---\n<font size=\"6\" color=\"#00A0B2\"  face=\"verdana\"> <B>Concepts</B></font>  \n\n\n## Random Sequences\n\n[![view video](https://iajupyterprodblobs.blob.core.windows.net/imagecontainer/common/play_video.png)](https://www.youtube.com/watch?v=z4IV0ffouew)\n\n### Selecting an element from a list\nIn certain cases, you want to select an element from a range of non-integers or even a list of non-numeric elements. In such cases `randint` and `randrange` will not work; however, the `random` module comes with a `choice` function that returns a randomly chosen element from a list passed as an argument. For example, if you are designing a \"Rock, Paper, Scissors\" game, and you want the computer to choose one of the `string` options randomly, you need to use the `choice` function.\n"
    },
    {
      "metadata": {
        "trusted": true
      },
      "cell_type": "code",
      "source": "from random import choice\n\n# Select Rock, Paper, or Scissors\ndef RPS():\n    options = ['Rock', 'Paper', 'Scissors']\n    # return one of the elements at random\n    return (choice(options))\n\n# Generate an option\nprint(RPS())",
      "execution_count": 60,
      "outputs": [
        {
          "output_type": "stream",
          "text": "Paper\n",
          "name": "stdout"
        }
      ]
    },
    {
      "metadata": {},
      "cell_type": "markdown",
      "source": "### Shuffling the elements of a list\n\nSometimes you do not want to choose a random element from a list, but rather you want to shuffle the content of a list. Say you want to rearrange a list of names to a random order. The function `shuffle` shuffles the elements of list in place as illustrated below:\n"
    },
    {
      "metadata": {
        "trusted": true
      },
      "cell_type": "code",
      "source": "from random import shuffle\n\nx = ['Ana', 'John', 'Mike', 'Sally']\n\nshuffle(x)\n\nprint(x)",
      "execution_count": 63,
      "outputs": [
        {
          "output_type": "stream",
          "text": "['Ana', 'Mike', 'John', 'Sally']\n",
          "name": "stdout"
        }
      ]
    },
    {
      "metadata": {},
      "cell_type": "markdown",
      "source": "---\n<font size=\"6\" color=\"#00A0B2\"  face=\"verdana\"> <B>Examples</B></font>\n\n### Picking a random playing card\n\nSay you want to design a card game, and you want a function to pick one of the 52 cards at random. The `choice` function is a good fit."
    },
    {
      "metadata": {
        "trusted": true
      },
      "cell_type": "code",
      "source": "from random import choice\n\ndef pick_card():\n    card_type = ['Clubs', 'Diamonds', 'Hearts', 'Spades']\n    card_number = ['Ace', 2, 3, 4, 5, 6, 7, 8, 9, 10, 'Jack', 'Queen', 'King']\n    \n    # choose a type at random\n    t = choice(card_type)\n    n = choice(card_number)\n    \n    return [n, t]\n\n# Show the randomly picked card\nprint(pick_card())",
      "execution_count": 72,
      "outputs": [
        {
          "output_type": "stream",
          "text": "[4, 'Clubs']\n",
          "name": "stdout"
        }
      ]
    },
    {
      "metadata": {},
      "cell_type": "markdown",
      "source": "---\n<font size=\"6\" color=\"#B24C00\"  face=\"verdana\"> <B>Task 6</B></font>\n\n## Random Sequences"
    },
    {
      "metadata": {
        "trusted": true
      },
      "cell_type": "code",
      "source": "# [ ] Modify the pick_card() function to use `shuffle` instead of choice\nfrom random import shuffle\n\n\ndef pick_card():\n    card_type = ['Clubs', 'Diamonds', 'Hearts', 'Spades']\n    card_number = ['Ace', 2, 3, 4, 5, 6, 7, 8, 9, 10, 'Jack', 'Queen', 'King']\n\n    # choose a type at random\n    shuffle(card_type)\n    shuffle(card_number)\n\n    return card_type, card_number\n\n# Show the randomly picked card\nprint(pick_card())\n",
      "execution_count": 75,
      "outputs": [
        {
          "output_type": "stream",
          "text": "(['Hearts', 'Diamonds', 'Spades', 'Clubs'], [2, 7, 8, 'Jack', 9, 'King', 4, 5, 10, 6, 3, 'Queen', 'Ace'])\n",
          "name": "stdout"
        }
      ]
    },
    {
      "metadata": {
        "trusted": true
      },
      "cell_type": "code",
      "source": "# [ ] The following list contain the 10 most populous American cities; write code to randomly select one of the cities to visit\nfrom random import choice\ncities = [\"New York\", \"Los Angeles\", \"Chicago\", \"Houston\", \"Phoenix\", \"Philadelphia\", \"San Antonio\", \"San Diego\", \"Dallas\", \"San Jose\"]\nprint(\"The City to visit is:\",choice(cities))\n",
      "execution_count": 76,
      "outputs": []
    }
  ],
  "metadata": {
    "kernelspec": {
      "name": "python3",
      "display_name": "Python 3",
      "language": "python"
    },
    "language_info": {
      "mimetype": "text/x-python",
      "nbconvert_exporter": "python",
      "name": "python",
      "file_extension": ".py",
      "version": "3.5.4",
      "pygments_lexer": "ipython3",
      "codemirror_mode": {
        "version": 3,
        "name": "ipython"
      }
    }
  },
  "nbformat": 4,
  "nbformat_minor": 2
}