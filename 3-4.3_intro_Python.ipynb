{
  "cells": [
    {
      "metadata": {},
      "cell_type": "markdown",
      "source": "# Section 4.3: Documenting Functions (Docstring)\n* Docstrings\n* \"\"\" \"\"\"\n* \\_\\_doc\\_\\_ , help()\n\n### Students will be able to:\n* Write one-line docstrings\n* Write multi-line docstrings\n* Access docstrings"
    },
    {
      "metadata": {},
      "cell_type": "markdown",
      "source": "---\n<font size=\"6\" color=\"#00A0B2\"  face=\"verdana\"> <B>Concepts</B></font>  \n\n## Documenting Code by Using Docstrings\n\n[![view video](https://iajupyterprodblobs.blob.core.windows.net/imagecontainer/common/play_video.png)](https://www.youtube.com/watch?v=xOIr4dt6gsk)\n\nDocumenting code is an essential part of software development. It is the way developers record information for later reference or to communicate ideas to other developers who will be using the code. Documenting code in Python is easily done using documentation strings (_docstrings_). Docstrings are string literals that are used to document modules, classes, functions, and methods. Docstrings start and end with triple quotes `\"\"\" some string \"\"\"`. In this section, the focus is on using docstrings to document functions.\n\nIn Python, documentation should communicate what your code does, not how it works. There are different documentation conventions for every development community or company. The following is adapted from Python Enhancement Proposal 257 (PEP 257), which can be found at https://www.python.org/dev/peps/pep-0257/.\n\n### One-line docstrings\n\nUsed for simple functions with clear functionality:\n\n```python\ndef double(x):\n    \"\"\"Return doubled x.\"\"\"\n    return x * 2\n```\n\nGeneral notes:\n* Use triple quotes even though it's only a single line docstring.\n* Describe the function as a command, not as a description (i.e. return x, compute b...).\n* End the string with a period.\n\n### Multi-line docstrings\n\nUsed to describe functions more elaborately:\n\n```python\ndef vowel_count(word):\n    \"\"\"\n    Count the number of vowels in a word.\n    \n    args:\n        word: string under test\n        \n    returns:\n        count: number of counted vowels\n    \"\"\"\n    \n    count = 0\n    for c in word:\n        if c in \"AEIOUYaeiouy\":\n            count = count + 1\n    return count\n```\n\nGeneral notes:\n* Start with triple quotes.\n* Write a summary line as in the one-line docstring (as a command, ends with a period).\n* Follow the summary with a blank line.\n* You can write more description after the blank line, but this is optional.\n* List the function arguments, return values, and exceptions raised (if any).\n* End the docstring with triple quotes and a blank line.\n\n### Accessing docstrings\nEach function contains an attribute `__doc__` that contains its docstring. A function's docstring can be accessed through this attribute or by using the `help()` function in a Python interpreter."
    },
    {
      "metadata": {},
      "cell_type": "markdown",
      "source": "---\n<font size=\"6\" color=\"#00A0B2\"  face=\"verdana\"> <B>Examples</B></font>\n\nIn this example, you will explore how to write and access one-line and multi-line docstrings."
    },
    {
      "metadata": {},
      "cell_type": "markdown",
      "source": "## Converting Celsius to Fahrenheit"
    },
    {
      "metadata": {
        "trusted": true
      },
      "cell_type": "code",
      "source": "def C2F(degrees_celsius):\n    \"\"\" Convert Celsius to Fahrenheit\"\"\"\n    return degrees_celsius * (9/5) + 32\n\nprint(\"Accessing docstrings using __doc__:\\n\")\nprint(C2F.__doc__)",
      "execution_count": 1,
      "outputs": [
        {
          "output_type": "stream",
          "text": "Accessing docstrings using __doc__:\n\n Convert Celsius to Fahrenheit\n",
          "name": "stdout"
        }
      ]
    },
    {
      "metadata": {
        "trusted": true
      },
      "cell_type": "code",
      "source": "def C2F(degrees_celsius):\n    \"\"\" Convert Celsius to Fahrenheit\"\"\"\n    return degrees_celsius * (9/5) + 32\n\nprint(\"Accessing docstrings using help:\\n\")\nhelp(C2F)",
      "execution_count": 2,
      "outputs": [
        {
          "output_type": "stream",
          "text": "Accessing docstrings using help:\n\nHelp on function C2F in module __main__:\n\nC2F(degrees_celsius)\n    Convert Celsius to Fahrenheit\n\n",
          "name": "stdout"
        }
      ]
    },
    {
      "metadata": {},
      "cell_type": "markdown",
      "source": "## Converting Kilograms (kg) to Pounds (lb)"
    },
    {
      "metadata": {
        "trusted": true
      },
      "cell_type": "code",
      "source": "def kg2lb(kilograms):\n    \"\"\"\n    Convert kilograms to pounds\n    \n    args:\n        kilograms: weight in kg \n    \n    returns:\n        pounds: weight in lb\n    \"\"\"\n    \n    pounds = kilograms * 2.20462262185\n    return pounds\n\nprint(\"Accessing docstrings using __doc__:\\n\")\nprint(kg2lb.__doc__)",
      "execution_count": 3,
      "outputs": [
        {
          "output_type": "stream",
          "text": "Accessing docstrings using __doc__:\n\n\n    Convert kilograms to pounds\n    \n    args:\n        kilograms: weight in kg \n    \n    returns:\n        pounds: weight in lb\n    \n",
          "name": "stdout"
        }
      ]
    },
    {
      "metadata": {
        "trusted": true
      },
      "cell_type": "code",
      "source": "def kg2lb(kilograms):\n    \"\"\"\n    Convert kilograms to pounds\n    \n    args:\n        kilograms: weight in kg \n    \n    returns:\n        pounds: weight in lb\n    \"\"\"\n    \n    pounds = kilograms * 2.20462262185\n    return pounds\n\nprint(\"Accessing docstrings using help:\\n\")\nhelp(kg2lb)",
      "execution_count": 4,
      "outputs": [
        {
          "output_type": "stream",
          "text": "Accessing docstrings using help:\n\nHelp on function kg2lb in module __main__:\n\nkg2lb(kilograms)\n    Convert kilograms to pounds\n    \n    args:\n        kilograms: weight in kg \n    \n    returns:\n        pounds: weight in lb\n\n",
          "name": "stdout"
        }
      ]
    },
    {
      "metadata": {},
      "cell_type": "markdown",
      "source": "---\n<font size=\"6\" color=\"#B24C00\"  face=\"verdana\"> <B>Task 1</B></font>\n\n## Documenting Code by Using Docstrings"
    },
    {
      "metadata": {
        "trusted": true
      },
      "cell_type": "code",
      "source": "# [ ] The following function generates a single die roll\n# Document the function using a one-line docstring\n\nfrom random import randint\ndef die_roller ():\n    \"\"\"Returning a random number from the die roll from 1-6\"\"\"\n    return (randint(1, 6))\n\nhelp(die_roller)\n",
      "execution_count": 8,
      "outputs": [
        {
          "output_type": "stream",
          "text": "Help on function die_roller in module __main__:\n\ndie_roller()\n    Returning a random number from the die roll from 1-6\n\n",
          "name": "stdout"
        }
      ]
    },
    {
      "metadata": {
        "trusted": true
      },
      "cell_type": "code",
      "source": "# [ ] The following function computes the area of a circle\n# Document the function using a one-line docstring\n\nfrom math import pi\n\ndef circle_area(r):\n    \"\"\"Return the area of a circle\"\"\"\n    return pi * (r ** 2)\n\nhelp(circle_area)",
      "execution_count": 9,
      "outputs": [
        {
          "output_type": "stream",
          "text": "Help on function circle_area in module __main__:\n\ncircle_area(r)\n    Return the area of a circle\n\n",
          "name": "stdout"
        }
      ]
    },
    {
      "metadata": {
        "trusted": true
      },
      "cell_type": "code",
      "source": "# [ ] The following program counts the number of times the value in `a` appears in `lst`\n# Document the function using a multi-line docstring\n\ndef count_occurrences(a, lst):\n    \"\"\"\n    Count the number of times 'a' appears in lst\n    \n    args:\n        Iterating and Incrementing\n    \n    returns:\n        count:number of a's in lst\n    \"\"\"\n    count = 0\n    for element in lst:\n        if a == element:\n            count = count + 1\n\n    return count\n\n\nhelp(count_occurrences)",
      "execution_count": 10,
      "outputs": [
        {
          "output_type": "stream",
          "text": "Help on function count_occurrences in module __main__:\n\ncount_occurrences(a, lst)\n    Count the number of times a apeears in lst\n    \n    args:\n        Iterating and Incrementing\n    \n    returns:\n        count:number of a's in lst\n\n",
          "name": "stdout"
        }
      ]
    },
    {
      "metadata": {
        "trusted": true
      },
      "cell_type": "code",
      "source": "# [ ] The following program prints out the date `d` number of days after today\n# Document the function using a multi-line docstring\n\nfrom datetime import date, timedelta\n\n\ndef future_date(d):\n    \"\"\"\n    Calculates 10 days after this day would be what day?\n\n    args:\n        date:todays date and the future date using timedelta.\n\n    returns:\n        None\n    \"\"\"\n    today = date.today()\n    td = timedelta(days=d)\n    future = today + td\n    print(\"Date {:d} from today is: {:s}\".format(d, future.strftime(\"%a %h %d, %Y\")))\n\n\n# Date 10 days from today\nfuture_date(10)",
      "execution_count": 11,
      "outputs": [
        {
          "output_type": "stream",
          "text": "Date 10 from today is: Wed Dec 25, 2019\n",
          "name": "stdout"
        }
      ]
    }
  ],
  "metadata": {
    "kernelspec": {
      "name": "python3",
      "display_name": "Python 3",
      "language": "python"
    },
    "language_info": {
      "mimetype": "text/x-python",
      "nbconvert_exporter": "python",
      "name": "python",
      "file_extension": ".py",
      "version": "3.5.4",
      "pygments_lexer": "ipython3",
      "codemirror_mode": {
        "version": 3,
        "name": "ipython"
      }
    }
  },
  "nbformat": 4,
  "nbformat_minor": 2
}