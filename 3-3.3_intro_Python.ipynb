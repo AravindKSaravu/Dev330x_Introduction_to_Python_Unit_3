{
  "cells": [
    {
      "metadata": {},
      "cell_type": "markdown",
      "source": "# Section 3.3: Tuples\n* ()\n* +, in, not in, len, min, max\n\n### Students will be able to:\n* Differentiate between tuples and lists\n* Create tuples\n* Access tuple elements\n* Convert lists into tuples and tuples into lists\n* Delete, slice, and unpack tuples\n* Use basic tuple operations and functions"
    },
    {
      "metadata": {},
      "cell_type": "markdown",
      "source": "---\n<font size=\"6\" color=\"#00A0B2\"  face=\"verdana\"> <B>Concepts</B></font>  \n\n## Tuple Basics\n\n[![view video](https://iajupyterprodblobs.blob.core.windows.net/imagecontainer/common/play_video.png)](https://www.youtube.com/watch?v=egYurO3212M)\n\nA list is a very useful data structure that can manipulate a sequence of elements. A tuple is another data structure type that can also store and manipulate a sequence of elements. Like lists, the elements of a tuple can be of any type (i.e. `int`, `float`, `string`, `list`, another `tuple`). However, unlike lists, a tuple is an immutable data structure, which means that after you define a tuple, you are not allowed to change it. In other words, you cannot reorder the elements of a tuple, cannot append additional elements, and cannot delete elements.\n\nYou might be wondering, if tuples are like restricted lists, when and why should I use them? The importance of tuples is most obvious when passing to and returning from a function. They are also important to communicate to people reading your code that you do not intend for the content of the tuple to be mutated (changed).\n\n#### Creating a tuple\nYou can create a tuple by enclosing its elements within parentheses, for example the following is a tuple containing 3 elements `(13, 5, 92)`. Note that a list was defined using square brackets `[13, 5, 92]`.\n\n```python\n>>> T = (13, 5, 92)\n>>> type(T)\n<class 'tuple'>\n\n>>> L = [13, 5, 92]\n>>> type(L)\n<class 'list'>\n```\n#### Creating an empty tuple\nYou can create an empty tuple using empty parentheses. \n\n```python\n>>> T = ()\n>>> type(T)\n<class 'tuple'>\n```\n\n#### Creating a tuple with a single element\nWhen creating a tuple with a single element, you have to add a comma `,` after the single element. Otherwise, Python will assume you are using the parentheses as part of an expression rather than to create a tuple.\n\n```python\n>>> T1 = (5)\n>>> type(T1)\n<class 'int'>\n\n>>> T2 = (5,) # note the comma after 5\n>>> type(T2)\n<class 'tuple'>\n```\n\n#### Accessing elements of a tuple\nYou can access the individual elements of a tuple in the same way you access the elements of a list or a string, by using the index of the element of interest.\n\n```python\n>>> T = (13, 5, 92)\n>>> T[0]\n13\n>>> T[-1]\n92\n```\n\n#### Converting a list into a tuple \nYou can convert a list into a tuple by passing it into the `tuple` function.\n\n```python\n>>> L = [4, 5.3, 'name'] #list\n>>> T = tuple(L) #tuple\n>>> print(T)\n(4, 5.3, 'name')\n>>> type(T)\n<class 'tuple'>\n```\n\n#### Converting a tuple into a list\nYou can convert a tuple into a list by passing it into the `list` function.\n\n```python\n>>> T = ('name', [2, 4], 5.3, 19) #tuple\n>>> L = list(T) #list\n>>> print(L)\n['name', [2, 4], 5.3, 19]\n>>> type(L)\n<class 'list'>\n```\n\n#### Changing a tuple element\nTuples are immutable objects and cannot be changed. If you try to change the content of a tuple, a `TypeError` exception will be raised.\n\n```python\n>>> T = (13, 5, 92)\n>>> T[0] = 5\nTraceback (most recent call last):\n  File \"<stdin>\", line 1, in <module>\nTypeError: 'tuple' object does not support item assignment\n\n```\n\nA list can be one of the elements of a tuple; the tuple doesn't store the whole list, but stores a reference to the storage location of the list in memory. Therefore, if the memory location storing the list is changed, the tuple references the changed list.\n\nIn the following example, the second element in the tuple `T` is a list `[2, 4]`. `T[1]` stores the location of the list rather than the list itself; therefore, if you change the content of the list, (i.e. change `2` to a `5`), the tuple `T` now references the new list `[5, 4]`. Technically speaking, the tuple did not change; it still references the same memory location. However, the memory location changed. This concept will be more relevant when you use tuples with functions or copy tuples.\n\n```python\n>>> T = ('name', [2, 4], 5.3, 19)\n>>> T[1][0] = 5\n>>> T\n('name', [5, 4], 5.3, 19)\n```\n\n#### Deleting a tuple\nLike any other variable, a tuple can be deleted by using the `del()` function.\n\n```python\n>>> del(T)\n>>> type(T)\nTraceback (most recent call last):\n  File \"<stdin>\", line 1, in <module>\nNameError: name 'T' is not defined\n```"
    },
    {
      "metadata": {},
      "cell_type": "markdown",
      "source": "---\n<font size=\"6\" color=\"#00A0B2\"  face=\"verdana\"> <B>Examples</B></font>\n\n"
    },
    {
      "metadata": {},
      "cell_type": "markdown",
      "source": "## Creating Tuples"
    },
    {
      "metadata": {},
      "cell_type": "markdown",
      "source": "### Creating homogeneous tuples\nHomogeneous tuples contain elements of the same type; in the following example, you will see how to create a tuple of `int` values and another tuple of `string` values."
    },
    {
      "metadata": {
        "trusted": true
      },
      "cell_type": "code",
      "source": "# Create a homogeneous int tuple\nT_int = (10, -4, 59, 58, 23, 50)\ntype(T_int)\n",
      "execution_count": 1,
      "outputs": [
        {
          "output_type": "execute_result",
          "execution_count": 1,
          "data": {
            "text/plain": "tuple"
          },
          "metadata": {}
        }
      ]
    },
    {
      "metadata": {
        "trusted": true
      },
      "cell_type": "code",
      "source": "# Create a homogeneous string tuple\nT_string = (\"word\", \"letter\", \"vowel\", \"spell\", \"book\", \"write\", \"read\")\ntype(T_string)",
      "execution_count": 2,
      "outputs": [
        {
          "output_type": "execute_result",
          "execution_count": 2,
          "data": {
            "text/plain": "tuple"
          },
          "metadata": {}
        }
      ]
    },
    {
      "metadata": {},
      "cell_type": "markdown",
      "source": "### Creating heterogeneous tuples\nTuples can contain elements of different types. In the following example, you will see how to create tuples containing different types."
    },
    {
      "metadata": {
        "trusted": true
      },
      "cell_type": "code",
      "source": "# Create heterogeneous tuples\nT = (\"Tobias\", 23, 25.3, [])\ntype(T)",
      "execution_count": 3,
      "outputs": [
        {
          "output_type": "execute_result",
          "execution_count": 3,
          "data": {
            "text/plain": "tuple"
          },
          "metadata": {}
        }
      ]
    },
    {
      "metadata": {
        "trusted": true
      },
      "cell_type": "code",
      "source": "# Create heterogeneous tuples\n\n# A datetime object can be a tuple element\nfrom datetime import datetime\nnow = datetime.today() \n\nT = ((1.5,2.6), \"home\", now)\ntype(T)",
      "execution_count": 4,
      "outputs": [
        {
          "output_type": "execute_result",
          "execution_count": 4,
          "data": {
            "text/plain": "tuple"
          },
          "metadata": {}
        }
      ]
    },
    {
      "metadata": {},
      "cell_type": "markdown",
      "source": "### Creating single-element tuples"
    },
    {
      "metadata": {
        "trusted": true
      },
      "cell_type": "code",
      "source": "T = (\"switch\") # This is not a tuple\ntype(T)\n",
      "execution_count": 5,
      "outputs": [
        {
          "output_type": "execute_result",
          "execution_count": 5,
          "data": {
            "text/plain": "str"
          },
          "metadata": {}
        }
      ]
    },
    {
      "metadata": {
        "trusted": true
      },
      "cell_type": "code",
      "source": "T = (\"switch\",) # Note the comma after the string makes T a tuple\ntype(T)",
      "execution_count": 6,
      "outputs": [
        {
          "output_type": "execute_result",
          "execution_count": 6,
          "data": {
            "text/plain": "tuple"
          },
          "metadata": {}
        }
      ]
    },
    {
      "metadata": {},
      "cell_type": "markdown",
      "source": "### Converting lists to/from tuples"
    },
    {
      "metadata": {
        "trusted": true
      },
      "cell_type": "code",
      "source": "# List of employee names\nnames_list = [\"Suresh\", \"Colette\", \"Skye\", \"Hiroto\", \"Tobias\", \"Tamara\", \"Jin\", \"Joana\", \"Alton\"]\n\n# Sort the names alphabetically\nsorted_list = sorted(names_list)\n\n# Convert list into tuple\nnames_tuple = tuple(sorted_list)\n\n# List converted into a tuple\nprint(type(names_tuple))\n\n# Print the first and last name in the tuple\nprint(\"First name is: {:s}\".format(names_tuple[0]))\nprint(\"Last name is: {:s}\".format(names_tuple[-1]))",
      "execution_count": 7,
      "outputs": [
        {
          "output_type": "stream",
          "text": "<class 'tuple'>\nFirst name is: Alton\nLast name is: Tobias\n",
          "name": "stdout"
        }
      ]
    },
    {
      "metadata": {},
      "cell_type": "markdown",
      "source": "## Creating Tuples from User Input\nIn this example, the user is asked to enter 3 integers, the program then saves the squares of these integers into a tuple and print its content."
    },
    {
      "metadata": {
        "trusted": true
      },
      "cell_type": "code",
      "source": "# Collect 3 int numbers from a user\nL = []\nfor i in range(3):\n    tmp = int(input(\"Enter an int {:d}/3: \".format(i)))\n    L.append(tmp ** 2)\n\n# Convert the list into a tuple\nT = tuple(L)\n\n# Print the content of the tuple\nprint(\"Tuple of squares is:\", T)\n\n# Print each of the tuple elements on a new line\nfor i in range(3):\n    print(\"T[{0:d}] = {1:d}\".format(i, T[i]))\n",
      "execution_count": 8,
      "outputs": [
        {
          "output_type": "stream",
          "name": "stdout",
          "text": "Enter an int 0/3: 9\nEnter an int 1/3: 6\nEnter an int 2/3: 5\nTuple of squares is: (81, 36, 25)\nT[0] = 81\nT[1] = 36\nT[2] = 25\n"
        }
      ]
    },
    {
      "metadata": {},
      "cell_type": "markdown",
      "source": "## Changing Tuple Elements"
    },
    {
      "metadata": {
        "trusted": true
      },
      "cell_type": "code",
      "source": "T = (\"Tobias\", 23, 25.3, [])\n\n# Tuples are immutable and cannot be changed\nT[0] = \"hello\"",
      "execution_count": 4,
      "outputs": [
        {
          "output_type": "error",
          "ename": "TypeError",
          "evalue": "'tuple' object does not support item assignment",
          "traceback": [
            "\u001b[0;31m---------------------------------------------------------------------------\u001b[0m",
            "\u001b[0;31mTypeError\u001b[0m                                 Traceback (most recent call last)",
            "\u001b[0;32m<ipython-input-4-7b56c858b158>\u001b[0m in \u001b[0;36m<module>\u001b[0;34m\u001b[0m\n\u001b[1;32m      2\u001b[0m \u001b[0;34m\u001b[0m\u001b[0m\n\u001b[1;32m      3\u001b[0m \u001b[0;31m# Tuples are immutable and cannot be changed\u001b[0m\u001b[0;34m\u001b[0m\u001b[0;34m\u001b[0m\u001b[0m\n\u001b[0;32m----> 4\u001b[0;31m \u001b[0mT\u001b[0m\u001b[0;34m[\u001b[0m\u001b[0;36m0\u001b[0m\u001b[0;34m]\u001b[0m \u001b[0;34m=\u001b[0m \u001b[0;34m\"hello\"\u001b[0m\u001b[0;34m\u001b[0m\u001b[0m\n\u001b[0m",
            "\u001b[0;31mTypeError\u001b[0m: 'tuple' object does not support item assignment"
          ]
        }
      ]
    },
    {
      "metadata": {
        "trusted": true
      },
      "cell_type": "code",
      "source": "T = (\"Tobias\", 23, 25.3, [])\n\n# A list inside a tuple can change\nT[-1].append(44)\n\n# The tuple did NOT change, it still refers to the same list; only the list was changed\nprint(T)",
      "execution_count": 2,
      "outputs": [
        {
          "output_type": "stream",
          "text": "('Tobias', 23, 25.3, [44])\n",
          "name": "stdout"
        }
      ]
    },
    {
      "metadata": {},
      "cell_type": "markdown",
      "source": "---\n<font size=\"6\" color=\"#B24C00\"  face=\"verdana\"> <B>Task 1</B></font>\n\n## Tuple Basics"
    },
    {
      "metadata": {},
      "cell_type": "markdown",
      "source": "### Creating tuples"
    },
    {
      "metadata": {
        "trusted": true
      },
      "cell_type": "code",
      "source": "# [ ] Create a tuple that consists of the following variables\n\nx = 5\nl = [4.4, 5.3]\ns = \"something\"\nt = (9, 0)\nT = []\nT.append(x)\nT.append(l)\nT.append(s)\nT.append(t)\nprint(tuple(T))",
      "execution_count": 5,
      "outputs": [
        {
          "output_type": "stream",
          "text": "(5, [4.4, 5.3], 'something', (9, 0))\n",
          "name": "stdout"
        }
      ]
    },
    {
      "metadata": {},
      "cell_type": "markdown",
      "source": "### Modifying tuples"
    },
    {
      "metadata": {
        "trusted": true
      },
      "cell_type": "code",
      "source": "# [ ] Change the third element of T to [59, 20.4]\n\nT = ([43.6, 34], [49, 59], [50, 34.6], [39, 49])\nT[2][0] = 59\nT[2][1] = 20.4\nprint(T)",
      "execution_count": 6,
      "outputs": [
        {
          "output_type": "stream",
          "text": "([43.6, 34], [49, 59], [59, 20.4], [39, 49])\n",
          "name": "stdout"
        }
      ]
    },
    {
      "metadata": {},
      "cell_type": "markdown",
      "source": "### Merging tuples"
    },
    {
      "metadata": {
        "trusted": true
      },
      "cell_type": "code",
      "source": "# [ ] Write a program to merge the content of T1 and T2 into one tuple T\n# Correct output should be T = (5, 4, 3, 9, 2, 12)\n# T = ((5, 4, 3), (9, 2, 12)) is an incorrect output\n\n# Hint: Use list to/from tuple conversion\n\nT1 = (5, 4, 3)\nT2 = (9, 2, 12)\n\nT=[]\nfor a in T1:\n    T.append(a)\nfor a in T2:\n    T.append(a)\nprint(tuple(T))",
      "execution_count": 7,
      "outputs": [
        {
          "output_type": "stream",
          "text": "(5, 4, 3, 9, 2, 12)\n",
          "name": "stdout"
        }
      ]
    },
    {
      "metadata": {},
      "cell_type": "markdown",
      "source": "---\n<font size=\"6\" color=\"#00A0B2\"  face=\"verdana\"> <B>Concepts</B></font>  \n\n\n## Slicing and Unpacking Tuples\n\n[![view video](https://iajupyterprodblobs.blob.core.windows.net/imagecontainer/common/play_video.png)](https://www.youtube.com/watch?v=OvueVksOLew)\n\n#### Slicing tuples\nSlicing a tuple (or a list) lets you access a subset of a tuple. You can then assign this subset as a new tuple, pass it to a function, or do anything you would do with the full tuple.\n\nYou can slice a tuple using the following syntax `T[initial_index:final_index]`:\n* The `initial_index` is optional; if left empty, slicing starts from 0\n* The `final_index` is optional; if left empty, slicing goes to the last element of the tuple\n* The `T[initial_index]` element is included in the sliced tuple; the `T[final_index]` is excluded\n* You can use negative numbers for both indices, where the final tuple element has index -1, the preceding has index -2, and so on\n* Whether you use negative or positive indices you should always keep `initial_index < final_index`\n\n```python\n>>> T = ('name', [2, 4], 5.3, 19)\n>>> T[1:2] # from index 1 (included) to index 2 (excluded)\n([2, 4],)\n>>> T[1:] # from index 1 (included) to the last element\n([2, 4], 5.3, 19)\n>>> T[:2] # from the start of a tuple to index 2 (excluded)\n('name', [2, 4])\n>>> T[-3:-1] # from  index -3 (included) to index -1 (excluded)\n([2, 4], 5.3)\n>>> T[-3:] # from index -3 to the last element\n([2, 4], 5.3, 19)\n>>> T[:] # all elements\n('name', [2, 4], 5.3, 19)\n\n```\n\n#### Unpacking tuples\nA tuple can be unpacked and its values can be assigned to multiple variables at the same time. This is especially useful when a function returns a single tuple containing all the returned variables.\n\n```python\n>>> (a, b) = (4, 5)\n>>> print(a)\n4\n>>> print(b)\n5\n>>> \n```\nThe parentheses can be left off when unpacking tuples.\n\n```python\n>>> x, y, z = 1, 2, 3\n>>> x\n1\n>>> y\n2\n>>> z\n3\n```"
    },
    {
      "metadata": {},
      "cell_type": "markdown",
      "source": "---\n<font size=\"6\" color=\"#00A0B2\"  face=\"verdana\"> <B>Examples</B></font>"
    },
    {
      "metadata": {},
      "cell_type": "markdown",
      "source": "### Slicing tuples"
    },
    {
      "metadata": {
        "trusted": true
      },
      "cell_type": "code",
      "source": "T = (12, 24, 'name', 'city')\n\n# Slice the tuple into numerical and textual tuples\nnumerical_tuple = T[0:2]\nprint(numerical_tuple)\n\ntextual_tuple = T[-2:]\nprint(textual_tuple)",
      "execution_count": 2,
      "outputs": [
        {
          "output_type": "stream",
          "text": "(12, 24)\n('name', 'city')\n",
          "name": "stdout"
        }
      ]
    },
    {
      "metadata": {},
      "cell_type": "markdown",
      "source": "### Unpacking tuples"
    },
    {
      "metadata": {
        "trusted": true
      },
      "cell_type": "code",
      "source": "# Swap variables using tuple unpacking\n\ne1 = 5\ne2 = 109\nprint(\"\\nBefore swapping:\")\nprint(\"e1 = {:3d}\\t e2 = {:3d}\".format(e1, e2))\n\ne1, e2 = e2, e1\n\nprint(\"\\nAfter swapping:\")\nprint(\"e1 = {:3d}\\t e2 = {:3d}\".format(e1, e2))",
      "execution_count": 3,
      "outputs": [
        {
          "output_type": "stream",
          "text": "\nBefore swapping:\ne1 =   5\t e2 = 109\n\nAfter swapping:\ne1 = 109\t e2 =   5\n",
          "name": "stdout"
        }
      ]
    },
    {
      "metadata": {},
      "cell_type": "markdown",
      "source": "### Returning function values\nTuples can be used in functions to return multiple values. In this example, you will see the function `split_name` splits a full name then returns the first and last names as a packed tuple. You can then unpack the returned tuple and use its content as separate variables."
    },
    {
      "metadata": {
        "trusted": true
      },
      "cell_type": "code",
      "source": "# Split a full name into the first and last names\ndef split_name(name):\n    names = name.split(\" \")\n    first_name = names[0]\n    last_name = names[-1]\n    # pack the variables into a tuple, then return the tuple\n    return (first_name, last_name)\n\n# Ask user for input\nname = input(\"Enter your full name: \")\n\n# Unpack the returned tuples into first, last variables\n# looks like the function returns 2 variables\nfirst, last = split_name(name)\n\n# Unpacked variables can be used separately\nprint(\"First name: {:s}\".format(first))\nprint(\"Last name: {:s}\".format(last))",
      "execution_count": 4,
      "outputs": [
        {
          "output_type": "stream",
          "name": "stdout",
          "text": "Enter your full name: Aravind Krishna Saravu\nFirst name: Aravind\nLast name: Saravu\n"
        }
      ]
    },
    {
      "metadata": {},
      "cell_type": "markdown",
      "source": "---\n<font size=\"6\" color=\"#B24C00\"  face=\"verdana\"> <B>Task 2</B></font>\n\n## Slicing and Unpacking Tuples"
    },
    {
      "metadata": {},
      "cell_type": "markdown",
      "source": "### Slicing tuples"
    },
    {
      "metadata": {
        "collapsed": true,
        "trusted": false
      },
      "cell_type": "code",
      "source": "# [ ] Write a program to split the content of T into T1 and T2\n# T1 = (5, 4, 3)\n# T2 = (9, 2, 12)\n\nT = (5, 4, 3, 9, 2, 12)\nT1 = T[0:3]\nT2 = T[3:]\n\nprint(T1)\nprint(T2)",
      "execution_count": null,
      "outputs": []
    },
    {
      "metadata": {},
      "cell_type": "markdown",
      "source": "### Unpacking tuples"
    },
    {
      "metadata": {
        "collapsed": true,
        "trusted": false
      },
      "cell_type": "code",
      "source": "# [ ] Write an expression to unpack `T` into:\n# 1) x = 5\n# 2) l = [3, 5.3]\n# 3) s = 'something\n# 4) t = (9, 0)\n\nT = (5, [3, 5.3], 'something', (9, 0))\n\n#TODO: Your code goes here\nx = T[0]\nl = T[1]\ns = T[2]\nt = T[3]\nprint(\"After unpacking the tuple:\", T)\nprint(\"x =\", x)\nprint(\"l =\", l)\nprint(\"s =\", s)\nprint(\"t =\", t)",
      "execution_count": null,
      "outputs": []
    },
    {
      "metadata": {
        "trusted": true
      },
      "cell_type": "code",
      "source": "# [ ] Complete the function `current_date` to return today's month, day, and year\n# Hint: Use an appropriate function from the datetime module\nfrom datetime import datetime\n\ndef current_date():\n    #TODO return month, day, year\n    t = datetime.today()\n    m = t.month\n    d = t.day\n    y = t.year\n    return (m, d, y)\n\nm, d, y = current_date()\nprint(\"Today's date is: {:2d}/{:2d}/{:4d}\".format(m, d, y))\n\n",
      "execution_count": 5,
      "outputs": [
        {
          "output_type": "stream",
          "text": "Today's date is: 11/27/2019\n",
          "name": "stdout"
        }
      ]
    },
    {
      "metadata": {},
      "cell_type": "markdown",
      "source": "---\n<font size=\"6\" color=\"#00A0B2\"  face=\"verdana\"> <B>Concepts</B></font>  \n\n## Tuple Operations and Functions\n\n[![view video](https://iajupyterprodblobs.blob.core.windows.net/imagecontainer/common/play_video.png)](https://www.youtube.com/watch?v=XdWJoBCkfdw)\n\nPython support several tuple operations, such as containment, identity, and concatenation. In the following examples, you will explore a few of the tuple operations."
    },
    {
      "metadata": {},
      "cell_type": "markdown",
      "source": "---\n<font size=\"6\" color=\"#00A0B2\"  face=\"verdana\"> <B>Examples</B></font>"
    },
    {
      "metadata": {},
      "cell_type": "markdown",
      "source": "### Containment (`in`, `not in`)\n\nYou can test whether an object is contained in a tuple."
    },
    {
      "metadata": {
        "trusted": true
      },
      "cell_type": "code",
      "source": "T = (4, [5, 6], 'name', 3.5, True)\n\nprint(\"4 contained in T?\", 4 in T)\nprint(\"5 not contained in T?\", 5 not in T )\nprint(\"False contained in T?\", False in T)",
      "execution_count": 6,
      "outputs": [
        {
          "output_type": "stream",
          "text": "4 contained in T? True\n5 not contained in T? True\nFalse contained in T? False\n",
          "name": "stdout"
        }
      ]
    },
    {
      "metadata": {},
      "cell_type": "markdown",
      "source": "### Identity (`is`) and equality (`==`)\nYou can test whether two tuples contain equal elements by using the identity `==` operator. Similarly, you can test whether tuples are identical by using the `is` operator. Remember, if two tuples (and lists) are identical, changing an element in one will generate the same change in the other."
    },
    {
      "metadata": {
        "trusted": true
      },
      "cell_type": "code",
      "source": "# Equivalent tuples, not identical\nT1 = (10, [2, 4], 59)\nT2 = (10, [2, 4], 59)\n\nif (T1 == T2):\n    print(\"Equal tuples\")\nelse:\n    print(\"Not equal tuples\")\n\nif (T1 is T2):\n    print(\"Identical tuples\")\nelse:\n    print(\"Not identical tuples\")",
      "execution_count": 7,
      "outputs": [
        {
          "output_type": "stream",
          "text": "Equal tuples\nNot identical tuples\n",
          "name": "stdout"
        }
      ]
    },
    {
      "metadata": {
        "trusted": true
      },
      "cell_type": "code",
      "source": "# Identical tuples (also equivalent)\nT1 = (10, [2, 4], 59)\nT2 = T1\n\nif (T1 == T2):\n    print(\"Equal tuples\")\nelse:\n    print(\"Not equal tuples\")\n\nif (T1 is T2):\n    print(\"Identical tuples\")\nelse:\n    print(\"Not identical tuples\")",
      "execution_count": 8,
      "outputs": [
        {
          "output_type": "stream",
          "text": "Equal tuples\nIdentical tuples\n",
          "name": "stdout"
        }
      ]
    },
    {
      "metadata": {
        "trusted": true
      },
      "cell_type": "code",
      "source": "# Changing one of 2 identical tuples\nT1 = (10, [2, 4], 59)\nT2 = T1\n\n# A change in T1 is a change in T2\nT1[1][0] = 20\n\nprint(\"T1 = \", T1)\nprint(\"T2 = \", T2)",
      "execution_count": 9,
      "outputs": [
        {
          "output_type": "stream",
          "text": "T1 =  (10, [20, 4], 59)\nT2 =  (10, [20, 4], 59)\n",
          "name": "stdout"
        }
      ]
    },
    {
      "metadata": {},
      "cell_type": "markdown",
      "source": "### Concatenation (`+`)\n\nYou can concatenate two tuples and save the result in a new tuple."
    },
    {
      "metadata": {
        "trusted": true
      },
      "cell_type": "code",
      "source": "T1 = (\"First\", \"Last\")\nT2 = (\"Middle\",) # single element tuple\n\n# Concatenate two tuples\nT = T1 + T2\nprint(T)",
      "execution_count": 10,
      "outputs": [
        {
          "output_type": "stream",
          "text": "('First', 'Last', 'Middle')\n",
          "name": "stdout"
        }
      ]
    },
    {
      "metadata": {},
      "cell_type": "markdown",
      "source": "You can also concatenate sliced tuples"
    },
    {
      "metadata": {
        "trusted": true
      },
      "cell_type": "code",
      "source": "T1 = (10, [2, 4], 59)\nT2 = (59, [2, 4], 'name', 3.5, True)\n\n# Concatenate sliced tuples\nT = T1[1:] + T2[0:2]\nprint(T)",
      "execution_count": 11,
      "outputs": [
        {
          "output_type": "stream",
          "text": "([2, 4], 59, 59, [2, 4])\n",
          "name": "stdout"
        }
      ]
    },
    {
      "metadata": {},
      "cell_type": "markdown",
      "source": "### Length of a tuple (`len`)\nThe length of a tuple is the number of elements in it. If a list (or another tuple) is an element of the tuple, it is counted as 1 regardless of how many subelements it actually contains. \n\nKnowing the length of a tuple might be helpful when iterating over the elements of the tuple."
    },
    {
      "metadata": {
        "trusted": true
      },
      "cell_type": "code",
      "source": "# length of tuple\nT1 = (10, [2, 4], 59)\nprint(len(T1))",
      "execution_count": 12,
      "outputs": [
        {
          "output_type": "stream",
          "text": "3\n",
          "name": "stdout"
        }
      ]
    },
    {
      "metadata": {
        "trusted": true
      },
      "cell_type": "code",
      "source": "# Iterate over elements of a tuple\nT1 = (10, [2,4], 59)\n\nfor i in range(len(T1)):\n    print(\"T1[{:d}] = {}\".format(i, T1[i]))",
      "execution_count": 14,
      "outputs": [
        {
          "output_type": "stream",
          "text": "T1[0] = 10\nT1[1] = [2, 4]\nT1[2] = 59\n",
          "name": "stdout"
        }
      ]
    },
    {
      "metadata": {},
      "cell_type": "markdown",
      "source": "---\n<font size=\"6\" color=\"#B24C00\"  face=\"verdana\"> <B>Task 3</B></font>\n\n## Tuple Operations and Functions"
    },
    {
      "metadata": {
        "collapsed": true,
        "trusted": false
      },
      "cell_type": "code",
      "source": "# [ ] Write a program to merge the content of T1 and T2 into one tuple T\n# Correct output should be T = (5, 4, 3, 9, 2, 12),\n# T = ((5, 4, 3), (9, 2, 12)) is an incorrect output\n\n# You should NOT use lists in your solution\n\nT1 = (5, 4, 3)\nT2 = (9, 2, 12)\nT1 = list(T1)\nT2 = list(T2)\nT = []\nfor a in T1:\n    T.append(a)\nfor a in T2:\n    T.append(a)\nprint(tuple(T))",
      "execution_count": null,
      "outputs": []
    },
    {
      "metadata": {
        "trusted": true
      },
      "cell_type": "code",
      "source": "# [ ] Write a program to prompt the user for a number, then test if the number is contained in T\ntry:\n    T = (23, 45, 93, 59, 35, 58, 19, 3)\n    num = int(input(\"Input an number:\"))\n    if num in T:\n        print(\"Yes the number {:d} is in:\".format(num),T)\n    else:\n        print(\"No the number {:d} doesn't exist \".format(num))\nexcept:\n    print(\"Only numbers!!!\")",
      "execution_count": 2,
      "outputs": [
        {
          "output_type": "stream",
          "name": "stdout",
          "text": "Input an number:3\nYes the number 3 is in: (23, 45, 93, 59, 35, 58, 19, 3)\n"
        }
      ]
    },
    {
      "metadata": {
        "trusted": true
      },
      "cell_type": "code",
      "source": "# Write a function to return the largest element in a tuple T\ndef larg_num():\n    T = (23, 45, 93, 59, 35, 58, 19, 3)\n    return max(T)\nprint(larg_num())",
      "execution_count": 3,
      "outputs": [
        {
          "output_type": "stream",
          "text": "93\n",
          "name": "stdout"
        }
      ]
    },
    {
      "metadata": {
        "trusted": true
      },
      "cell_type": "code",
      "source": "# [ ] Write a program to compute the average of the elements in T\n\nT = (23, 45, 93, 59, 35, 58, 19, 3)\nprint(float(sum(T)/2))",
      "execution_count": 4,
      "outputs": [
        {
          "output_type": "stream",
          "text": "167.5\n",
          "name": "stdout"
        }
      ]
    }
  ],
  "metadata": {
    "kernelspec": {
      "name": "python36",
      "display_name": "Python 3.6",
      "language": "python"
    },
    "language_info": {
      "mimetype": "text/x-python",
      "nbconvert_exporter": "python",
      "name": "python",
      "pygments_lexer": "ipython3",
      "version": "3.6.6",
      "file_extension": ".py",
      "codemirror_mode": {
        "version": 3,
        "name": "ipython"
      }
    }
  },
  "nbformat": 4,
  "nbformat_minor": 2
}