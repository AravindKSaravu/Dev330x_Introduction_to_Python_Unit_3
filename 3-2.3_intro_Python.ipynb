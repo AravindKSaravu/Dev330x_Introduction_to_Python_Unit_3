{
  "cells": [
    {
      "metadata": {},
      "cell_type": "markdown",
      "source": "# Section 2.3: Containment, Identity, and Operator Precedence\n* Containment (in, not in)\n* Identity (is, is not)\n* Operator precedence\n\n### Students will be able to: \n* Test whether a list contains a certain element\n* Test whether a string is contained in another string\n* Test the identity of objects (i.e. int, float, lists, string)\n* Recognize the effects of operator precedence (including assignment (=), relational (<, >=,...), Boolean (and, or, not), arithmetic (/ // % * + -), identity (is), and containment (in))\n"
    },
    {
      "metadata": {},
      "cell_type": "markdown",
      "source": "---\n<font size=\"6\" color=\"#00A0B2\"  face=\"verdana\"> <B>Concepts</B></font>  \n\n\n## Containment (`in`, `not in`)\n\n\n[![view video](https://iajupyterprodblobs.blob.core.windows.net/imagecontainer/common/play_video.png)](https://www.youtube.com/watch?v=EN1t52POSnY)\n\nYou will commonly encounter the need to test whether an element is contained in another container (i.e. list, tuple, string, etc.). For example, you might want to test whether `5` is an element of the list `[4, 8, 5, 6]`, or you might need to know if a substring `\"or\"` is contained within another string `\"Hello World\"`. It is possible to perform these tests by iterating over the elements of the container (list) and comparing them one by one to the element of interest. However, because this procedure is commonly used, Python has a containment operator (`in`), which can perform this procedure much more efficiently.\n\nNOTE: You can test if an element is NOT contained in another container by using the (`not in`) operator."
    },
    {
      "metadata": {},
      "cell_type": "markdown",
      "source": "---\n<font size=\"6\" color=\"#00A0B2\"  face=\"verdana\"> <B>Examples</B></font>\n"
    },
    {
      "metadata": {},
      "cell_type": "markdown",
      "source": "### List containment\n\n#### Is a number contained in a list?\nIn this example, you will see how to test if a number is contained in another list of numbers"
    },
    {
      "metadata": {
        "trusted": true
      },
      "cell_type": "code",
      "source": "lst_container = [4, 8, 5, 6]\n\nx = 5\nif (x in lst_container):\n    print(x, \"is contained in list\")\nelse:\n    print(x, \"is NOT contained in list\")\n    \n\nx = 10\nif (x in lst_container):\n    print(x, \"is contained in list\")\nelse:\n    print(x, \"is NOT contained in list\")",
      "execution_count": 1,
      "outputs": [
        {
          "output_type": "stream",
          "text": "5 is contained in list\n10 is NOT contained in list\n",
          "name": "stdout"
        }
      ]
    },
    {
      "metadata": {},
      "cell_type": "markdown",
      "source": "#### Is an element contained in a list?\nA Python list can contain elements of different types. In this example, you will test if an element is contained in a list containing a: number, list, string."
    },
    {
      "metadata": {
        "trusted": true
      },
      "cell_type": "code",
      "source": "lst_container = [4, [7, 3], 'string element']\n\n# 4 is an element in lst_container\nx = 4\nprint(x, \"contained in lst_container:\", x in lst_container)\n\n# 7 is an element of a list inside lst_container, but it is NOT an element of the lst_container\nx = 7\nprint(x, \"contained in lst_container:\", x in lst_container)\n\n# [7, 3] is an element of lst_container\nx = [7, 3]\nprint(x, \"contained in lst_container:\", x in lst_container)\n",
      "execution_count": 2,
      "outputs": [
        {
          "output_type": "stream",
          "text": "4 contained in lst_container: True\n7 contained in lst_container: False\n[7, 3] contained in lst_container: True\n",
          "name": "stdout"
        }
      ]
    },
    {
      "metadata": {},
      "cell_type": "markdown",
      "source": "### String containment\n\nYou can test if a substring is contained in another larger string."
    },
    {
      "metadata": {
        "trusted": true
      },
      "cell_type": "code",
      "source": "sentence = \"This is a test sentence\"\nword1 = \"test\"\nword2 = \"something\"\n\n# testing if word1 is a substring of sentence\nif (word1 in sentence):\n    print(word1, \"is contained in:\", sentence)\nelse:\n    print(word1, \"is not contained in:\", sentence)\n    \n# testing if word2 is a substring of sentence\nif (word2 in sentence):\n    print(word2, \"is contained in:\", sentence)\nelse:\n    print(word2, \"is not contained in:\", sentence)\n    \n# another method to test if word2 is a substring of sentence\n# using the not operator\nif (word2 not in sentence):\n    print(word2, \"is not contained in:\", sentence)\nelse:\n    print(word2, \"is contained in:\", sentence)",
      "execution_count": 3,
      "outputs": [
        {
          "output_type": "stream",
          "text": "test is contained in: This is a test sentence\nsomething is not contained in: This is a test sentence\nsomething is not contained in: This is a test sentence\n",
          "name": "stdout"
        }
      ]
    },
    {
      "metadata": {},
      "cell_type": "markdown",
      "source": "---\n<font size=\"6\" color=\"#B24C00\"  face=\"verdana\"> <B>Task 1</B></font>\n\n## Containment (`in`, `not in`)"
    },
    {
      "metadata": {},
      "cell_type": "markdown",
      "source": "### Number containment"
    },
    {
      "metadata": {
        "trusted": true
      },
      "cell_type": "code",
      "source": "# [ ] Write a program to prompt the user for an integer input between 0 and 100\n# then print if the number is contained in `lst`\nint0_100 = int(input(\"Input an integer between 0 to 100:\"))\nlst = [22, 89, 69, 78, 58, 22, 56, 13, 74, 8, 32, 58, 8, 63, 46, 79, 9, 38, 25, 96]\nif int0_100 in range(0,100) and int0_100 in lst:\n    print(int0_100,\"is in the list!\")\nelse:\n    print(\"Not in list!\")",
      "execution_count": 1,
      "outputs": [
        {
          "output_type": "stream",
          "name": "stdout",
          "text": "Input an integer between 0 to 100:22\n22 is in the list!\n"
        }
      ]
    },
    {
      "metadata": {},
      "cell_type": "markdown",
      "source": "### List containment"
    },
    {
      "metadata": {
        "trusted": true
      },
      "cell_type": "code",
      "source": "# [ ] The `records` list contains information about a company's employees\n# each of the elements in `records` is a list containing the name and ID of an employee.\n# Write a program to test if `applicant` is contained in `records` and display an appropriate message\n\n# Records of names and IDs\nrecords = [['Colette', 22347], ['Skye', 35803], ['Alton', 45825], ['Jin', 24213]]\n\napplicant = ['Joana', 20294]\nif applicant in records:\n    print(\"Available\")\nelse:\n    print(\"Not Available\")",
      "execution_count": 3,
      "outputs": [
        {
          "output_type": "stream",
          "text": "Not Available\n",
          "name": "stdout"
        }
      ]
    },
    {
      "metadata": {},
      "cell_type": "markdown",
      "source": "### String containment"
    },
    {
      "metadata": {
        "trusted": true
      },
      "cell_type": "code",
      "source": "# [ ] Write a program to prompt the user for a letter (capital or small) then print if the letter is a vowel\n# HINT: Use a string containing all the vowels and the `in` or `not in` operator\nvowels = 'a,e,i,o,u'\nvowels.split(\",\")\ninput = input(\"Enter a Letter(Capital/Small):\").lower()\nif len(input) ==1 and input in vowels:\n    print(\"Available\")\nelif input not in vowels and len(input) == 1:\n    print(\"Not available\")\nelse:\n    print(\"We asked a Letter!\")",
      "execution_count": 2,
      "outputs": [
        {
          "output_type": "stream",
          "name": "stdout",
          "text": "Enter a Letter(Capital/Small):a\nAvailable\n"
        }
      ]
    },
    {
      "metadata": {},
      "cell_type": "markdown",
      "source": "---\n<font size=\"6\" color=\"#00A0B2\"  face=\"verdana\"> <B>Concepts</B></font>  \n\n\n## Identity (`is`, `is not`)\n\n[![view video](https://iajupyterprodblobs.blob.core.windows.net/imagecontainer/common/play_video.png)](https://www.youtube.com/watch?v=oPHy9LUQC1Y)\n\nPython is an object-oriented programming language that utilizes objects. You have been using objects; however, you have called them variables and lists. Python saves objects in certain memory locations, knowing the locations is of little importance; however, knowing if two seemingly different objects are at the same memory location is important. This will be critically important when dealing with sequences such as list, tuples, strings, and dictionaries.\n\nIn Python, the concepts of identity and equality are related but not the same, for example:\n* When two objects are saved in the same memory location, they are equal and identical\n* When two objects are saved in different memory locations and contain the same information, they are equal but not identical\n* When two objects are saved in different memory locations and contain different information, they are not equal nor identical\n\nYou can test whether two objects contain the same information using the equality operators `==` or `!=`. To test whether two objects are identical, you need to use the identity operators `is` or `is not`.\n"
    },
    {
      "metadata": {},
      "cell_type": "markdown",
      "source": "---\n<font size=\"6\" color=\"#00A0B2\"  face=\"verdana\"> <B>Examples</B></font>\n\nIn the following examples, when objects are identical, it is implied they are saved in the same memory location."
    },
    {
      "metadata": {},
      "cell_type": "markdown",
      "source": "### Identity of variables containing numerical literals\n\n#### `int` literals\nEqual `int` literals are saved in the same memory location"
    },
    {
      "metadata": {
        "trusted": true
      },
      "cell_type": "code",
      "source": "# x, y: equal, identical \nx = 5\ny = 5\nprint(\"x equal y ? \", x == y)\nprint(\"x is identical to y ?\", x is y)",
      "execution_count": 13,
      "outputs": [
        {
          "output_type": "stream",
          "text": "x equal y ?  True\nx is identical to y ? True\n",
          "name": "stdout"
        }
      ]
    },
    {
      "metadata": {
        "trusted": true
      },
      "cell_type": "code",
      "source": "# x, y: not equal, not identical\nx = 5\ny = 6\nprint(\"x equal y ? \", x == y)\nprint(\"x is identical to y ?\", x is y)",
      "execution_count": 14,
      "outputs": [
        {
          "output_type": "stream",
          "text": "x equal y ?  False\nx is identical to y ? False\n",
          "name": "stdout"
        }
      ]
    },
    {
      "metadata": {},
      "cell_type": "markdown",
      "source": "#### `float` literals\n\nEqual `float` literals are not identical. In other words, equal `float` literals are saved in different memory locations."
    },
    {
      "metadata": {
        "trusted": true
      },
      "cell_type": "code",
      "source": "# x, y: equal, not identical \nx = 5.6\ny = 5.6\nprint(\"x equal y ? \", x == y)\nprint(\"x is identical to y ?\", x is y)",
      "execution_count": 15,
      "outputs": [
        {
          "output_type": "stream",
          "text": "x equal y ?  True\nx is identical to y ? False\n",
          "name": "stdout"
        }
      ]
    },
    {
      "metadata": {
        "trusted": true
      },
      "cell_type": "code",
      "source": "# x, y: not equal, not identical \nx = 5.6\ny = 10.6\nprint(\"x equal y ? \", x == y)\nprint(\"x is identical to y ?\", x is y)",
      "execution_count": 16,
      "outputs": [
        {
          "output_type": "stream",
          "text": "x equal y ?  False\nx is identical to y ? False\n",
          "name": "stdout"
        }
      ]
    },
    {
      "metadata": {},
      "cell_type": "markdown",
      "source": "### Identity of variables containing lists\n\nThe following examples are particularly important to understanding the concept of identity and equality. You will see how you can create two equal but not identical lists, then you will see how to create two identical (and equal) lists and the effect of changing one on the other."
    },
    {
      "metadata": {},
      "cell_type": "markdown",
      "source": "#### Equal but not identical lists\nYou can create two equal but not identical lists, by assigning the same list literal to two different variables. A change in one of the list does not have any effect on the content of the other."
    },
    {
      "metadata": {
        "trusted": true
      },
      "cell_type": "code",
      "source": "# Different lists containing the same data\nx = [4, 9, 8]\ny = [4, 9, 8]\n\n# x and y are equal, because they contain the same data\n# x and y are NOT identical, because they are saved in different memory locations\nprint(\"x equal y ? \", x == y)\nprint(\"x is identical to y ?\", x is y)\n\n# Because they are not identical, changing x does not affect y\nx[1] = 5\n\nprint()\nprint(\"After changing x[1]\")\nprint(\"x =\", x)\nprint(\"y =\", y)\nprint(\"x equal y ? \", x == y)\nprint(\"x is identical to y ?\", x is y)",
      "execution_count": 17,
      "outputs": [
        {
          "output_type": "stream",
          "text": "x equal y ?  True\nx is identical to y ? False\n\nAfter changing x[1]\nx = [4, 5, 8]\ny = [4, 9, 8]\nx equal y ?  False\nx is identical to y ? False\n",
          "name": "stdout"
        }
      ]
    },
    {
      "metadata": {},
      "cell_type": "markdown",
      "source": "#### Equal and identical lists\nTwo variables referring to the same list are called identical variables. They can be treated as two names for the same list; in other words, both of the variables refer to the same memory location and a change in one is reflected as the same change in the other. You can simply create an identical variable by assigning it the variable of interest. The following example illustrates this idea."
    },
    {
      "metadata": {
        "trusted": true
      },
      "cell_type": "code",
      "source": "# Identical list\nx = [4, 9, 8]\ny = x\n\n# x and y are equal, because they contain the same data\n# x and y are identical, because they are saved in the same memory location\nprint(\"x equal y ? \", x == y)\nprint(\"x is identical to y ?\", x is y)\n\n# Because they are identical, changing x also changes y\nx[1] = 5\n\nprint()\nprint(\"After changing x[1]\")\nprint(\"x =\", x)\nprint(\"y =\", y)\nprint(\"x equal y ? \", x == y)\nprint(\"x is identical to y ?\", x is y)",
      "execution_count": 18,
      "outputs": [
        {
          "output_type": "stream",
          "text": "x equal y ?  True\nx is identical to y ? True\n\nAfter changing x[1]\nx = [4, 5, 8]\ny = [4, 5, 8]\nx equal y ?  True\nx is identical to y ? True\n",
          "name": "stdout"
        }
      ]
    },
    {
      "metadata": {},
      "cell_type": "markdown",
      "source": "### Identity of variables containing string literals\n\nString identity and equality is very similar to that of lists. However, when you assign equal strings to different variables, the interpreter might detect this and optimize the code by making the variables identical."
    },
    {
      "metadata": {
        "trusted": true
      },
      "cell_type": "code",
      "source": "# s1, s2: equal, not identical\ns1 = 'whole milk'\ns2 = 'whole milk'\nprint(\"s1 equal s2 ? \", s1 == s2)\nprint(\"s1 is identical to s2 ?\", s1 is s2)\nprint(\"s1 is not identical to s2 ?\", s1 is not s2)",
      "execution_count": 23,
      "outputs": [
        {
          "output_type": "stream",
          "text": "s1 equal s2 ?  True\ns1 is identical to s2 ? False\ns1 is not identical to s2 ? True\n",
          "name": "stdout"
        }
      ]
    },
    {
      "metadata": {
        "trusted": true
      },
      "cell_type": "code",
      "source": "# s1, s2: equal, identical\ns1 = 'whole milk'\ns2 = s1\nprint(\"s1 equal s2 ? \", s1 == s2)\nprint(\"s1 is identical to s2 ?\", s1 is s2)\nprint(\"s1 is not identical to s2 ?\", s1 is not s2)",
      "execution_count": 24,
      "outputs": [
        {
          "output_type": "stream",
          "text": "s1 equal s2 ?  True\ns1 is identical to s2 ? True\ns1 is not identical to s2 ? False\n",
          "name": "stdout"
        }
      ]
    },
    {
      "metadata": {
        "trusted": true
      },
      "cell_type": "code",
      "source": "# s1, s2: equal, identical (after interpreter optimization)\ns1 = 'python'\ns2 = 'python'\nprint(\"s1 equal s2 ? \", s1 == s2)\nprint(\"s1 is identical to s2 ?\", s1 is s2)\nprint(\"s1 is not identical to s2 ?\", s1 is not s2)",
      "execution_count": 25,
      "outputs": [
        {
          "output_type": "stream",
          "text": "s1 equal s2 ?  True\ns1 is identical to s2 ? True\ns1 is not identical to s2 ? False\n",
          "name": "stdout"
        }
      ]
    },
    {
      "metadata": {
        "trusted": true
      },
      "cell_type": "code",
      "source": "# s1, s2: not equal, not identical \ns1 = 'python'\ns2 = 'java'\nprint(\"s1 equal s2 ? \", s1 == s2)\nprint(\"s1 is identical to s2 ?\", s1 is s2)\nprint(\"s1 is not identical to s2 ?\", s1 is not s2)",
      "execution_count": 22,
      "outputs": [
        {
          "output_type": "stream",
          "text": "s1 equal s2 ?  False\ns1 is identical to s2 ? False\ns1 is not identical to s2 ? True\n",
          "name": "stdout"
        }
      ]
    },
    {
      "metadata": {},
      "cell_type": "markdown",
      "source": "---\n<font size=\"6\" color=\"#B24C00\"  face=\"verdana\"> <B>Task 2</B></font>\n\n## Identity (`is`, `is not`)"
    },
    {
      "metadata": {},
      "cell_type": "markdown",
      "source": "### Identity of variables containing strings"
    },
    {
      "metadata": {
        "trusted": true
      },
      "cell_type": "code",
      "source": "# [ ] Write a program to:\n# 1) Create a variable `e` that is equal but NOT identical to `s`\n# 2) Test the equality and identity of `s` and `e` and print the results\n# 3) Create a variable `i` that is equal and identical to `s`\n# 4) Test the equality and identity of `s` and `i` and print the results\n# 5) Test the equality and identity of `e` and `i` and print the results\n\ns = \"Whole Wheat Bread\"\ne = \"Whole Wheat Bread\"\n#TODO\n\nprint(\"s is equal to e is\",s == e)\nprint(\"s is identical to e is\",s is e)\ni = s\ns is i\nprint(\"s is equal to i is\",i==s)\nprint(\"s is identical to i is\", s is i)\nprint(\"e is equal to i is\",e == i)\nprint(\"e is identical to i is\",e is i)",
      "execution_count": 1,
      "outputs": [
        {
          "output_type": "stream",
          "text": "s is equal to e is True\ns is identical to e is False\ns is equal to i is True\ns is identical to i is True\ne is equal to i is True\ne is identical to i is False\n",
          "name": "stdout"
        }
      ]
    },
    {
      "metadata": {},
      "cell_type": "markdown",
      "source": "### Identity of variables containing lists"
    },
    {
      "metadata": {
        "collapsed": true,
        "trusted": false
      },
      "cell_type": "code",
      "source": "# [ ] Write a program to:\n# 1) Create a variable `e` that is equal but NOT identical to `x`\n# 2) Test the equality and identity of `x` and `e` and print the results\n# 3) Create a variable `i` that is equal and identical to `x`\n# 4) Test the equality and identity of `x` and `i` and print the results\n# 5) Test the equality and identity of `e` and `i` and print the results\n\nx = [[-1, 2],[3, 4],[-5, 6]]\n#TODO\n\ne = [[-1, 2], [3, 4], [-5, 6]]\nprint(\"x is equal to y is\", x == e, \",x is y is \", x is e)\ni = x\nprint(\"x is equal to  i is\",x == i,\",x is i is\",x is i)\nprint(\"e is equal to i is\",e == i,\",e is identical to i is\",e is i)",
      "execution_count": null,
      "outputs": []
    },
    {
      "metadata": {},
      "cell_type": "markdown",
      "source": "---\n<font size=\"6\" color=\"#00A0B2\"  face=\"verdana\"> <B>Concepts</B></font>  \n\n\n## Operator Precedence\n\n[![view video](https://iajupyterprodblobs.blob.core.windows.net/imagecontainer/common/play_video.png)](https://www.youtube.com/watch?v=7kB6K96JN84)\n\nYou have seen that the Boolean operator `not` has a higher precedence than the Boolean operators `and` and `or`. You also know that in arithmetic expressions, multiplication has a higher precedence than addition and subtraction. In Python, you can combine different operator types in the same expression (`3 + 1 > 5`); when you do, operator precedence still applies. The following table summarizes operator precedence from lowest precedence to highest precedence. Operators in the same row have the same precedence, and the precedence is resolved from left to right, for example in (`3 * 6 / 9`), `*` and `/` have the same precedence, and Python will perform the multiplication first (`18 / 9`) followed by the division (`2`).\n\n|Operator| Short Description|\n|--------|------------------|\n|or| Boolean or|\n|and| Boolean and|\n|not| Boolean not|\n|in, not in, is , is not, <, <=, >, >=, !=, ==| Containment and identity test, relational comparison|\n|+, -| Arithmetic addition and subtraction|\n|\\*, /, //, % | Arithmetic, multiplication, division, int division, modulo|\n|\\*\\* | Exponentiation|\n|(), [], {}| Parentheses, brackets|\n\nNOTE: When in doubt, use the parentheses operator to control the precedence in an expression"
    },
    {
      "metadata": {},
      "cell_type": "markdown",
      "source": "---\n<font size=\"6\" color=\"#00A0B2\"  face=\"verdana\"> <B>Examples</B></font>\n\nUse the operator precedence table to predict the outcome of these examples before looking at the answers."
    },
    {
      "metadata": {},
      "cell_type": "markdown",
      "source": "### Arithmetic operations"
    },
    {
      "metadata": {
        "trusted": true
      },
      "cell_type": "code",
      "source": "# * has higher precedence\n2 + 3 * 6",
      "execution_count": 2,
      "outputs": [
        {
          "output_type": "execute_result",
          "execution_count": 2,
          "data": {
            "text/plain": "20"
          },
          "metadata": {}
        }
      ]
    },
    {
      "metadata": {
        "trusted": true
      },
      "cell_type": "code",
      "source": "# To change precedence, we add ( )\n(2 + 3) * 6",
      "execution_count": 3,
      "outputs": [
        {
          "output_type": "execute_result",
          "execution_count": 3,
          "data": {
            "text/plain": "30"
          },
          "metadata": {}
        }
      ]
    },
    {
      "metadata": {},
      "cell_type": "markdown",
      "source": "### Combined operations"
    },
    {
      "metadata": {
        "trusted": true
      },
      "cell_type": "code",
      "source": "# Arithmetic and relational operations\n3 * 2 < 10",
      "execution_count": 4,
      "outputs": [
        {
          "output_type": "execute_result",
          "execution_count": 4,
          "data": {
            "text/plain": "True"
          },
          "metadata": {}
        }
      ]
    },
    {
      "metadata": {
        "trusted": true
      },
      "cell_type": "code",
      "source": "# Exponentiation has a higher precedence\n2**3 + 1 == 16",
      "execution_count": 5,
      "outputs": [
        {
          "output_type": "execute_result",
          "execution_count": 5,
          "data": {
            "text/plain": "False"
          },
          "metadata": {}
        }
      ]
    },
    {
      "metadata": {
        "trusted": true
      },
      "cell_type": "code",
      "source": "# Adding () changes the precedence of 3 + 1 and the exponentiation operator\n2 ** (3 + 1) == 16",
      "execution_count": 6,
      "outputs": [
        {
          "output_type": "execute_result",
          "execution_count": 6,
          "data": {
            "text/plain": "True"
          },
          "metadata": {}
        }
      ]
    },
    {
      "metadata": {
        "trusted": true
      },
      "cell_type": "code",
      "source": "# Arithmetic, relational, and Boolean operators\n2 ** (3 + 1) == 16 and 3 * 2 < 10",
      "execution_count": 7,
      "outputs": [
        {
          "output_type": "execute_result",
          "execution_count": 7,
          "data": {
            "text/plain": "True"
          },
          "metadata": {}
        }
      ]
    },
    {
      "metadata": {
        "trusted": true
      },
      "cell_type": "code",
      "source": "# Arithmetic, relational, Boolean, and containment operators\n2 ** (3 + 1) != 16 or 3 * 2 in [5, 6, 3]",
      "execution_count": 8,
      "outputs": [
        {
          "output_type": "execute_result",
          "execution_count": 8,
          "data": {
            "text/plain": "True"
          },
          "metadata": {}
        }
      ]
    },
    {
      "metadata": {},
      "cell_type": "markdown",
      "source": "### Unexpected outcome!\nThe following 2 examples generate unexpected outcomes!"
    },
    {
      "metadata": {
        "trusted": true
      },
      "cell_type": "code",
      "source": "# Unexpected outcome!\n6 < 10 != True",
      "execution_count": 9,
      "outputs": [
        {
          "output_type": "execute_result",
          "execution_count": 9,
          "data": {
            "text/plain": "True"
          },
          "metadata": {}
        }
      ]
    },
    {
      "metadata": {
        "trusted": true
      },
      "cell_type": "code",
      "source": "# Unexpected outcome!\n6 < 10 != False",
      "execution_count": 10,
      "outputs": [
        {
          "output_type": "execute_result",
          "execution_count": 10,
          "data": {
            "text/plain": "True"
          },
          "metadata": {}
        }
      ]
    },
    {
      "metadata": {},
      "cell_type": "markdown",
      "source": "What is actually being evaluated is:\n\nFirst case:\n```python\n(6 < 10) and (10 != True)\n```\n\nSecond case:\n```python\n(6 < 10) and (10 != False)\n```\n\nIn both cases, 10 is not logical and doesn't equal `True` or `False`. Therefore, both expressions are evaluated as (`True and True`) which is `True`. \n\nYou might face similar confusing cases. It is highly recommended that you use `()` to fix and debug such cases."
    },
    {
      "metadata": {
        "trusted": true
      },
      "cell_type": "code",
      "source": "# Expected outcome after adding ()\n(6 < 10) != True",
      "execution_count": 11,
      "outputs": [
        {
          "output_type": "execute_result",
          "execution_count": 11,
          "data": {
            "text/plain": "False"
          },
          "metadata": {}
        }
      ]
    },
    {
      "metadata": {},
      "cell_type": "markdown",
      "source": "---\n<font size=\"6\" color=\"#B24C00\"  face=\"verdana\"> <B>Task 3</B></font>\n\n## Operator Precedence"
    },
    {
      "metadata": {
        "trusted": true
      },
      "cell_type": "code",
      "source": "# [ ] Correct the following expression so the answer is `True`\n\n((6 + 2) < 9) == True\n\n",
      "execution_count": 10,
      "outputs": [
        {
          "output_type": "execute_result",
          "execution_count": 10,
          "data": {
            "text/plain": "True"
          },
          "metadata": {}
        }
      ]
    },
    {
      "metadata": {
        "trusted": true
      },
      "cell_type": "code",
      "source": "# [ ] Correct the following expression so the answer is `True`\n\n3 ** (2 + 1) >= 3 * 8 + 1\n\n",
      "execution_count": 6,
      "outputs": [
        {
          "output_type": "execute_result",
          "execution_count": 6,
          "data": {
            "text/plain": "True"
          },
          "metadata": {}
        }
      ]
    },
    {
      "metadata": {
        "trusted": true
      },
      "cell_type": "code",
      "source": "# [ ] Correct the following expression so the answer is `True`\n\n(5 + 3) * 2 == 16\n\n",
      "execution_count": 7,
      "outputs": [
        {
          "output_type": "execute_result",
          "execution_count": 7,
          "data": {
            "text/plain": "True"
          },
          "metadata": {}
        }
      ]
    },
    {
      "metadata": {
        "trusted": true
      },
      "cell_type": "code",
      "source": "# [ ] Correct the following expression so the answer is `True`\n\n(4 > 3 and (5 + 6) > 7)\n\n",
      "execution_count": 11,
      "outputs": [
        {
          "output_type": "execute_result",
          "execution_count": 11,
          "data": {
            "text/plain": "True"
          },
          "metadata": {}
        }
      ]
    }
  ],
  "metadata": {
    "kernelspec": {
      "name": "python3",
      "display_name": "Python 3",
      "language": "python"
    },
    "language_info": {
      "mimetype": "text/x-python",
      "nbconvert_exporter": "python",
      "name": "python",
      "file_extension": ".py",
      "version": "3.5.4",
      "pygments_lexer": "ipython3",
      "codemirror_mode": {
        "version": 3,
        "name": "ipython"
      }
    },
    "language": "fsharp"
  },
  "nbformat": 4,
  "nbformat_minor": 2
}