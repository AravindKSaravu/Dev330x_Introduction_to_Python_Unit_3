{
  "cells": [
    {
      "metadata": {},
      "cell_type": "markdown",
      "source": "# Section 4.1: Script Environment & Command-Line Arguments\n* \\_\\_name\\_\\_ == \"\\_\\_main\\_\\_\"\n* sys.argv, import argparse, argparse.ArgumentParser, argparse.parse_args\n* argparse.add_argument: action, nargs, default, type, choices, metavar, help\n\n### Students will be able to:\n* Determine whether Python code is running as a script or being imported as a module\n* Recognize the basic structure of a UNIX command line\n* Parse command-line arguments:\n    * Use the add_argument() method to parse command-line arguments\n    * Add positional arguments\n    * Add optional arguments\n    * Utilize the parameters of add_argument() to control how it works\n* Employ parsed command-line arguments in practical applications"
    },
    {
      "metadata": {},
      "cell_type": "markdown",
      "source": "---\n<font size=\"6\" color=\"#00A0B2\"  face=\"verdana\"> <B>Concepts</B></font>  \n\n## Using the Terminal in Notebooks.Azure.com     \n[![view video](https://iajupyterprodblobs.blob.core.windows.net/imagecontainer/common/play_video.png)](https://www.youtube.com/watch?v=FVgdjX3HHPk)\n- Launch the Terminal from the Library page   \n- Identify the Shell **`$ echo $0`**  \n- Print the Working Directory **`$ pwd`**  \n- List the Directory **`$ ls`**  or **`$ dir`** \n- Clear the Terminal Display **`$ clear`**\n- Change the Directory **`$ cd [directory path]`**  or **`>cd ..`**    \n- Run a Python file **`$ python3 [file_path]`** \n- Run Python in Terminal **`$ python3 `** and exit Python **`$>>>exit()`**  "
    },
    {
      "metadata": {},
      "cell_type": "markdown",
      "source": "---\n<font size=\"6\" color=\"#00A0B2\"  face=\"verdana\"> <B>Concepts</B></font>  \n\n\n## Script Environment\n\n\n[![view video](https://iajupyterprodblobs.blob.core.windows.net/imagecontainer/common/play_video.png)](https://www.youtube.com/watch?v=AQWxcSnov9k)\n\nA Python script can be executed directly or imported as a module in another script. When running a script, a Python interpreter goes through a special setup procedure that defines some environment variables. One of those variables is the `__name__` variable, which can distinguish between the two cases. When the script is executed directly, `__name__` contains the string `\"__main__\"`; otherwise, it contains the name of the module. This distinction allows you to run parts of the code when the script is run directly, and run other parts when the script is imported as a module.\n\n### Running a script directly\n\nIf a script (`main_script.py`) contains the following code: \n```python\nprint(__name__)\n```\n\nRunning the script from a terminal window, will give you:\n\n```bash\n$ python main_script.py \n__main__\n```\n\n### Importing the script as a module\n\nIf the script (`main_script.py`) containing:\n\n```python\nprint(__name__)\n```\n\nIs imported into another script (`secondary_script.py`) that contains the following code:\n```python\nimport main_script\n```\n\nRunning (`secondary_script.py`) will give you the name of the imported module (which is the name of the `main_script.py` file in this case)\n```bash\n$ python secondary_script.py \nmain_script\n```\n\n### `main()` function\nGenerally, you test the value of `__name__` and execute a (`main()`) function if you are running the script directly. Otherwise, you do not run any function.\n\n```python\nif __name__ == \"__main__\":\n    main()\n```"
    },
    {
      "metadata": {},
      "cell_type": "markdown",
      "source": "---\n<font size=\"6\" color=\"#00A0B2\"  face=\"verdana\"> <B>Examples</B></font>\n\n## Script Environment\n\nIn the following example, `main_script.py` is run directly then imported as a module into `secondary_script.py`. You will see the content of `__name__` will change how the `main_script.py` code is executed."
    },
    {
      "metadata": {},
      "cell_type": "markdown",
      "source": "### Changing the working directory to `command_line`\n\nNecessary so all generated files are saved in this directory, the cell will generate an error message if you are already in the `command_line` directory."
    },
    {
      "metadata": {
        "scrolled": true,
        "trusted": true
      },
      "cell_type": "code",
      "source": "%cd command_line",
      "execution_count": 5,
      "outputs": [
        {
          "output_type": "stream",
          "text": "/home/nbuser/library/command_line\n",
          "name": "stdout"
        }
      ]
    },
    {
      "metadata": {},
      "cell_type": "markdown",
      "source": "### Saving the primary script as `main_script.py`\n\nThe first line saves the Python code in the cell as `main_script.py` in the current working directory."
    },
    {
      "metadata": {
        "trusted": true
      },
      "cell_type": "code",
      "source": "%%writefile main_script.py\n\n# Start of Python code\n\n# Will be called from another script\ndef func():\n    print(\"Running func\")\n\n# Execute when running the script directly\ndef main():\n    print(\"Running the main function\")\n\nif __name__ == \"__main__\":\n    main()\n    ",
      "execution_count": 6,
      "outputs": [
        {
          "output_type": "stream",
          "text": "Overwriting main_script.py\n",
          "name": "stdout"
        }
      ]
    },
    {
      "metadata": {},
      "cell_type": "markdown",
      "source": "### Running the primary script directly\n\nThe first line is necessary to run the rest of the lines as command lines (more on that later). For now, `main_script.py` is being run directly."
    },
    {
      "metadata": {
        "trusted": true
      },
      "cell_type": "code",
      "source": "%%bash\n\npython3 main_script.py",
      "execution_count": 7,
      "outputs": [
        {
          "output_type": "stream",
          "text": "Running the main function\n",
          "name": "stdout"
        }
      ]
    },
    {
      "metadata": {},
      "cell_type": "markdown",
      "source": "### Saving the secondary script as `secondary_script.py`\n\nThe first line saves the Python code in the cell as `secondary_script.py` in the current working directory.\n\nThe secondary script imports the primary script as a module and calls its `func()` function."
    },
    {
      "metadata": {
        "trusted": true
      },
      "cell_type": "code",
      "source": "%%writefile secondary_script.py\n\n# Start of Python code\nimport main_script\n\n# call func() from the main script\nmain_script.func()",
      "execution_count": 8,
      "outputs": [
        {
          "output_type": "stream",
          "text": "Overwriting secondary_script.py\n",
          "name": "stdout"
        }
      ]
    },
    {
      "metadata": {},
      "cell_type": "markdown",
      "source": "### Running the secondary script directly\n\nThe first line is necessary to run the rest of the lines as command lines (more on that later). For now, `secondary_script.py` is being run directly."
    },
    {
      "metadata": {
        "trusted": true
      },
      "cell_type": "code",
      "source": "%%bash\n\npython3 secondary_script.py",
      "execution_count": 9,
      "outputs": [
        {
          "output_type": "stream",
          "text": "Running func\n",
          "name": "stdout"
        }
      ]
    },
    {
      "metadata": {},
      "cell_type": "markdown",
      "source": "---\n<font size=\"6\" color=\"#B24C00\"  face=\"verdana\"> <B>Task 1</B></font>\n\n## Script Environment"
    },
    {
      "metadata": {
        "trusted": true
      },
      "cell_type": "code",
      "source": "%%writefile main_2.py\n# [ ] The following program asks the user for a circle radius then display the area and circumference\n# Modify the program so it only displays the information when executed directly\n# The program should not display anything if it is imported as a module \nfrom math import pi\n\ndef circle_area(r):\n    return pi * (r ** 2)\n\ndef circle_circumference(r):\n    return 2 * pi * r\n\nradius = float(input(\"Enter radius: \"))\nprint(\"Area =\", circle_area(radius))\nprint(\"Circumference =\", circle_circumference(radius))\n\n",
      "execution_count": 12,
      "outputs": [
        {
          "output_type": "stream",
          "text": "Overwriting main_2.py\n",
          "name": "stdout"
        }
      ]
    },
    {
      "metadata": {
        "trusted": true
      },
      "cell_type": "code",
      "source": "%%bash\n\npython3 main_2.py",
      "execution_count": 13,
      "outputs": [
        {
          "output_type": "stream",
          "text": "Enter radius: ",
          "name": "stdout"
        },
        {
          "output_type": "stream",
          "text": "Traceback (most recent call last):\n  File \"main_2.py\", line 12, in <module>\n    radius = float(input(\"Enter radius: \"))\nEOFError: EOF when reading a line\n",
          "name": "stderr"
        }
      ]
    },
    {
      "metadata": {},
      "cell_type": "markdown",
      "source": "---\n<font size=\"6\" color=\"#00A0B2\"  face=\"verdana\"> <B>Concepts</B></font>  \n\n\n## Command-Line Structure\n\n\n[![view video](https://iajupyterprodblobs.blob.core.windows.net/imagecontainer/common/play_video.png)](https://www.youtube.com/watch?v=e1zACg4xv80)\n\nA UNIX command is used to run a program and it has the following syntax: (`command [arguments] [options]`). The arguments and options might be optional depending on the nature and purpose of the program. In the following examples you will go through a very concise UNIX command-line primer that will help you complete the lesson. "
    },
    {
      "metadata": {},
      "cell_type": "markdown",
      "source": "---\n<font size=\"6\" color=\"#00A0B2\"  face=\"verdana\"> <B>Examples</B></font>\n"
    },
    {
      "metadata": {},
      "cell_type": "markdown",
      "source": "## Command-Line Structure\n\n### Changing the working directory to `command_line`\n\nNecessary so all generated files are saved in this directory, the cell will generate an error message if you are already in the `command_line` directory."
    },
    {
      "metadata": {
        "trusted": true
      },
      "cell_type": "code",
      "source": "%cd command_line",
      "execution_count": 9,
      "outputs": [
        {
          "output_type": "stream",
          "text": "[Errno 2] No such file or directory: 'command_line'\n/home/nbuser/library/command_line\n",
          "name": "stdout"
        }
      ]
    },
    {
      "metadata": {},
      "cell_type": "markdown",
      "source": "### `ls`\nThis command lists the content of a directory. \n\nThe command `ls` can be run without options or arguments to display the content of the current working directory."
    },
    {
      "metadata": {
        "trusted": true
      },
      "cell_type": "code",
      "source": "%%bash\n\nls",
      "execution_count": 10,
      "outputs": [
        {
          "output_type": "stream",
          "text": "command_line.py\nmain_2.py\nmain_script.py\n__pycache__\nrand.py\nsecondary_script.py\n",
          "name": "stdout"
        }
      ]
    },
    {
      "metadata": {},
      "cell_type": "markdown",
      "source": "### `ls` options\nOne or more options can be used with `ls`; options usually start with `-`.\n\nThe `-l` option show more detailed description about the content of the current working directory."
    },
    {
      "metadata": {
        "trusted": true
      },
      "cell_type": "code",
      "source": "%%bash\n\nls -l",
      "execution_count": 11,
      "outputs": [
        {
          "output_type": "stream",
          "text": "total 0\n-rw-r--r-- 1 nbuser nbuser  270 Oct 17 02:56 command_line.py\n-rw-r--r-- 1 nbuser nbuser  506 Dec  7 10:15 main_2.py\n-rw-r--r-- 1 nbuser nbuser  238 Dec  7 10:11 main_script.py\ndrwxr-xr-x 2 nbuser nbuser    0 Dec  7 10:11 __pycache__\n-rw-r--r-- 1 nbuser nbuser 1427 Oct 17 02:56 rand.py\n-rw-r--r-- 1 nbuser nbuser   97 Dec  7 10:11 secondary_script.py\n",
          "name": "stdout"
        }
      ]
    },
    {
      "metadata": {},
      "cell_type": "markdown",
      "source": "The `-a` option displays hidden files and directories. Note the `.` and `..` directories."
    },
    {
      "metadata": {
        "trusted": true
      },
      "cell_type": "code",
      "source": "%%bash\n\nls -l -a",
      "execution_count": 12,
      "outputs": [
        {
          "output_type": "stream",
          "text": "total 0\ndrwxr-xr-x 2 nbuser nbuser    0 Oct 17 02:56 .\ndrwxr-xr-x 2 nbuser nbuser    0 Jan  1  1970 ..\n-rw-r--r-- 1 nbuser nbuser  270 Oct 17 02:56 command_line.py\n-rw-r--r-- 1 nbuser nbuser  506 Dec  7 10:15 main_2.py\n-rw-r--r-- 1 nbuser nbuser  238 Dec  7 10:11 main_script.py\ndrwxr-xr-x 2 nbuser nbuser    0 Dec  7 10:11 __pycache__\n-rw-r--r-- 1 nbuser nbuser 1427 Oct 17 02:56 rand.py\n-rw-r--r-- 1 nbuser nbuser   97 Dec  7 10:11 secondary_script.py\n",
          "name": "stdout"
        }
      ]
    },
    {
      "metadata": {},
      "cell_type": "markdown",
      "source": "### `ls` arguments\n`ls` can take arguments; for example, you can pass it a path to a directory to display its content. You can also use the options along with the arguments."
    },
    {
      "metadata": {
        "trusted": true
      },
      "cell_type": "code",
      "source": "%%bash\n\nls -l ../parent_dir",
      "execution_count": 13,
      "outputs": [
        {
          "output_type": "stream",
          "text": "total 0\ndrwxr-xr-x 2 nbuser nbuser  0 Nov  4 04:39 a\ndrwxr-xr-x 2 nbuser nbuser  0 Oct 17 02:56 child1_dir\ndrwxr-xr-x 2 nbuser nbuser  0 Oct 17 02:56 child2_dir\ndrwxr-xr-x 2 nbuser nbuser  0 Dec  4 02:04 files_exercises\n-rw-r--r-- 1 nbuser nbuser  0 Oct 17 02:56 parent_leaf.txt\ndrwxr-xr-x 2 nbuser nbuser  0 Nov  6 05:11 practice_1\ndrwxr-xr-x 2 nbuser nbuser  0 Nov  6 06:20 randoms_directory\n-rw-r--r-- 1 nbuser nbuser  0 Dec  3 06:44 text_file_2.txt\n-rw-r--r-- 1 nbuser nbuser 21 Oct 17 02:56 text_file.txt\n",
          "name": "stdout"
        }
      ]
    },
    {
      "metadata": {},
      "cell_type": "markdown",
      "source": "---\n<font size=\"6\" color=\"#00A0B2\"  face=\"verdana\"> <B>Concepts</B></font>  \n\n\n## Parsing Command-Line Arguments\n\n\n[![view video](https://iajupyterprodblobs.blob.core.windows.net/imagecontainer/common/play_video.png)](https://www.youtube.com/watch?v=4SyJTY7NF4c)\n\nLike any other program, Python scripts can be executed from a terminal. They can also be executed with command-line arguments and options. These arguments and options can be used within the script to control the flow of the program. The arguments and options are captured by an environment variable `argv`, which can be accessed using the `sys` module.\n\nThe `argv` variable captures the command-line arguments and options as a list. The first element `argv[0]` is always the command itself, which is the name of the script file. The rest of the list elements are the arguments and options. It is possible to process these arguments and options by writing code around the `argv` list; however, it is a daunting and tedious task. Command-line arguments are used by many applications; therefore, the Python standard library provides an `argparse` module that is much more robust and versatile and will make parsing command-line arguments very easy.\n\nYou will explore how to use the `argparse` module in the following examples, where you will develop a script `rand.py` that will generate random integers according to the arguments and options passed from the command line."
    },
    {
      "metadata": {},
      "cell_type": "markdown",
      "source": "---\n<font size=\"6\" color=\"#00A0B2\"  face=\"verdana\"> <B>Examples</B></font>\n"
    },
    {
      "metadata": {},
      "cell_type": "markdown",
      "source": "## Parsing Command-Line Arguments\n\n### Changing the working directory to `command_line`\n\nNecessary so all generated files are saved in this directory, the cell will generate an error message if you are already in the `command_line` directory."
    },
    {
      "metadata": {
        "scrolled": true,
        "trusted": true
      },
      "cell_type": "code",
      "source": "%cd command_line",
      "execution_count": 1,
      "outputs": [
        {
          "output_type": "stream",
          "text": "/home/nbuser/library/command_line\n",
          "name": "stdout"
        }
      ]
    },
    {
      "metadata": {},
      "cell_type": "markdown",
      "source": "### Using the `argv` environment variable"
    },
    {
      "metadata": {
        "trusted": true
      },
      "cell_type": "code",
      "source": "%%writefile command_line.py\n\nimport sys\n\n# Number of arguments\nargc = len(sys.argv)\nprint(argc, \"arguments and options were passed\")\n\n# List of arguments and options\nprint(\"The arguments and options passed are: \")\nfor i in range(argc):\n    print(\"argv[{:d}] = {}\".format(i, sys.argv[i])) ",
      "execution_count": 2,
      "outputs": [
        {
          "output_type": "stream",
          "text": "Overwriting command_line.py\n",
          "name": "stdout"
        }
      ]
    },
    {
      "metadata": {},
      "cell_type": "markdown",
      "source": "Running the `command_line.py` script will generate:\n"
    },
    {
      "metadata": {
        "trusted": true
      },
      "cell_type": "code",
      "source": "%%bash\n\npython3 command_line.py arg1 arg2 -option1 -option2",
      "execution_count": 3,
      "outputs": [
        {
          "output_type": "stream",
          "text": "5 arguments and options were passed\nThe arguments and options passed are: \nargv[0] = command_line.py\nargv[1] = arg1\nargv[2] = arg2\nargv[3] = -option1\nargv[4] = -option2\n",
          "name": "stdout"
        }
      ]
    },
    {
      "metadata": {},
      "cell_type": "markdown",
      "source": "## Generating random numbers\n\nIn the following examples, you will build a program `rand.py` to:\n* Print a random integer between 0 and 10\n* Print a number of random integers between 0 and 10, with the number of integers passed as a command-line argument\n* Print a number of random integers in a specific range, with the number of integers and range limits passed as command-line arguments\n* Print a number of random integers in a specific range with an optional message; the number of integers, range limits, and  message option are all passed as command-line arguments\n\nNOTE: In the following examples, the `bash` executions must be run after the code segments that precede them. Changing the order will result in errors and undesired output."
    },
    {
      "metadata": {},
      "cell_type": "markdown",
      "source": "### `argparse` module\n\n_Print a random integer between 0 and 10_ \n\nThis program imports the `argparse` module to define an object of type `argparse.ArgumentParser`, then parses the command line arguments using `parse_args()`."
    },
    {
      "metadata": {
        "trusted": true
      },
      "cell_type": "code",
      "source": "%%writefile rand.py\n\nimport argparse\nfrom random import randint\n\n# Define an argument parser object\nparser = argparse.ArgumentParser()\n\n# Parse command-line arguments\nargs = parser.parse_args()\n\n# Program\nprint(randint(0, 10))",
      "execution_count": 4,
      "outputs": [
        {
          "output_type": "stream",
          "text": "Overwriting rand.py\n",
          "name": "stdout"
        }
      ]
    },
    {
      "metadata": {},
      "cell_type": "markdown",
      "source": "Running the script from a terminal will generate:\n"
    },
    {
      "metadata": {
        "trusted": true
      },
      "cell_type": "code",
      "source": "%%bash\n\npython3 rand.py",
      "execution_count": 5,
      "outputs": [
        {
          "output_type": "stream",
          "text": "5\n",
          "name": "stdout"
        }
      ]
    },
    {
      "metadata": {},
      "cell_type": "markdown",
      "source": "The program prints a random number between 0 and 10 as expected. However, if we pass an unrecognized argument to the script, the `argparse` module will generate an appropriate usage message and automatically build a help page. "
    },
    {
      "metadata": {
        "trusted": true
      },
      "cell_type": "code",
      "source": "%%bash\n\npython3 rand.py -i",
      "execution_count": 6,
      "outputs": [
        {
          "output_type": "stream",
          "text": "usage: rand.py [-h]\nrand.py: error: unrecognized arguments: -i\n",
          "name": "stderr"
        }
      ]
    },
    {
      "metadata": {
        "trusted": true
      },
      "cell_type": "code",
      "source": "%%bash\n\npython3 rand.py -h",
      "execution_count": 7,
      "outputs": [
        {
          "output_type": "stream",
          "text": "usage: rand.py [-h]\n\noptional arguments:\n  -h, --help  show this help message and exit\n",
          "name": "stdout"
        }
      ]
    },
    {
      "metadata": {},
      "cell_type": "markdown",
      "source": "### Adding arguments (`add_argument`)\n\n_Print a number of random integers between 0 and 10, with the number of integers passed as a command-line argument_\n\nThis program adds a `count` argument using the `add_argument` method. The `count` argument holds the number of random integers to print.\n\n* If `count` is not provided by the user, the script won't work and the user will be presented with a usage message\n* The help is updated accordingly\n* The argument passed is stored in `args.count`\n* When passing 4 as an argument, the script generates 4 random numbers as expected\n* The `add_argument` method takes several parameters:\n    * Name of the argument, which is also the name of the variable storing the count.\n    * Type of the argument; if not specified, the default is string\n    * Message to be displayed when a user requests the help message by using the `-h` option\n* The `add_argument` method takes more optional parameters depending on the way you want to capture the arguments. We will explore a few more in the next examples."
    },
    {
      "metadata": {
        "trusted": true
      },
      "cell_type": "code",
      "source": "%%writefile rand.py\n\nimport argparse\nfrom random import randint\n\n# Define an argument parser object\nparser = argparse.ArgumentParser()\n\n# Add positional arguments\nparser.add_argument('count', type = int, help = 'Count of random integers to be generated')\n\n# Parse command-line arguments\nargs = parser.parse_args()\n\n# Program\nfor i in range(args.count):\n    print(randint(0, 10))",
      "execution_count": 8,
      "outputs": [
        {
          "output_type": "stream",
          "text": "Overwriting rand.py\n",
          "name": "stdout"
        }
      ]
    },
    {
      "metadata": {},
      "cell_type": "markdown",
      "source": "Running the script from a terminal will generate:\n"
    },
    {
      "metadata": {
        "trusted": true
      },
      "cell_type": "code",
      "source": "%%bash\n\npython3 rand.py",
      "execution_count": 9,
      "outputs": [
        {
          "output_type": "stream",
          "text": "usage: rand.py [-h] count\nrand.py: error: the following arguments are required: count\n",
          "name": "stderr"
        }
      ]
    },
    {
      "metadata": {
        "trusted": true
      },
      "cell_type": "code",
      "source": "%%bash\n\npython3 rand.py -h",
      "execution_count": 10,
      "outputs": [
        {
          "output_type": "stream",
          "text": "usage: rand.py [-h] count\n\npositional arguments:\n  count       Count of random integers to be generated\n\noptional arguments:\n  -h, --help  show this help message and exit\n",
          "name": "stdout"
        }
      ]
    },
    {
      "metadata": {
        "trusted": true
      },
      "cell_type": "code",
      "source": "%%bash\n\npython 3 rand.py 4",
      "execution_count": 11,
      "outputs": [
        {
          "output_type": "stream",
          "text": "2\n10\n2\n1\n",
          "name": "stdout"
        }
      ]
    },
    {
      "metadata": {},
      "cell_type": "markdown",
      "source": "### Adding `add_argument` parameters\n\n_Print a number of random integers in a specific range, with the number of integers and range limits passed as command-line arguments_\n\nThe argument (`count`) is a positional argument because it is required and its position depends on the command itself. In the following example, we add an optional argument to let the user decide the range from which the random integers will be chosen.\n\n* '-r' is the short notation of the new argument; '--range' is the long notation. You can use them interchangeably.\n* `metavar` is the name that will be used in the help message.\n* `nargs` is the number of expected options after `-r` or `--range`; use `'*'` for unlimited. In this example, it will be 2, the lower and upper integer range limits.\n* `type` is the expected type (string by default).\n* `default` is the default range when not specifying a range.\n* You can access the range options using `args.range[0]` and `args.range[1]`. If `nargs` was larger you could use the appropriate index to access the numbers passed."
    },
    {
      "metadata": {
        "trusted": true
      },
      "cell_type": "code",
      "source": "%%writefile rand.py\n\nimport argparse\nfrom random import randint\n\n# Define an argument parser object\nparser = argparse.ArgumentParser()\n\n# Add positional arguments\nparser.add_argument('count', type = int, help = 'Count of random integers to be generated')\n\n# Add optional arguments\nparser.add_argument('-r', '--range', metavar = 'number', nargs = 2, type = int, default = [0, 10], help = 'Integer range [a, b] from which the random numbers will be chosen')\n\n# Parse command-line arguments\nargs = parser.parse_args()\n\n# Program\nfor i in range(args.count):\n    print(randint(args.range[0], args.range[1]))",
      "execution_count": 12,
      "outputs": [
        {
          "output_type": "stream",
          "text": "Overwriting rand.py\n",
          "name": "stdout"
        }
      ]
    },
    {
      "metadata": {},
      "cell_type": "markdown",
      "source": "Running the script from a terminal will generate:\n"
    },
    {
      "metadata": {
        "trusted": true
      },
      "cell_type": "code",
      "source": "%%bash\n\npython3 rand.py 4",
      "execution_count": 13,
      "outputs": [
        {
          "output_type": "stream",
          "text": "0\n2\n10\n1\n",
          "name": "stdout"
        }
      ]
    },
    {
      "metadata": {
        "trusted": true
      },
      "cell_type": "code",
      "source": "%%bash\n\npython3 rand.py 4 -r 500 1000",
      "execution_count": 14,
      "outputs": [
        {
          "output_type": "stream",
          "text": "527\n500\n513\n597\n",
          "name": "stdout"
        }
      ]
    },
    {
      "metadata": {
        "trusted": true
      },
      "cell_type": "code",
      "source": "%%bash\n\npython3 rand.py 4 --range 500 1000",
      "execution_count": 15,
      "outputs": [
        {
          "output_type": "stream",
          "text": "579\n873\n567\n860\n",
          "name": "stdout"
        }
      ]
    },
    {
      "metadata": {
        "trusted": true
      },
      "cell_type": "code",
      "source": "%%bash\n\npython3 rand.py 10 -r 500 1000",
      "execution_count": 16,
      "outputs": [
        {
          "output_type": "stream",
          "text": "521\n742\n532\n644\n924\n554\n933\n778\n975\n679\n",
          "name": "stdout"
        }
      ]
    },
    {
      "metadata": {
        "trusted": true
      },
      "cell_type": "code",
      "source": "%%bash\n\npython3 rand.py",
      "execution_count": 17,
      "outputs": [
        {
          "output_type": "stream",
          "text": "usage: rand.py [-h] [-r number number] count\nrand.py: error: the following arguments are required: count\n",
          "name": "stderr"
        }
      ]
    },
    {
      "metadata": {
        "trusted": true
      },
      "cell_type": "code",
      "source": "%%bash\n\npython3 rand.py -h",
      "execution_count": 18,
      "outputs": [
        {
          "output_type": "stream",
          "text": "usage: rand.py [-h] [-r number number] count\n\npositional arguments:\n  count                 Count of random integers to be generated\n\noptional arguments:\n  -h, --help            show this help message and exit\n  -r number number, --range number number\n                        Integer range [a, b] from which the random numbers\n                        will be chosen\n",
          "name": "stdout"
        }
      ]
    },
    {
      "metadata": {},
      "cell_type": "markdown",
      "source": "#### More about `metavar`\n\nIn the previous example, the number of expected arguments after `-r` (or `--range`) was `nargs = 2`. The help message illustrated that by `-r number number` (or `--range number number`). The word `number` was specified using the `metavar` parameter. The `metavar` was repeated 2 times to account for the 2 required arguments. It is also possible to specify different names for each of the required arguments by putting them in a tuple. In this example, the numbers passed to `-r` are renamed to `lower` and `upper` by assigning a tuple to `metavar`."
    },
    {
      "metadata": {
        "trusted": true
      },
      "cell_type": "code",
      "source": "%%writefile rand.py\n\nimport argparse\nfrom random import randint\n\n# define an argument parser object\nparser = argparse.ArgumentParser()\n\n# Add positional arguments\nparser.add_argument('count', type = int, help = 'Count of random integers to be generated')\n\n# Add optional arguments\nparser.add_argument('-r', '--range', metavar = ('lower', 'upper'), nargs = 2, type = int, default = [0, 10], help = 'Integer range [a, b] from which the random numbers will be chosen')\n\n# parse command line arguments\nargs = parser.parse_args()\n\n# program\nfor i in range(args.count):\n    print(randint(args.range[0], args.range[1]))\n",
      "execution_count": 19,
      "outputs": [
        {
          "output_type": "stream",
          "text": "Overwriting rand.py\n",
          "name": "stdout"
        }
      ]
    },
    {
      "metadata": {
        "trusted": true
      },
      "cell_type": "code",
      "source": "%%bash\n\npython3 rand.py -h",
      "execution_count": 20,
      "outputs": [
        {
          "output_type": "stream",
          "text": "usage: rand.py [-h] [-r lower upper] count\n\npositional arguments:\n  count                 Count of random integers to be generated\n\noptional arguments:\n  -h, --help            show this help message and exit\n  -r lower upper, --range lower upper\n                        Integer range [a, b] from which the random numbers\n                        will be chosen\n",
          "name": "stdout"
        }
      ]
    },
    {
      "metadata": {},
      "cell_type": "markdown",
      "source": "The `metavar` parameter can also be used with positional arguments to use an alternative name in the help message. However, only the displayed name is changed; the parse_args() attribute still has the original name. In this example, you will see how the `count` argument name is changed in the help message using `metavar`."
    },
    {
      "metadata": {
        "trusted": true
      },
      "cell_type": "code",
      "source": "%%writefile rand.py\n\nimport argparse\nfrom random import randint\n\n# Define an argument parser object\nparser = argparse.ArgumentParser()\n\n# Add positional arguments\nparser.add_argument('count', metavar = 'rands', type = int, help = 'Count of random integers to be generated')\n\n# Add optional arguments\nparser.add_argument('-r', '--range', metavar = ('lower', 'upper'), nargs = 2, type = int, default = [0, 10], help = 'Integer range [a, b] from which the random numbers will be chosen')\n\n# Parse command-line arguments\nargs = parser.parse_args()\n\n# Program\nfor i in range(args.count): # still accessed as args.count (not args.rands)\n    print(randint(args.range[0], args.range[1]))",
      "execution_count": 21,
      "outputs": [
        {
          "output_type": "stream",
          "text": "Overwriting rand.py\n",
          "name": "stdout"
        }
      ]
    },
    {
      "metadata": {
        "trusted": true
      },
      "cell_type": "code",
      "source": "%%bash\n\npython3 rand.py -h",
      "execution_count": 22,
      "outputs": [
        {
          "output_type": "stream",
          "text": "usage: rand.py [-h] [-r lower upper] rands\n\npositional arguments:\n  rands                 Count of random integers to be generated\n\noptional arguments:\n  -h, --help            show this help message and exit\n  -r lower upper, --range lower upper\n                        Integer range [a, b] from which the random numbers\n                        will be chosen\n",
          "name": "stdout"
        }
      ]
    },
    {
      "metadata": {},
      "cell_type": "markdown",
      "source": "### More `add_argument` parameters\n\n_Print a number of random integers in a specific range with an optional message; the number of integers, range limits, and  message option are all passed as command-line arguments_\n\nThe following program updates the `rand.py` script so that it includes an optional `verbose` flag. When selected, the `verbose` flag will print out general messages about the currently selected options and arguments.\n\n* Because the value of `--verbose` should be `True` or `False`, the `action = 'store_true'` was used.\n* You can access `verbose` as `args.verbose`.\n* The rest of the argument is almost the same as for `--range` (or `-r`) argument."
    },
    {
      "metadata": {
        "trusted": true
      },
      "cell_type": "code",
      "source": "%%writefile rand.py\n\nimport argparse\nfrom random import randint\n\n# Define an argument parser object\nparser = argparse.ArgumentParser()\n\n# Add positional arguments\nparser.add_argument('count', type = int, help = 'Count of random integers to be generated')\n\n# Add optional arguments\nparser.add_argument('-r', '--range', metavar = ('lower', 'upper'), nargs = 2, type = int, default = [0, 10], help = 'Integer range [a, b] from which the random numbers will be chosen')\n\nparser.add_argument('-v', '--verbose', action = 'store_true', help = 'Verbose mode')\n\n# Parse command-line arguments\nargs = parser.parse_args()\n\n# Program\nif args.verbose:\n    print(\"Generating {:d} random integer in the range [{:d}, {:d}]\".format(args.count, args.range[0], args.range[1]))\n            \nfor i in range(args.count):\n    print(randint(args.range[0], args.range[1]))",
      "execution_count": 23,
      "outputs": [
        {
          "output_type": "stream",
          "text": "Overwriting rand.py\n",
          "name": "stdout"
        }
      ]
    },
    {
      "metadata": {
        "trusted": true
      },
      "cell_type": "code",
      "source": "%%bash\n\npython3 rand.py 4 --range 500 1000 -v",
      "execution_count": 24,
      "outputs": [
        {
          "output_type": "stream",
          "text": "Generating 4 random integer in the range [500, 1000]\n619\n724\n771\n653\n",
          "name": "stdout"
        }
      ]
    },
    {
      "metadata": {
        "collapsed": true,
        "trusted": false
      },
      "cell_type": "code",
      "source": "%%bash\n\npython3 rand.py -h",
      "execution_count": null,
      "outputs": []
    },
    {
      "metadata": {},
      "cell_type": "markdown",
      "source": "#### More about `action`\n\nIn the previous example, the `action = 'store_true'` was used to make `-v` (or `--verbose`) a Boolean flag that can be set to True or False. Python supports other actions:\n* `store`: The default action for all arguments; it stores the value passed on the command line to the argument.\n* `store_true` and `store_false`: Make an argument a Boolean flag and set it to True or False when entered by the user.\n* `store_const`: Stores a value specified by the keyword `const` in the argument. This is a more general form of `store_true` that allows you to store non-Boolean values in the argument.\n* `count`: The number of times an argument is used by the user.\n\nThe following example shows how these actions behave."
    },
    {
      "metadata": {
        "trusted": true
      },
      "cell_type": "code",
      "source": "%%writefile rand.py\n\nimport argparse\nfrom random import randint\n\n# Define an argument parser object\nparser = argparse.ArgumentParser()\n\n# Add positional arguments\nparser.add_argument('count', action = 'store', type = int, help = 'Count of random integers to be generated')\n\n# Add optional arguments\nparser.add_argument('-r', '--range', metavar = ('lower', 'upper'), nargs = 2, type = int, default = [0, 10], help = 'Integer range [a, b] from which the random numbers will be chosen')\n\nparser.add_argument('-c', '--const', action = 'store_const', const = 10, default = 0, help = 'Generate 10 additional random numbers (in addition to Count)')\n\nparser.add_argument('-m', '--multiply', action = 'count', help = 'Multiply the number of random numbers by the number of times this flag appears')\n\nparser.add_argument('-v', '--verbose', action = 'store_true', help = 'Verbose mode')\n\n# Parse command-line arguments\nargs = parser.parse_args()\n\n# Program\n\n# If args.const is used, add 10 to the count entered by the user\nnum_of_rands = (args.count + args.const)\n\n# When args.multiply is not used, its value is None\nif (args.multiply != None):\n    num_of_rands = num_of_rands * args.multiply\n\nif args.verbose:\n    print(\"Generating {:d} random integer in the range [{:d}, {:d}]\".format(num_of_rands, args.range[0], args.range[1]))\n            \nfor i in range(num_of_rands):\n    print(randint(args.range[0], args.range[1]))",
      "execution_count": 25,
      "outputs": [
        {
          "output_type": "stream",
          "text": "Overwriting rand.py\n",
          "name": "stdout"
        }
      ]
    },
    {
      "metadata": {
        "trusted": true
      },
      "cell_type": "code",
      "source": "%%bash\n\npython3 rand.py 4 --range 500 1000 -v -c",
      "execution_count": 26,
      "outputs": [
        {
          "output_type": "stream",
          "text": "Generating 14 random integer in the range [500, 1000]\n716\n687\n986\n549\n906\n870\n975\n863\n716\n862\n897\n556\n816\n923\n",
          "name": "stdout"
        }
      ]
    },
    {
      "metadata": {
        "trusted": true
      },
      "cell_type": "code",
      "source": "%%bash\n\npython3 rand.py 4 --range 500 1000 -v -mmm",
      "execution_count": 27,
      "outputs": [
        {
          "output_type": "stream",
          "text": "Generating 12 random integer in the range [500, 1000]\n603\n664\n909\n846\n554\n849\n559\n860\n629\n628\n998\n928\n",
          "name": "stdout"
        }
      ]
    },
    {
      "metadata": {
        "trusted": true
      },
      "cell_type": "code",
      "source": "%%bash\n\npython3 rand.py -h",
      "execution_count": 28,
      "outputs": [
        {
          "output_type": "stream",
          "text": "usage: rand.py [-h] [-r lower upper] [-c] [-m] [-v] count\n\npositional arguments:\n  count                 Count of random integers to be generated\n\noptional arguments:\n  -h, --help            show this help message and exit\n  -r lower upper, --range lower upper\n                        Integer range [a, b] from which the random numbers\n                        will be chosen\n  -c, --const           Generate 10 additional random numbers (in addition to\n                        Count)\n  -m, --multiply        Multiply the number of random numbers by the number of\n                        times this flag appears\n  -v, --verbose         Verbose mode\n",
          "name": "stdout"
        }
      ]
    },
    {
      "metadata": {},
      "cell_type": "markdown",
      "source": "NOTE: More information about the parameters and capabilities of the `add_argument` method is available on the Python Documentation site at https://docs.python.org/3/library/argparse.html."
    },
    {
      "metadata": {},
      "cell_type": "markdown",
      "source": "---\n<font size=\"6\" color=\"#B24C00\"  face=\"verdana\"> <B>Task 2</B></font>\n\n## Parsing Command-Line Arguments\n"
    },
    {
      "metadata": {},
      "cell_type": "markdown",
      "source": "### Finding the day of the week"
    },
    {
      "metadata": {
        "trusted": true
      },
      "cell_type": "code",
      "source": "%%writefile day_finder.py\n\n# [ ] Write a program that reads a date (month, day, year) as command-line arguments in order\n# then prints the day of the week for that date.\n# If an optional flag (-c or --complete) is specified, the program should print the full date (not only the day of the week).\n\n# The help message should look like:\n\n'''\nusage: day_finder.py [-h] [-c] month day year\n\npositional arguments:\n  month           Month as a number (1, 12)\n  day             Day as a number (1, 31) depending on the month\n  year            Year as a 4 digits number (2018)\n\noptional arguments:\n  -h, --help      show this help message and exit \n  -c, --complete  Show complete formatted date\n'''\n\n# HINT: Use a date object with strftime\nimport argparse\nfrom datetime import datetime\n\n# Define an argument parser object\nparser = argparse.ArgumentParser()\n\n# Add positional arguments\nparser.add_argument('month', action = 'store', type = int, help = 'Month as a number (1, 12)')\nparser.add_argument('day', action = 'store', type = int, help = 'Day as a number (1, 31) depending on the month')\nparser.add_argument('year', action = 'store', type = int, help = 'Year as a 4 digit number (2018)')\n\n# Add optional arguments\nparser.add_argument('-c', '--complete', action = 'store_true', help = 'Show complete formatted date')\n\n# Parse command-line arguments\nargs = parser.parse_args()\n\n# Program\nt = datetime(month = args.month, day = args.day, year = args.year)\nprint(t.strftime(\"%A\"), end = \" \")\n\n# If args.complete is used, print the date with the complete format\n\nif args.complete:\n    print(t.strftime(\"%B, %d, %Y\"))\n\n",
      "execution_count": 4,
      "outputs": [
        {
          "output_type": "stream",
          "text": "Overwriting day_finder.py\n",
          "name": "stdout"
        }
      ]
    },
    {
      "metadata": {
        "trusted": true
      },
      "cell_type": "code",
      "source": "%%bash\n\npython3 day_finder.py 12 31 2017 -c",
      "execution_count": 5,
      "outputs": [
        {
          "output_type": "stream",
          "text": "Sunday December, 31, 2017\n",
          "name": "stdout"
        }
      ]
    },
    {
      "metadata": {
        "trusted": true
      },
      "cell_type": "code",
      "source": "%%bash\n\npython3 day_finder.py 12 31 2017",
      "execution_count": 6,
      "outputs": [
        {
          "output_type": "stream",
          "text": "Sunday ",
          "name": "stdout"
        }
      ]
    },
    {
      "metadata": {},
      "cell_type": "markdown",
      "source": "### Sorting numbers"
    },
    {
      "metadata": {
        "trusted": true
      },
      "cell_type": "code",
      "source": "%%writefile sort_numbers.py\n\n# [ ] Write a program that reads an unspecified number of integers from the command line,\n# then prints out the numbers in an ascending order\n# The program should have an optional argument to save the sorted numbers as a file named `sorted_numbers.txt`\n\n# The help message should look like:\n'''\nusage: sort_numbers.py [-h] [-s] [numbers [numbers ...]]\n\npositional arguments:\n  numbers     int to be sorted\n\noptional arguments:\n  -h, --help  show this help message and exit\n  -s, --save  save the sorted numbers on a file (sorted_numbers.txt)\n'''\n\n#HINT: use nargs = '*' in an add_argument method\nimport argparse\n\n# Define an argument parser object\nparser = argparse.ArgumentParser()\n\n# Add positional arguments\nparser.add_argument('numbers', action = 'store', nargs = '*', type = int, help = 'int to be sorted')\n\n# Add optional arguments\nparser.add_argument('-s', '--save', action = 'store', type = str, help = 'save the sorted numbers on a file (sorted_numbers.txt)')\n\n# Parse command-line arguments\nargs = parser.parse_args()\n\n# Program\narranged = sorted(args.numbers)\nprint(*arranged)\n \nif args.save:\n    with open(\"sorted_numbers.txt\", 'w+') as f:\n        for a in arranged:\n            f.write(str(a)+\" \")\n",
      "execution_count": 10,
      "outputs": [
        {
          "output_type": "stream",
          "text": "Overwriting sort_numbers.py\n",
          "name": "stdout"
        }
      ]
    },
    {
      "metadata": {
        "trusted": true
      },
      "cell_type": "code",
      "source": "%%bash\n\npython3 sort_numbers.py 23 49 5 300 43 582 58 29 62 69 320 60",
      "execution_count": 11,
      "outputs": [
        {
          "output_type": "stream",
          "text": "5 23 29 43 49 58 60 62 69 300 320 582\n",
          "name": "stdout"
        }
      ]
    }
  ],
  "metadata": {
    "kernelspec": {
      "name": "python3",
      "display_name": "Python 3",
      "language": "python"
    },
    "language_info": {
      "mimetype": "text/x-python",
      "nbconvert_exporter": "python",
      "name": "python",
      "pygments_lexer": "ipython3",
      "version": "3.5.4",
      "file_extension": ".py",
      "codemirror_mode": {
        "version": 3,
        "name": "ipython"
      }
    }
  },
  "nbformat": 4,
  "nbformat_minor": 2
}