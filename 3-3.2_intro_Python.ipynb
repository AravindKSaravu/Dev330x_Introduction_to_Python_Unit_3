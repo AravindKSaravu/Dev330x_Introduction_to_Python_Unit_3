{
  "cells": [
    {
      "metadata": {},
      "cell_type": "markdown",
      "source": "# Section 3.2: Files\n* os.remove, os.unlink\n* os.path.exists, os.path.isdir, os.path.isfile\n* `with`\n\n### Students will be able to:\n* Delete files\n* Check that a file exists\n* Check if a path is a file or directory\n* Handle file exceptions\n* Use `with` statement close an open file after catching an exception"
    },
    {
      "metadata": {},
      "cell_type": "markdown",
      "source": "---\n<font size=\"6\" color=\"#00A0B2\"  face=\"verdana\"> <B>Concepts</B></font>  \n\n## Deleting Files\n\n[![view video](https://iajupyterprodblobs.blob.core.windows.net/imagecontainer/common/play_video.png)](https://www.youtube.com/watch?v=qSYMdOq_96g)\n\nIn module 1 you explored the `os` module and used some of its methods to interact with the file system. You changed the working directory, listed the content of a path, created new directories, removed directories, and renamed files and directories. In addition to these utilities, Python's `os` module allows you to remove specific files using the `os.remove(path)` or `os.unlink(path)` functions. Both functions are semantically identical; however, their functionality slightly differs depending on the platform running your program. For now, we will consider them equivalent and use `os.remove(path)` to delete a file."
    },
    {
      "metadata": {},
      "cell_type": "markdown",
      "source": "---\n<font size=\"6\" color=\"#00A0B2\"  face=\"verdana\"> <B>Examples</B></font>\n\n### Removing a file"
    },
    {
      "metadata": {
        "trusted": true
      },
      "cell_type": "code",
      "source": "import os\n\n# Create a file to be deleted\nfile_path = \"parent_dir/tmp_file_to_be_deleted.txt\"\nf = open(file_path, 'w')\nf.close()\n\n# list the content of parent_dir\nprint('Content of \"parent_dir\" after creating the file:')\nprint(os.listdir(\"parent_dir\"))\nprint()\n\n# delete the file\nos.remove(file_path)\n\n# list the content of parent_dir\nprint('Content of \"parent_dir\" after removing the file')\nprint(os.listdir(\"parent_dir\"))\n",
      "execution_count": 14,
      "outputs": [
        {
          "output_type": "error",
          "ename": "FileNotFoundError",
          "evalue": "[Errno 2] No such file or directory: 'parent_dir/tmp_file_to_be_deleted.txt'",
          "traceback": [
            "\u001b[0;31m---------------------------------------------------------------------------\u001b[0m",
            "\u001b[0;31mFileNotFoundError\u001b[0m                         Traceback (most recent call last)",
            "\u001b[0;32m<ipython-input-14-d7dd9abe24ce>\u001b[0m in \u001b[0;36m<module>\u001b[0;34m\u001b[0m\n\u001b[1;32m      3\u001b[0m \u001b[0;31m# Create a file to be deleted\u001b[0m\u001b[0;34m\u001b[0m\u001b[0;34m\u001b[0m\u001b[0m\n\u001b[1;32m      4\u001b[0m \u001b[0mfile_path\u001b[0m \u001b[0;34m=\u001b[0m \u001b[0;34m\"parent_dir/tmp_file_to_be_deleted.txt\"\u001b[0m\u001b[0;34m\u001b[0m\u001b[0m\n\u001b[0;32m----> 5\u001b[0;31m \u001b[0mf\u001b[0m \u001b[0;34m=\u001b[0m \u001b[0mopen\u001b[0m\u001b[0;34m(\u001b[0m\u001b[0mfile_path\u001b[0m\u001b[0;34m,\u001b[0m \u001b[0;34m'w'\u001b[0m\u001b[0;34m)\u001b[0m\u001b[0;34m\u001b[0m\u001b[0m\n\u001b[0m\u001b[1;32m      6\u001b[0m \u001b[0mf\u001b[0m\u001b[0;34m.\u001b[0m\u001b[0mclose\u001b[0m\u001b[0;34m(\u001b[0m\u001b[0;34m)\u001b[0m\u001b[0;34m\u001b[0m\u001b[0m\n\u001b[1;32m      7\u001b[0m \u001b[0;34m\u001b[0m\u001b[0m\n",
            "\u001b[0;31mFileNotFoundError\u001b[0m: [Errno 2] No such file or directory: 'parent_dir/tmp_file_to_be_deleted.txt'"
          ]
        }
      ]
    },
    {
      "metadata": {},
      "cell_type": "markdown",
      "source": "---\n<font size=\"6\" color=\"#B24C00\"  face=\"verdana\"> <B>Task 1</B></font>"
    },
    {
      "metadata": {},
      "cell_type": "markdown",
      "source": "## Setting Up the Environment (no coding required)\nThis code segment creates a directory named `files_exercises` that contains five subdirectories named `dir_1`, `dir_2`, ...`dir_5` and 100 text files named sequentially from 0 to 99. The first line of each text file is a random number from 1000 to 9999."
    },
    {
      "metadata": {
        "trusted": true
      },
      "cell_type": "code",
      "source": "# Do not modify or add anything to this code segment.\n# This code segment must be run before attempting any of the tasks in this lesson.\n# It prepares the directories and files necessary to complete the tasks.\n\nimport os, random, shutil\n\n# Navigate to `parent_dir` directory (if not already in it)\ncurrent_path = os.getcwd()\nif (\"parent_dir\" in current_path):\n    nb_path = current_path.split(\"parent_dir\")[0]\nelse:\n    nb_path = current_path\nprint(\"Changing working dir to parent_dir\")\nos.chdir(os.path.join(nb_path,'parent_dir'))\nprint(\"Current working directory:\", os.getcwd())\n\n# Remove the `files_exercises` directory (if it exists)\nif('files_exercises' in os.listdir()):\n    print('Removing \"files_exercises\"')\n    shutil.rmtree('files_exercises')\n    \n# Create a new directory called `files_exercises`\nprint('Making \"files_exercises\"')\nos.mkdir('files_exercises')\n\n# Change the working directory to `files_exercises`\nprint('Changing working directory to \"files_exercises\"')\nos.chdir('files_exercises')\n\n# Display the current working directory to verify you are in the correct location\nprint(\"Current working directory:\", os.getcwd())\n\n# Create 100 text files, the first line of each file is a random number in the range [1000, 9999]\nprint(\"Creating 100 text files\")\nrandom.seed(25000) # to get the same random numbers every time the setup runs\nfor i in range(100):\n    file_name = str(i) + \".txt\"\n    f = open(file_name, 'w')\n    f.write(str(random.randint(1000, 9999)))\n    f.close()\n\n# Create 5 directories\nprint(\"Creating 5 directories\")\nfor i in range(1, 6):\n    os.mkdir(\"dir_\"+str(i))\n\nprint(\"Environment setup completed!\")",
      "execution_count": 15,
      "outputs": [
        {
          "output_type": "stream",
          "text": "Changing working dir to parent_dir\nCurrent working directory: /home/nbuser/library/parent_dir\nRemoving \"files_exercises\"\nMaking \"files_exercises\"\nChanging working directory to \"files_exercises\"\nCurrent working directory: /home/nbuser/library/parent_dir/files_exercises\nCreating 100 text files\nCreating 5 directories\nEnvironment setup completed!\n",
          "name": "stdout"
        }
      ]
    },
    {
      "metadata": {},
      "cell_type": "markdown",
      "source": "## Deleting Files"
    },
    {
      "metadata": {
        "trusted": true
      },
      "cell_type": "code",
      "source": "# [ ] Complete the following program to delete the first 10 files inside `files_exercises` (0.txt, 1.txt ... 9.txt)\n# Make sure the to run the environment setup code before running your own program.\n\nimport os\n\nif ('files_exercises' not in os.getcwd()):\n    print(\"STOP!!!! Run the environment setup code!\")\n\n# list the content of `files_exercises`\nprint('Content of \"files_exercises\" before removing the files')\nprint(os.listdir()) \n\n#TODO: delete the first 10 files\nfor i in range(10):\n    filename = str(i) +'.txt'\n    os.remove(filename)\n# list the content of `files_exercises`\nprint('Content of \"files_exercises\" after removing the files')\nprint(os.listdir())",
      "execution_count": 16,
      "outputs": [
        {
          "output_type": "stream",
          "text": "Content of \"files_exercises\" before removing the files\n['54.txt', '18.txt', '15.txt', '17.txt', '10.txt', '21.txt', '95.txt', '55.txt', '59.txt', '1.txt', '2.txt', '97.txt', '46.txt', '96.txt', '48.txt', '8.txt', '86.txt', '81.txt', '36.txt', '38.txt', '92.txt', '83.txt', '33.txt', '30.txt', '4.txt', '9.txt', '3.txt', '35.txt', '62.txt', 'dir_2', '31.txt', '23.txt', '5.txt', '25.txt', '37.txt', '72.txt', '68.txt', '66.txt', '56.txt', '71.txt', '60.txt', '78.txt', '26.txt', '53.txt', '93.txt', '41.txt', '20.txt', '89.txt', '67.txt', '88.txt', '14.txt', '42.txt', '75.txt', '94.txt', '84.txt', '19.txt', '76.txt', '79.txt', '6.txt', '40.txt', 'dir_4', '82.txt', '34.txt', '43.txt', '73.txt', '99.txt', '98.txt', '28.txt', '47.txt', '32.txt', '74.txt', 'dir_3', '58.txt', '64.txt', 'dir_1', '90.txt', '7.txt', '85.txt', '87.txt', '52.txt', '16.txt', '77.txt', '27.txt', '57.txt', '63.txt', '70.txt', '44.txt', '11.txt', '39.txt', 'dir_5', '45.txt', '0.txt', '29.txt', '91.txt', '13.txt', '69.txt', '12.txt', '50.txt', '51.txt', '24.txt', '80.txt', '22.txt', '61.txt', '65.txt', '49.txt']\nContent of \"files_exercises\" after removing the files\n['54.txt', '18.txt', '17.txt', '10.txt', '21.txt', '95.txt', '55.txt', '59.txt', '97.txt', '46.txt', '96.txt', '48.txt', '81.txt', '36.txt', '38.txt', '92.txt', '83.txt', '33.txt', '30.txt', '84.txt', '35.txt', '62.txt', 'dir_2', '31.txt', '23.txt', '26.txt', '13.txt', '25.txt', '37.txt', '72.txt', '68.txt', '66.txt', '60.txt', '71.txt', '78.txt', '73.txt', '70.txt', '53.txt', '93.txt', '41.txt', '90.txt', '89.txt', '67.txt', '88.txt', '14.txt', '42.txt', '75.txt', '94.txt', '34.txt', '19.txt', '76.txt', '79.txt', '40.txt', 'dir_4', '82.txt', '56.txt', '43.txt', '99.txt', '98.txt', '28.txt', '47.txt', '32.txt', '74.txt', 'dir_3', '58.txt', '64.txt', 'dir_1', '85.txt', '87.txt', '52.txt', '16.txt', '20.txt', '77.txt', '27.txt', '57.txt', '63.txt', '86.txt', '44.txt', '11.txt', '39.txt', 'dir_5', '15.txt', '29.txt', '91.txt', '45.txt', '69.txt', '12.txt', '50.txt', '51.txt', '24.txt', '80.txt', '22.txt', '61.txt', '65.txt', '49.txt']\n",
          "name": "stdout"
        }
      ]
    },
    {
      "metadata": {},
      "cell_type": "markdown",
      "source": "---\n<font size=\"6\" color=\"#00A0B2\"  face=\"verdana\"> <B>Concepts</B></font>  \n\n\n## Checking File Existence\n\n\n[![view video](https://iajupyterprodblobs.blob.core.windows.net/imagecontainer/common/play_video.png)](https://www.youtube.com/watch?v=PbXCwHKlgCk)\n\nIn the previous section, you deleted a file assuming that it exists and assuming it is actually a file. In reality, these assumptions are not always true and you should consider them when writing programs that deal with files.\n\n#### Removing a file that doesn't exist\nRaises a `FileNotFoundError` exception. \n\n```python\n# Removing a file that does not exist\nfile_path = \"parent_dir/fictitious_file.txt\"\nos.remove(file_path)\n\n-------------------------------------------------------------------------\nFileNotFoundError                       Traceback (most recent call last)\n<ipython-input-8-9e62af9a8388> in <module>()\n      1 # Removing a file that does not exist\n      2 file_path = \"parent_dir/fictitious_file.txt\"\n----> 3 os.remove(file_path)\n\nFileNotFoundError: [Errno 2] No such file or directory: 'parent_dir/fictitious_file.txt'\n```\n\n#### Removing a directory using `os.remove`\nWhen a directory is passed as an argument for `os.remove` a `PermissionError` is raised.\n\n```python\n# Passing a directory path to os.remove\ndir_path = \"parent_dir\"\nos.remove(dir_path)\n\n-------------------------------------------------------------------------\nPermissionError                         Traceback (most recent call last)\n<ipython-input-9-698c1518adf7> in <module>()\n      1 # Passing a directory path to os.remove\n      2 dir_path = \"parent_dir\"\n----> 3 os.remove(dir_path)\n\nPermissionError: [Errno 1] Operation not permitted: 'parent_dir'\n```\n\n### Simple solution\nIn module 1 you were able to check if a path exists using `os.path.exists(path)`; in addition, you were able to figure out if a `path` is a file or directory using `os.path.isfile` and `os.path.isdir` respectively. You can use these functions to test a path and avoid the exceptions above."
    },
    {
      "metadata": {},
      "cell_type": "markdown",
      "source": "---\n<font size=\"6\" color=\"#00A0B2\"  face=\"verdana\"> <B>Examples</B></font>\n"
    },
    {
      "metadata": {
        "trusted": true
      },
      "cell_type": "code",
      "source": "import os.path\n\nfile_path = \"parent_dir/fictitious_file.txt\"\n\n# Removing a file\n\n# Check if the path exists\nif (os.path.exists(file_path)):\n    if (os.path.isfile(file_path)):\n        os.remove(file_path)\n    else:\n        print(\"Cannot remove a directory\")\nelse:\n    print(\"path does not exist\")",
      "execution_count": 17,
      "outputs": [
        {
          "output_type": "stream",
          "text": "path does not exist\n",
          "name": "stdout"
        }
      ]
    },
    {
      "metadata": {
        "trusted": true
      },
      "cell_type": "code",
      "source": "import os.path\n\nfile_path = \"parent_dir\"\n\n# Removing a file\n\n# Check if the path exists\nif (os.path.exists(file_path)):\n    if (os.path.isfile(file_path)):\n        os.remove(file_path)\n    else:\n        print(\"Cannot remove a directory\")\nelse:\n    print(\"path does not exist\")",
      "execution_count": 18,
      "outputs": [
        {
          "output_type": "stream",
          "text": "path does not exist\n",
          "name": "stdout"
        }
      ]
    },
    {
      "metadata": {},
      "cell_type": "markdown",
      "source": "---\n<font size=\"6\" color=\"#B24C00\"  face=\"verdana\"> <B>Task 2</B></font>\n\n## Checking File Existence\n"
    },
    {
      "metadata": {
        "trusted": true
      },
      "cell_type": "code",
      "source": "# [ ] Write a program to delete all the even numbered files inside `files_exercises`\n# Make sure the to run the environment setup code before running your own program.\n\nimport os\n\nif ('files_exercises' not in os.getcwd()):\n    print(\"STOP!!!! Run the environment setup code!\")\n\nfor i in range(100):\n    if (i % 2 == 0):\n        filename = str(i) + '.txt'\n        if (os.path.exists(filename)):\n            os.remove(filename)\n            \nprint(os.listdir())",
      "execution_count": 6,
      "outputs": [
        {
          "output_type": "stream",
          "text": "['17.txt', '21.txt', '95.txt', '55.txt', '59.txt', '97.txt', '81.txt', '83.txt', '33.txt', '35.txt', 'dir_2', '31.txt', '23.txt', '13.txt', '25.txt', '37.txt', '71.txt', '73.txt', '53.txt', '93.txt', '41.txt', '89.txt', '67.txt', '75.txt', '19.txt', '79.txt', 'dir_4', '43.txt', '99.txt', '47.txt', 'dir_3', 'dir_1', '85.txt', '87.txt', '77.txt', '27.txt', '57.txt', '11.txt', '39.txt', 'dir_5', '15.txt', '29.txt', '91.txt', '45.txt', '69.txt', '51.txt', '63.txt', '61.txt', '65.txt', '49.txt']\n",
          "name": "stdout"
        }
      ]
    },
    {
      "metadata": {
        "trusted": true
      },
      "cell_type": "code",
      "source": "# [ ] Write a program to delete all the directories inside `files_exercises`\n# Make sure the to run the environment setup code before running your own program.\n\nimport os\n\nif ('files_exercises' not in os.getcwd()):\n    print(\"STOP!!!! Run the environment setup code!\")\n\nfor i in range(5):\n    dirname = 'dir_' + str(i+1)\n    if (os.path.exists(dirname)):\n        if (os.path.isdir(dirname)):\n            os.rmdir(dirname)\n\nprint(os.listdir())",
      "execution_count": 19,
      "outputs": [
        {
          "output_type": "stream",
          "text": "['54.txt', '18.txt', '17.txt', '10.txt', '21.txt', '95.txt', '55.txt', '59.txt', '97.txt', '46.txt', '96.txt', '48.txt', '80.txt', '81.txt', '36.txt', '38.txt', '92.txt', '83.txt', '33.txt', '30.txt', '76.txt', '84.txt', '35.txt', '62.txt', '31.txt', '23.txt', '26.txt', '13.txt', '25.txt', '37.txt', '72.txt', '68.txt', '66.txt', '60.txt', '71.txt', '78.txt', '73.txt', '70.txt', '53.txt', '93.txt', '41.txt', '90.txt', '89.txt', '67.txt', '88.txt', '14.txt', '42.txt', '75.txt', '94.txt', '34.txt', '19.txt', '79.txt', '40.txt', '82.txt', '56.txt', '43.txt', '99.txt', '98.txt', '28.txt', '47.txt', '32.txt', '74.txt', '58.txt', '64.txt', '85.txt', '87.txt', '52.txt', '16.txt', '20.txt', '77.txt', '27.txt', '57.txt', '86.txt', '44.txt', '11.txt', '39.txt', '15.txt', '29.txt', '91.txt', '45.txt', '69.txt', '12.txt', '50.txt', '51.txt', '24.txt', '63.txt', '22.txt', '61.txt', '65.txt', '49.txt']\n",
          "name": "stdout"
        }
      ]
    },
    {
      "metadata": {
        "trusted": true
      },
      "cell_type": "code",
      "source": "# [ ] Write a program to ask the user for a file number, \n# then delete the file if it exists or display an appropriate error message if it does not.\n# Make sure the to run the environment setup code before running your own program.\n\n# Test your program with the following:\n# case 1: user inputs 84, 84.txt should be deleted\n# case 2: user inputs 84 (again), a File does not exist message is printed\n# case 3: user inputs 5, 5.txt should be deleted\n\nimport os\n\nif ('files_exercises' not in os.getcwd()):\n    print(\"STOP!!!! Run the environment setup code!\")\nfilenum = input(\"Enter a file number: \")\nfile = filenum + '.txt'\n\nif (not os.path.exists(file)):\n    print(\"File doesn't exist!\")\nelse:\n    if (os.path.isfile(file)):\n        os.remove(file)\n        print(file, \" successfully removed!\")\n    else:\n        print(file, \" is a directory!\")\nprint(\"current files/directories are: \\n\", os.listdir())",
      "execution_count": 20,
      "outputs": [
        {
          "output_type": "stream",
          "name": "stdout",
          "text": "Enter a file number: 0\nFile doesn't exist!\ncurrent files/directories are: \n ['54.txt', '18.txt', '17.txt', '10.txt', '21.txt', '95.txt', '55.txt', '59.txt', '97.txt', '46.txt', '96.txt', '48.txt', '80.txt', '81.txt', '36.txt', '38.txt', '92.txt', '83.txt', '33.txt', '30.txt', '76.txt', '84.txt', '35.txt', '62.txt', '31.txt', '23.txt', '26.txt', '13.txt', '25.txt', '37.txt', '72.txt', '68.txt', '66.txt', '60.txt', '71.txt', '78.txt', '73.txt', '70.txt', '53.txt', '93.txt', '41.txt', '90.txt', '89.txt', '67.txt', '88.txt', '14.txt', '42.txt', '75.txt', '94.txt', '34.txt', '19.txt', '79.txt', '40.txt', '82.txt', '56.txt', '43.txt', '99.txt', '98.txt', '28.txt', '47.txt', '32.txt', '74.txt', '58.txt', '64.txt', '85.txt', '87.txt', '52.txt', '16.txt', '20.txt', '77.txt', '27.txt', '57.txt', '86.txt', '44.txt', '11.txt', '39.txt', '15.txt', '29.txt', '91.txt', '45.txt', '69.txt', '12.txt', '50.txt', '51.txt', '24.txt', '63.txt', '22.txt', '61.txt', '65.txt', '49.txt']\n"
        }
      ]
    },
    {
      "metadata": {},
      "cell_type": "markdown",
      "source": "---\n<font size=\"6\" color=\"#00A0B2\"  face=\"verdana\"> <B>Concepts</B></font>  \n\n## Handling File Exceptions\n\n[![view video](https://iajupyterprodblobs.blob.core.windows.net/imagecontainer/common/play_video.png)](https://www.youtube.com/watch?v=E_e8PbgSqYg)\n\nIn the previous example, you anticipated some errors and tried to avoid them by testing that a path exists and whether it is to a file or directory. However, you still assumed the results of these tests are static and won't change while your program is running. This assumption might lead to errors again. For example, say you test for the existence of a file and determine that the file exists at the given path, and right after that another program moves the file; if your program attempts to remove the file, it will raise a `FileNotFoundError` because the file no longer exists in that location. Of course, this is considered an unhandled exception and your program will stop executing and display the error message as before.\n\nPython's philosophy in this case is to deal with these errors as exceptions and handle them using the techniques you saw in a previous lesson. This way, you can also deal with unexpected exceptions."
    },
    {
      "metadata": {},
      "cell_type": "markdown",
      "source": "---\n<font size=\"6\" color=\"#00A0B2\"  face=\"verdana\"> <B>Examples</B></font>\n\nIn these examples we use exception handling to make sure that a file exists and that it is a file."
    },
    {
      "metadata": {
        "trusted": true
      },
      "cell_type": "code",
      "source": "import os.path\n\nfile_path = \"parent_dir/fictitious_file.txt\"\n\n# Remove a file\n\ntry:\n    os.remove(file_path)\nexcept FileNotFoundError as exception_object:\n    print(\"Cannot find file: \", exception_object)\nexcept PermissionError as exception_object:\n    print(\"Cannot delete a directory: \", exception_object)\nexcept Exception as exception_object:\n    print(\"Unexpected exception: \", exception_object)",
      "execution_count": 21,
      "outputs": [
        {
          "output_type": "stream",
          "text": "Cannot find file:  [Errno 2] No such file or directory: 'parent_dir/fictitious_file.txt'\n",
          "name": "stdout"
        }
      ]
    },
    {
      "metadata": {
        "trusted": true
      },
      "cell_type": "code",
      "source": "import os.path\n\nfile_path = \"parent_dir\"\n\n# Remove a file\n\ntry:\n    os.remove(file_path)\nexcept FileNotFoundError as exception_object:\n    print(\"Cannot find file: \", exception_object)\nexcept PermissionError as exception_object:\n    print(\"Cannot delete a directory: \", exception_object)\nexcept Exception as exception_object:\n    print(\"Unexpected exception: \", exception_object)",
      "execution_count": 22,
      "outputs": [
        {
          "output_type": "stream",
          "text": "Cannot find file:  [Errno 2] No such file or directory: 'parent_dir'\n",
          "name": "stdout"
        }
      ]
    },
    {
      "metadata": {},
      "cell_type": "markdown",
      "source": "---\n<font size=\"6\" color=\"#B24C00\"  face=\"verdana\"> <B>Task 3</B></font>\n\n## Handling File Exceptions\n"
    },
    {
      "metadata": {
        "trusted": true
      },
      "cell_type": "code",
      "source": "# [ ] Write a program to ask the user for a file number,\n# then delete the file if it exists or display an appropriate error message if it does not.\n# Use file exception handling instead of file existence tests.\n# Make sure to run the environment setup code before running your own program.\n\n# Test your program with the following:\n# Case 1: When the user inputs 8t4, he program should delete the file 84.txt\n# Case 2: When the user inputs 84 (again), the program should print a File Not Found error message\n# Case 3: When the user inputs 5, the program should delete the file 5.txt\n\nimport os\n\nif ('files_exercises' not in os.getcwd()):\n    print(\"STOP!!!! Run the environment setup code!\")\n\n# TODO: Your code goes here\n\ntry:\n    os.listdir()\n    a = input(\"Input an file number:\")\n    b = a + \".txt\"\n\n    if (not os.path.exists(b)):\n        print(\"File doesn't exist!\")\n    else:\n        if (os.path.isfile(b)):\n            os.remove(b)\n            print(b, \" successfully removed!\")   \n            print(os.listdir())\nexcept FileNotFoundError as exception_object:\n    print(\"Cannot find file:\", exception_object)\nexcept ValueError as exception_object:\n    print(\"Please input a number only next time!!!\")\nexcept PermissionError as exception_object:\n    print(\"cannot delete a directory:\", exception_object)\nexcept Exception as exception_object:\n    print(\"Unexpected exception: \", exception_object)",
      "execution_count": 23,
      "outputs": [
        {
          "output_type": "stream",
          "name": "stdout",
          "text": "Input an file number:0\nFile doesn't exist!\n"
        }
      ]
    },
    {
      "metadata": {},
      "cell_type": "markdown",
      "source": "---\n<font size=\"6\" color=\"#00A0B2\"  face=\"verdana\"> <B>Concepts</B></font>  \n\n\n## `with` Statements\n\n\n[![view video](https://iajupyterprodblobs.blob.core.windows.net/imagecontainer/common/play_video.png)](https://www.youtube.com/watch?v=r0Cw5dyrr_Y)\n\nAfter interacting with a file in Python, it is very important to close the file to ensure that all output is written properly and the resources are freed. Sometimes an exception is raised before reaching the `close()` statement, and the file is kept open. This issue can be resolved by placing the `close()` statement inside a `finally` clause. However, because the process of opening and closing a file is very common, Python provides a succinct `with` statement that performs the same task. The syntax of the `with` statement is:\n\n```python\nwith open(FILE_NAME, MODE) as VARIABLE:\n    code block\n```\n"
    },
    {
      "metadata": {},
      "cell_type": "markdown",
      "source": "---\n<font size=\"6\" color=\"#00A0B2\"  face=\"verdana\"> <B>Examples</B></font>\n\n### Without a `with` statement\nIn this example, you see that the file is still open after the `except` statement because `file.close()` is never reached."
    },
    {
      "metadata": {
        "trusted": true
      },
      "cell_type": "code",
      "source": "file_path = \"parent_dir/text_file.txt\"\n\ntry:\n    file = open(file_path, 'r')\n    x = int(file.readline()) # Raise an exception if lines are not numeric\n    file.close() # Might never be reached if file.write raised an error\nexcept Exception as exception_object:\n    print(\"Unexpected exception:\", exception_object)\n\nprint(\"File is closed?\", file.closed)\n#If an eroor still exist,then change your jupyter kernal to python 3.6.",
      "execution_count": 1,
      "outputs": [
        {
          "output_type": "stream",
          "text": "Unexpected exception: invalid literal for int() with base 10: 'First line in file!\\n'\nFile is closed? False\n",
          "name": "stdout"
        }
      ]
    },
    {
      "metadata": {},
      "cell_type": "markdown",
      "source": "### Using a `finally` statement\nThe `finally` clause will close the file whether an exception was raised or not."
    },
    {
      "metadata": {
        "trusted": true
      },
      "cell_type": "code",
      "source": "file_path = \"parent_dir/text_file.txt\"\n\ntry:\n    file = open(file_path, 'r')\n    x = int(file.readline()) #raise an exception if lines are not numeric\nexcept Exception as exception_object:\n    print(\"Unexpected exception:\", exception_object)\nfinally:\n    file.close() # will be executed whether an exception was raised or not\n\nprint(\"File is closed?\", file.closed)",
      "execution_count": 2,
      "outputs": [
        {
          "output_type": "stream",
          "text": "Unexpected exception: invalid literal for int() with base 10: 'First line in file!\\n'\nFile is closed? True\n",
          "name": "stdout"
        }
      ]
    },
    {
      "metadata": {},
      "cell_type": "markdown",
      "source": "### Using a `with` statement\nYou need not explicitly close the file; the `with` statement will do it for you."
    },
    {
      "metadata": {
        "trusted": true
      },
      "cell_type": "code",
      "source": "file_path = \"parent_dir/text_file.txt\"\n\ntry:\n    with open(file_path, 'r') as file:\n        x = int(file.readline()) #raise an exception if lines are not numeric\nexcept Exception as exception_object:\n    print(\"Unexpected exception\", exception_object)\n\nprint(\"File is closed?\", file.closed)",
      "execution_count": 2,
      "outputs": [
        {
          "output_type": "stream",
          "text": "Unexpected exception invalid literal for int() with base 10: 'First line in file!\\n'\nFile is closed? True\n",
          "name": "stdout"
        }
      ]
    },
    {
      "metadata": {},
      "cell_type": "markdown",
      "source": "---\n<font size=\"6\" color=\"#B24C00\"  face=\"verdana\"> <B>Task 4</B></font>\n\n## `with` Statements"
    },
    {
      "metadata": {
        "trusted": true
      },
      "cell_type": "code",
      "source": "# [ ] Write a program to print the first line of every file inside `files_exercises`\n# Use a `with` statement to open (and close) every file\n# Make sure the to run the environment setup code before running your own program.\n\nimport os\n\nif ('files_exercises' not in os.getcwd()):\n    print(\"STOP!!!! Run the environment setup code!\")\n\nprint(os.listdir())\n\n\nfor i in range(10,100):\n    file = str(i) +'.txt'\n    with open(file, 'r') as content:\n        print(\"file {0:d}.txt: {1:s}\".format(i, content.read()))",
      "execution_count": 26,
      "outputs": [
        {
          "output_type": "stream",
          "text": "['54.txt', '18.txt', '17.txt', '10.txt', '21.txt', '95.txt', '55.txt', '59.txt', '97.txt', '46.txt', '96.txt', '48.txt', '80.txt', '81.txt', '36.txt', '38.txt', '92.txt', '83.txt', '33.txt', '30.txt', '76.txt', '84.txt', '35.txt', '62.txt', '31.txt', '23.txt', '26.txt', '13.txt', '25.txt', '37.txt', '72.txt', '68.txt', '66.txt', '60.txt', '71.txt', '78.txt', '73.txt', '70.txt', '53.txt', '93.txt', '41.txt', '90.txt', '89.txt', '67.txt', '88.txt', '14.txt', '42.txt', '75.txt', '94.txt', '34.txt', '19.txt', '79.txt', '40.txt', '82.txt', '56.txt', '43.txt', '99.txt', '98.txt', '28.txt', '47.txt', '32.txt', '74.txt', '58.txt', '64.txt', '85.txt', '87.txt', '52.txt', '16.txt', '20.txt', '77.txt', '27.txt', '57.txt', '86.txt', '44.txt', '11.txt', '39.txt', '15.txt', '29.txt', '91.txt', '45.txt', '69.txt', '12.txt', '50.txt', '51.txt', '24.txt', '63.txt', '22.txt', '61.txt', '65.txt', '49.txt']\nfile 10.txt: 1591\nfile 11.txt: 9749\nfile 12.txt: 3313\nfile 13.txt: 6148\nfile 14.txt: 3691\nfile 15.txt: 5058\nfile 16.txt: 3570\nfile 17.txt: 4499\nfile 18.txt: 3345\nfile 19.txt: 5229\nfile 20.txt: 2769\nfile 21.txt: 9287\nfile 22.txt: 2317\nfile 23.txt: 3747\nfile 24.txt: 7888\nfile 25.txt: 2531\nfile 26.txt: 6845\nfile 27.txt: 2177\nfile 28.txt: 2580\nfile 29.txt: 9907\nfile 30.txt: 2300\nfile 31.txt: 2774\nfile 32.txt: 2287\nfile 33.txt: 1159\nfile 34.txt: 5908\nfile 35.txt: 9528\nfile 36.txt: 5653\nfile 37.txt: 4769\nfile 38.txt: 3245\nfile 39.txt: 8295\nfile 40.txt: 3909\nfile 41.txt: 4631\nfile 42.txt: 9805\nfile 43.txt: 1163\nfile 44.txt: 9873\nfile 45.txt: 1358\nfile 46.txt: 3762\nfile 47.txt: 5948\nfile 48.txt: 6433\nfile 49.txt: 4626\nfile 50.txt: 9083\nfile 51.txt: 5436\nfile 52.txt: 1053\nfile 53.txt: 9449\nfile 54.txt: 1587\nfile 55.txt: 2853\nfile 56.txt: 2344\nfile 57.txt: 9496\nfile 58.txt: 3204\nfile 59.txt: 3678\nfile 60.txt: 7957\nfile 61.txt: 4112\nfile 62.txt: 1441\nfile 63.txt: 3944\nfile 64.txt: 7415\nfile 65.txt: 1248\nfile 66.txt: 6028\nfile 67.txt: 9330\nfile 68.txt: 9459\nfile 69.txt: 5154\nfile 70.txt: 9358\nfile 71.txt: 6153\nfile 72.txt: 3353\nfile 73.txt: 6279\nfile 74.txt: 3932\nfile 75.txt: 1193\nfile 76.txt: 8426\nfile 77.txt: 2352\nfile 78.txt: 9923\nfile 79.txt: 7865\nfile 80.txt: 6921\nfile 81.txt: 2913\nfile 82.txt: 1121\nfile 83.txt: 2542\nfile 84.txt: 4736\nfile 85.txt: 3447\nfile 86.txt: 3178\nfile 87.txt: 9846\nfile 88.txt: 1525\nfile 89.txt: 5657\nfile 90.txt: 1574\nfile 91.txt: 8967\nfile 92.txt: 7361\nfile 93.txt: 4912\nfile 94.txt: 5433\nfile 95.txt: 8301\nfile 96.txt: 1095\nfile 97.txt: 7586\nfile 98.txt: 9524\nfile 99.txt: 5396\n",
          "name": "stdout"
        }
      ]
    }
  ],
  "metadata": {
    "kernelspec": {
      "name": "python3",
      "display_name": "Python 3",
      "language": "python"
    },
    "language_info": {
      "mimetype": "text/x-python",
      "nbconvert_exporter": "python",
      "name": "python",
      "pygments_lexer": "ipython3",
      "version": "3.5.4",
      "file_extension": ".py",
      "codemirror_mode": {
        "version": 3,
        "name": "ipython"
      }
    }
  },
  "nbformat": 4,
  "nbformat_minor": 2
}