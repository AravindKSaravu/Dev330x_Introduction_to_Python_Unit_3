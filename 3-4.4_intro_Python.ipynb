{
  "cells": [
    {
      "metadata": {},
      "cell_type": "markdown",
      "source": "# Section 4.4: Documenting Functions (`pydoc`)\n* pydoc\n\n### Students will be able to:\n* Use pydoc to generate text documentation\n* Use pydoc to generate HTML documentation"
    },
    {
      "metadata": {},
      "cell_type": "markdown",
      "source": "---\n<font size=\"6\" color=\"#00A0B2\"  face=\"verdana\"> <B>Concepts</B></font>  \n\n\n## Generating Documentation by Using `pydoc`\n\n[![view video](https://iajupyterprodblobs.blob.core.windows.net/imagecontainer/common/play_video.png)](https://www.youtube.com/watch?v=wo8V_Wj-gCg)\n\n`pydoc` is a Python module that can automatically generate documentation using the docstrings in a module. It imports the module to generate its documentation; therefore, you should always use `__name__ == \"__main__\"` to suppress any function from running when the documentation is being generated. The output of `pydoc` can be in text format or HTML format. \n\nTo generate text documentation for a module contained in `test.py`, run the following command:\n\n```bash\npydoc test\n```\n\nTo generate HTML documentation for `test.py`, run the command with the `-w` flag as follows:\n\n```bash\npydoc -w test\n```"
    },
    {
      "metadata": {},
      "cell_type": "markdown",
      "source": "---\n<font size=\"6\" color=\"#00A0B2\"  face=\"verdana\"> <B>Examples</B></font>\n"
    },
    {
      "metadata": {
        "trusted": true
      },
      "cell_type": "code",
      "source": "%cd command_line/",
      "execution_count": 1,
      "outputs": [
        {
          "output_type": "stream",
          "text": "/home/nbuser/library/command_line\n",
          "name": "stdout"
        }
      ]
    },
    {
      "metadata": {},
      "cell_type": "markdown",
      "source": "## Converting Celsius to Fahrenheit"
    },
    {
      "metadata": {
        "trusted": true
      },
      "cell_type": "code",
      "source": "%%writefile c2f.py\n\ndef C2F(degrees_celsius):\n    \"\"\" Convert Celsius to Fahrenheit\"\"\"\n    return degrees_celsius * (9/5) + 32\n\nprint(\"Accessing docstrings using __doc__:\\n\")\nprint(C2F.__doc__)",
      "execution_count": 2,
      "outputs": [
        {
          "output_type": "stream",
          "text": "Writing c2f.py\n",
          "name": "stdout"
        }
      ]
    },
    {
      "metadata": {},
      "cell_type": "markdown",
      "source": "Running `pydoc` in the terminal generates:"
    },
    {
      "metadata": {
        "trusted": true
      },
      "cell_type": "code",
      "source": "%%bash\n\npydoc c2f",
      "execution_count": 3,
      "outputs": [
        {
          "output_type": "stream",
          "text": "Accessing docstrings using __doc__:\n\n Convert Celsius to Fahrenheit\nHelp on module c2f:\n\nNAME\n    c2f\n\nFUNCTIONS\n    C2F(degrees_celsius)\n        Convert Celsius to Fahrenheit\n\nFILE\n    /home/nbuser/library/command_line/c2f.py\n\n\n",
          "name": "stdout"
        }
      ]
    },
    {
      "metadata": {},
      "cell_type": "markdown",
      "source": "## Converting Kilograms (kg) to Pounds (lb)"
    },
    {
      "metadata": {
        "trusted": true
      },
      "cell_type": "code",
      "source": "%%writefile kg2lb.py\n\ndef kg2lb(kilograms):\n    \"\"\"\n    Convert kilograms to pounds\n    \n    args:\n        kilograms: float weight in kg \n    \n    returns:\n        pounds: float weight in lb\n    \"\"\"\n    \n    pounds = kilograms * 2.20462262185\n    return pounds\n\nif __name__ == \"__main__\":\n    pass",
      "execution_count": 4,
      "outputs": [
        {
          "output_type": "stream",
          "text": "Writing kg2lb.py\n",
          "name": "stdout"
        }
      ]
    },
    {
      "metadata": {},
      "cell_type": "markdown",
      "source": "Running `pydoc` in the terminal generates:"
    },
    {
      "metadata": {
        "trusted": true
      },
      "cell_type": "code",
      "source": "%%bash\n\npydoc kg2lb",
      "execution_count": 5,
      "outputs": [
        {
          "output_type": "stream",
          "text": "Help on module kg2lb:\n\nNAME\n    kg2lb\n\nFUNCTIONS\n    kg2lb(kilograms)\n        Convert kilograms to pounds\n        \n        args:\n            kilograms: float weight in kg \n        \n        returns:\n            pounds: float weight in lb\n\nFILE\n    /home/nbuser/library/command_line/kg2lb.py\n\n\n",
          "name": "stdout"
        }
      ]
    },
    {
      "metadata": {
        "collapsed": true
      },
      "cell_type": "markdown",
      "source": "---\n<font size=\"6\" color=\"#B24C00\"  face=\"verdana\"> <B>Task 1</B></font>\n\n## Generating Documentation by Using `pydoc`"
    },
    {
      "metadata": {},
      "cell_type": "markdown",
      "source": "The following program is the currency converter from a previous task. Generate the text documentation.\n\nNOTE: You do not need to complete the function's code to generate the documentation pages."
    },
    {
      "metadata": {
        "trusted": true
      },
      "cell_type": "code",
      "source": "%%writefile currency_converter.py\n\n\ndef USD2EUR(amount):\n    \"\"\"\n    Convert amount from US Dollars to Euros.\n\n    Use 1 USD = 0.831467 EUR\n\n    args:\n        amount: US dollar amount (float)\n\n    returns:\n        value: the equivalent of amount in Euros (float)\n    \"\"\"\n    # TODO: Your code goes here\n    value = amount * 0.831467\n    return value\n\n\ndef EUR2GBP(amount):\n    \"\"\"\n    Convert amount from Euros to British Pounds.\n\n    Use 1 EUR = 0.889358 GBP\n\n    args:\n        amount: Euros amount (float)\n\n    returns:\n        value: the equivalent of amount in GBP (float)\n    \"\"\"\n    # TODO: Your code goes here\n    value = amount * 0.889358\n    return value\n\n\ndef USD2GBP(amount):\n    value = EUR2GBP(amount)\n    \"\"\"\n    Convert amount from US Dollars to British Pounds.\n\n    The conversion rate is unknown, you have to use USD2EUR and EUR2GBP\n\n    args:\n        amount: US dollar amount (float)\n\n    returns:\n        value: the equivalent of amount in British Pounds (float)\n    \"\"\"\n    # TODO: Your code goes here\n\n    return value\n\n\ndef main():\n    amount = float(input(\"Enter amount in USD: $\"))\n\n    # In British Pounds\n    gbp = USD2GBP(amount)\n\n    print(\"${:.2f} USD = {:.2f} GBP\".format(amount, gbp))\n\n\nif __name__ == '__main__':\n    main()",
      "execution_count": 13,
      "outputs": [
        {
          "output_type": "stream",
          "text": "Writing currency_converter.py\n",
          "name": "stdout"
        }
      ]
    },
    {
      "metadata": {
        "trusted": true
      },
      "cell_type": "code",
      "source": "%%bash\n\npydoc currency_converter",
      "execution_count": 14,
      "outputs": [
        {
          "output_type": "stream",
          "text": "Help on module currency_converter:\n\nNAME\n    currency_converter\n\nFUNCTIONS\n    EUR2GBP(amount)\n        Convert amount from Euros to British Pounds.\n        \n        Use 1 EUR = 0.889358 GBP\n        \n        args:\n            amount: Euros amount (float)\n        \n        returns:\n            value: the equivalent of amount in GBP (float)\n    \n    USD2EUR(amount)\n        Convert amount from US Dollars to Euros.\n        \n        Use 1 USD = 0.831467 EUR\n        \n        args:\n            amount: US dollar amount (float)\n        \n        returns:\n            value: the equivalent of amount in Euros (float)\n    \n    USD2GBP(amount)\n    \n    main()\n\nFILE\n    /home/nbuser/library/command_line/currency_converter.py\n\n\n",
          "name": "stdout"
        }
      ]
    }
  ],
  "metadata": {
    "kernelspec": {
      "name": "python3",
      "display_name": "Python 3",
      "language": "python"
    },
    "language_info": {
      "mimetype": "text/x-python",
      "nbconvert_exporter": "python",
      "name": "python",
      "file_extension": ".py",
      "version": "3.5.4",
      "pygments_lexer": "ipython3",
      "codemirror_mode": {
        "version": 3,
        "name": "ipython"
      }
    }
  },
  "nbformat": 4,
  "nbformat_minor": 2
}