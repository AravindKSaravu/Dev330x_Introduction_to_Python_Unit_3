{
  "cells": [
    {
      "metadata": {},
      "cell_type": "markdown",
      "source": "# Section 2.1: Boolean Expressions and Compound Conditionals\n* and, or, not\n* if\n\n### Students will be able to: \n* Describe the fundamental Boolean operators (and, or, not)\n* Use Boolean operators to combine comparisons\n* Recognize that different Boolean expressions can yield equal results\n* Employ combined comparisons to control program flow (i.e. `if` statements)\n"
    },
    {
      "metadata": {},
      "cell_type": "markdown",
      "source": "---\n<font size=\"6\" color=\"#00A0B2\"  face=\"verdana\"> <B>Concepts</B></font>  \n\n\n## Boolean Operators\n\n[![view video](https://iajupyterprodblobs.blob.core.windows.net/imagecontainer/common/play_video.png)](https://www.youtube.com/watch?v=4VYGElXvaD0)\n\n#### `bool` data type\nAdding two numbers in Python results in another number; however, if two numbers were compared (i.e. to test for equality), the result would be of Boolean (`bool`) type. Unlike `int` and `float`, which can take many values, `bool` has only two values `True` and `False`. \n\n```python\nIn [1]: 5 == 6\nOut[1]: False\n\nIn [2]: 5 <= 6\nOut[2]: True\n```\n\nComparing `string` variables or numerical variables is performed using relational operators, the following table lists the relational operators supported in Python\n\n| Operator | Description |\n|----------|-------------|\n| < | Less than|\n| <=| Less than or equal to|\n| > | Greater than|\n| >= | Greater than or equal to|\n| == | Equal to|\n|!= | Not equal to|\n\n#### Fundamental `bool` operators\nIn addition to supporting numerical operators (+, -, &times; ...), Python also supports Boolean operators. The three basic Boolean operators are: `not`, `and`, `or`.\n\n##### `not`\nIs a unary operator; it operates on one variable (operand) by negating it. The following truth table shows the result of negating a `bool` variable `B`.\n\n|`B`|`not B`|\n|---|-------|\n|False| True|\n|True|False|\n\n##### `and`\nIs a binary operator; it operates on two variables (operands). It produces `True` when both variables are `True` and produces `False` otherwise. The following truth table shows the effect of the `and` operator on combining `A` and `B`.\n\n|`A`|`B`|`A and B`|\n|---|---|---------|\n|False|False|False|\n|False|True|False|\n|True|False|False|\n|True|True|True|\n\n##### `or`\nIs a binary operator; it operates on two variables (operands). It produces `True` if either (or both) of the variables is `True` and produces `False` otherwise. The following truth table shows the effect of `or` on combining `A` and `B`.\n\n|`A`|`B`|`A or B`|\n|---|---|---------|\n|False|False|False|\n|False|True|True|\n|True|False|True|\n|True|True|True|\n\nThese operators are typically used to combine relational expressions rather than the constants `True` and `False`. This will allow you to construct more powerful conditional statements (i.e. `if` statements).\n\nNOTE: `not` has the highest precedence, followed by `and`, then `or`. Similar to arithmetic operators, you can control the precedence using the parentheses operator `()` to group relational expressions."
    },
    {
      "metadata": {},
      "cell_type": "markdown",
      "source": "---\n<font size=\"6\" color=\"#00A0B2\"  face=\"verdana\"> <B>Examples</B></font>\n\n### not"
    },
    {
      "metadata": {
        "trusted": true
      },
      "cell_type": "code",
      "source": "# not operator\nprint(\"not True = \", not True)\nprint(\"not False = \", not False)",
      "execution_count": 1,
      "outputs": [
        {
          "output_type": "stream",
          "text": "not True =  False\nnot False =  True\n",
          "name": "stdout"
        }
      ]
    },
    {
      "metadata": {},
      "cell_type": "markdown",
      "source": "### `and`"
    },
    {
      "metadata": {
        "trusted": true
      },
      "cell_type": "code",
      "source": "# and operator\nprint(\"False and False = \", False and False)\nprint(\"False and True = \", False and True)\nprint(\"True and False = \", True and False)\nprint(\"True and True = \", True and True)",
      "execution_count": 2,
      "outputs": [
        {
          "output_type": "stream",
          "text": "False and False =  False\nFalse and True =  False\nTrue and False =  False\nTrue and True =  True\n",
          "name": "stdout"
        }
      ]
    },
    {
      "metadata": {},
      "cell_type": "markdown",
      "source": "### `or`"
    },
    {
      "metadata": {
        "trusted": true
      },
      "cell_type": "code",
      "source": "# or operator\nprint(\"False or False = \", False or False)\nprint(\"False or True = \", False or True)\nprint(\"True or False = \", True or False)\nprint(\"True or True = \", True or True)",
      "execution_count": 3,
      "outputs": [
        {
          "output_type": "stream",
          "text": "False or False =  False\nFalse or True =  True\nTrue or False =  True\nTrue or True =  True\n",
          "name": "stdout"
        }
      ]
    },
    {
      "metadata": {},
      "cell_type": "markdown",
      "source": "### Combining operators"
    },
    {
      "metadata": {
        "trusted": true
      },
      "cell_type": "code",
      "source": "print(\"True and not False =\", True and not False)\nprint(\"False or not True = \", False or not True)",
      "execution_count": 4,
      "outputs": [
        {
          "output_type": "stream",
          "text": "True and not False = True\nFalse or not True =  False\n",
          "name": "stdout"
        }
      ]
    },
    {
      "metadata": {},
      "cell_type": "markdown",
      "source": "---\n<font size=\"6\" color=\"#B24C00\"  face=\"verdana\"> <B>Task 1</B></font>\n\n## Boolean Operators"
    },
    {
      "metadata": {},
      "cell_type": "markdown",
      "source": "### Boolean values (`True`, `False`)"
    },
    {
      "metadata": {
        "trusted": true
      },
      "cell_type": "code",
      "source": "# [ ] Use relational and/or arithmetic operators with the variables x and y to write:\n# 3 expressions that evaluate to True (i.e. x >= y)\n# 3 expressions that evaluate to False (i.e. x <= y)\n\nx = 84\ny = 17\nprint(x>=y or x==y and x!=y)\nprint(x<y and x!= y or x==y)",
      "execution_count": 6,
      "outputs": [
        {
          "output_type": "stream",
          "text": "True\nFalse\n",
          "name": "stdout"
        }
      ]
    },
    {
      "metadata": {},
      "cell_type": "markdown",
      "source": "### Boolean operators (`not`, `and`, `or`)"
    },
    {
      "metadata": {
        "trusted": true
      },
      "cell_type": "code",
      "source": "# [ ] Use the basic Boolean operators with the variables x and y to write:\n# 3 expressions that evaluate to True (i.e. not y)\n# 3 expressions that evaluate to False (i.e. x and y)\n\nx = True\ny = False\n\nprint(x and not x or not y)\nprint(x and y or y )",
      "execution_count": 5,
      "outputs": [
        {
          "output_type": "stream",
          "text": "True\nFalse\n",
          "name": "stdout"
        }
      ]
    },
    {
      "metadata": {},
      "cell_type": "markdown",
      "source": "---\n<font size=\"6\" color=\"#00A0B2\"  face=\"verdana\"> <B>Concepts</B></font>  \n\n\n## Combining Comparisons\n\n[![view video](https://iajupyterprodblobs.blob.core.windows.net/imagecontainer/common/play_video.png)](https://www.youtube.com/watch?v=cKuGBIgyhsE)\n\nThe basic `bool` operators can be used to combine multiple relational tests. For example, say you want to test whether a variable `x` contains a number within a certain range (i.e. 10 &leq; x &leq; 20). You can perform this test, by checking whether the number is greater than or equal to 10 and whether the number is less than or equal to 20.\n\n```python\nIn [1]: x = 11\nIn [2]: (x >= 10) and (x <= 20)\nOut[2]: True\n\nIn [3]: x = 9\nIn [4]: (x >= 10) and (x <= 20)\nOut[4]: False\n```\n\nThe relational tests need not be numerical. For example, you can test whether a variable `c` contains a capital letter (i.e. 'A' &leq; c &leq; 'Z').\n\n```python\nIn [1]: c = 'N'\nIn [2]: (c >= 'A') and (c <= 'Z')\nOut[2]: True\n\nIn [3]: c = 'n'\nIn [4]: (c >= 'A') and (c <= 'Z')\nOut[4]: False\n```"
    },
    {
      "metadata": {},
      "cell_type": "markdown",
      "source": "---\n<font size=\"6\" color=\"#00A0B2\"  face=\"verdana\"> <B>Examples</B></font>\n\n### Testing whether a number is outside a range\n"
    },
    {
      "metadata": {
        "trusted": true
      },
      "cell_type": "code",
      "source": "# Testing if x is outside the range [10, 20]\n\nx = 11\n(x < 10) or (x > 20)\n",
      "execution_count": 7,
      "outputs": [
        {
          "output_type": "execute_result",
          "execution_count": 7,
          "data": {
            "text/plain": "False"
          },
          "metadata": {}
        }
      ]
    },
    {
      "metadata": {
        "trusted": true
      },
      "cell_type": "code",
      "source": "# Testing if x is outside the range [10, 20]\n\nx = 50\n(x < 10) or (x > 20)\n",
      "execution_count": 8,
      "outputs": [
        {
          "output_type": "execute_result",
          "execution_count": 8,
          "data": {
            "text/plain": "True"
          },
          "metadata": {}
        }
      ]
    },
    {
      "metadata": {},
      "cell_type": "markdown",
      "source": "### Testing whether a number is positive and odd\nYou can combine relational operators, arithmetic operators, and Boolean operators to generate powerful Boolean expressions. In this example, you will test whether a number is both positive and odd."
    },
    {
      "metadata": {
        "trusted": true
      },
      "cell_type": "code",
      "source": "# Testing if x is a positive and odd number\n\nx = 11\n(x > 0) and (x % 2 != 0)",
      "execution_count": 9,
      "outputs": [
        {
          "output_type": "execute_result",
          "execution_count": 9,
          "data": {
            "text/plain": "True"
          },
          "metadata": {}
        }
      ]
    },
    {
      "metadata": {
        "trusted": true
      },
      "cell_type": "code",
      "source": "# Testing if x is a positive and odd number\n\nx = -11\n(x > 0) and (x % 2 != 0)",
      "execution_count": 10,
      "outputs": [
        {
          "output_type": "execute_result",
          "execution_count": 10,
          "data": {
            "text/plain": "False"
          },
          "metadata": {}
        }
      ]
    },
    {
      "metadata": {
        "trusted": true
      },
      "cell_type": "code",
      "source": "# Testing if x is a positive and odd number\n\nx = 22\n(x > 0) and (x % 2 != 0)",
      "execution_count": 11,
      "outputs": [
        {
          "output_type": "execute_result",
          "execution_count": 11,
          "data": {
            "text/plain": "False"
          },
          "metadata": {}
        }
      ]
    },
    {
      "metadata": {},
      "cell_type": "markdown",
      "source": "### Testing using 2 different variables\nYou can combine Boolean expressions of different variables. In this example, you will test whether a driver's name starts with the letter `C` and she is 18 years or younger."
    },
    {
      "metadata": {
        "trusted": true
      },
      "cell_type": "code",
      "source": "# Driver information\nname = 'Colette'\nage = 17\n\n# Testing if name starts with `C` and the age is 18 or less\n(name.startswith('C')) and (age <= 18)",
      "execution_count": 12,
      "outputs": [
        {
          "output_type": "execute_result",
          "execution_count": 12,
          "data": {
            "text/plain": "True"
          },
          "metadata": {}
        }
      ]
    },
    {
      "metadata": {
        "trusted": true
      },
      "cell_type": "code",
      "source": "# Driver information\nname = 'John'\nage = 17\n\n# Testing if name starts with `C` and the age is 18 or less\n(name.startswith('C')) and (age <= 18)",
      "execution_count": 13,
      "outputs": [
        {
          "output_type": "execute_result",
          "execution_count": 13,
          "data": {
            "text/plain": "False"
          },
          "metadata": {}
        }
      ]
    },
    {
      "metadata": {},
      "cell_type": "markdown",
      "source": "---\n<font size=\"6\" color=\"#B24C00\"  face=\"verdana\"> <B>Task 2</B></font>\n\n## Combining Comparisons"
    },
    {
      "metadata": {
        "trusted": true
      },
      "cell_type": "code",
      "source": "# [ ] Write an expression to test if x is an even number outside the range [-100, 100]\nx = input(\"Enter a Integer:\")\n# Test your expression with:\n# x = 104 (True)\n# x = 115 (False)\n# x = -106 (True)\n# x = -99 (False)\nprint(int(x) % 2 == 0 and x.isdigit())\n\n",
      "execution_count": 3,
      "outputs": [
        {
          "output_type": "stream",
          "name": "stdout",
          "text": "Enter a Integer:5\nFalse\n"
        }
      ]
    },
    {
      "metadata": {
        "collapsed": true,
        "trusted": false
      },
      "cell_type": "code",
      "source": "# [ ] Write an expression to test if a string s starts and ends with a capital letter\n# HINT: You might find the function `str.isupper()` useful\n\n# Test your expression with\n# s = \"CapitaL\" (True)\n# s = \"Not Capital\" (False)\n\n\n# With lowercase 's'\nstr = \"s\"\nprint(str.capitalize() and str.endswith(str.upper()))\n# With Capital 'S'\nstr = \"S\"\nprint(str.capitalize() and str.endswith(str.upper()))",
      "execution_count": null,
      "outputs": []
    },
    {
      "metadata": {
        "collapsed": true,
        "trusted": false
      },
      "cell_type": "code",
      "source": "# [ ] Write an expression to test if a string s contains a numerical value\n# then test if the value is greater than the value stored in x\n# HINT: Use the functions `s.isnumeric()` and `float(s)`\n\n# Test your expression with\n# s = \"39\"\n# x = 24\n# Expression should yield True\n\n# s = \"a39\"\n# x = 24\n# Expression should yield False\n\n# Case 1\ns = \"39\"\nx = 24\nprint(s.isnumeric() and float(s)>x)\n\n\n# Case 2\ns = \"a39\"\nx = 24\nprint(s.isnumeric() and float(s)>x)\n",
      "execution_count": null,
      "outputs": []
    },
    {
      "metadata": {},
      "cell_type": "markdown",
      "source": "---\n<font size=\"6\" color=\"#00A0B2\"  face=\"verdana\"> <B>Concepts</B></font>  \n\n\n## Boolean Expressions Equality\n\n[![view video](https://iajupyterprodblobs.blob.core.windows.net/imagecontainer/common/play_video.png)](https://www.youtube.com/watch?v=NTXm_Ovq0xI)\n\nIt is possible to write two (or more) different Boolean expressions that yield the same results. Let's revisit the example testing whether x is within the range [10, 20]."
    },
    {
      "metadata": {},
      "cell_type": "markdown",
      "source": "---\n<font size=\"6\" color=\"#00A0B2\"  face=\"verdana\"> <B>Examples</B></font>\n\n### Expression 1: Test whether `x` is within [10, 20]"
    },
    {
      "metadata": {
        "trusted": true
      },
      "cell_type": "code",
      "source": "x = 11\n(x >= 10) and (x <= 20)",
      "execution_count": 1,
      "outputs": [
        {
          "output_type": "execute_result",
          "execution_count": 1,
          "data": {
            "text/plain": "True"
          },
          "metadata": {}
        }
      ]
    },
    {
      "metadata": {
        "trusted": true
      },
      "cell_type": "code",
      "source": "x = 30\n(x >= 10) and (x <= 20)",
      "execution_count": 2,
      "outputs": [
        {
          "output_type": "execute_result",
          "execution_count": 2,
          "data": {
            "text/plain": "False"
          },
          "metadata": {}
        }
      ]
    },
    {
      "metadata": {},
      "cell_type": "markdown",
      "source": "### Expression 2: Test whether `x` is within [10, 20]"
    },
    {
      "metadata": {
        "trusted": true
      },
      "cell_type": "code",
      "source": "x = 11\nnot((x < 10) or (x > 20))",
      "execution_count": 4,
      "outputs": [
        {
          "output_type": "execute_result",
          "execution_count": 4,
          "data": {
            "text/plain": "True"
          },
          "metadata": {}
        }
      ]
    },
    {
      "metadata": {
        "trusted": true
      },
      "cell_type": "code",
      "source": "x = 30\nnot((x < 10) or (x > 20))",
      "execution_count": 5,
      "outputs": [
        {
          "output_type": "execute_result",
          "execution_count": 5,
          "data": {
            "text/plain": "False"
          },
          "metadata": {}
        }
      ]
    },
    {
      "metadata": {},
      "cell_type": "markdown",
      "source": "---\n<font size=\"6\" color=\"#B24C00\"  face=\"verdana\"> <B>Task 3</B></font>\n\n## Boolean Expressions Equality"
    },
    {
      "metadata": {
        "collapsed": true,
        "trusted": false
      },
      "cell_type": "code",
      "source": "# [ ] Write an expression equivalent to the one below\n# to test if x is outside the range [10, 20] (seen in a previous example)\n\n# (x < 10) or (x > 20)\n\n# Test your expression with\n# x = 11 (False)\n# x = 50 (True)\nx = 11\nprint(not ((x > 10) or (x > 20)))\n\nx = 50\nprint((x > 10) or (x > 20))",
      "execution_count": null,
      "outputs": []
    },
    {
      "metadata": {
        "collapsed": true,
        "trusted": false
      },
      "cell_type": "code",
      "source": "# [ ] Write a second expression to test if x is an even number outside the range [-100, 100]\n# Do NOT use the expression you wrote for a previous exercise\n\n# Test your expression with:\n# x = 104 (True)\n# x = 115 (False)\n# x = -106 (True)\n# x = -99 (False)\n\nx = 104\nprint(x not in range(-100,100) and x%2 == 0)\nx = 115\nprint(x not in range(-100,100) and x%2 == 0)\nx = -106\nprint(x not in range(-100,100) and x%2 == 0)\nx = -99\nprint(x not in range(-100,100) and x%2 == 0)\n",
      "execution_count": null,
      "outputs": []
    },
    {
      "metadata": {},
      "cell_type": "markdown",
      "source": "---\n<font size=\"6\" color=\"#00A0B2\"  face=\"verdana\"> <B>Concepts</B></font>  \n\n\n## Compound Conditionals\n\n[![view video](https://iajupyterprodblobs.blob.core.windows.net/imagecontainer/common/play_video.png)](https://www.youtube.com/watch?v=H0Htg7SGaSI)\n\n\nCombined Boolean expressions can be used within the testing conditions of `if` and `elif` statements. This will let you write compound conditionals and give you fine control over the program flow. For example, you can test the validity of user input against several combined conditions. Similarly, you can also check the content of a variable against multiple ranges."
    },
    {
      "metadata": {},
      "cell_type": "markdown",
      "source": "---\n<font size=\"6\" color=\"#00A0B2\"  face=\"verdana\"> <B>Examples</B></font>\n\n### Testing validity of user input"
    },
    {
      "metadata": {
        "trusted": true
      },
      "cell_type": "code",
      "source": "# Solicit user input\nx = input(\"Enter an odd positive number: \")\n\n# Convert the string input into int\nx = int(x)\n\n# Test number for validity\nif ((x > 0) and (x % 2 != 0)):\n    print(x, \"is a valid number\")\nelse:\n    print(x, \"is NOT a valid number\")",
      "execution_count": 6,
      "outputs": [
        {
          "output_type": "stream",
          "name": "stdout",
          "text": "Enter an odd positive number: 6\n6 is NOT a valid number\n"
        }
      ]
    },
    {
      "metadata": {},
      "cell_type": "markdown",
      "source": "### Testing inclusion in a range"
    },
    {
      "metadata": {
        "trusted": true
      },
      "cell_type": "code",
      "source": "# Solicit user input\ny = input(\"Enter your birth year: \")\n\n# Convert the string input into int\ny = int(y)\n\n# Check the decade membership\nif (y < 1970):\n    print(\"You were born before 1970!\")\nelif (y >= 1970 and y < 1980):\n    print(\"You were born in the 70s!\")\nelif (y >= 1980 and y < 1990):\n    print(\"You were born in the 80s!\")\nelif (y >= 1990 and y < 2000):\n    print(\"You were born in the 90s!\")\nelif (y >= 2000 and y < 2010):\n    print(\"You were born in early 2000s!\")\nelse:\n    print(\"You were born in the current decade!\")",
      "execution_count": 10,
      "outputs": [
        {
          "output_type": "stream",
          "name": "stdout",
          "text": "Enter your birth year: 2021\nYou were born in the current decade!\n"
        }
      ]
    },
    {
      "metadata": {},
      "cell_type": "markdown",
      "source": "---\n<font size=\"6\" color=\"#B24C00\"  face=\"verdana\"> <B>Task 4</B></font>\n\n## Compound Conditionals"
    },
    {
      "metadata": {
        "trusted": true
      },
      "cell_type": "code",
      "source": "# [ ] Write a program to validate that user input is outside the range [0, 100]\nnumber = input(\"Input an number outside (0,100):\")\nif int(number) not in range(0,100) and number.isnumeric():\n    print(\"Good!Number is not in range of 0,100 and is a numeric!\")\nelse:\n    print(\"Sorry!Number is in range of 0,100 or is not a numeric!\")",
      "execution_count": 23,
      "outputs": [
        {
          "output_type": "stream",
          "name": "stdout",
          "text": "Input an number outside (0,100):5\nSorry!Number is in range of 0,100 or is not a numeric!\n"
        }
      ]
    },
    {
      "metadata": {},
      "cell_type": "markdown",
      "source": "### BMI category \nThe Body Mass Index (BMI) measures the body fat using the weight and height of a person. The BMI is used to classify adults into categories as in the following table.\n\n|Category|BMI range|\n|--------|---------|\n|Underweight| < 18.5|\n|Normal Weight| 18.5 - 24.9|\n|Overweight|25 - 29.9|\n|Obese| &geq; 30|\n"
    },
    {
      "metadata": {
        "trusted": true
      },
      "cell_type": "code",
      "source": "# [ ] Write a program to ask a user for her/his BMI index, then display the user's BMI category\nbmi = float(input(\"Enter your BMI index:\"))\nif bmi < 18.6:\n    print(\"Underweight\")\nelif 18.5<bmi<25:\n    print(\"Normal Weight\")\nelif 24.9<bmi<30:\n    print(\"Overweight\")\nelif bmi>=30:\n    print(\"Obese\")",
      "execution_count": 2,
      "outputs": [
        {
          "output_type": "stream",
          "name": "stdout",
          "text": "Enter your BMI index:5\nUnderweight\n"
        }
      ]
    }
  ],
  "metadata": {
    "kernelspec": {
      "name": "python3",
      "display_name": "Python 3",
      "language": "python"
    },
    "language_info": {
      "mimetype": "text/x-python",
      "nbconvert_exporter": "python",
      "name": "python",
      "file_extension": ".py",
      "version": "3.5.4",
      "pygments_lexer": "ipython3",
      "codemirror_mode": {
        "version": 3,
        "name": "ipython"
      }
    }
  },
  "nbformat": 4,
  "nbformat_minor": 2
}