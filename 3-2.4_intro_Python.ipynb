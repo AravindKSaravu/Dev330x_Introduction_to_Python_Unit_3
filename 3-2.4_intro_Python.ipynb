{
  "cells": [
    {
      "metadata": {},
      "cell_type": "markdown",
      "source": "# Section 2.4: Powerful Output Formatting\n* `%d %e %E %f %F %c %s %%`\n* `str.format()`\n\n### Students will be able to:\n* Format output, including:\n  * Formatting numbers\n  * Formatting strings\n  * Padding\n  * Alignment\n* Format strings using old-style `printf` formatting\n* Format strings using new style formatting"
    },
    {
      "metadata": {},
      "cell_type": "markdown",
      "source": "---\n<font size=\"6\" color=\"#00A0B2\"  face=\"verdana\"> <B>Concepts</B></font>  \n\n\n## Using Old-Style Formatting\n\n\n[![view video](https://iajupyterprodblobs.blob.core.windows.net/imagecontainer/common/play_video.png)](https://www.youtube.com/watch?v=xQTmQ6DCTVo)\n\nThere are many ways to display output in Python. The easiest way is to use the `print` function and pass the items you want to display as comma-separated arguments. For example, say you wrote a program to compute the fuel efficiency of a car using the number of gallons `g` it consumes per `m` miles. You can display the output using the following statement:\n\n```python\nIn [0]: g = 4 #gallons of gas\nIn [1]: m = 127.3 #miles\nIn [2]: print('The fuel efficiency of a car consuming', g ,'gallons of gas for every', m, ' miles =', m/g, 'MPG')\n\nThe fuel efficiency of a car consuming 4 gallons of gas for every 127.3 miles = 31.825 MPG\n```\n\nThis was pretty easy; however, you did not have control over the precision or alignment of the printed numbers. Fortunately, Python supports a number of ways to format strings. In this section, you will learn how to use the old-style formatting that is common among other programming languages such as C.\n\nGenerally speaking, you will use positional format placeholders that will be replaced by the values you want to display. You can rewrite the preceding program as follows:\n\n```python\nIn [0]: g = 4 #gallons of gas\nIn [1]: m = 127.3 #miles\nIn [2]: print('The fuel efficiency of a car consuming %d gallons of gas for every %4.2f  miles = %4.2f MPG' % (g, m, m/g))\n\nThe fuel efficiency of a car consuming 4 gallons of gas for every 127.30 miles = 31.82 MPG\n```\n\nYou can clearly identify three format placeholders in the string; each starts with `%`. The string is followed by the modulo operator `%` and a tuple containing the values that should replace the placeholders in order. The following table shows these placeholders and the values that replaced them.\n\n|Format placeholder | Replaced by|\n|----|----|\n|`%d`| `g`|\n|`%4.2f`|`m`|\n|`%4.2f`|`m/g`|\n\nThe placeholder syntax might seem cryptic at a first glance; however, it is not that complicated. All of the previous placeholders are replaced by numbers that are displayed with certain precision. Each placeholder has the following pattern:\n\n`%[flags][width][.precision]type`\n\nFor example, the number of miles `m` is formatted as `%4.2f` which means: \n* No flags are used\n* The total number of characters (including the `.`) that should be displayed is (width = 4)\n* The number of decimal digits is (precision = 2)\n* The numerical value type is float (f)\n\nIf you use the format placeholder `%08.3f` instead, you will increase the number of `char` displayed to 8, padded with zeros on the left, and the precision to 3 decimal points.\n\n```python\nIn [0]: g = 4 #gallons of gas\nIn [1]: m = 127.3 #miles\nIn [2]: print('The fuel efficiency of a car consuming %d gallons of gas for every %08.3f miles = %4.2f MPG' % (g, m, m/g))\n\nThe fuel efficiency of a car consuming 4 gallons of gas for every 0127.300 miles = 31.82 MPG\n```\n\nThe following tables show commonly used flags and types. The Python Documentation site at https://docs.python.org/3/library/stdtypes.html#printf-style-string-formatting has a complete listing.\n\n|Flag| Meaning|\n|---|---|\n|0| The conversion will be padded by zeros for numeric values|\n|-| The converted value is left adjusted|\n|' '| A blank will be placed in front of positive numbers, `-` will be placed in front of negative numbers|\n|+| A sign (+ or -) will be placed in front of the converted number|\n\n\n|Type| Meaning|\n|---|---|\n|d| Signed integer |\n|i| Signed integer |\n|e| Floating point exponential format (lowercase)|\n|E| Floating point exponential format (uppercase)|\n|f| Floating point decimal format|\n|F| Floating point decimal format|\n|c| Single character (accepts integer or single character string)|\n|s| String|\n|%| No argument is converted, results in a % character in the result|"
    },
    {
      "metadata": {},
      "cell_type": "markdown",
      "source": "---\n<font size=\"6\" color=\"#00A0B2\"  face=\"verdana\"> <B>Examples</B></font>\n"
    },
    {
      "metadata": {},
      "cell_type": "markdown",
      "source": "### Formatting numbers\nIn the following examples, the same sentence is generated using different format placeholders for the same year and price. For each example, compare the generated output to the format placeholders."
    },
    {
      "metadata": {
        "trusted": true
      },
      "cell_type": "code",
      "source": "year = 2017\nprice = 2.42011\nprint('The national average gas price in %d was $ %f' % (year, price))",
      "execution_count": 1,
      "outputs": [
        {
          "output_type": "stream",
          "text": "The national average gas price in 2017 was $ 2.420110\n",
          "name": "stdout"
        }
      ]
    },
    {
      "metadata": {
        "trusted": true
      },
      "cell_type": "code",
      "source": "year = 2017\nprice = 2.42011\nprint('The national average gas price in %i was $ %3.2f' % (year, price))",
      "execution_count": 2,
      "outputs": [
        {
          "output_type": "stream",
          "text": "The national average gas price in 2017 was $ 2.42\n",
          "name": "stdout"
        }
      ]
    },
    {
      "metadata": {
        "trusted": true
      },
      "cell_type": "code",
      "source": "year = 2017\nprice = 2.42011\nprint('The national average gas price in %i was $ %08.2F' % (year, price))",
      "execution_count": 4,
      "outputs": [
        {
          "output_type": "stream",
          "text": "The national average gas price in 2017 was $ 00002.42\n",
          "name": "stdout"
        }
      ]
    },
    {
      "metadata": {
        "trusted": true
      },
      "cell_type": "code",
      "source": "year = 2017\nprice = 2.42011\nprint('The national average gas price in %d was $ %e' % (year, price))",
      "execution_count": 5,
      "outputs": [
        {
          "output_type": "stream",
          "text": "The national average gas price in 2017 was $ 2.420110e+00\n",
          "name": "stdout"
        }
      ]
    },
    {
      "metadata": {
        "trusted": true
      },
      "cell_type": "code",
      "source": "year = 2017\nprice = 2.42011\nprint('The national average gas price in %d was $ %3.2e' % (year, price))",
      "execution_count": 6,
      "outputs": [
        {
          "output_type": "stream",
          "text": "The national average gas price in 2017 was $ 2.42e+00\n",
          "name": "stdout"
        }
      ]
    },
    {
      "metadata": {
        "trusted": true
      },
      "cell_type": "code",
      "source": "year = 2017\nprice = 2.42011\nprint('The national average gas price in %d was $ %3.2E' % (year, price))",
      "execution_count": 10,
      "outputs": [
        {
          "output_type": "stream",
          "text": "The national average gas price in 2017 was $ 2.42E+00\n",
          "name": "stdout"
        }
      ]
    },
    {
      "metadata": {},
      "cell_type": "markdown",
      "source": "### Formatting strings and characters\nIn the following example, names are formatted using different format placeholders. Compare the generated output to the format placeholders."
    },
    {
      "metadata": {
        "scrolled": true,
        "trusted": true
      },
      "cell_type": "code",
      "source": "first_name = input(\"Enter your first name: \")\nlast_name = input(\"Enter your last name: \")\nprint('The first name starts with: %c' % (first_name[0]))\nprint('The last name ends with the 2 chars: %s' %(last_name[-2:]))",
      "execution_count": 8,
      "outputs": [
        {
          "output_type": "stream",
          "name": "stdout",
          "text": "Enter your first name: Aravind\nEnter your last name: Saravu\nThe first name starts with: A\nThe last name ends with the 2 chars: vu\n"
        }
      ]
    },
    {
      "metadata": {},
      "cell_type": "markdown",
      "source": "### Alignment\nIn the following example, output is formatted using different alignment flags. Compare the generated output to the format placeholders."
    },
    {
      "metadata": {
        "trusted": false
      },
      "cell_type": "code",
      "source": "from math import pi\n\nprint(\"Right adjusted: %20.2f\" %(pi))\nprint(\"Left adjusted: %-20.2f\" %(pi))",
      "execution_count": null,
      "outputs": []
    },
    {
      "metadata": {},
      "cell_type": "markdown",
      "source": "---\n<font size=\"6\" color=\"#B24C00\"  face=\"verdana\"> <B>Task 1</B></font>\n\n## Using Old-Style formatting\n"
    },
    {
      "metadata": {},
      "cell_type": "markdown",
      "source": "### Number formatting and alignment"
    },
    {
      "metadata": {
        "trusted": true
      },
      "cell_type": "code",
      "source": "# [x] Use the variables `F` and `C` to generate the following print outputs\n'''\n75 Fahrenheit = 23.888900 Celsius\n75 Fahrenheit = 23.89 Celsius\n75 Fahrenheit = 000023.889 Celsius\n75 Fahrenheit = 23.889     Celsius\n75 Fahrenheit =     23.889 Celsius\n75 Fahrenheit = 2.389E+01 Celsius\n75 Fahrenheit = 2.389e+01 Celsius\n'''\n\nF = 75\nC = 23.8889\nprint(\"%d Fahrenheit = %f Celsius\" % (F, C))\nprint(\"%d Fahrenheit = %.2f Celsius\" % (F, C))\nprint(\"%d Fahrenheit = %5.3f Celsius\" % (F, C))\nprint(\"%d Fahrenheit = %010.3F Celsius\" % (F, C))\nprint(\"%d Fahrenheit = %10.3f Celsius\" % (F, C))\nprint(\"%d Fahrenheit = %.3E Celsius\" % (F, C))\nprint(\"%d Fahrenheit = %.3e Celsius\" % (F, C))\n\n",
      "execution_count": 18,
      "outputs": [
        {
          "output_type": "stream",
          "text": "75 Fahrenheit = 23.888900 Celsius\n75 Fahrenheit = 23.89 Celsius\n75 Fahrenheit = 23.889 Celsius\n75 Fahrenheit = 000023.889 Celsius\n75 Fahrenheit =     23.889 Celsius\n75 Fahrenheit = 2.389E+01 Celsius\n75 Fahrenheit = 2.389e+01 Celsius\n",
          "name": "stdout"
        }
      ]
    },
    {
      "metadata": {},
      "cell_type": "markdown",
      "source": "### string formatting and alignment"
    },
    {
      "metadata": {
        "trusted": true
      },
      "cell_type": "code",
      "source": "# [ ] Use the string variables below to generate the following print outputs\n# HINT: Set the name formatter width to 10 characters\n\nfirst_name = 'Tamara'\nlast_name = 'Babic'\n\n'''\nName: Tamara Babic\nName:     Tamara      Babic\nName: Tamara          Babic\nName:     Tamara Babic     \nName: Tamara     Babic     \nName: Tamara Babic\n'''\nprint(\"Name: %s %s\"% (first_name,last_name))\nprint(\"Name: %10s %10s\"% (first_name,last_name))\nprint(\"Name: %s %14s\"% (first_name,last_name))\nprint(\"Name: %10s %s\"% (first_name,last_name))\nprint(\"Name: %s %9s\"% (first_name,last_name))\nprint(\"Name: %s %s\"% (first_name,last_name))",
      "execution_count": 19,
      "outputs": [
        {
          "output_type": "stream",
          "text": "Name: Tamara Babic\nName:     Tamara      Babic\nName: Tamara          Babic\nName:     Tamara Babic\nName: Tamara     Babic\nName: Tamara Babic\n",
          "name": "stdout"
        }
      ]
    },
    {
      "metadata": {},
      "cell_type": "markdown",
      "source": "### Personnel information printout"
    },
    {
      "metadata": {
        "trusted": true
      },
      "cell_type": "code",
      "source": "# Write a program to print out the data as follows:\n'''\nName                 ID         Email\n--------------------------------------------------\nSuresh Datta         57394      suresh@example.com\nColette Browning     48539      colette@example.com\nSkye Homsi           58302      skye@example.com\nHiroto Yamaguchi     48502      hiroto@example.com\nTobias Ledford       48291      tobias@example.com\nJin Xu               48293      jin@example.com\nJoana Dias           23945      joana@example.com\nAlton Derosa         85823      alton@example.com\n'''\n\ndata = [[\"Suresh Datta\", 57394, \"suresh@example.com\"], [\"Colette Browning\", 48539, \"colette@example.com\"], [\"Skye Homsi\", 58302, \"skye@example.com\"], [\"Hiroto Yamaguchi\", 48502, \"hiroto@example.com\"], [\"Tobias Ledford\", 48291, \"tobias@example.com\", \"Tamara Babic\", 58201, \"tamara@example.com\"], [\"Jin Xu\", 48293, \"jin@example.com\"], [\"Joana Dias\", 23945, \"joana@example.com\"], [\"Alton Derosa\", 85823, \"alton@example.com\"]]\nprint(\"Name                 ID         Email\")\nfor a in range(50):\n    print(\"-\", end = \"\")\nprint(\"\\n\")\nfor a in data:\n    print(\"%s\" %a[0], end = \"   \")\n    print((21-len(a[0]))*\" \", end = \"\")\n    print(\"%s\" %a[1], end = \"\")\n    print(\"\\t\", end = \"   \")\n    print(\"%s\" %a[2])",
      "execution_count": 9,
      "outputs": [
        {
          "output_type": "stream",
          "text": "Name                 ID         Email\n--------------------------------------------------\n\nSuresh Datta            57394\t   suresh@example.com\nColette Browning        48539\t   colette@example.com\nSkye Homsi              58302\t   skye@example.com\nHiroto Yamaguchi        48502\t   hiroto@example.com\nTobias Ledford          48291\t   tobias@example.com\nJin Xu                  48293\t   jin@example.com\nJoana Dias              23945\t   joana@example.com\nAlton Derosa            85823\t   alton@example.com\n",
          "name": "stdout"
        }
      ]
    },
    {
      "metadata": {},
      "cell_type": "markdown",
      "source": "---\n<font size=\"6\" color=\"#00A0B2\"  face=\"verdana\"> <B>Concepts</B></font>  \n\n\n## Using Python-Style Formatting\n\n\n[![view video](https://iajupyterprodblobs.blob.core.windows.net/imagecontainer/common/play_video.png)](https://www.youtube.com/watch?v=QQBxiN_17yc)\n\nThe old-style formatting you saw has some restrictions. Python comes with a much more flexible string-formatting method: `str.format()`. This method gives you much more control over how to format a print output. The general form of this style is:\n\n`string_sequence.format(p0, p1, ..., k0=v0, k1=v1, ...)`\n\nThe `string_sequence` variable contains format placeholders and the string you are trying to display. The format placeholders are similar to those used in the old-style formatting; however, you do not need to use the `%` operator in the Python formatting style.\n\nThe following examples demonstrate a few ways to write and replace placeholders:\n\n#### Without position index, Without formatting string \nUse `{}` as a placeholder within the string wherever you want a variable value to appear. Then pass the variables you want to display as positional arguments to the `.format()` method; the variables must be passed in order.\n\n```python\nIn [0]: g = 4 #gallons of gas\nIn [1]: m = 127.3 #miles\nIn [2]: print('The fuel efficiency of a car consuming {} gallons of gas for every {} miles = {} MPG'.format(g, m, m/g))\n\nThe fuel efficiency of a car consuming 4 gallons of gas for every 127.3 miles = 31.825 MPG\n```\n\n#### Without position index, With formatting string\nUse `{:4.2f}` as a placeholder, then pass the variables you want to display as positional arguments to the `.format()` method. Note that the placeholder starts with `:`, followed by a formatting string similar to that of an old-style formatter. This method is the closest to the old-style formatting style.\n\n```python\nIn [0]: g = 4 #gallons of gas\nIn [1]: m = 127.3 #miles\nIn [2]: print('The fuel efficiency of a car consuming {:d} gallons of gas for every {:4.2f} miles = {:4.2f} MPG'.format(g, m, m/g))\n\nThe fuel efficiency of a car consuming 4 gallons of gas for every 127.30 miles = 31.82 MPG\n```\n\n#### With position index, With formatting string\nUse `{0:4.2f}` as a placeholder, then pass the variables you want to display as positional arguments to the `.format()` method. Note that the placeholder starts with an index, followed by `:`, followed by a formatting string similar to that of an old-style formatter.\n\n```python\nIn [0]: g = 4 #gallons of gas\nIn [1]: m = 127.3 #miles\nIn [2]: print('The fuel efficiency of a car consuming {0:d} gallons of gas for every {1:4.2f} miles = {2:4.2f} MPG'.format(g, m, m/g))\n\nThe fuel efficiency of a car consuming 4 gallons of gas for every 127.30 miles = 31.82 MPG\n```\n\nThe indices `0, 1, 2` refer to the order of the variables passed to the `.format()` method. For example, index `0` refer to the first variable passed, index `1` refer to the second variable passed, and so on. The indices can appear in the `string_sequence` in any order. For example, in the code below you will see the placeholders use variable index `1`, then index `2`, and finally index `0` to refer to `g`, `m`, `m/g` respectively.\n\n```python\nIn [0]: g = 4 #gallons of gas\nIn [1]: m = 127.3 #miles\nIn [2]: print('The fuel efficiency of a car consuming {1:d} gallons of gas for every {2:4.2f} miles = {0:4.2f} MPG'.format(m/g, g, m))\n\nThe fuel efficiency of a car consuming 4 gallons of gas for every 127.30 miles = 31.82 MPG\n```\n\n### Using keywords\nYou can use a keyword instead of an index in the placeholder `{a:4.2f}`, then pass the variables you want to display as key/value pairs to the `.format()` method.\n\n```python\nIn [0]: g = 4 #gallons of gas\nIn [1]: m = 127.3 #miles\nIn [2]: print('The fuel efficiency of a car consuming {a:d} gallons of gas for every {b:4.2f} miles = {c:4.2f} MPG'.format(a = g, b = m, c = m/g))\n\nThe fuel efficiency of a car consuming 4 gallons of gas for every 127.30 miles = 31.82 MPG\n```\n\n\n### Using flags\n\nThe formatter string in the placeholder follows a similar syntax to that of the old-style formatter.\n\n`:[flags][width][.precision]type`\n\nThe following table shows commonly used flags for the Python display style\n\n|Flag| Meaning|\n|---|---|\n|<| Left-align within available space|\n|>| Right-align within available space|\n|^| Center-align within available space|\n|0| The conversion will be padded by zeros for numeric values|\n|,| Use a comma as thousands separator|\n|' '| A blank will be placed in front of positive numbers, `-` will be placed in front of negative numbers|\n|+| A sign (+ or -) will be placed in front of the converted number|"
    },
    {
      "metadata": {},
      "cell_type": "markdown",
      "source": "---\n<font size=\"6\" color=\"#00A0B2\"  face=\"verdana\"> <B>Examples</B></font>\n"
    },
    {
      "metadata": {},
      "cell_type": "markdown",
      "source": "### Formatting numbers\nIn the following examples, we repeat some of the old-style formatting examples using the new style formatting."
    },
    {
      "metadata": {
        "trusted": true
      },
      "cell_type": "code",
      "source": "year = 2017\nprice = 2.42011\nprint('The national average gas price in {:d} was $ {:f}'.format(year, price))",
      "execution_count": 1,
      "outputs": [
        {
          "output_type": "stream",
          "text": "The national average gas price in 2017 was $ 2.420110\n",
          "name": "stdout"
        }
      ]
    },
    {
      "metadata": {
        "trusted": true
      },
      "cell_type": "code",
      "source": "year = 2017\nprice = 2.42011\nprint('The national average gas price in {0:d} was $ {1:3.2F}'.format(year, price))",
      "execution_count": 2,
      "outputs": [
        {
          "output_type": "stream",
          "text": "The national average gas price in 2017 was $ 2.42\n",
          "name": "stdout"
        }
      ]
    },
    {
      "metadata": {
        "trusted": true
      },
      "cell_type": "code",
      "source": "year = 2017\nprice = 2.42011\nprint('The national average gas price in {y:d} was $ {p:1.2e}'.format(y = year, p = price))",
      "execution_count": 3,
      "outputs": [
        {
          "output_type": "stream",
          "text": "The national average gas price in 2017 was $ 2.42e+00\n",
          "name": "stdout"
        }
      ]
    },
    {
      "metadata": {
        "trusted": true
      },
      "cell_type": "code",
      "source": "year = 2017\nprice = 2.42011\nprint('The national average gas price in {:d} was $ {:010.2f}'.format(year, price))",
      "execution_count": 12,
      "outputs": [
        {
          "output_type": "stream",
          "text": "The national average gas price in 2017 was $ 0000002.42\n",
          "name": "stdout"
        }
      ]
    },
    {
      "metadata": {},
      "cell_type": "markdown",
      "source": "### Formatting strings\nThe character conversion type `c` is not supported in the new formatting style. Use the string conversion type `s` as in the following example:"
    },
    {
      "metadata": {
        "trusted": true
      },
      "cell_type": "code",
      "source": "first_name = input(\"Enter your first name: \")\nlast_name = input(\"Enter your last name: \")\nprint('The first name starts with: {:s}'.format(first_name[0]))\nprint('The last name ends with the 2 chars: {:s}'.format(last_name[-2:]))",
      "execution_count": 5,
      "outputs": [
        {
          "output_type": "stream",
          "name": "stdout",
          "text": "Enter your first name: aravind\nEnter your last name: saravu\nThe first name starts with: a\nThe last name ends with the 2 chars: vu\n"
        }
      ]
    },
    {
      "metadata": {},
      "cell_type": "markdown",
      "source": "### Setting alignment\nThe old-style formatting allows you to right-align and left-align output. The new formatting style also allows you to center-align output."
    },
    {
      "metadata": {
        "trusted": true
      },
      "cell_type": "code",
      "source": "from math import pi\n\nprint('Right adjusted : {:<20.2f}'.format(pi))\nprint('Center adjusted: {:^20.2f}'.format(pi))\nprint('Left adjusted  : {:>20.2f}'.format(pi))",
      "execution_count": 6,
      "outputs": [
        {
          "output_type": "stream",
          "text": "Right adjusted : 3.14                \nCenter adjusted:         3.14        \nLeft adjusted  :                 3.14\n",
          "name": "stdout"
        }
      ]
    },
    {
      "metadata": {},
      "cell_type": "markdown",
      "source": "### Setting padding and alignment"
    },
    {
      "metadata": {
        "trusted": true
      },
      "cell_type": "code",
      "source": "from math import pi\n\n# Padding with zeros\n\nprint('Right adjusted : {:0<20.2f}'.format(pi))\nprint('Center adjusted: {:0^20.2f}'.format(pi))\nprint('Left adjusted  : {:0>20.2f}'.format(pi))",
      "execution_count": 7,
      "outputs": [
        {
          "output_type": "stream",
          "text": "Right adjusted : 3.140000000000000000\nCenter adjusted: 000000003.1400000000\nLeft adjusted  : 00000000000000003.14\n",
          "name": "stdout"
        }
      ]
    },
    {
      "metadata": {
        "trusted": true
      },
      "cell_type": "code",
      "source": "from math import pi\n\n# Padding with underscore characters\n\nprint('Right adjusted : {:_<20.2f}'.format(pi))\nprint('Center adjusted: {:_^20.2f}'.format(pi))\nprint('Left adjusted  : {:_>20.2f}'.format(pi))",
      "execution_count": 8,
      "outputs": [
        {
          "output_type": "stream",
          "text": "Right adjusted : 3.14________________\nCenter adjusted: ________3.14________\nLeft adjusted  : ________________3.14\n",
          "name": "stdout"
        }
      ]
    },
    {
      "metadata": {},
      "cell_type": "markdown",
      "source": "---\n<font size=\"6\" color=\"#B24C00\"  face=\"verdana\"> <B>Task 2</B></font>\n\n## Using Python-Style Formatting"
    },
    {
      "metadata": {},
      "cell_type": "markdown",
      "source": "### Number formatting and alignment"
    },
    {
      "metadata": {
        "trusted": false
      },
      "cell_type": "code",
      "source": "# [ ] Use Python-style formatting and the variables `F` and `C` to generate the following print outputs\n'''\n75 Fahrenheit = 23.888900 Celsius\n75 Fahrenheit = 23.89 Celsius\n75 Fahrenheit = 0000023.89 Celsius\n75 Fahrenheit = 23.889     Celsius\n75 Fahrenheit =   23.889   Celsius\n75 Fahrenheit =     23.889 Celsius\n75 Fahrenheit = 2.389E+01 Celsius\n'''\n\nF = 75\nC = 23.8889\n\nprint(\"{:d} Fahrenheit = {:0<9.4f} Celsius\".format(F,C))\nprint(\"{:d} Fahrenheit = {:<9.2f}Celsius\".format(F,C))\nprint(\"{:d} Fahrenheit = {:0>10.2f} Celsius\".format(F,C))\nprint(\"{:d} Fahrenheit = {:<9.3f} Celsius\".format(F,C))\nprint(\"{:d} Fahrenheit =    {:<9.3f} Celsius\".format(F,C))\nprint(\"{:d} Fahrenheit =      {:<9.3f} Celsius\".format(F,C))\nprint(\"{:d} Fahrenheit = {:<9.3E} Celsius\".format(F,C))",
      "execution_count": null,
      "outputs": []
    },
    {
      "metadata": {},
      "cell_type": "markdown",
      "source": "### String formatting and alignment"
    },
    {
      "metadata": {
        "trusted": true
      },
      "cell_type": "code",
      "source": "# [ ] Use Python-style formatting and the string variables below to generate the following print outputs\n# HINT: Set the name formatter width to 10 characters\n\nfirst_name = 'Tamara'\nlast_name = 'Babic'\n\n'''\nName: Tamara Babic\nName: Tamara          Babic\nName: Tamara____ _____Babic\nName: __Tamara__ __Babic___\nName: ____Tamara Babic_____\nName:     Tamara Babic     \n'''\n\nprint(\"Name: {:s} {:s}\".format(first_name,last_name))\nprint(\"Name: {:10s}{:>10s}\".format(first_name,last_name))\nprint(\"Name: {:_<10s} {:_>10s}\".format(first_name,last_name))\nprint(\"Name: {:_^10s} {:_^10s}\".format(first_name,last_name))\nprint(\"Name: {:_>10s} {:_<10s}\".format(first_name,last_name))\nprint(\"Name: {:>10s} {:<10s}\".format(first_name,last_name))",
      "execution_count": 13,
      "outputs": [
        {
          "output_type": "stream",
          "text": "Name: Tamara Babic\nName: Tamara         Babic\nName: Tamara____ _____Babic\nName: __Tamara__ __Babic___\nName: ____Tamara Babic_____\nName:     Tamara Babic     \n",
          "name": "stdout"
        }
      ]
    },
    {
      "metadata": {},
      "cell_type": "markdown",
      "source": "### Personnel information printout"
    },
    {
      "metadata": {
        "trusted": true
      },
      "cell_type": "code",
      "source": "# [ ] The list `data` contains personnel information (Name, ID, email)\n# Write a program using Python-style formatting to print out the data as follows:\n'''\n        Name         |     ID     |        Email        \n________________________________________________________\n    Suresh Datta     |   57394    |   suresh@example.com\n  Colette Browning   |   48539    |  colette@example.com\n     Skye Homsi      |   58302    |     skye@example.com\n  Hiroto Yamaguchi   |   48502    |   hiroto@example.com\n   Tobias Ledford    |   48291    |   tobias@example.com\n       Jin Xu        |   48293    |      jin@example.com\n     Joana Dias      |   23945    |    joana@example.com\n    Alton Derosa     |   85823    |    alton@example.com\n'''\n\nprint(\"        Name         |     ID     |        Email\")\nfor a in range(55):\n    print(\"_\", end =\"\")\nprint(\"\\n\")\nfor a in data:\n    print(\"{:^21s}\".format(a[0]), end = \"\")\n    print(\"|\", end =\"\")\n    print(\"{:^12s}\".format(str(a[1])), end = \"\")\n    print(\"|\", end =\"\")\n    print(\"{:>20s}\".format(a[2]))\n",
      "execution_count": 21,
      "outputs": [
        {
          "output_type": "stream",
          "text": "        Name         |     ID     |        Email\n_______________________________________________________\n\n    Suresh Datta     |   57394    |  suresh@example.com\n  Colette Browning   |   48539    | colette@example.com\n     Skye Homsi      |   58302    |    skye@example.com\n  Hiroto Yamaguchi   |   48502    |  hiroto@example.com\n   Tobias Ledford    |   48291    |  tobias@example.com\n       Jin Xu        |   48293    |     jin@example.com\n     Joana Dias      |   23945    |   joana@example.com\n    Alton Derosa     |   85823    |   alton@example.com\n",
          "name": "stdout"
        }
      ]
    },
    {
      "metadata": {
        "trusted": true
      },
      "cell_type": "code",
      "source": "",
      "execution_count": null,
      "outputs": []
    }
  ],
  "metadata": {
    "kernelspec": {
      "name": "python3",
      "display_name": "Python 3",
      "language": "python"
    },
    "language_info": {
      "mimetype": "text/x-python",
      "nbconvert_exporter": "python",
      "name": "python",
      "file_extension": ".py",
      "version": "3.5.4",
      "pygments_lexer": "ipython3",
      "codemirror_mode": {
        "version": 3,
        "name": "ipython"
      }
    }
  },
  "nbformat": 4,
  "nbformat_minor": 2
}