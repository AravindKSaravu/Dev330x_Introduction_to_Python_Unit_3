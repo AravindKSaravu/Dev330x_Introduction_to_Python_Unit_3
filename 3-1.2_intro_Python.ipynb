{
  "cells": [
    {
      "metadata": {},
      "cell_type": "markdown",
      "source": "# Section 1.2: Working with Dates and Times\n* datetime module\n* datetime.time: hour, minute, second, microsecond, replace\n* datetime.date: year, month, day, replace, today\n* datetime.datetime: year, month, day, hour, minute, microsecond, replace, today, date, time, combine\n* strftime\n\n### Students will be able to:\n* Assign and modify a time object (variable)\n* Assign and modify a date object (variable)\n* Get the current local date\n* Assign and modify a datetime object (variable)\n* Split a datetime object into separate time and date objects\n* Combine time and date objects into datetime objects\n* Display a datetime object as a formatted string"
    },
    {
      "metadata": {},
      "cell_type": "markdown",
      "source": "---\n<font size=\"6\" color=\"#00A0B2\"  face=\"verdana\"> <B>Concepts</B></font>  \n\n\n## The `datetime` Module\n\nCertain applications require knowing the current date and/or time. For example, certain websites display a countdown timer to a launch date or an important event. The Python `datetime` module contains a number of useful datatypes (classes) and functions (methods) to define and manipulate time and date variables. In this lesson, we will first explore ways to create variables that contain time and date information; we will then delve into ways to display the content of these variables in a human-readable way. In the next lesson, we will use these time/date variables to build some useful applications."
    },
    {
      "metadata": {},
      "cell_type": "markdown",
      "source": "---\n<font size=\"6\" color=\"#00A0B2\"  face=\"verdana\"> <B>Concepts</B></font>  \n\n\n## `time` Objects\n\n[![view video](https://iajupyterprodblobs.blob.core.windows.net/imagecontainer/common/play_video.png)](https://www.youtube.com/watch?v=DwD0rp5jZ6Q)\n\n### `time(hour = 0, minute = 0, second = 0, microsecond = 0)`\n### Assigning a `time` object\nThe `datetime` module contains a `time` datatype (class) that can be used to store and manipulate time information. When assigning a variable (object) of type `time` you can specify the hour, minute, second, and microsecond attributes. Any attribute that you leave unspecified will be set to its default value of 0. When specifying an attribute, you should make sure it is within its valid range:\n* 0 &leq; hour < 24\n* 0 &leq; minute < 60\n* 0 &leq; second < 60\n* 0 &leq; microsecond < 1000000\n\nIf any of the attributes is outside its valid range, you will get a `ValueError` message.\n\nNote: 1 second is equal to 1 million microseconds or 1 s = 10<sup>6</sup> &mu;s\n\n### Getting `time` object attributes (hour, minute... etc.)\nYou can access the attributes of any `time` variable by specifying its name. For example, if you have a `time` variable named `StartTime`, you can get the value of the minute attribute from `StartTime.minute`.\n\n### Modifying `time` object attributes (hour, minute... etc.)\nYou can not only access the attributes of a `time` variable, you can also modify them. For example, if you want to modify the hour of `StartTime`, you can use an expression similar to `StartTime.replace(hour = 5)` to set the hour attribute to 5 regardless of its previous value. You can also modify multiple attributes simultaneously by specifying all values to be changed. For example, if you want to modify the hour and second of `StartTime`, you can use an expression similar to `StartTime.replace(hour = 5, second = 2)`."
    },
    {
      "metadata": {},
      "cell_type": "markdown",
      "source": "---\n<font size=\"6\" color=\"#00A0B2\"  face=\"verdana\"> <B>Examples</B></font>\n\n### Assigning a `time` object by specifying all attributes (hour, minute, second, microsecond) in order\nWhen assigning a new `time` object, you can specify all of its attributes by writing the numbers in the following order: hour, minute, second, microsecond."
    },
    {
      "metadata": {
        "trusted": true
      },
      "cell_type": "code",
      "source": "from datetime import time\n\n# Time is 8:55:20.000500 PM (or 20:55:20.000500)\nt = time(20, 55, 20, 500)\nprint(t)",
      "execution_count": 1,
      "outputs": [
        {
          "output_type": "stream",
          "text": "20:55:20.000500\n",
          "name": "stdout"
        }
      ]
    },
    {
      "metadata": {},
      "cell_type": "markdown",
      "source": "### Assigning a `time` object by specifying all attributes (hour, minute, second, microsecond) by name\nIf you specify the attributes by name, they need not be in order."
    },
    {
      "metadata": {
        "trusted": true
      },
      "cell_type": "code",
      "source": "from datetime import time\n\n# Time is 9:10:20.900000 AM (or 9:10:20.900000)\nt = time(minute = 10, hour = 9, microsecond = 900000, second = 20)\nprint(t)",
      "execution_count": 2,
      "outputs": [
        {
          "output_type": "stream",
          "text": "09:10:20.900000\n",
          "name": "stdout"
        }
      ]
    },
    {
      "metadata": {},
      "cell_type": "markdown",
      "source": "### Assigning a `time` object by specifying some attributes\nIf an attribute is not specified, it will be set to 0."
    },
    {
      "metadata": {
        "trusted": true
      },
      "cell_type": "code",
      "source": "from datetime import time\n\n# Time is 1:10 PM (or 13:10:00:000000)\nt = time(hour = 1, minute = 10)\nprint(t)",
      "execution_count": 3,
      "outputs": [
        {
          "output_type": "stream",
          "text": "01:10:00\n",
          "name": "stdout"
        }
      ]
    },
    {
      "metadata": {},
      "cell_type": "markdown",
      "source": "### Specifying a wrong attribute value\nWhen an attribute is set to an invalid value, a `ValueError` will be raised. This will happen whether you are assigning or changing the value of an existing variable."
    },
    {
      "metadata": {
        "trusted": true
      },
      "cell_type": "code",
      "source": "from datetime import time\n\n# Assigning a time variable with an invalid attribute\nt = time(hour = 23)\nprint(t)",
      "execution_count": 5,
      "outputs": [
        {
          "output_type": "stream",
          "text": "23:00:00\n",
          "name": "stdout"
        }
      ]
    },
    {
      "metadata": {},
      "cell_type": "markdown",
      "source": "### Getting an attribute\nYou can access a single attribute or all attributes of a `time` variable separately."
    },
    {
      "metadata": {
        "trusted": true
      },
      "cell_type": "code",
      "source": "from datetime import time\n\n# assign a time variable t\nt = time(hour = 9, minute = 10, second = 43, microsecond = 100)\n\n# access each of the attributes separately\nh = t.hour # will be 9\nm = t.minute # will be 10 \ns = t.second # will be 43\nms = t.microsecond # will be 100\n\nprint(\"The time is: \", h,\" hours \", m, \" minutes\", s, \" seconds and \", ms, \" microseconds\" )",
      "execution_count": 6,
      "outputs": [
        {
          "output_type": "stream",
          "text": "The time is:  9  hours  10  minutes 43  seconds and  100  microseconds\n",
          "name": "stdout"
        }
      ]
    },
    {
      "metadata": {},
      "cell_type": "markdown",
      "source": "### Modifying attributes of an assigned `time` variable\nYou might think that an attribute can be changed by specifying it directly as `t.hour = 8`; however, this will result in an error message saying that the attribute is not writable. The solution is to use the `replace` function.\n\n`replace` copies the information of a `time` variable into a new `time` variable while modifying the specified  attributes, you can then reassign the new variable to the original variable `t`, which modifies `t` to reflect the desired changes. The following example illustrates this idea:"
    },
    {
      "metadata": {
        "trusted": true
      },
      "cell_type": "code",
      "source": "from datetime import time\n\n# assign t as 9:10:43:0000100\nt = time(hour = 9, minute = 10, second = 43, microsecond = 100)\nprint(\"Old time: \", t)\n\n# modify hour and minute\nt = t.replace(hour = 8, minute = 8)\n\nprint(\"New time: \", t)",
      "execution_count": 7,
      "outputs": [
        {
          "output_type": "stream",
          "text": "Old time:  09:10:43.000100\nNew time:  08:08:43.000100\n",
          "name": "stdout"
        }
      ]
    },
    {
      "metadata": {},
      "cell_type": "markdown",
      "source": "---\n<font size=\"6\" color=\"#B24C00\"  face=\"verdana\"> <B>Task 1</B></font>\n\n## `time` Objects"
    },
    {
      "metadata": {
        "trusted": false
      },
      "cell_type": "code",
      "source": "# [ ] Create a `time` variable containing the time: 8:45 AM\nfrom datetime import time\nt = time(hour=8,minute=45)\nprint(t,\"AM\")",
      "execution_count": null,
      "outputs": []
    },
    {
      "metadata": {
        "trusted": true
      },
      "cell_type": "code",
      "source": "# [ ] Create a `time` variable containing the time: 8:45:01:000150 PM\nfrom datetime import  time\nt = time(8,45,1,150)\nprint(t,\"PM\")",
      "execution_count": 10,
      "outputs": [
        {
          "output_type": "stream",
          "text": "08:45:01.000104 PM\n",
          "name": "stdout"
        }
      ]
    },
    {
      "metadata": {
        "trusted": true
      },
      "cell_type": "code",
      "source": "# [ ] Print the hour (only) contained in t3\n\nfrom datetime import time\nt3 = time(hour = 15, minute = 10, second = 0)\nprint(t3.hour)",
      "execution_count": 11,
      "outputs": [
        {
          "output_type": "stream",
          "text": "15\n",
          "name": "stdout"
        }
      ]
    },
    {
      "metadata": {
        "trusted": true
      },
      "cell_type": "code",
      "source": "# [ ] Modify t3 to: 4:10 PM\n#from datetime import time\nt3 = time(hour = 15, minute = 10, second =0)\nt3 = t3.replace(hour=4,minute=10)\nprint(t3,\"PM\")",
      "execution_count": 13,
      "outputs": [
        {
          "output_type": "stream",
          "text": "04:10:00 PM\n",
          "name": "stdout"
        }
      ]
    },
    {
      "metadata": {},
      "cell_type": "markdown",
      "source": "---\n<font size=\"6\" color=\"#00A0B2\"  face=\"verdana\"> <B>Concepts</B></font>  \n\n\n## `date` Objects\n\n[![view video](https://iajupyterprodblobs.blob.core.windows.net/imagecontainer/common/play_video.png)](https://www.youtube.com/watch?v=cGGEsOFVHKg)\n\n### `date(year, month, day)`\nThe `datetime` module contains a `date` datatype (class) that has the attributes year, month, and day. Assigning, modifying, and accessing a `date` object is similar to that of a `time` object. However, all of the `date` attributes are required because it doesn't make sense to set a month or a day to 0 by default. Therefore, all attributes of a `date` object should be specified and these attributes should be within their valid ranges:\n* 1 &leq; year &leq; 9999\n* 1 &leq; month &leq; 12\n* 1 &leq; day &leq; number of days in the given month and year\n\nThe attributes of a `date` object can be accessed individually, in the same way you access the attributes of a `time` object. For example, to access the month of a variable `StartDate`, you should use the expression `StartDate.month`. \n\n### Current local date\nIn most practical applications involving dates, it is very important to know the current local date of the machine executing the code. For example, if you want to build a counter to display how many days has passed since an important event, you will need to know the current date. This can be easily achieved by using the function `today()` as shown in the following examples."
    },
    {
      "metadata": {},
      "cell_type": "markdown",
      "source": "---\n<font size=\"6\" color=\"#00A0B2\"  face=\"verdana\"> <B>Examples</B></font>\n\n### Assigning a `date` object"
    },
    {
      "metadata": {
        "trusted": true
      },
      "cell_type": "code",
      "source": "from datetime import date\n\n# using all attributes in order (year, month, day) w/o names\n# date1 is May 7 2013\ndate1 = date(2013, 5, 7)\nprint(\"date1 is: \", date1)\n\n# using all attributes with names and not necessarily in order\n# date2 is April 23 1999\ndate2 = date(day = 23, month = 4, year = 1999)\nprint(\"date2 is: \", date2) ",
      "execution_count": 14,
      "outputs": [
        {
          "output_type": "stream",
          "text": "date1 is:  2013-05-07\ndate2 is:  1999-04-23\n",
          "name": "stdout"
        }
      ]
    },
    {
      "metadata": {},
      "cell_type": "markdown",
      "source": "### Getting a `date` attribute"
    },
    {
      "metadata": {
        "trusted": true
      },
      "cell_type": "code",
      "source": "from datetime import date\n\n# assign a date variable\nSpecialDate = date(year = 2017, month = 11, day = 15)\n\ny = SpecialDate.year # will be 2017\nm = SpecialDate.month # will be 11\nd = SpecialDate.day # will be 15\n\nprint(\"The Special Date is: / month: \", m, \"/ day: \", d, \"/ year: \", y)",
      "execution_count": 15,
      "outputs": [
        {
          "output_type": "stream",
          "text": "The Special Date is: / month:  11 / day:  15 / year:  2017\n",
          "name": "stdout"
        }
      ]
    },
    {
      "metadata": {},
      "cell_type": "markdown",
      "source": "### Modifying the attributes of an assigned `date` object\nThe `replace` function can be used to modify the attributes of a `date` object in the same way it is used to modify attributes of an assigned `time` object."
    },
    {
      "metadata": {
        "trusted": true
      },
      "cell_type": "code",
      "source": "from datetime import date\n\n# assign a date\nSomeDate = date(year = 2015, day = 28, month = 2)\nprint(\"Old date: \", SomeDate)\n\n# modify year and day\n# 2016 is a leap year, so we can set the date to Feb 29 2016\nSomeDate = SomeDate.replace(year = 2016, day = 29)\nprint(\"New date: \", SomeDate)",
      "execution_count": 16,
      "outputs": [
        {
          "output_type": "stream",
          "text": "Old date:  2015-02-28\nNew date:  2016-02-29\n",
          "name": "stdout"
        }
      ]
    },
    {
      "metadata": {},
      "cell_type": "markdown",
      "source": "### Getting the current local date"
    },
    {
      "metadata": {
        "trusted": true
      },
      "cell_type": "code",
      "source": "from datetime import date\n\n# get today's date\nd = date.today()\n\nprint(d)",
      "execution_count": 1,
      "outputs": [
        {
          "output_type": "stream",
          "text": "2019-10-18\n",
          "name": "stdout"
        }
      ]
    },
    {
      "metadata": {},
      "cell_type": "markdown",
      "source": "---\n<font size=\"6\" color=\"#B24C00\"  face=\"verdana\"> <B>Task 2</B></font>\n\n## `date` Objects"
    },
    {
      "metadata": {
        "trusted": true
      },
      "cell_type": "code",
      "source": "# [ ] Create a `date` variable containing: (March 28 2012)\nfrom datetime import date\ndt = date(month= 3,day=28,year=2012)\nprint(dt)",
      "execution_count": 2,
      "outputs": [
        {
          "output_type": "stream",
          "text": "2012-03-28\n",
          "name": "stdout"
        }
      ]
    },
    {
      "metadata": {
        "trusted": true
      },
      "cell_type": "code",
      "source": "# [ ] Prompt the user to enter a month and a day, get the current year, then create a date object with the information collected\nfrom datetime import date\ndm = int(input(\"Input an month:\"))\ndd = int(input(\"Input an day:\"))\ndy = date.today().year\nDate = date(month=dm,year=dy,day=dd)\nprint(Date)",
      "execution_count": 6,
      "outputs": [
        {
          "output_type": "stream",
          "name": "stdout",
          "text": "Input an month:5\nInput an day:6\n2019-05-06\n"
        }
      ]
    },
    {
      "metadata": {},
      "cell_type": "markdown",
      "source": "---\n<font size=\"6\" color=\"#00A0B2\"  face=\"verdana\"> <B>Concepts</B></font>  \n\n\n## `datetime` Objects\n\n[![view video](https://iajupyterprodblobs.blob.core.windows.net/imagecontainer/common/play_video.png)](https://www.youtube.com/watch?v=fFKuVm4U7d8)\n\n### `datetime(year, month, day, hour = 0, minute = 0, second = 0, microsecond = 0)`\nSome applications require knowing and/or manipulating both time and date information. The `datetime` module has a datatype (class) that combines both time and date information into the same variable. This general datatype has the same name as the `datetime` module. The `datetime` datatype combines the attributes of a `date` object and a `time` object, and can be assigned, modified, and accessed in a similar way. When assigning a new variable of type `datetime`, all the date attributes are required; the time attributes are optional and have default values of 0. The attributes have the same ranges as those of the individual `time` and `date` objects:\n* 1 &leq; year &leq; 9999\n* 1 &leq; month &leq; 12\n* 1 &leq; day &leq; number of days in the given month and year\n* 0 &leq; hour < 24\n* 0 &leq; minute < 60\n* 0 &leq; second < 60\n* 0 &leq; microsecond < 1000000\n\nThe attributes of a `datetime` variable can be modified using the `replace` function. The new attribute values should be within the valid limits.\n\n### Setting a `datetime` object to the current local date and time\nThe attributes of a `datetime` object can be set to the current local date and time using the `today` function. The function behaves in the same way it does with a `date` object, except that it also captures the current local time.\n\n```python\n# set dt to the current local date and time\nIn [1]: dt = datetime.today()\n```\n\n### Splitting a `datetime` object into separate `date` and `time` objects\nA `datetime` object can be split into separate `date` and `time` objects, this can be achieved using the functions `date()` and `time()` as follows:\n\n```python\n# set dt to some date/time\nIn [1]: dt = datetime(year = 2014, month = 1, day = 3, hour = 15, minute = 1)\nIn [2]: t = dt.time() # set time t to 15:1:0.0\nIn [3]: d = dt.date() # set date d to January 3 2014\n```\n\n### Combining separate `date` and `time` objects into a single `datetime` object\nSeparate `date` and `time` variables can be combined into a single `datetime` variable using the `combine(date, time)` function.\n\n```python\nIn [1]: t = time(hour = 15, minute = 1) # set time t to 15:1:0.0\nIn [2]: d = date(year = 2014, month = 1, day = 3) # set date d to January 3 2014\nIn [3]: dt = datetime.combine(d ,t) # or equivalently dt = datetime.combine(date = d, time = t)\n```"
    },
    {
      "metadata": {},
      "cell_type": "markdown",
      "source": "---\n<font size=\"6\" color=\"#00A0B2\"  face=\"verdana\"> <B>Examples</B></font>\n\n### Assigning a `datetime` object"
    },
    {
      "metadata": {
        "trusted": true
      },
      "cell_type": "code",
      "source": "from datetime import datetime\n\n# July 4th 2022, at 4:30 PM\n\n# Method 1\ndt = datetime(2022, 7, 4, 16, 30)\nprint(\"Method 1: \", dt)\n\n# Method 2\ndt = datetime(day = 4, month = 7, year = 2022, minute = 30, hour = 16)\nprint(\"Method 2: \", dt)",
      "execution_count": 2,
      "outputs": [
        {
          "output_type": "stream",
          "text": "Method 1:  2022-07-04 16:30:00\nMethod 2:  2022-07-04 16:30:00\n",
          "name": "stdout"
        }
      ]
    },
    {
      "metadata": {},
      "cell_type": "markdown",
      "source": "### Getting a `datetime` attribute"
    },
    {
      "metadata": {
        "trusted": true
      },
      "cell_type": "code",
      "source": "from datetime import datetime\n\n# July 4th 2022, at 4:30 PM\ndt = datetime(2022, 7, 4, 16, 30)\n\n# access year\nprint(\"Year is: \", dt.year)\n\n# access minute\nprint(\"Minute is: \", dt.minute)",
      "execution_count": 3,
      "outputs": [
        {
          "output_type": "stream",
          "text": "Year is:  2022\nMinute is:  30\n",
          "name": "stdout"
        }
      ]
    },
    {
      "metadata": {},
      "cell_type": "markdown",
      "source": "### Modifying the attributes of an assigned `datetime` object"
    },
    {
      "metadata": {
        "trusted": true
      },
      "cell_type": "code",
      "source": "from datetime import datetime\n\n# July 4th 2022, at 4:30 PM\ndt = datetime(2022, 7, 4, 16, 30)\n\n# change year to 2020 and second to 30\ndt = dt.replace(year = 2020, second = 30)\nprint(dt)",
      "execution_count": 4,
      "outputs": [
        {
          "output_type": "stream",
          "text": "2020-07-04 16:30:30\n",
          "name": "stdout"
        }
      ]
    },
    {
      "metadata": {},
      "cell_type": "markdown",
      "source": "### Getting the current local date and time"
    },
    {
      "metadata": {
        "trusted": true
      },
      "cell_type": "code",
      "source": "from datetime import datetime\n\n# get today's date and current local time\ndt = datetime.today()\nprint(dt)",
      "execution_count": 5,
      "outputs": [
        {
          "output_type": "stream",
          "text": "2019-10-18 08:31:59.844818\n",
          "name": "stdout"
        }
      ]
    },
    {
      "metadata": {},
      "cell_type": "markdown",
      "source": "### Splitting a `datetime` object into separate `date` and `time` objects"
    },
    {
      "metadata": {
        "trusted": true
      },
      "cell_type": "code",
      "source": "from datetime import datetime, time, date\n\n# get today's date and current local time\ndt = datetime.today()\n\n# split into time t and date d\nt = dt.time()\nprint(\"Time is: \", t)\n\nd = dt.date()\nprint(\"Date is: \", d)",
      "execution_count": 3,
      "outputs": [
        {
          "output_type": "stream",
          "text": "Time is:  05:18:34.129608\nDate is:  2019-11-05\n",
          "name": "stdout"
        }
      ]
    },
    {
      "metadata": {},
      "cell_type": "markdown",
      "source": "### Combining separate `date` and `time` objects into a `datetime` object"
    },
    {
      "metadata": {
        "trusted": true
      },
      "cell_type": "code",
      "source": "from datetime import datetime, time, date\n\n# assign a time object\nt = time(hour = 6, minute = 45, second = 0)\n\n# assign a date object\nd = date.today()\n\n# combine t and d into a datetime object\ndt = datetime.combine(date = d, time = t)\n\nprint(dt)",
      "execution_count": 7,
      "outputs": [
        {
          "output_type": "stream",
          "text": "2019-10-18 06:45:00\n",
          "name": "stdout"
        }
      ]
    },
    {
      "metadata": {},
      "cell_type": "markdown",
      "source": "---\n<font size=\"6\" color=\"#B24C00\"  face=\"verdana\"> <B>Task 3</B></font>\n\n## `datetime` Objects"
    },
    {
      "metadata": {
        "trusted": true
      },
      "cell_type": "code",
      "source": "# [ ] Create a `datetime` variable containing: (March 28 2012 @ 12:55:10:30 AM)\nfrom datetime import datetime,time,date\nt = time(hour=12,minute=55,second=10,microsecond=30)\nd = date(month= 3,day=28,year=2012)\nDatetime = datetime.combine(date=d,time=t)\nprint(Datetime)",
      "execution_count": 13,
      "outputs": [
        {
          "output_type": "stream",
          "text": "2012-03-28 12:55:10.000030 AM\n",
          "name": "stdout"
        }
      ]
    },
    {
      "metadata": {
        "trusted": true
      },
      "cell_type": "code",
      "source": "# [ ] Write code that prints the current hour\nfrom datetime import  datetime\ndt = datetime.today()\nprint(dt)\nt = dt.time()\nprint(t.hour)",
      "execution_count": 14,
      "outputs": [
        {
          "output_type": "stream",
          "text": "2019-10-18 09:24:52.826604\n9\n",
          "name": "stdout"
        }
      ]
    },
    {
      "metadata": {
        "trusted": true
      },
      "cell_type": "code",
      "source": "# [ ] Write a program that prints the current date on one line and the current time on another line\nfrom datetime import time,date,datetime\ndt = datetime.today()\nd = dt.date()\nt = dt.time()\nprint(d,\"\\n\",t)\n",
      "execution_count": 15,
      "outputs": [
        {
          "output_type": "stream",
          "text": "2019-10-18 \n 09:24:55.197377\n",
          "name": "stdout"
        }
      ]
    },
    {
      "metadata": {
        "trusted": true
      },
      "cell_type": "code",
      "source": "# [ ] Write a program that:\n# 1) prompts the user for a time (hours and minutes only)\n# 2) gets the current date\n# 3) combines the collected information into a `datetime` variable\nfrom datetime import datetime,time,date\nhour = int(input(\"Please input an hour:\"))\nminutes = int(input(\"Please input minutes:\"))\ndate = date.today()\ntime = time(hour=hour,minute=minutes)\ndatetime = datetime.combine(date=date,time=time)\nprint(datetime)",
      "execution_count": 16,
      "outputs": [
        {
          "output_type": "stream",
          "name": "stdout",
          "text": "Please input an hour:5\nPlease input minutes:6\n2019-10-18 05:06:00\n"
        }
      ]
    },
    {
      "metadata": {},
      "cell_type": "markdown",
      "source": "---\n<font size=\"6\" color=\"#00A0B2\"  face=\"verdana\"> <B>Concepts</B></font>  \n\n\n## Formatting Dates and Times\n\n[![view video](https://iajupyterprodblobs.blob.core.windows.net/imagecontainer/common/play_video.png)](https://www.youtube.com/watch?v=fFHZuUxzjnk)\n\nThe date and time information is often shown to us humans; therefore, it is useful to display it in a human-friendly way. For example, you might want to show a date as Nov, 03, 1999, or display the time as 10:15 AM. The `strftime()` function will make this task easier. \n\n`strftime()` applies to `time`, `date`, and `datetime` objects. It reads the attributes of the object, applies a formatting directive, and returns a formatted string. There are different date and time directives; however, `time` directives shouldn't be used with `date` objects because they don't have such attributes; similarly, `date` directives shouldn't be used with `time` objects.\n\nThe `strftime()` is passed a string containing all necessary formatting directives along with any necessary slashes, commas, colons, and so on. The following tables show a short list of commonly used directives. The Python Documentation site has more information on the `strftime()` function at https://docs.python.org/3/library/datetime.html#strftime-strptime-behavior.\n\n#### Date formatting directives\n\n|Directive| Meaning| Example|\n|---------|--------|--------|\n|%a| Abbreviated weekday name| Sun, Mon, ..., Fri|\n|%A| Full weekday name| Sunday, Monday, ..., Friday|\n|%d| Day of the month as a zero-padded decimal| 01, 02, 03, ... 31|\n|%b| Abbreviated month name| Jan, Feb, ..., Dec|\n|%B| Full month name| January, February, ..., December|\n|%m| Month as a zero-padded decimal| 01, 02,..., 12|\n|%y| 2 decimal year number (without century) | 00, 01, ..., 99|\n|%Y| 4 decimal year number (with century) | 1900, 1989, ..., 2015|\n\n#### Time formatting directives\n|Directive| Meaning| Example|\n|---------|--------|--------|\n|%H| Hour in 24-hour clock (zero-padded)| 00, 01, ..., 23|\n|%I| Hour in 12-hour clock (zero-padded)| 00, 01, ..., 12|\n|%p| AM or PM| AM, PM|\n|%M| Minutes as zero-padded decimal| 00, 01, ..., 59|\n|%S| Seconds as zero-padded decimal| 00, 01, ...,59|\n\n"
    },
    {
      "metadata": {},
      "cell_type": "markdown",
      "source": "---\n<font size=\"6\" color=\"#00A0B2\"  face=\"verdana\"> <B>Examples</B></font>\n\n### Formatting `time` objects"
    },
    {
      "metadata": {
        "trusted": true
      },
      "cell_type": "code",
      "source": "from datetime import time\nt = time(hour = 10, minute = 15)\n\n# display as 10:15 AM\n# string passed to strftim includes all necessary spaces and semicolons\nformatted_string = t.strftime(\"%I:%M %p\")\nprint(\"First format: \", formatted_string)\n\n# display as 10:15:00 (24 hour clock, no AM/PM)\nformatted_string = t.strftime(\"%H:%M:%S\")\nprint(\"Second format: \",formatted_string)",
      "execution_count": 20,
      "outputs": [
        {
          "output_type": "stream",
          "text": "First format:  10:15 AM\nSecond format:  10:15:00\n",
          "name": "stdout"
        }
      ]
    },
    {
      "metadata": {},
      "cell_type": "markdown",
      "source": "### Formatting `date` objects"
    },
    {
      "metadata": {
        "trusted": true
      },
      "cell_type": "code",
      "source": "from datetime import date\nd = date(year = 1999, month = 11, day =3)\n\n# display as November, 03, 1999\n# string passed to strftime includes all necessary spaces and commas\nformatted_string = d.strftime(\"%B, %d, %Y\")\nprint(\"First format: \", formatted_string)\n\n# display as Nov 03 99\nformatted_string = d.strftime(\"%b %d %y\")\nprint(\"Second format: \", formatted_string)",
      "execution_count": 21,
      "outputs": [
        {
          "output_type": "stream",
          "text": "First format:  November, 03, 1999\nSecond format:  Nov 03 99\n",
          "name": "stdout"
        }
      ]
    },
    {
      "metadata": {},
      "cell_type": "markdown",
      "source": "### Formatting `datetime` objects"
    },
    {
      "metadata": {
        "trusted": true
      },
      "cell_type": "code",
      "source": "from datetime import datetime \ndt = datetime(year = 1999, month = 11, day = 3, hour = 10, minute = 15)\n\n# display as November, 03, 1999 @ 10:15 AM\nformatted_string = dt.strftime(\"%B, %d, %Y @ %I:%M %p\")\nprint(\"First format: \", formatted_string)\n\n# display as Nov 03 99 / 10:15:00\nformatted_string = dt.strftime(\"%b %d %y / %H:%M:%S\")\nprint(\"Second format: \", formatted_string)",
      "execution_count": 22,
      "outputs": [
        {
          "output_type": "stream",
          "text": "First format:  November, 03, 1999 @ 10:15 AM\nSecond format:  Nov 03 99 / 10:15:00\n",
          "name": "stdout"
        }
      ]
    },
    {
      "metadata": {},
      "cell_type": "markdown",
      "source": "---\n<font size=\"6\" color=\"#B24C00\"  face=\"verdana\"> <B>Task 4</B></font>\n\n## Formatting Dates and Times"
    },
    {
      "metadata": {
        "trusted": false
      },
      "cell_type": "code",
      "source": "# [ ] Write a program that displays the time: (17:39:10) as:\n# 1) 05:39:10 PM\n# 2) 17:39:10\nfrom datetime import time\ndt = time(hour=17,minute=39,second=10)\nTime = dt.strftime(\"%I:%M:%S %p\")\nprint(Time)\nprint(dt)",
      "execution_count": null,
      "outputs": []
    },
    {
      "metadata": {
        "trusted": true
      },
      "cell_type": "code",
      "source": "# [ ] Write a program that displays the date: (October 23rd 2018) as:\nfrom datetime import datetime\ndt = datetime(month=10,day=23,year=2018)\n# 1) Oct 23, 2018\ndate = dt.strftime(\"%b %d, %Y\")\nprint(date)\n# 2) 10/23/18\ndate = dt.strftime(\"%m/%d/%Y\")\nprint(date)\n# 3) 23/October/2018\ndate = dt.strftime(\"%d/%B/%Y\")\nprint(date)\n# 4) Tuesday October 23\ndate = dt.strftime(\"%A %B %d\")\nprint(date)",
      "execution_count": 24,
      "outputs": [
        {
          "output_type": "stream",
          "text": "Oct 23, 2018\n10/23/2018\n23/October/2018\nTuesday October 23\n",
          "name": "stdout"
        }
      ]
    },
    {
      "metadata": {
        "trusted": true
      },
      "cell_type": "code",
      "source": "# [ ] Complete the function `weekday` to return the weekday name of `some_date`\n# Use the function to find the weekday on which you were born\n\nfrom datetime import date\n\ndef weekday(some_date):\n    some_date = bd\n    return bd.strftime(\"%A\")\n# Modify to your birthdate\nbd = date(day=3, month=5, year=2005)\n\n# Display the day on which you were born\nday = weekday(bd)\nprint(day)",
      "execution_count": 1,
      "outputs": [
        {
          "output_type": "stream",
          "text": "Tuesday\n",
          "name": "stdout"
        }
      ]
    }
  ],
  "metadata": {
    "kernelspec": {
      "name": "python3",
      "display_name": "Python 3",
      "language": "python"
    },
    "language_info": {
      "mimetype": "text/x-python",
      "nbconvert_exporter": "python",
      "name": "python",
      "file_extension": ".py",
      "version": "3.5.4",
      "pygments_lexer": "ipython3",
      "codemirror_mode": {
        "version": 3,
        "name": "ipython"
      }
    }
  },
  "nbformat": 4,
  "nbformat_minor": 2
}