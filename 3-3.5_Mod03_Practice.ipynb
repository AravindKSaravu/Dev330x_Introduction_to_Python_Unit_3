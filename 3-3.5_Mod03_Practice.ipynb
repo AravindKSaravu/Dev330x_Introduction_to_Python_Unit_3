{
  "cells": [
    {
      "metadata": {},
      "cell_type": "markdown",
      "source": "# Module 3 Practice\n\n\n### Students will be able to:\n\n## 3-3.1 Error Handling\n* Differentiate between exception types and recognize their meaning\n* Handle a raised exception\n* Handle different exception types\n* Use `finally` to perform clean-up actions \n* Raise a forced exception of a particular type\n\n## 3-3.2 Files \n* Delete files\n* Check that a file exists\n* Check if a path is a file or directory\n* Handle file exceptions\n* Use `with` statement to ensure an opened file is closed after catching an exception.\n\n## 3-3.3 Tuples\n* Differentiate between tuples and lists\n* Create tuples\n* Access tuples elements\n* Convert a list into tuple and a tuple into a list\n* Delete tuples\n* Slice tuples\n* Unpack tuples\n* Use basic tuple operations and functions\n\n## 3-3.4 Dictionaries\n* Create dictionaries\n* Access dictionary values\n* Change and add dictionary items\n* Delete dictionary items\n* Delete a whole dictionary variable\n* Iterate over the keys of a dictionary \n* Iterate over the values of a dictionary\n* Iterate over the items of a dictionary\n* Use dictionary operations and functions (i.e. containment, sorting...etc.)"
    },
    {
      "metadata": {},
      "cell_type": "markdown",
      "source": "---\n<font size=\"6\" color=\"#B24C00\"  face=\"verdana\"> <B>Task 1</B></font>\n\n## Exception Types"
    },
    {
      "metadata": {
        "trusted": true
      },
      "cell_type": "code",
      "source": "# [ ] Write an expression to raise a `SyntaxError` exception\nprint('dddd)\n",
      "execution_count": 1,
      "outputs": [
        {
          "output_type": "error",
          "ename": "SyntaxError",
          "evalue": "EOL while scanning string literal (<ipython-input-1-8dc1d42d761d>, line 2)",
          "traceback": [
            "\u001b[0;36m  File \u001b[0;32m\"<ipython-input-1-8dc1d42d761d>\"\u001b[0;36m, line \u001b[0;32m2\u001b[0m\n\u001b[0;31m    print('dddd)\u001b[0m\n\u001b[0m                ^\u001b[0m\n\u001b[0;31mSyntaxError\u001b[0m\u001b[0;31m:\u001b[0m EOL while scanning string literal\n"
          ]
        }
      ]
    },
    {
      "metadata": {
        "trusted": true
      },
      "cell_type": "code",
      "source": "# [ ] Write an expression to raise a `TypeError` exception\na = 1+\"1\"",
      "execution_count": 13,
      "outputs": [
        {
          "output_type": "error",
          "ename": "TypeError",
          "evalue": "unsupported operand type(s) for +: 'int' and 'str'",
          "traceback": [
            "\u001b[0;31m---------------------------------------------------------------------------\u001b[0m",
            "\u001b[0;31mTypeError\u001b[0m                                 Traceback (most recent call last)",
            "\u001b[0;32m<ipython-input-13-bafdac4225be>\u001b[0m in \u001b[0;36m<module>\u001b[0;34m()\u001b[0m\n\u001b[1;32m      1\u001b[0m \u001b[0;31m# [ ] Write an expression to raise a `TypeError` exception\u001b[0m\u001b[0;34m\u001b[0m\u001b[0;34m\u001b[0m\u001b[0m\n\u001b[0;32m----> 2\u001b[0;31m \u001b[0ma\u001b[0m \u001b[0;34m=\u001b[0m \u001b[0;36m1\u001b[0m\u001b[0;34m+\u001b[0m\u001b[0;34m\"1\"\u001b[0m\u001b[0;34m\u001b[0m\u001b[0m\n\u001b[0m",
            "\u001b[0;31mTypeError\u001b[0m: unsupported operand type(s) for +: 'int' and 'str'"
          ]
        }
      ]
    },
    {
      "metadata": {},
      "cell_type": "markdown",
      "source": "---\n<font size=\"6\" color=\"#B24C00\"  face=\"verdana\"> <B>Task 2</B></font>\n\n## Handling Exceptions"
    },
    {
      "metadata": {
        "trusted": true
      },
      "cell_type": "code",
      "source": "## [ ] The following program divides the elements of `lst` by a float number `x` specified by the user\n# Use exception handling to correct for the ALL generated exceptions\n# When you handle all exceptions correctly, you should see the word \"Done!\" in the program output\n\n# HINT: You might need to use 2 `try..except` statements\n\n# Test cases:\n# x = 5\n# x = 6.3\n# x = \"number\"\n# x = 0\n\nlst = [8, 85.4, [55, 4], 'word', (59,), {2:43.5}]\ntry:\n    x = input(\"Enter a number: \")\n    x = float(x)\n\n    for i in range(7):\n        print(\"{} / {:.2f} = {:.2f}\".format(lst[i], x, lst[i] / x))\nexcept TypeError:\n    pass\nexcept ZeroDivisionError:\n    print(\"NOT DIVISIBLE BY 0!!\")\nexcept ValueError:\n    print(\"Only Numbers!!!\")\nprint(\"Done!\")",
      "execution_count": 12,
      "outputs": [
        {
          "output_type": "stream",
          "name": "stdout",
          "text": "Enter a number: bhjoh\nOnly Numbers!!!\nDone!\n"
        }
      ]
    },
    {
      "metadata": {},
      "cell_type": "markdown",
      "source": "### Files exception handling"
    },
    {
      "metadata": {
        "trusted": true
      },
      "cell_type": "code",
      "source": "# [ ] The following program asks the user for a file name.\n# The file is then opened, the first line printed out, then closed.\n\n# Use exception handling to show the user a message confirming the file process was completed successfully\n# your exception handling should also deal with the cases when the file does not exist\n\n# test cases:\n# fname = text_file.txt (should display: File process was completed successfully)\n# fname = nofilehere.txt (should display: nofilehere.txt was not found)\n\nimport os\n# ask user for a file name\nprint(os.listdir('parent_dir'))\nfname = input(\"Enter file name: \")\n# the file should be located in `parent_dir`\ntry:\n    fname = os.path.join(\"parent_dir\", fname)\n    # opening text_file.txt for reading\n    f = open(fname, 'r')\n    print(f.readline())\n    print(\"File process was completed successfully!!!\")\n    f.close()\nexcept FileNotFoundError:\n    print(fname,\"doesn't exist!!!Try again!!\")\nexcept IsADirectoryError:\n    print(\"No directories only files!!\")\nexcept:\n    print(\"Sorry!Try next time!!\")",
      "execution_count": 15,
      "outputs": [
        {
          "output_type": "stream",
          "text": "['text_file.txt', 'randoms_directory', 'parent_leaf.txt', 'files_exercises', 'a', 'child2_dir', 'practice_1', 'child1_dir']\nEnter file name: text_file.txt\nFirst line in file!\n\nFile process was completed successfully!!!\n",
          "name": "stdout"
        }
      ]
    },
    {
      "metadata": {
        "trusted": true
      },
      "cell_type": "code",
      "source": "# [ ] The following program tries to read from a file opened for writing.\n# The program will terminate before closing the file, and the file resources will not be released.\n# Use exception handling with a `finally` to make sure the file is closed\n\n# Open a text file for writing\nf = open(\"parent_dir/text_file_2.txt\", 'w')\n# trying to read from a file open for writing (will raise an exception)\ntry:\n    print(f.readline())\nexcept NameError:\n    print(\"oh..\")\nexcept ValueError:\n    pass\n# closing the file (will not be reached if an exception was raised)\nfinally:\n    f.close()\n    print(\"File closed\")",
      "execution_count": 21,
      "outputs": [
        {
          "output_type": "stream",
          "text": "File closed\n",
          "name": "stdout"
        }
      ]
    },
    {
      "metadata": {},
      "cell_type": "markdown",
      "source": "---\n<font size=\"6\" color=\"#B24C00\"  face=\"verdana\"> <B>Task 3</B></font>\n\n## Raising exceptions"
    },
    {
      "metadata": {},
      "cell_type": "markdown",
      "source": "### User input"
    },
    {
      "metadata": {
        "trusted": true
      },
      "cell_type": "code",
      "source": "# [ ] Write a program to keep prompting the user for a number from a predefined numerical tuple `valid_nums`\n# Your program should raise an exception with an appropriate message if the input is not valid\n\nvalid_nums = (1, 2, 8, 16, 32, 64)\nprint(valid_nums)\n\nwhile True:\n    try:\n        num = int(input(\"Input an Number:\"))\n        if num in valid_nums:\n            pass\n        else:\n            print(\"Only numbers from the tuple!!TRY AGAIN NEXT TIME!!\")\n            break\n    except:\n        print(\"Only numbers from the tuple!!Try next time!!\")\n        break",
      "execution_count": 1,
      "outputs": [
        {
          "output_type": "stream",
          "text": "(1, 2, 8, 16, 32, 64)\nInput an Number:\nOnly numbers from the tuple!!Try next time!!\n",
          "name": "stdout"
        }
      ]
    },
    {
      "metadata": {},
      "cell_type": "markdown",
      "source": "---\n<font size=\"6\" color=\"#B24C00\"  face=\"verdana\"> <B>Task 4</B></font>\n\n## Files\n\n**You _MUST_ run the environment setup code before running your program in every exercise in this task.**"
    },
    {
      "metadata": {},
      "cell_type": "markdown",
      "source": "### Environment setup (no coding required)\nThis code segment creates a `files_exercises` directory then creates 100 text files in it. The files are named sequentially from 0 to 99. The first line of each file is a random number from 1000 to 9999. The script also creates 5 directories inside `files_exercises`, the directories are named `dir_1`, `dir_2`,...`dir_5`."
    },
    {
      "metadata": {
        "trusted": true
      },
      "cell_type": "code",
      "source": "# Do not modify or add anything to this code segment.\n# This code segment must be run before attempting any of the tasks in this lesson.\n# It prepares the directories and files necessary to complete the tasks.\n\nimport os, random, shutil\n\n# Navigate to `parent_dir` directory (if not already in it)\ncurrent_path = os.getcwd()\nif (\"parent_dir\" in current_path):\n    nb_path = current_path.split(\"parent_dir\")[0]\nelse:\n    nb_path = current_path\nprint(\"Changing working dir to parent_dir\")\nos.chdir(os.path.join(nb_path,'parent_dir'))\nprint(\"Current working directory:\", os.getcwd())\n\n\n# Remove the `files_exercises` directory (if it exists)\nif('files_exercises' in os.listdir()):\n    print('Removing \"files_exercises\"')\n    shutil.rmtree('files_exercises')\n    \n# Create a new directory called `files_exercises`\nprint('Making \"files_exercises\"')\nos.mkdir('files_exercises')\n\n# Change the working directory to `files_exercises`\nprint('Changing working directory to \"files_exercises\"')\nos.chdir('files_exercises')\n\n# Display the current working directory to verify you are in the correct location\nprint(\"Current working directory:\", os.getcwd())\n\n# Create 100 text files, the first line of each file is a random number in the range [1000, 9999]\nprint(\"Creating 100 text files\")\nrandom.seed(25000) # to get the same random numbers every time the setup runs\nfor i in range(100):\n    file_name = str(i) + \".txt\"\n    f = open(file_name, 'w')\n    f.write(str(random.randint(1000, 9999)))\n    f.close()\n\n# Create 5 directories\nprint(\"Creating 5 directories\")\nfor i in range(1, 6):\n    os.mkdir(\"dir_\"+str(i))\n\nprint(\"Environment setup completed!\")",
      "execution_count": 1,
      "outputs": [
        {
          "output_type": "stream",
          "text": "Changing working dir to parent_dir\nCurrent working directory: /home/nbuser/library/parent_dir\nRemoving \"files_exercises\"\nMaking \"files_exercises\"\nChanging working directory to \"files_exercises\"\nCurrent working directory: /home/nbuser/library/parent_dir/files_exercises\nCreating 100 text files\nCreating 5 directories\nEnvironment setup completed!\n",
          "name": "stdout"
        }
      ]
    },
    {
      "metadata": {},
      "cell_type": "markdown",
      "source": "### Removing files"
    },
    {
      "metadata": {
        "trusted": true
      },
      "cell_type": "code",
      "source": "# [ ] Complete the function `delete_files` so the program deletes all the files in the `files_exercises` directory\n# Make sure the to run the environment setup code before running your own program.\nimport os\ndef delete_files():\n    for i in range(0,100):\n        filename = str(i) + '.txt'\n        os.remove(filename)\ndelete_files()\nprint(os.listdir())",
      "execution_count": 40,
      "outputs": [
        {
          "output_type": "stream",
          "text": "['dir_3', 'dir_2', 'dir_5', 'dir_4', 'dir_1']\n",
          "name": "stdout"
        }
      ]
    },
    {
      "metadata": {},
      "cell_type": "markdown",
      "source": "### Handling file exceptions\n"
    },
    {
      "metadata": {
        "trusted": true
      },
      "cell_type": "code",
      "source": "# [ ] The following program is designed to remove all files in `files_exercises` that contain a number divisible by 3 on the first line.\n# To complete the program, you need to:\n# 1) complete the function `delete_files` as you did in a previous exercise\n# 2) iterate over all content in `file_exercises`:\n#    2.1) if an element in the directory is a file open it for reading using `with` statement\n#    2.2) read the first line in the file\n#    2.3) if the first line contains a number divisible by 3, add the file name to the `to_be_deleted` list\n#    2.4) your code should handle exception appropriately (i.e. a blank file or a file containing a string in the first line)\n# 3) make sure the to run the environment setup code before running your own program.\n\n\n# The output of your program should look like:\n'''\nUnexpected error found in 49.txt: invalid literal for int() with base 10: ''\n\nDeleting matching files:\n------------------------------\nRemoving 15.txt\nRemoving 16.txt\nRemoving 18.txt\nRemoving 19.txt\nRemoving 20.txt\nRemoving 23.txt\nRemoving 28.txt\nRemoving 35.txt\nRemoving 39.txt\nRemoving 40.txt\nRemoving 44.txt\nRemoving 46.txt\nRemoving 5.txt\nRemoving 51.txt\nRemoving 52.txt\nRemoving 54.txt\nRemoving 55.txt\nRemoving 58.txt\nRemoving 59.txt\nRemoving 65.txt\nRemoving 67.txt\nRemoving 68.txt\nRemoving 69.txt\nRemoving 71.txt\nRemoving 73.txt\nRemoving 77.txt\nRemoving 80.txt\nRemoving 81.txt\nRemoving 85.txt\nRemoving 87.txt\nRemoving 91.txt\nRemoving 94.txt\nRemoving 95.txt\nRemoving 96.txt\n'''\nimport os\n\n\ndef delete_files(to_be_deleted):\n    \"\"\"\n    Remove all the files listed in `to_be_deleted` and leave the directories.\n\n    args:\n        to_be_deleted: list of paths\n\n    returns:\n        None\n    \"\"\"\n\n    # TODO: Copy code from previous exercise\n    for a in to_be_deleted:\n        try:\n            os.remove(str(a)+\".txt\")\n        except FileNotFoundError as exception:\n            print(a+\".txt\",exception)\n        else:\n            print(\"Removing \"+a+\".txt\")\n\nos.chdir('/home/nbuser/library/parent_dir/files_exercises')\n# list the content of `files_exercises`\nprint('Content of \"files_exercises\" before removing the files')\nprint(os.listdir())\nprint(30 * \"-\")\n\n# clearing (49.txt) so an exception is raised below as a result of int( )\n# opening a file without doing anything clears it!\nwith open('49.txt', 'w') as file:\n    pass\n\nto_be_deleted = []\n\n# TODO: iterate over directory content and store file names containing numbers divisible by 3 in `to_be_deleted` list\nfor a in os.listdir('/home/nbuser/library/parent_dir/files_exercises'):\n    if (a[-3:]) == \"txt\":\n        try:\n            f = open(a, \"r\")\n            line = f.readline()\n            int(line)\n        except ValueError as exception:\n            print(\"Unexpected error found in\", a, exception)\n        else:\n            if int(line) % 3 == 0:\n                to_be_deleted.append(a[:-4])\n        finally:\n            f.close()\nprint()\nprint(\"Deleting matching files:\")\nprint(30 * \"-\")\ndelete_files(to_be_deleted)",
      "execution_count": 61,
      "outputs": [
        {
          "output_type": "stream",
          "text": "Content of \"files_exercises\" before removing the files\n['70.txt', '13.txt', '15.txt', '26.txt', '14.txt', '3.txt', '61.txt', '54.txt', '48.txt', '16.txt', '38.txt', '36.txt', '29.txt', '56.txt', '72.txt', '28.txt', '52.txt', '64.txt', '47.txt', '71.txt', '32.txt', '25.txt', '53.txt', '9.txt', '0.txt', '11.txt', '18.txt', '92.txt', '23.txt', '69.txt', '90.txt', '62.txt', '89.txt', '97.txt', '57.txt', '22.txt', '85.txt', '40.txt', '98.txt', '2.txt', '77.txt', 'dir_3', 'dir_2', '49.txt', '5.txt', '44.txt', '58.txt', '91.txt', '30.txt', '59.txt', '68.txt', '43.txt', '7.txt', '46.txt', '67.txt', '50.txt', '82.txt', '63.txt', 'dir_5', '93.txt', '65.txt', '81.txt', '45.txt', 'dir_4', '79.txt', '37.txt', '41.txt', '4.txt', '75.txt', '80.txt', '86.txt', '83.txt', 'dir_1', '8.txt', '19.txt', '74.txt', '42.txt', '94.txt', '76.txt', '35.txt', '27.txt', '17.txt', '1.txt', '84.txt', '99.txt', '88.txt', '96.txt', '31.txt', '6.txt', '10.txt', '51.txt', '39.txt', '95.txt', '24.txt', '60.txt', '66.txt', '55.txt', '20.txt', '12.txt', '33.txt', '87.txt', '73.txt', '34.txt', '21.txt', '78.txt']\n------------------------------\nUnexpected error found in 49.txt invalid literal for int() with base 10: ''\n\nDeleting matching files:\n------------------------------\nRemoving 15.txt\nRemoving 54.txt\nRemoving 16.txt\nRemoving 28.txt\nRemoving 52.txt\nRemoving 71.txt\nRemoving 18.txt\nRemoving 23.txt\nRemoving 69.txt\nRemoving 85.txt\nRemoving 40.txt\nRemoving 77.txt\nRemoving 5.txt\nRemoving 44.txt\nRemoving 58.txt\nRemoving 91.txt\nRemoving 59.txt\nRemoving 68.txt\nRemoving 46.txt\nRemoving 67.txt\nRemoving 65.txt\nRemoving 81.txt\nRemoving 80.txt\nRemoving 19.txt\nRemoving 94.txt\nRemoving 35.txt\nRemoving 96.txt\nRemoving 51.txt\nRemoving 39.txt\nRemoving 95.txt\nRemoving 55.txt\nRemoving 20.txt\nRemoving 87.txt\nRemoving 73.txt\n",
          "name": "stdout"
        }
      ]
    },
    {
      "metadata": {},
      "cell_type": "markdown",
      "source": "### Searching files content"
    },
    {
      "metadata": {
        "trusted": true
      },
      "cell_type": "code",
      "source": "# [x] Write a program to:\n# 1) ask the user for a number between 1000 and 9999\n# 2) test if the number matches the first line of any file in `files_directory`\n# 3) if a match was found, print the file name; otherwise, print no match is found\n# 4) your code should handle exception appropriately (i.e. a blank file or a file containing a string in the first line)\n# 5) you should use `with` statement for opening/closing files\n# 6) make sure the to run the environment setup code before running your own program.\n\n# test cases:\n# 3932, should print out: Match found in 74.txt : 3932\n# 2177, should print out: Match found in 27.txt : 2177\n# 4932, should print out: No matching files found\n\nimport os\nc = True\nnum = input(\"What number are you looking for ? \")\nfor a in os.listdir('/home/nbuser/library/parent_dir/files_exercises'):\n##The above directory should be your files_exercises.\n    for b in range(len(os.listdir('/home/nbuser/library/parent_dir/files_exercises'))):\n            if (a[-3:]) == \"txt\":\n                with open(a,\"r\") as f:\n                    try:\n                        line = f.readline()\n                    except ValueError as exception:\n                        print(\"Unexpected error found in\",a,exception)\n                    else:\n                        if not line.isdigit():\n                            print(\"File\",a,\"does not contain a digit number only !\")\n                            break\n                        elif line == \"\":\n                            print(\"File\",a,\"is blank !\")\n                        else:\n                            if line == num:\n                                c = False\n                                print(\"Match found in\",a,\":\",num)\n                                break\nif (c):\n    print(\"No matching files found\")",
      "execution_count": null,
      "outputs": [
        {
          "output_type": "stream",
          "name": "stdout",
          "text": "What number are you looking for ? 3932\nMatch found in 74.txt : 3932\n"
        }
      ]
    },
    {
      "metadata": {},
      "cell_type": "markdown",
      "source": "---\n<font size=\"6\" color=\"#B24C00\"  face=\"verdana\"> <B>Task 5</B></font>\n\n## Tuple basics"
    },
    {
      "metadata": {},
      "cell_type": "markdown",
      "source": "### Coordinates"
    },
    {
      "metadata": {
        "trusted": true
      },
      "cell_type": "code",
      "source": "# [ ] The tuples `x` and `y` contain the (x, y) coordinates of 10 points.\n# Write a program to create a single tuple `coordinates` that contains 10 sub-tuples of the (x, y) coordinates\n\n# The final tuple should look like:\n# ((75, 57), (77, 6), (55, 64), (93, 36), (41, 63), (62, 53), (70, 26), (30, 71), (74, 88), (97, 66))\n\nx = (75, 77, 55, 93, 41, 62, 70, 30, 74, 97)\ny = (57, 6, 64, 36, 63, 53, 26, 71, 88, 66)\nz = []\nfor a in range(10):\n    z += (x[a],y[a]),\nprint (tuple(z))",
      "execution_count": 5,
      "outputs": [
        {
          "output_type": "stream",
          "text": "((75, 57), (77, 6), (55, 64), (93, 36), (41, 63), (62, 53), (70, 26), (30, 71), (74, 88), (97, 66))\n",
          "name": "stdout"
        }
      ]
    },
    {
      "metadata": {},
      "cell_type": "markdown",
      "source": "### Merge sorted tuples"
    },
    {
      "metadata": {
        "collapsed": true,
        "trusted": true
      },
      "cell_type": "code",
      "source": "# [ ] Write a program to merge the two sorted tuples T1, T2 into a larger (also sorted) tuple T\n\n# Output should be:\n# Merged sorted tuple:\n# (12, 13, 15, 20, 20, 26, 30, 37, 40, 55, 60, 68, 72, 78, 81, 84, 89, 97, 97, 100)\n\n# sorted tuples\nT1 = (15, 20, 30, 37, 55, 60, 78, 81, 84, 100)\nT2 = (12, 13, 20, 26, 40, 68, 72, 89, 97, 97)\nz = []\nfor a in T2:\n    z.append(a)\nfor a in T1:\n    z.append(a)\nz.sort()\nprint(tuple(z))",
      "execution_count": null,
      "outputs": []
    },
    {
      "metadata": {},
      "cell_type": "markdown",
      "source": "---\n<font size=\"6\" color=\"#B24C00\"  face=\"verdana\"> <B>Task 6</B></font>\n\n## Tuple operations and functions"
    },
    {
      "metadata": {},
      "cell_type": "markdown",
      "source": "### Multiple function returns"
    },
    {
      "metadata": {
        "trusted": true
      },
      "cell_type": "code",
      "source": "# [ ] Complete the function `simple_stats` so it returns:\n# 1) The maximum number in the tuple T\n# 2) The minimum number in the tuple T\n# 3) The average of the numbers in the tuple T\n\n\ndef simple_stats(T):\n    #TODO: your code goes here\n    largest = max(T)\n    smallest = min(T)\n    average  = float(sum(T)/len(T))\n    return largest,smallest,average\n\n\n\nT = (257, 462, 18, 369, 415, 994, 541, 752, 78, 895, 0, 576, 40, 552, 438, 605, 54, 296, 433, 986, 685, 651, 523, 855, 777, 437, 65, 360, 265, 858, 260, 819, 586, 358, 860, 250, 531, 7, 801, 259, 155, 376, 374, 828, 475, 62, 52, 184, 186, 283, 643, 86, 472, 267, 692, 750, 948, 683, 452, 770, 322, 492, 871, 360, 88, 883, 764, 288, 383, 411, 679, 90, 857, 802, 974, 403, 798, 990, 475, 260, 289, 438, 873, 779, 895, 939, 462, 469, 183, 520, 366, 267, 896, 732, 303, 754, 195, 949, 546, 180)\n\n# unpacking and displaying the returned values\nlargest, smallest, average = simple_stats(T)\nprint(\"Maximum number in T:\", largest)\nprint(\"Minimum number in T:\", smallest)\nprint(\"Average of numbers in T:\", average)",
      "execution_count": 6,
      "outputs": [
        {
          "output_type": "stream",
          "text": "Maximum number in T: 994\nMinimum number in T: 0\nAverage of numbers in T: 499.31\n",
          "name": "stdout"
        }
      ]
    },
    {
      "metadata": {},
      "cell_type": "markdown",
      "source": "### Tuple length"
    },
    {
      "metadata": {
        "trusted": true
      },
      "cell_type": "code",
      "source": "# [ ] Complete the function `longer` to compare and return the longest of 2 tuples\n\ndef longer(T1, T2):\n    \"\"\"\n    Return the longer of two tuples\n\n    args:\n        T1: tuple of arbitrary length\n        T2: tuple of arbitrary length\n\n    returns:\n        T1: if T1 is longer than T2\n        T2: if T2 is longer or the same length as T1\n    \"\"\"\n    # TODO: Your code goes here\n    if len(T1)>len(T2):\n        return T1\n    elif len(T2) >=len(T1):\n        return T2\n\nT1 = (98, 84, 71, 87, 54, 16, 70, 62, 1, 29, 66, 1, 74, 71, 68, 58, 65, 75, 74, 77, 94, 19, 46)\nT2 = (62, 30, 58, 75, 0, 61, 37, 93, 40, 33, 93, 94, 72, 27, 92, 75, 38, 70, 99, 74, 89, 8, 42, 32, 4, 60, 5)\n\nprint(\"The longer tuple is:\")\nprint(longer(T1, T2))",
      "execution_count": 6,
      "outputs": [
        {
          "output_type": "stream",
          "text": "The longer tuple is:\n(62, 30, 58, 75, 0, 61, 37, 93, 40, 33, 93, 94, 72, 27, 92, 75, 38, 70, 99, 74, 89, 8, 42, 32, 4, 60, 5)\n",
          "name": "stdout"
        }
      ]
    },
    {
      "metadata": {},
      "cell_type": "markdown",
      "source": "### Searching tuples"
    },
    {
      "metadata": {
        "trusted": true
      },
      "cell_type": "code",
      "source": "# [ ] Complete the function `search` so it looks for the first instance of `num` in `T`\n# The function should return 2 values:\n# 1) Boolean value indicating if num was found or not\n# 2) Index of the first instance of `num` in `T`\n\ndef search(T, num):\n    \"\"\"\n    Search T for num and return the index if found; otherwise return None.\n    \n    args:\n        T: Tuple to be searched\n        num: number to use for the search\n        \n    returns:\n        found: Boolean value to indicate if the num is contained in T or not\n        i: If num is found in T return index of the first instance of num in T; otherwise, return the value `None`\n    \"\"\"\n    #TODO: Your code goes here\n    count = 0\n    for a in T:\n        count += 1\n        if a == num:\n            return True, count\n            break\n    return False, None\n\nT = (257, 462, 18, 369, 415, 994, 541, 752, 78, 895, 0, 576, 40, 552, 438, 605, 54, 296, 433, 986, 685, 651, 523, 855, 777, 437, 65, 360, 265, 858, 260, 819, 586, 358, 860, 250, 531, 7, 801, 259, 155, 376, 374, 828, 475, 62, 52, 184, 186, 283, 643, 86, 472, 267, 692, 750, 948, 683, 452, 770, 322, 492, 871, 360, 88, 883, 764, 288, 383, 411, 679, 90, 857, 802, 974, 403, 798, 990, 475, 260, 289, 438, 873, 779, 895, 939, 462, 469, 183, 520, 366, 267, 896, 732, 303, 754, 195, 949, 546, 180)\ntry:\n    x = int(input(\"Enter a number to search for in T: \"))\n\n    # unpacking returned tuple\n    found, i = search(T, x)\n\n    if found:\n        print(\"First instance found at index {:}\".format(i))\n    else:\n        print(\"{} was not found in T\".format(x))\nexcept:\n    print(\"Only numbers!!!\")\n\n\n    ",
      "execution_count": 8,
      "outputs": [
        {
          "output_type": "stream",
          "name": "stdout",
          "text": "Enter a number to search for in T: 7\nFirst instance found at index 38\n"
        }
      ]
    },
    {
      "metadata": {},
      "cell_type": "markdown",
      "source": "### Splitting tuples"
    },
    {
      "metadata": {
        "trusted": true
      },
      "cell_type": "code",
      "source": "# [x] Complete the functions `search` and `split` to slice a tuple `T` around a number `num`\n# The function should use the `search` function you developed in a previous exercise to find its index in `T`\n# If `num` is in T, you discard it and return two tuples:\n#   1) from the beginning of T till index of num\n#   2) from index+1 of num till the end of T\n# If `num` is not in T, you return:\n#   1) The whole Tuple\n#   2) The `None` value\n\n# Example input/output using T = (15, 20, 30, 37, 55, 60, 78, 81, 84, 100):\n\n# Enter a number around which you want to split T: 55\n# T1 = (15, 20, 30, 37)\n# T2 = (60, 78, 81, 84, 100)\n\n# Enter a number to search for in T: 400\n# T1 = (15, 20, 30, 37, 55, 60, 78, 81, 84, 100)\n# T2 = None\n\n\ndef search(T, num):\n    \"\"\"\n    Search T for num and return the index if found; otherwise return None.\n\n    args:\n        T: Tuple to be searched\n        num: number to use for the search\n\n    returns:\n        found: Boolean value to indicate if the num is contained in T or not\n        i: If num is found in T return index of the first instance of num in T; otherwise, return the value `None`\n    \"\"\"\n    count = 0\n    for a in T:\n        count += 1\n        if a == num:\n            return True, count\n            break\n    return False, None\n\n\ndef split(T, num):\n    \"\"\"\n    Split the tuple T around num (num should be discarded).\n\n    args:\n        T: Tuple to be searched\n        num: number to use for the split\n\n    returns:\n        T1: The first half of the tuple, from the beginning till num ( excluded).\n            If num is not in T, T1 should be the whole tuple T\n        T2: The second half of the tuple, from num (excluded) till the end.\n            If num is not in T, T2 should be the value `None`\n    \"\"\"\n    a, x = search(T, num)\n    T1 = []\n    T2 = []\n    if (a):\n        for b in range(0, x - 1):\n            T1.append(T[b])\n        for b in range(x, len(T)):\n            T2.append(T[b])\n        return tuple(T1), tuple(T2)\n    else:\n        return T, None\n\n\nT = (15, 20, 30, 37, 55, 60, 78, 81, 84, 100)\nx = int(input(\"Enter a number around which you want to split T: \"))\n\n# unpacking returned tuple\nT1, T2 = split(T, x)\n\nprint(\"T1 =\", T1)\nprint(\"T2 =\", T2)",
      "execution_count": 21,
      "outputs": [
        {
          "output_type": "stream",
          "name": "stdout",
          "text": "Enter a number around which you want to split T: 55\nT1 = (15, 20, 30, 37)\nT2 = (60, 78, 81, 84, 100)\n"
        }
      ]
    },
    {
      "metadata": {},
      "cell_type": "markdown",
      "source": "---\n<font size=\"6\" color=\"#B24C00\"  face=\"verdana\"> <B>Task 7</B></font>\n\n## Dictionary\n"
    },
    {
      "metadata": {},
      "cell_type": "markdown",
      "source": "### Dictionary: Creating an inventory"
    },
    {
      "metadata": {
        "trusted": true
      },
      "cell_type": "code",
      "source": "# [ ] The `data` list contains grocery store inventory information, the list is organized into sublists where each of\n# the sublists contains: [UPC, Description, Unit Price, Quantity in Stock]\n# Use the `data` list to create an inventory dictionary with the UPC as keys and lists containing [Description, Item Price, Quantity in Stock] as values:\n# UPC (as keys): [Description, Unit Price, Quantity in Stock] (as values)\n\n# NOTE: UPC is short for (Universal Product Code), which is the number found under a barcode and identify different products in a store\n\n# The created dictionary should look like:\n# {847502: ['APPLES 1LB', 1.99, 50], 847283: ['OLIVE OIL', 10.99, 100], 839529: ['TOMATOS 1LB', 1.29, 25], 483946: ['MILK 1/2G', 3.45, 35], 493402: ['FLOUR 5LB', 2.99, 40], 485034: ['BELL PEPPERS 1LB', 1.35, 28], 828391: ['WHITE TUNA', 1.69, 100], 449023: ['CHEESE 1/2LB', 4.99, 15]}\n\ndata = [[847502, \"APPLES 1LB\", 1.99, 50], [847283, \"OLIVE OIL\", 10.99, 100], [839529, \"TOMATOS 1LB\", 1.29, 25], [483946, \"MILK 1/2G\", 3.45, 35], [493402, \"FLOUR 5LB\", 2.99, 40], [485034, \"BELL PEPPERS 1LB\", 1.35, 28], [828391, \"WHITE TUNA\", 1.69, 100], [449023, \"CHEESE 1/2LB\", 4.99, 15]]\n\n#TODO: Your code goes here\ndictionary = {}\nfor a in data:\n    dictionary[a[0]] = [a[1],a[2],a[3]]\nprint (dictionary)",
      "execution_count": 24,
      "outputs": [
        {
          "output_type": "stream",
          "text": "{847283: ['OLIVE OIL', 10.99, 100], 485034: ['BELL PEPPERS 1LB', 1.35, 28], 839529: ['TOMATOS 1LB', 1.29, 25], 483946: ['MILK 1/2G', 3.45, 35], 828391: ['WHITE TUNA', 1.69, 100], 493402: ['FLOUR 5LB', 2.99, 40], 847502: ['APPLES 1LB', 1.99, 50], 449023: ['CHEESE 1/2LB', 4.99, 15]}\n",
          "name": "stdout"
        }
      ]
    },
    {
      "metadata": {},
      "cell_type": "markdown",
      "source": "### Dictionary: Querying the inventory"
    },
    {
      "metadata": {
        "trusted": true
      },
      "cell_type": "code",
      "source": "# [ ] Use the `inventory` dictionary in a program that asks the user for a UPC number then prints the item information\n# Your program should print an appropriate message if the UPC is not in the inventory\n\n# test cases:\n\n# input 1: 847283\n# output:\n'''\n  UPC   | Description       |  Unit Price  |  Quantity \n-------------------------------------------------------\n847283  | OLIVE OIL         |        10.99 |     100.00\n'''\n\n# input 2: 340344\n# output: No inventory found for 340344\n\ninventory = {847502: ['APPLES 1LB', 1.99, 50], 847283: ['OLIVE OIL', 10.99, 100], 839529: ['TOMATOS 1LB', 1.29, 25], 483946: ['MILK 1/2G', 3.45, 35], 493402: ['FLOUR 5LB', 2.99, 40], 485034: ['BELL PEPPERS 1LB', 1.35, 28], 828391: ['WHITE TUNA', 1.69, 100], 449023: ['CHEESE 1/2LB', 4.99, 15]}\n#TODO: Your code goes here\nnum = int(input(\"Please enter a valid UPC number : \"))\nfor a in inventory.keys():\n    if a == num:\n        print(\"{:^9s}| {:<18s}|{:^13s}| {:^10s}\".format(\"UPC\",\"Description\",\"Unit Price\", \"Quantity\"))\n        print(\"-------------------------------------------------------\")\n        print(\"{:<9d}| {:<18s}|{:>12.2f} |{:>11.2f}\".format(a, inventory[a][0], inventory[a][1], inventory[a][2]))\n        break\nelse:\n    print(\"No inventory found for\",num)\n        ",
      "execution_count": 17,
      "outputs": [
        {
          "output_type": "stream",
          "name": "stdout",
          "text": "Please enter a valid UPC number : 483946\n   UPC   | Description       | Unit Price  |  Quantity \n-------------------------------------------------------\n483946   | MILK 1/2G         |        3.45 |      35.00\n"
        }
      ]
    },
    {
      "metadata": {},
      "cell_type": "markdown",
      "source": "### Dictionary: Updating/adding an item  "
    },
    {
      "metadata": {
        "trusted": true
      },
      "cell_type": "code",
      "source": "# [ ] Use the `inventory` dictionary in a program that asks the user for a UPC number, description, unit price, \n# quantity in stock.\n# If the item already exists in the inventory, the information is updated, \n# and your program should display a message that it is updating the entry.\n# If the item does NOT exists in the inventory, a new dictionary entry is created, \n# and your program should display a message that it is creating a new entry.\n# Use try/except in the program.\n\n\n# test cases\n\n# For an existing item\n'''\nEnter UPC number: 839529\nEnter item description: TOMATOS 1LB\nEnter unit price: 1.55\nEnter item quantity: 21\nExisting item, updating: ['TOMATOS 1LB', 1.29, 25]\n\n  UPC   | Description       |  Unit Price  |  Quantity \n-------------------------------------------------------\n839529  | TOMATOS 1LB       |         1.55 |      21.00\n'''\n\n# For a new item\n'''\nEnter UPC number: 29430\nEnter item description: ORANGE 1LB\nEnter unit price: 0.99\nEnter item quantity: 40\nNew item, creating ORANGE 1LB\n\n  UPC   | Description       |  Unit Price  |  Quantity \n-------------------------------------------------------\n29430   | ORANGE 1LB        |         0.99 |      40.00\n'''\ninventory = {847502: ['APPLES 1LB', 1.99, 50], 847283: ['OLIVE OIL', 10.99, 100], 839529: ['TOMATOS 1LB', 1.29, 25], 483946: ['MILK 1/2G', 3.45, 35], 493402: ['FLOUR 5LB', 2.99, 40], 485034: ['BELL PEPPERS 1LB', 1.35, 28], 828391: ['WHITE TUNA', 1.69, 100], 449023: ['CHEESE 1/2LB', 4.99, 15]}\nnum = 0\ndescription = \"\"\nunit_price = 0\nitem_quantity = 0\n\nwhile num == 0:\n    try:\n        num = int(input(\"Enter UPC number: \"))\n    except ValueError as exception:\n        print(exception)\nwhile description == \"\":\n    description = input(\"Enter item description: \")\n            \nwhile unit_price == 0:\n    try:\n        unit_price = float(input(\"Enter unit price: \"))\n    except ValueError as exception:\n        print(exception)\n\nwhile item_quantity == 0:\n    try:\n        item_quantity = float(input(\"Enter item quantity: \"))\n    except ValueError as exception:\n        print(exception)\n\nif num not in inventory.keys():\n    print(\"New item, creating {:s}\".format(description))\n    inventory.update({num:[description, unit_price, item_quantity]})\n\nif num in inventory.keys():\n    print(\"Existing item, updating: {:s}\".format(str(inventory[num])))\n    inventory[num] = [description,unit_price,item_quantity]\n\nprint()\nprint(\"{:^9s}| {:<18s}|{:^13s}| {:^10s}\".format(\"UPC\",\"Description\",\"Unit Price\", \"Quantity\"))\nprint(\"-------------------------------------------------------\")\nprint(\"{:<9d}| {:<18s}|{:>12.2f} |{:>11.2f}\".format(num, inventory[num][0], inventory[num][1], inventory[num][2]))",
      "execution_count": 18,
      "outputs": [
        {
          "output_type": "stream",
          "name": "stdout",
          "text": "Enter UPC number: 449023\nEnter item description: as\nEnter unit price: 2.36\nEnter item quantity: 222\nExisting item, updating: ['CHEESE 1/2LB', 4.99, 15]\n\n   UPC   | Description       | Unit Price  |  Quantity \n-------------------------------------------------------\n449023   | as                |        2.36 |     222.00\n"
        }
      ]
    },
    {
      "metadata": {},
      "cell_type": "markdown",
      "source": "### Inventory printout"
    },
    {
      "metadata": {
        "trusted": true
      },
      "cell_type": "code",
      "source": "# [ ] Write a program to display the current inventory information as follow\n# Note the items are sorted by UPC\n\n'''\n  UPC   | Description       |  Unit Price  |  Quantity\n-------------------------------------------------------\n449023  | CHEESE 1/2LB      |         4.99 |      15.00\n483946  | MILK 1/2G         |         3.45 |      35.00\n485034  | BELL PEPPERS 1LB  |         1.35 |      28.00\n493402  | FLOUR 5LB         |         2.99 |      40.00\n828391  | WHITE TUNA        |         1.69 |     100.00\n839529  | TOMATOS 1LB       |         1.29 |      25.00\n847283  | OLIVE OIL         |        10.99 |     100.00\n847502  | APPLES 1LB        |         1.99 |      50.00\n'''\ninventory = {847502: ['APPLES 1LB', 1.99, 50], 847283: ['OLIVE OIL', 10.99, 100], 839529: ['TOMATOS 1LB', 1.29, 25], 483946: ['MILK 1/2G', 3.45, 35], 493402: ['FLOUR 5LB', 2.99, 40], 485034: ['BELL PEPPERS 1LB', 1.35, 28], 828391: ['WHITE TUNA', 1.69, 100], 449023: ['CHEESE 1/2LB', 4.99, 15]}\nprint(\"{:^8s}| {:<18s}|{:^14s}|{:^12s}\".format(\"UPC\",\"Description\",\"Unit Price\",\"Quantity\"))\nprint(\"-------------------------------------------------------\")\nfor item in sorted(inventory.keys()):\n    print(\"{:<8d}| {:<18s}|{:>13.2f} |{:>11.2f}\".format(item, inventory[item][0], inventory[item][1], inventory[item][2]))",
      "execution_count": 2,
      "outputs": [
        {
          "output_type": "stream",
          "text": "  UPC   | Description      |  Unit Price  |  Quantity  \n-------------------------------------------------------\n449023  | CHEESE 1/2LB     |         4.99 |      15.00\n483946  | MILK 1/2G        |         3.45 |      35.00\n485034  | BELL PEPPERS 1LB |         1.35 |      28.00\n493402  | FLOUR 5LB        |         2.99 |      40.00\n828391  | WHITE TUNA       |         1.69 |     100.00\n839529  | TOMATOS 1LB      |         1.29 |      25.00\n847283  | OLIVE OIL        |        10.99 |     100.00\n847502  | APPLES 1LB       |         1.99 |      50.00\n",
          "name": "stdout"
        }
      ]
    },
    {
      "metadata": {},
      "cell_type": "markdown",
      "source": "### Inventory value"
    },
    {
      "metadata": {
        "trusted": true
      },
      "cell_type": "code",
      "source": "# [ ] Write a program to calculate and display the total value and the number of items in an inventory.\n# The total value can by calculated by multiplying each unit price by the quantity, \n# then adding up the answers for all items in the inventory.\n\ninventory = {847502: ['APPLES 1LB', 1.99, 50], 847283: ['OLIVE OIL', 10.99, 100], 839529: ['TOMATOS 1LB', 1.29, 25], 483946: ['MILK 1/2G', 3.45, 35], 493402: ['FLOUR 5LB', 2.99, 40], 485034: ['BELL PEPPERS 1LB', 1.35, 28], 828391: ['WHITE TUNA', 1.69, 100], 449023: ['CHEESE 1/2LB', 4.99, 15]}\n\ntotal = 0\nprint(\"{:^8s}| {:<18s}|{:^14s}|{:^12s}|{:^12s}\".format(\"UPC\",\"Description\",\"Unit Price\",\"Quantity\",\"Total\"))\nprint(\"--------------------------------------------------------------------\")\n\nfor item in inventory.keys():\n    total += inventory[item][1]*inventory[item][2]\n    print(\"{:<8d}| {:<18s}|{:>13.2f} |{:>11.2f} |{:>10.2f}\".format(item, inventory[item][0], inventory[item][1], inventory[item][2], inventory[item][1]*inventory[item][2]))\n\nprint(\"--------------------------------------------------------------------\")\nprint(\"{:>56s} {:>10.2f}\".format(\"TOTAL:\",total))",
      "execution_count": 4,
      "outputs": [
        {
          "output_type": "stream",
          "text": "  UPC   | Description       |  Unit Price  |  Quantity  |   Total    \n--------------------------------------------------------------------\n847283  | OLIVE OIL         |        10.99 |     100.00 |   1099.00\n485034  | BELL PEPPERS 1LB  |         1.35 |      28.00 |     37.80\n839529  | TOMATOS 1LB       |         1.29 |      25.00 |     32.25\n483946  | MILK 1/2G         |         3.45 |      35.00 |    120.75\n828391  | WHITE TUNA        |         1.69 |     100.00 |    169.00\n493402  | FLOUR 5LB         |         2.99 |      40.00 |    119.60\n847502  | APPLES 1LB        |         1.99 |      50.00 |     99.50\n449023  | CHEESE 1/2LB      |         4.99 |      15.00 |     74.85\n--------------------------------------------------------------------\n                                                  TOTAL:    1752.75\n",
          "name": "stdout"
        }
      ]
    },
    {
      "metadata": {},
      "cell_type": "markdown",
      "source": "---\n<font size=\"6\" color=\"#B24C00\"  face=\"verdana\"> <B>Module 3 Project</B></font>\n\n## Seattle weather\n\nIn this project, you will use real weather data collected by the National Oceanic and Atmospheric Administration (NOAA) at Seattle Tacoma International Airport. The data contains the maximum temperature, minimum temperature, and precipitation for 25561 days from January 1, 1948 till December 24, 2017. The data is in the public domain and can be downloaded from https://www.ncdc.noaa.gov/cdo-web/datasets/GHCND/stations/GHCND%3aUSW00024233/detail.  \n\nThe values DATE,PRCP,TMAX,TMIN in the data file are defined as below:  \n- DATE - date of the weather reading  \n- PRCP - precipitation  \n- TMAX - Maximum Temperature  \n- TMIN - Minimum Temperature  \n\n**Tip**: read function `# TODO` comments carefully, and use the *HINTS*!\n\n**The program can be adapted to weather information of other cities as long as the CSV file format is maintained without change.**"
    },
    {
      "metadata": {
        "trusted": true
      },
      "cell_type": "code",
      "source": "# [ ] In this project, you will read a CSV file containing about 25K lines of weather information \n# and store the information in a Python dictionary. You will then use the dictionary to find out\n# the hottest, coldest, rainiest years and so on...\n# You will see that the dictionary's search optimization algorithms will allow you to explore \n# this large dataset without any noticeable delays.\n\n# The logic of the program is in the `main` function, read it before writing any code.\n\n# Use the description and examples under each of the following functions to implement them:\n# 1) convert_file(file_path)\n# 2) add_rainy(weather)\n# 3) consolidate(weather)\n# 4) year_info(year, yearly_weather)\n# 5) hottest(yearly_weather)\n# 6) coldest(yearly_weather)\n# 7) rainiest_days(yearly_weather)\n# 8) highest_prcp(yearly_weather)\n\n\nfrom datetime import date, datetime\nfrom IPython.display import clear_output #to clear the output (specific to Jupyter notebooks and ipython)\n\ndef convert_file(file_path):\n    \"\"\"\n    Convert CSV file to a Python dictionary.\n    \n    The CSV file contains daily weather information arranged in rows,\n    the rows contain  (date, precipitation (inches), maximum temperature (F), minimum temperature (F)) in order.\n    First line in CSV file is a header (DATE, PRCP, TMAX, TMIN), the rest contain the weather data.\n    \n    The function should read the data in the file and generate a dictionary where:\n        1) keys are date objects (from the datetime module), using the daily date info in the file\n        2) values are lists containing [TMAX, TMIN, PRCP] in order\n        \n    args:\n        file_path: path to the CSV file\n    \n    returns:\n        weather: the generated dictionary using date objects as keys and lists of weather info as values\n        \n    examples:\n    Input CSV file:\n    DATE,PRCP,TMAX,TMIN\n    12/10/2017,0,49,34\n    12/11/2017,0,49,29\n    12/12/2017,0,46,32\n    12/13/2017,0,48,34\n    12/14/2017,0,50,36\n    12/15/2017,0.06,43,37\n    12/16/2017,0.14,45,37\n    12/17/2017,0.03,50,42\n    12/18/2017,0.7,49,41\n    12/19/2017,1,50,40\n    12/20/2017,0.13,49,32\n    12/21/2017,0.01,41,29\n    12/22/2017,0.09,40,35\n    12/23/2017,0,38,29\n    12/24/2017,0.12,38,28\n\n    Output dictionary (weather):\n    {datetime.date(2017, 12, 10): [49, 34, 0.0],\n     datetime.date(2017, 12, 11): [49, 29, 0.0],\n     datetime.date(2017, 12, 12): [46, 32, 0.0],\n     datetime.date(2017, 12, 13): [48, 34, 0.0],\n     datetime.date(2017, 12, 14): [50, 36, 0.0],\n     datetime.date(2017, 12, 15): [43, 37, 0.06],\n     datetime.date(2017, 12, 16): [45, 37, 0.14],\n     datetime.date(2017, 12, 17): [50, 42, 0.03],\n     datetime.date(2017, 12, 18): [49, 41, 0.7],\n     datetime.date(2017, 12, 19): [50, 40, 1.0],\n     datetime.date(2017, 12, 20): [49, 32, 0.13],\n     datetime.date(2017, 12, 21): [41, 29, 0.01],\n     datetime.date(2017, 12, 22): [40, 35, 0.09],\n     datetime.date(2017, 12, 23): [38, 29, 0.0],\n     datetime.date(2017, 12, 24): [38, 28, 0.12]}\n    \"\"\"\n    os.chdir(\"/home/nbuser/library/parent_dir/files_exercises\")\n    if (file_path not in os.listdir(\"/home/nbuser/library/parent_dir/files_exercises\")):\n        print(\"STOP!!!! Run the environment setup code!\")\n        return None\n    else:\n        weather = {}\n        with open(file_path, 'r') as f:\n            skip = f.readline()\n            for a in range(0,25561):\n                u = f.readline()\n                u = u.rstrip()\n                u = u.split(\",\")\n                c = date_creater(u[0])\n                if u[1] == \"\":\n                    u[1] = 0\n                if u[2] == \"\":\n                    u[2] = 0\n                if u[3] == \"\":\n                    u[3] = 0\n                weather[c] = [int(u[2]),int(u[3]),float(u[1])]\n        print(weather)\n        return weather\n\n    #TODO: Your code goes here, see hints below\n    \n    # open the file for reading (HINT: use `with` statement)\n\n    # ignore the first header line (DATE, PRCP, TMAX, TMIN)\n\n    # remove newline characters from end of each line (HINT: use str.rstrip())\n\n    # split line into a list (HINT: use str.split(','))\n\n    # create the date object from the first list element \n    # HINT: use the date_creater(date_string) function provided below\n\n    # read the weather related variables\n    # precipitation\n    # maximum temperature\n    # minimum temperature\n    \n    # create dictionary key:value pair\n    pass\n\ndef add_rainy(weather):\n    \"\"\"\n    Emphasize rainy days using Boolean values.\n    \n    Modify the weather dictionary by adding another Boolean element to the values' lists. \n    If precipitation is observed on a day (more than 0\"), the associated list is appended by True.\n    If precipitation is not observed (0\"), the associated list is appended by False.\n    \n    args:\n        weather: dictionary, keys are date objects and values are lists [TMAX, TMIN, PRCP]\n        \n    returns:\n        None: the weather dictionary is modified directly, keys are date objects and values are lists [TMAX, TMIN, PRCP, RAINY_DAY]\n        \n    examples:\n    Input weather dictionary:\n    {datetime.date(2017, 12, 10): [49, 34, 0.0],\n     datetime.date(2017, 12, 11): [49, 29, 0.0],\n     datetime.date(2017, 12, 12): [46, 32, 0.0],\n     datetime.date(2017, 12, 13): [48, 34, 0.0],\n     datetime.date(2017, 12, 14): [50, 36, 0.0],\n     datetime.date(2017, 12, 15): [43, 37, 0.06],\n     datetime.date(2017, 12, 16): [45, 37, 0.14],\n     datetime.date(2017, 12, 17): [50, 42, 0.03],\n     datetime.date(2017, 12, 18): [49, 41, 0.7],\n     datetime.date(2017, 12, 19): [50, 40, 1.0],\n     datetime.date(2017, 12, 20): [49, 32, 0.13],\n     datetime.date(2017, 12, 21): [41, 29, 0.01],\n     datetime.date(2017, 12, 22): [40, 35, 0.09],\n     datetime.date(2017, 12, 23): [38, 29, 0.0],\n     datetime.date(2017, 12, 24): [38, 28, 0.12]}\n    \n    Updated weather dictionary with Boolean values\n    {datetime.date(2017, 12, 10): [49, 34, 0.0, False],\n     datetime.date(2017, 12, 11): [49, 29, 0.0, False],\n     datetime.date(2017, 12, 12): [46, 32, 0.0, False],\n     datetime.date(2017, 12, 13): [48, 34, 0.0, False],\n     datetime.date(2017, 12, 14): [50, 36, 0.0, False],\n     datetime.date(2017, 12, 15): [43, 37, 0.06, True],\n     datetime.date(2017, 12, 16): [45, 37, 0.14, True],\n     datetime.date(2017, 12, 17): [50, 42, 0.03, True],\n     datetime.date(2017, 12, 18): [49, 41, 0.7, True],\n     datetime.date(2017, 12, 19): [50, 40, 1.0, True],\n     datetime.date(2017, 12, 20): [49, 32, 0.13, True],\n     datetime.date(2017, 12, 21): [41, 29, 0.01, True],\n     datetime.date(2017, 12, 22): [40, 35, 0.09, True],\n     datetime.date(2017, 12, 23): [38, 29, 0.0, False],\n     datetime.date(2017, 12, 24): [38, 28, 0.12, True]}\n    \"\"\"\n    #TODO: Your code goes here\n    for a in weather.keys():\n        if weather[a][2] > 0:\n            weather[a].append(True)\n        else:\n            weather[a].append(False)\ndef consolidate(weather):\n    \"\"\"\n    Consolidate the daily weather information by year.\n    \n    Use the weather dictionary to generate a new consolidated dictionary (yearly_weather). \n    The new dictionary uses years as keys, and the associated values are lists containing (in order):\n        1) The average of the highest recorded temperatures in the year (AVG_TMAX)\n        2) The average of the lowest recorded temperatures in the year (AVG_TMIN)\n        3) The total recorded precipitation in the year (TOTAL_PRCP)\n        4) The total number of rainy days in the year (TOTAL_RAINY_DAYS)\n        5) The number of recorded days (TOTAL_DAYS). \n           This element is necessary to account for days where the station breaks (missing recordings),\n           or if the year hasn't finished yet.\n           \n    args: \n        weather: dictionary, keys are date objects and values are lists [TMAX, TMIN, PRCP, RAINY_DAY]\n    \n    returns:\n        yearly_weather: consolidated dictionary, keys are years (int), values are lists \n                        [AVG_TMAX, AVG_TMIN, TOTAL_PRCP, TOTAL_RAINY_DAYS, TOTAL_DAYS]\n                        \n    examples:\n    Input weather dictionary:\n    {datetime.date(2017, 12, 10): [49, 34, 0.0, False],\n     datetime.date(2017, 12, 11): [49, 29, 0.0, False],\n     datetime.date(2017, 12, 12): [46, 32, 0.0, False],\n     datetime.date(2017, 12, 13): [48, 34, 0.0, False],\n     datetime.date(2017, 12, 14): [50, 36, 0.0, False],\n     datetime.date(2017, 12, 15): [43, 37, 0.06, True],\n     datetime.date(2017, 12, 16): [45, 37, 0.14, True],\n     datetime.date(2017, 12, 17): [50, 42, 0.03, True],\n     datetime.date(2017, 12, 18): [49, 41, 0.7, True],\n     datetime.date(2017, 12, 19): [50, 40, 1.0, True],\n     datetime.date(2017, 12, 20): [49, 32, 0.13, True],\n     datetime.date(2017, 12, 21): [41, 29, 0.01, True],\n     datetime.date(2017, 12, 22): [40, 35, 0.09, True],\n     datetime.date(2017, 12, 23): [38, 29, 0.0, False],\n     datetime.date(2017, 12, 24): [38, 28, 0.12, True]}\n     \n     Output yearly_weather dictionary:\n     {2017: [45.666666666666664, 34.333333333333336, 2.28, 9, 15]}\n    \"\"\"    \n    #TODO: Your code goes here\n    yearly_weather = {}\n    for a in range(1948,2018):\n        total_days = 0\n        rainy_days = 0\n        total_prec = 0\n        total_max = 0\n        total_min = 0\n        for b in weather.keys():\n            if b.year == a:\n                total_days += 1\n                total_prec += weather[b][2]\n                total_max += weather[b][0]\n                total_min += weather[b][1]\n                if weather[b][3] == True:\n                    rainy_days += 1\n        yearly_weather.update({a:[total_max/total_days, total_min/total_days, total_prec, rainy_days, total_days]})\n    return yearly_weather\n\ndef year_info(year, yearly_weather):\n    \"\"\"\n    Convert the year's weather information to a formatted string.\n    \n    Look for the weather information of `year` in the `yearly_weather` dictionary.\n    If it exists, convert the information list into a formatted string:\n            YEAR | AVG_TMAX | AVG_TMIN | TOTAL_PRCP | TOTAL_RAINY_DAYS | TOTAL_DAYS\n    If it does not exist, the formatted string should be:\n            N/A  |    N/A   |    N/A   |     N/A    |        N/A       |    N/A   \n    \n    args:\n        year: int value to look for in the yearly_weather dictionary\n        \n        yearly_weather: consolidated dictionary, keys are years (int), values are lists \n                        [AVG_TMAX, AVG_TMIN, TOTAL_PRCP, TOTAL_RAINY_DAYS, TOTAL_DAYS] \n    \n    returns:\n        formatted_string: containing the year's weather information\n                          \n    examples:\n    Input yearly weather dictionary:\n    {2017: [45.666666666666664, 34.333333333333336, 2.28, 9, 15]}\n    \n    Output formatted string:\n    == year_info(2017, yearly_weather) == (contained in the dictionary)\n    ' 2017 |         45.67 |        34.33 |   2.28\" |            9 |             15 '\n    \n    == year_info(2055, yearly_weather) == (not contained in the dictionary)\n    ' N/A  |      N/A      |     N/A      |   N/A   |     N/A      |      N/A       '\n    \"\"\"\n    #TODO: Your code goes here\n    if year in yearly_weather.keys():\n        return \"{:>10s} | {:s} | {:s} | {:s} | {:s} | {:s}\".format(\"YEAR\",\"AVG_TMAX\",\"AVG_TMIN\",\"TOTAL_PRCP\",\"TOTAL_RAINY_DAYS\",\"TOTAL_DAYS\")+\"\\n\"+\"{:>10d} | {:^8.5f} | {:^8.5f} | {:^10.2f} | {:^16d} | {:^10d}\".format(year,yearly_weather[year][0],yearly_weather[year][1],yearly_weather[year][2],yearly_weather[year][3],yearly_weather[year][4])+\"\\n\"          \n    if year not in yearly_weather.keys():\n        return \"{:>10s} | {:s} | {:s} | {:s} | {:s} | {:s}\".format(\"YEAR\",\"AVG_TMAX\",\"AVG_TMIN\",\"TOTAL_PRCP\",\"TOTAL_RAINY_DAYS\",\"TOTAL_DAYS\")+\"\\n\"+\"{:>10s} | {:^8s} | {:^8s} | {:^10s} | {:^16s} | {:^10s}\".format(\"N/A\",\"N/A\",\"N/A\",\"N/A\",\"N/A\",\"N/A\")+\"\\n\"\n\ndef hottest(yearly_weather):\n    \"\"\"\n    Find the hottest year in yearly_weather.\n    \n    Look through all the years in the yearly_weather dictionary and return the year with \n    the highest average maximum temperature (highest AVG_TMAX)\n    \n    args:\n        yearly_weather: consolidated dictionary, keys are years (int), values are lists \n                        [AVG_TMAX, AVG_TMIN, TOTAL_PRCP, TOTAL_RAINY_DAYS, TOTAL_DAYS] \n    \n    returns:\n        hottest_year: the year with the highest maximum temperature average (AVG_TMAX)\n    \"\"\"\n    #TODO: Your code goes here\n    pass\n\ndef coldest(yearly_weather):\n    \"\"\"\n    Find the coldest year in yearly_weather.\n    \n    Look through all the years in the yearly_weather dictionary and return the year with \n    the lowest average minimum temperature (lowest AVG_TMIN)\n    \n    args:\n        yearly_weather: consolidated dictionary, keys are years (int), values are lists \n                        [AVG_TMAX, AVG_TMIN, TOTAL_PRCP, TOTAL_RAINY_DAYS, TOTAL_DAYS] \n    \n    returns:\n        coldest_year: the year with the lowest minimum temperature average (AVG_TMIN)\n    \"\"\"\n    #TODO: Your code goes here\n    pass\n\ndef rainiest_days(yearly_weather):\n    \"\"\"\n    Find the year with the largest number of rainy days in yearly_weather.\n    \n    Look through all the years in the yearly_weather dictionary and return the year with \n    the largest TOTAL_RAINY_DAYS\n    \n    args:\n        yearly_weather: consolidated dictionary, keys are years (int), values are lists \n                        [AVG_TMAX, AVG_TMIN, TOTAL_PRCP, TOTAL_RAINY_DAYS, TOTAL_DAYS] \n    \n    returns:\n        rainiest_year: the year with the largest number of rainy days\n    \"\"\"\n    #TODO: Your code goes here\n    pass\n\ndef highest_prcp(yearly_weather):\n    \"\"\"\n    Find the year with the highest total precipitation in yearly_weather.\n    \n    Look through all the years in the yearly_weather dictionary and return the year with \n    the largest TOTAL_PRCP\n    \n    args:\n        yearly_weather: consolidated dictionary, keys are years (int), values are lists \n                        [AVG_TMAX, AVG_TMIN, TOTAL_PRCP, TOTAL_RAINY_DAYS, TOTAL_DAYS] \n    \n    returns:\n        rainiest_year: the year with the highest total precipitation\n    \"\"\"\n    #TODO: Your code goes here\n    pass\n\ndef date_creater(date_string):\n    \"\"\"Convert the date_string (formatted as m/d/yyyy) to a date object.\"\"\"\n    d = datetime.strptime(date_string, \"%m/%d/%Y\")\n    return d.date()\n\ndef dashes(count):\n    \"\"\"Print a fancy line of `count` dashes\"\"\"\n    print(\"o\" + count *'-' + \"o\")\n\ndef page_header(title):\n    \"\"\"Print a page header with a title surrounded by dashes\"\"\"\n    dashes(78)\n    print(\"|{:^78s}|\".format(title))\n    dashes(78)\n\ndef table_header():\n    \"\"\"Print the first row in a table  (header row)\"\"\"\n    print()\n    print(' {0:^4s} | {1:^13s} | {2:^12s} | {3:^7s} | {4:^12s} | {5:^14s} '.format(\"Year\", \"Avg High Temp\", \"Avg Low Temp\", \"Percip\", \"# Rainy days\", \"# Recorded days\"))\n    dashes(78)\n    \ndef display(title, years, yearly_weather):\n    \"\"\"Print a page with a header, title, and the weather information of all years as found in yearly_weather\"\"\"\n    clear_output()\n    page_header(title)\n    table_header()\n    \n    # if years contain a single int, convert to a single item list\n    if type(years) is not list: years = [years]\n    \n    # print weather information for all years\n    for year in years:\n        print(year_info(year, yearly_weather)) \n        \n    # display this page till you go back to the main menu\n    while True:\n        m = input(\"Return to main menu [y/n]?\")\n        if m in 'yesYesYES':\n            break\n            \n\ndef main():\n    # convert the data in the (csv) file into a Python dictionary\n    weather = convert_file(\"data/seattle_weather.csv\")\n    \n    # highlight rainy days by adding a Boolean entry to the dictionary's values\n    add_rainy(weather)\n    \n    # consolidate the weather data by year then store the result in a new dictionary\n    yearly_weather = consolidate(weather)\n    \n    # earliest and latest years on record\n    min_year = min(yearly_weather)\n    max_year = max(yearly_weather)\n    \n    # menus functionality\n    while True:\n        clear_output()\n\n        # display header\n        page_header(\"Weather Records\")\n\n        # display main menu\n        print()\n        print(\"Main Menu (choose an option to display):\\n\")\n        print(\"1. Summary of a certain year\")\n        print(\"2. All years summary table\")\n        print(\"3. Hottest year on record\")\n        print(\"4. Coldest year on record\")\n        print(\"5. Year with most rainy days\")\n        print(\"6. Year with the highest precipitation\")\n        print(\"7. Quit\")\n        print()\n\n        # display footer with user input message\n        dashes(78)\n        while True:\n            try:\n                option = input(\"Select an option (1, 7): \")\n                option = int(option)\n                if 1 <= option <= 7:\n                    break # break the user input loop only, main loop does NOT break\n            except ValueError:\n                print(\"Cannot convert {:} to int\".format(type(option)))\n        \n        \n        # execute relevant function\n        # 1. Summary of a certain year\n        if option == 1:\n            # ask the user for a valid year\n            while True:\n                try:\n                    year = input(\"Enter a year ({} - {})\".format(min_year, max_year))\n                    year = int(year)\n                    if min_year <= year <= max_year:\n                        break\n                except ValueError:\n                    print(\"Cannot convert {:} to int\".format(type(option)))\n            display(\"Year Summary\", year, yearly_weather)\n\n        # 2. All years summary table \n        elif option == 2:\n            years = list(sorted(yearly_weather))\n            display(\"Tabular Summary\", years, yearly_weather)\n       \n        # 3. Hottest year on record\n        elif option == 3:\n            year = hottest(yearly_weather)\n            display(\"Hottest year on record\", year, yearly_weather)\n            \n        # 4. Coldest year on record   \n        elif option == 4:\n            year = coldest(yearly_weather)\n            display(\"Coldest year on record\", year, yearly_weather)\n            \n        # 5. Year with most rainy days    \n        elif option == 5:\n            year = rainiest_days(yearly_weather)\n            display(\"Year with most rainy days\", year, yearly_weather)\n        \n        # 6. Year with the highest precipitation\n        elif option == 6:\n            year = highest_prcp(yearly_weather)\n            display(\"Year with the highest precipitation\", year, yearly_weather)\n            \n        # 7. Quit    \n        elif option == 7:\n            clear_output()\n            break\n    \n\n# Run the program    \nmain()\n\n\n",
      "execution_count": 3,
      "outputs": [
        {
          "output_type": "stream",
          "text": "STOP!!!! Run the environment setup code!\n",
          "name": "stdout"
        },
        {
          "output_type": "error",
          "ename": "TypeError",
          "evalue": "'NoneType' object is not iterable",
          "traceback": [
            "\u001b[0;31m---------------------------------------------------------------------------\u001b[0m",
            "\u001b[0;31mTypeError\u001b[0m                                 Traceback (most recent call last)",
            "\u001b[0;32m<ipython-input-3-33166164b454>\u001b[0m in \u001b[0;36m<module>\u001b[0;34m()\u001b[0m\n\u001b[1;32m    449\u001b[0m \u001b[0;34m\u001b[0m\u001b[0m\n\u001b[1;32m    450\u001b[0m \u001b[0;31m# Run the program\u001b[0m\u001b[0;34m\u001b[0m\u001b[0;34m\u001b[0m\u001b[0m\n\u001b[0;32m--> 451\u001b[0;31m \u001b[0mmain\u001b[0m\u001b[0;34m(\u001b[0m\u001b[0;34m)\u001b[0m\u001b[0;34m\u001b[0m\u001b[0m\n\u001b[0m\u001b[1;32m    452\u001b[0m \u001b[0;34m\u001b[0m\u001b[0m\n\u001b[1;32m    453\u001b[0m \u001b[0;34m\u001b[0m\u001b[0m\n",
            "\u001b[0;32m<ipython-input-3-33166164b454>\u001b[0m in \u001b[0;36mmain\u001b[0;34m()\u001b[0m\n\u001b[1;32m    369\u001b[0m \u001b[0;34m\u001b[0m\u001b[0m\n\u001b[1;32m    370\u001b[0m     \u001b[0;31m# earliest and latest years on record\u001b[0m\u001b[0;34m\u001b[0m\u001b[0;34m\u001b[0m\u001b[0m\n\u001b[0;32m--> 371\u001b[0;31m     \u001b[0mmin_year\u001b[0m \u001b[0;34m=\u001b[0m \u001b[0mmin\u001b[0m\u001b[0;34m(\u001b[0m\u001b[0myearly_weather\u001b[0m\u001b[0;34m)\u001b[0m\u001b[0;34m\u001b[0m\u001b[0m\n\u001b[0m\u001b[1;32m    372\u001b[0m     \u001b[0mmax_year\u001b[0m \u001b[0;34m=\u001b[0m \u001b[0mmax\u001b[0m\u001b[0;34m(\u001b[0m\u001b[0myearly_weather\u001b[0m\u001b[0;34m)\u001b[0m\u001b[0;34m\u001b[0m\u001b[0m\n\u001b[1;32m    373\u001b[0m \u001b[0;34m\u001b[0m\u001b[0m\n",
            "\u001b[0;31mTypeError\u001b[0m: 'NoneType' object is not iterable"
          ]
        }
      ]
    },
    {
      "metadata": {
        "trusted": true
      },
      "cell_type": "code",
      "source": "from datetime import date, datetime\nfrom IPython.display import clear_output #to clear the output (specific to Jupyter notebooks and ipython)\nimport os\nimport statistics\n\ndef convert_file(file_path):\n    \"\"\"\n    Convert CSV file to a Python dictionary.\n    \n    The CSV file contains daily weather information arranged in rows,\n    the rows contain  (date, precipitation (inches), maximum temperature (F), minimum temperature (F)) in order.\n    First line in CSV file is a header (DATE, PRCP, TMAX, TMIN), the rest contain the weather data.\n    \n    The function should read the data in the file and generate a dictionary where:\n        1) keys are date objects (from the datetime module), using the daily date info in the file\n        2) values are lists containing [TMAX, TMIN, PRCP] in order\n        \n    args:\n        file_path: path to the CSV file\n    \n    returns:\n        weather: the generated dictionary using date objects as keys and lists of weather info as values\n        \n    examples:\n    Input CSV file:\n    DATE,PRCP,TMAX,TMIN\n    12/10/2017,0,49,34\n    12/11/2017,0,49,29\n    12/12/2017,0,46,32\n    12/13/2017,0,48,34\n    12/14/2017,0,50,36\n    12/15/2017,0.06,43,37\n    12/16/2017,0.14,45,37\n    12/17/2017,0.03,50,42\n    12/18/2017,0.7,49,41\n    12/19/2017,1,50,40\n    12/20/2017,0.13,49,32\n    12/21/2017,0.01,41,29\n    12/22/2017,0.09,40,35\n    12/23/2017,0,38,29\n    12/24/2017,0.12,38,28\n\n    Output dictionary (weather):\n    {datetime.date(2017, 12, 10): [49, 34, 0.0],\n     datetime.date(2017, 12, 11): [49, 29, 0.0],\n     datetime.date(2017, 12, 12): [46, 32, 0.0],\n     datetime.date(2017, 12, 13): [48, 34, 0.0],\n     datetime.date(2017, 12, 14): [50, 36, 0.0],\n     datetime.date(2017, 12, 15): [43, 37, 0.06],\n     datetime.date(2017, 12, 16): [45, 37, 0.14],\n     datetime.date(2017, 12, 17): [50, 42, 0.03],\n     datetime.date(2017, 12, 18): [49, 41, 0.7],\n     datetime.date(2017, 12, 19): [50, 40, 1.0],\n     datetime.date(2017, 12, 20): [49, 32, 0.13],\n     datetime.date(2017, 12, 21): [41, 29, 0.01],\n     datetime.date(2017, 12, 22): [40, 35, 0.09],\n     datetime.date(2017, 12, 23): [38, 29, 0.0],\n     datetime.date(2017, 12, 24): [38, 28, 0.12]}\n    \"\"\"\n    #TODO: Your code goes here, see hints below\n    \n    # open the file for reading (HINT: use `with` statement)\n    with open(file_path,'r') as file:\n        \n    # ignore the first header line (DATE, PRCP, TMAX, TMIN)\n        file.readline()\n    # remove newline characters from end of each line (HINT: use str.rstrip())\n    # split line into a list (HINT: use str.split(','))\n        lines = [line.rstrip().split(',') for line in file.readlines()]       \n    # create the date object from the first list element\n    # HINT: use the date_creater(date_string) function provided below\n    # read the weather related variables\n    # precipitation\n    # maximum temperature\n    # minimum temperature\n        for line in lines:\n            line[0] = date_creater(line[0])\n            for i in range(1,4):\n                line[i] = float(line[i])\n    # create dictionary key:value pair\n        return {line[0]: line[1:4] for line in lines}\n\ndef add_rainy(weather):\n    \"\"\"\n    Emphasize rainy days using Boolean values.\n    \n    Modify the weather dictionary by adding another Boolean element to the values' lists. \n    If precipitation is observed on a day (more than 0\"), the associated list is appended by True.\n    If precipitation is not observed (0\"), the associated list is appended by False.\n    \n    args:\n        weather: dictionary, keys are date objects and values are lists [TMAX, TMIN, PRCP]\n        \n    returns:\n        None: the weather dictionary is modified directly, keys are date objects and values are lists [TMAX, TMIN, PRCP, RAINY_DAY]\n        \n    examples:\n    Input weather dictionary:\n    {datetime.date(2017, 12, 10): [49, 34, 0.0],\n     datetime.date(2017, 12, 11): [49, 29, 0.0],\n     datetime.date(2017, 12, 12): [46, 32, 0.0],\n     datetime.date(2017, 12, 13): [48, 34, 0.0],\n     datetime.date(2017, 12, 14): [50, 36, 0.0],\n     datetime.date(2017, 12, 15): [43, 37, 0.06],\n     datetime.date(2017, 12, 16): [45, 37, 0.14],\n     datetime.date(2017, 12, 17): [50, 42, 0.03],\n     datetime.date(2017, 12, 18): [49, 41, 0.7],\n     datetime.date(2017, 12, 19): [50, 40, 1.0],\n     datetime.date(2017, 12, 20): [49, 32, 0.13],\n     datetime.date(2017, 12, 21): [41, 29, 0.01],\n     datetime.date(2017, 12, 22): [40, 35, 0.09],\n     datetime.date(2017, 12, 23): [38, 29, 0.0],\n     datetime.date(2017, 12, 24): [38, 28, 0.12]}\n    \n    Updated weather dictionary with Boolean values\n    {datetime.date(2017, 12, 10): [49, 34, 0.0, False],\n     datetime.date(2017, 12, 11): [49, 29, 0.0, False],\n     datetime.date(2017, 12, 12): [46, 32, 0.0, False],\n     datetime.date(2017, 12, 13): [48, 34, 0.0, False],\n     datetime.date(2017, 12, 14): [50, 36, 0.0, False],\n     datetime.date(2017, 12, 15): [43, 37, 0.06, True],\n     datetime.date(2017, 12, 16): [45, 37, 0.14, True],\n     datetime.date(2017, 12, 17): [50, 42, 0.03, True],\n     datetime.date(2017, 12, 18): [49, 41, 0.7, True],\n     datetime.date(2017, 12, 19): [50, 40, 1.0, True],\n     datetime.date(2017, 12, 20): [49, 32, 0.13, True],\n     datetime.date(2017, 12, 21): [41, 29, 0.01, True],\n     datetime.date(2017, 12, 22): [40, 35, 0.09, True],\n     datetime.date(2017, 12, 23): [38, 29, 0.0, False],\n     datetime.date(2017, 12, 24): [38, 28, 0.12, True]}\n    \"\"\"\n    #TODO: Your code goes here\n    for key in weather:\n        weather[key].append(True if weather[key][2] == 0 else False)\n    \ndef consolidate(weather):\n    \"\"\"\n    Consolidate the daily weather information by year.\n    \n    Use the weather dictionary to generate a new consolidated dictionary (yearly_weather). \n    The new dictionary uses years as keys, and the associated values are lists containing (in order):\n        1) The average of the highest recorded temperatures in the year (AVG_TMAX)\n        2) The average of the lowest recorded temperatures in the year (AVG_TMIN)\n        3) The total recorded precipitation in the year (TOTAL_PRCP)\n        4) The total number of rainy days in the year (TOTAL_RAINY_DAYS)\n        5) The number of recorded days (TOTAL_DAYS). \n           This element is necessary to account for days where the station breaks (missing recordings),\n           or if the year hasn't finished yet.\n           \n    args: \n        weather: dictionary, keys are date objects and values are lists [TMAX, TMIN, PRCP, RAINY_DAY]\n    \n    returns:\n        yearly_weather: consolidated dictionary, keys are years (int), values are lists \n                        [AVG_TMAX, AVG_TMIN, TOTAL_PRCP, TOTAL_RAINY_DAYS, TOTAL_DAYS]\n                        \n    examples:\n    Input weather dictionary:\n    {datetime.date(2017, 12, 10): [49, 34, 0.0, False],\n     datetime.date(2017, 12, 11): [49, 29, 0.0, False],\n     datetime.date(2017, 12, 12): [46, 32, 0.0, False],\n     datetime.date(2017, 12, 13): [48, 34, 0.0, False],\n     datetime.date(2017, 12, 14): [50, 36, 0.0, False],\n     datetime.date(2017, 12, 15): [43, 37, 0.06, True],\n     datetime.date(2017, 12, 16): [45, 37, 0.14, True],\n     datetime.date(2017, 12, 17): [50, 42, 0.03, True],\n     datetime.date(2017, 12, 18): [49, 41, 0.7, True],\n     datetime.date(2017, 12, 19): [50, 40, 1.0, True],\n     datetime.date(2017, 12, 20): [49, 32, 0.13, True],\n     datetime.date(2017, 12, 21): [41, 29, 0.01, True],\n     datetime.date(2017, 12, 22): [40, 35, 0.09, True],\n     datetime.date(2017, 12, 23): [38, 29, 0.0, False],\n     datetime.date(2017, 12, 24): [38, 28, 0.12, True]}\n     \n     Output yearly_weather dictionary:\n     {2017: [45.666666666666664, 34.333333333333336, 2.28, 9, 15]}\n    \"\"\"    \n    #TODO: Your code goes here\n    years = set([day.year for day in weather])    \n    consolidated = {year: [] for year in years}\n    \n    days = filter(lambda day: day.year == 2017, weather)\n    print(list(days))\n#     for year in consolidated:\n#         days = filter(lambda day: day.year == year, weather)\n#         for day in days\n#         consolidated[year] = []\n    \n    \ndef year_info(year, yearly_weather):\n    \"\"\"\n    Convert the year's weather information to a formatted string.\n    \n    Look for the weather information of `year` in the `yearly_weather` dictionary.\n    If it exists, convert the information list into a formatted string:\n            YEAR | AVG_TMAX | AVG_TMIN | TOTAL_PRCP | TOTAL_RAINY_DAYS | TOTAL_DAYS\n    If it does not exist, the formatted string should be:\n            N/A  |    N/A   |    N/A   |     N/A    |        N/A       |    N/A   \n    \n    args:\n        year: int value to look for in the yearly_weather dictionary\n        \n        yearly_weather: consolidated dictionary, keys are years (int), values are lists \n                        [AVG_TMAX, AVG_TMIN, TOTAL_PRCP, TOTAL_RAINY_DAYS, TOTAL_DAYS] \n    \n    returns:\n        formatted_string: containing the year's weather information\n                          \n    examples:\n    Input yearly weather dictionary:\n    {2017: [45.666666666666664, 34.333333333333336, 2.28, 9, 15]}\n    \n    Output formatted string:\n    == year_info(2017, yearly_weather) == (contained in the dictionary)\n    ' 2017 |         45.67 |        34.33 |   2.28\" |            9 |             15 '\n    \n    == year_info(2055, yearly_weather) == (not contained in the dictionary)\n    ' N/A  |      N/A      |     N/A      |   N/A   |     N/A      |      N/A       '\n    \"\"\"\n    #TODO: Your code goes here\n    pass\n\ndef hottest(yearly_weather):\n    \"\"\"\n    Find the hottest year in yearly_weather.\n    \n    Look through all the years in the yearly_weather dictionary and return the year with \n    the highest average maximum temperature (highest AVG_TMAX)\n    \n    args:\n        yearly_weather: consolidated dictionary, keys are years (int), values are lists \n                        [AVG_TMAX, AVG_TMIN, TOTAL_PRCP, TOTAL_RAINY_DAYS, TOTAL_DAYS] \n    \n    returns:\n        hottest_year: the year with the highest maximum temperature average (AVG_TMAX)\n    \"\"\"\n    #TODO: Your code goes here\n    pass\n\ndef coldest(yearly_weather):\n    \"\"\"\n    Find the coldest year in yearly_weather.\n    \n    Look through all the years in the yearly_weather dictionary and return the year with \n    the lowest average minimum temperature (lowest AVG_TMIN)\n    \n    args:\n        yearly_weather: consolidated dictionary, keys are years (int), values are lists \n                        [AVG_TMAX, AVG_TMIN, TOTAL_PRCP, TOTAL_RAINY_DAYS, TOTAL_DAYS] \n    \n    returns:\n        coldest_year: the year with the lowest minimum temperature average (AVG_TMIN)\n    \"\"\"\n    #TODO: Your code goes here\n    pass\n\ndef rainiest_days(yearly_weather):\n    \"\"\"\n    Find the year with the largest number of rainy days in yearly_weather.\n    \n    Look through all the years in the yearly_weather dictionary and return the year with \n    the largest TOTAL_RAINY_DAYS\n    \n    args:\n        yearly_weather: consolidated dictionary, keys are years (int), values are lists \n                        [AVG_TMAX, AVG_TMIN, TOTAL_PRCP, TOTAL_RAINY_DAYS, TOTAL_DAYS] \n    \n    returns:\n        rainiest_year: the year with the largest number of rainy days\n    \"\"\"\n    #TODO: Your code goes here\n    pass\n\ndef highest_prcp(yearly_weather):\n    \"\"\"\n    Find the year with the highest total precipitation in yearly_weather.\n    \n    Look through all the years in the yearly_weather dictionary and return the year with \n    the largest TOTAL_PRCP\n    \n    args:\n        yearly_weather: consolidated dictionary, keys are years (int), values are lists \n                        [AVG_TMAX, AVG_TMIN, TOTAL_PRCP, TOTAL_RAINY_DAYS, TOTAL_DAYS] \n    \n    returns:\n        rainiest_year: the year with the highest total precipitation\n    \"\"\"\n    #TODO: Your code goes here\n    pass\n\ndef date_creater(date_string):\n    \"\"\"Convert the date_string (formatted as m/d/yyyy) to a date object.\"\"\"\n    d = datetime.strptime(date_string, \"%m/%d/%Y\")\n    return d.date()\n\ndef dashes(count):\n    \"\"\"Print a fancy line of `count` dashes\"\"\"\n    print(\"o\" + count *'-' + \"o\")\n\ndef page_header(title):\n    \"\"\"Print a page header with a title surrounded by dashes\"\"\"\n    dashes(78)\n    print(\"|{:^78s}|\".format(title))\n    dashes(78)\n\ndef table_header():\n    \"\"\"Print the first row in a table  (header row)\"\"\"\n    print()\n    print(' {0:^4s} | {1:^13s} | {2:^12s} | {3:^7s} | {4:^12s} | {5:^14s} '.format(\"Year\", \"Avg High Temp\", \"Avg Low Temp\", \"Percip\", \"# Rainy days\", \"# Recorded days\"))\n    dashes(78)\n    \ndef display(title, years, yearly_weather):\n    \"\"\"Print a page with a header, title, and the weather information of all years as found in yearly_weather\"\"\"\n    clear_output()\n    page_header(title)\n    table_header()\n    \n    # if years contain a single int, convert to a single item list\n    if type(years) is not list: years = [years]\n    \n    # print weather information for all years\n    for year in years:\n        print(year_info(year, yearly_weather)) \n        \n    # display this page till you go back to the main menu\n    while True:\n        m = input(\"Return to main menu [y/n]?\")\n        if m in 'yesYesYES':\n            break\n            \n\ndef main():\n    # convert the data in the (csv) file into a Python dictionary\n    weather = convert_file(\"data/seattle_weather.csv\")\n    \n    # highlight rainy days by adding a Boolean entry to the dictionary's values\n    add_rainy(weather)\n    \n    # consolidate the weather data by year then store the result in a new dictionary\n    yearly_weather = consolidate(weather)\n    \n    # earliest and latest years on record\n    min_year = min(yearly_weather)\n    max_year = max(yearly_weather)\n    \n    # menus functionality\n    while True:\n        clear_output()\n\n        # display header\n        page_header(\"Weather Records\")\n\n        # display main menu\n        print()\n        print(\"Main Menu (choose an option to display):\\n\")\n        print(\"1. Summary of a certain year\")\n        print(\"2. All years summary table\")\n        print(\"3. Hottest year on record\")\n        print(\"4. Coldest year on record\")\n        print(\"5. Year with most rainy days\")\n        print(\"6. Year with the highest precipitation\")\n        print(\"7. Quit\")\n        print()\n\n        # display footer with user input message\n        dashes(78)\n        while True:\n            try:\n                option = input(\"Select an option (1, 7): \")\n                option = int(option)\n                if 1 <= option <= 7:\n                    break # break the user input loop only, main loop does NOT break\n            except ValueError:\n                print(\"Cannot convert {:} to int\".format(type(option)))\n        \n        \n        # execute relevant function\n        # 1. Summary of a certain year\n        if option == 1:\n            # ask the user for a valid year\n            while True:\n                try:\n                    year = input(\"Enter a year ({} - {})\".format(min_year, max_year))\n                    year = int(year)\n                    if min_year <= year <= max_year:\n                        break\n                except ValueError:\n                    print(\"Cannot convert {:} to int\".format(type(option)))\n            display(\"Year Summary\", year, yearly_weather)\n\n        # 2. All years summary table \n        elif option == 2:\n            years = list(sorted(yearly_weather))\n            display(\"Tabular Summary\", years, yearly_weather)\n       \n        # 3. Hottest year on record\n        elif option == 3:\n            year = hottest(yearly_weather)\n            display(\"Hottest year on record\", year, yearly_weather)\n            \n        # 4. Coldest year on record   \n        elif option == 4:\n            year = coldest(yearly_weather)\n            display(\"Coldest year on record\", year, yearly_weather)\n            \n        # 5. Year with most rainy days    \n        elif option == 5:\n            year = rainiest_days(yearly_weather)\n            display(\"Year with most rainy days\", year, yearly_weather)\n        \n        # 6. Year with the highest precipitation\n        elif option == 6:\n            year = highest_prcp(yearly_weather)\n            display(\"Year with the highest precipitation\", year, yearly_weather)\n            \n        # 7. Quit    \n        elif option == 7:\n            clear_output()\n            break\n    \n\n# Run the program    \nmain()",
      "execution_count": 6,
      "outputs": [
        {
          "output_type": "stream",
          "text": "[datetime.date(2017, 5, 11), datetime.date(2017, 2, 18), datetime.date(2017, 1, 27), datetime.date(2017, 11, 15), datetime.date(2017, 7, 24), datetime.date(2017, 5, 12), datetime.date(2017, 10, 9), datetime.date(2017, 10, 2), datetime.date(2017, 10, 23), datetime.date(2017, 11, 16), datetime.date(2017, 2, 17), datetime.date(2017, 8, 11), datetime.date(2017, 6, 13), datetime.date(2017, 11, 24), datetime.date(2017, 4, 5), datetime.date(2017, 1, 28), datetime.date(2017, 10, 31), datetime.date(2017, 9, 13), datetime.date(2017, 7, 18), datetime.date(2017, 9, 10), datetime.date(2017, 10, 11), datetime.date(2017, 2, 2), datetime.date(2017, 5, 19), datetime.date(2017, 5, 15), datetime.date(2017, 9, 5), datetime.date(2017, 7, 13), datetime.date(2017, 10, 29), datetime.date(2017, 11, 25), datetime.date(2017, 9, 1), datetime.date(2017, 8, 31), datetime.date(2017, 7, 22), datetime.date(2017, 9, 8), datetime.date(2017, 11, 28), datetime.date(2017, 6, 27), datetime.date(2017, 4, 11), datetime.date(2017, 4, 7), datetime.date(2017, 5, 28), datetime.date(2017, 5, 31), datetime.date(2017, 1, 14), datetime.date(2017, 3, 6), datetime.date(2017, 3, 8), datetime.date(2017, 6, 9), datetime.date(2017, 3, 25), datetime.date(2017, 8, 27), datetime.date(2017, 4, 29), datetime.date(2017, 11, 1), datetime.date(2017, 1, 5), datetime.date(2017, 11, 21), datetime.date(2017, 3, 31), datetime.date(2017, 2, 10), datetime.date(2017, 10, 15), datetime.date(2017, 3, 22), datetime.date(2017, 3, 11), datetime.date(2017, 7, 16), datetime.date(2017, 7, 27), datetime.date(2017, 3, 16), datetime.date(2017, 2, 9), datetime.date(2017, 11, 30), datetime.date(2017, 11, 4), datetime.date(2017, 8, 2), datetime.date(2017, 4, 3), datetime.date(2017, 3, 28), datetime.date(2017, 2, 23), datetime.date(2017, 5, 16), datetime.date(2017, 9, 4), datetime.date(2017, 8, 9), datetime.date(2017, 8, 6), datetime.date(2017, 12, 1), datetime.date(2017, 4, 17), datetime.date(2017, 5, 24), datetime.date(2017, 11, 13), datetime.date(2017, 4, 6), datetime.date(2017, 8, 1), datetime.date(2017, 6, 3), datetime.date(2017, 4, 4), datetime.date(2017, 3, 17), datetime.date(2017, 3, 2), datetime.date(2017, 12, 8), datetime.date(2017, 7, 28), datetime.date(2017, 9, 16), datetime.date(2017, 1, 19), datetime.date(2017, 12, 13), datetime.date(2017, 3, 15), datetime.date(2017, 5, 7), datetime.date(2017, 6, 22), datetime.date(2017, 5, 23), datetime.date(2017, 1, 31), datetime.date(2017, 1, 20), datetime.date(2017, 3, 30), datetime.date(2017, 9, 11), datetime.date(2017, 9, 30), datetime.date(2017, 9, 24), datetime.date(2017, 6, 28), datetime.date(2017, 1, 26), datetime.date(2017, 1, 4), datetime.date(2017, 10, 8), datetime.date(2017, 4, 28), datetime.date(2017, 6, 17), datetime.date(2017, 10, 19), datetime.date(2017, 5, 26), datetime.date(2017, 2, 7), datetime.date(2017, 5, 27), datetime.date(2017, 8, 16), datetime.date(2017, 10, 3), datetime.date(2017, 6, 1), datetime.date(2017, 3, 24), datetime.date(2017, 3, 3), datetime.date(2017, 6, 24), datetime.date(2017, 12, 24), datetime.date(2017, 3, 14), datetime.date(2017, 12, 18), datetime.date(2017, 9, 17), datetime.date(2017, 5, 21), datetime.date(2017, 4, 18), datetime.date(2017, 7, 9), datetime.date(2017, 6, 15), datetime.date(2017, 5, 3), datetime.date(2017, 12, 20), datetime.date(2017, 4, 26), datetime.date(2017, 7, 7), datetime.date(2017, 9, 28), datetime.date(2017, 2, 22), datetime.date(2017, 11, 3), datetime.date(2017, 10, 14), datetime.date(2017, 1, 3), datetime.date(2017, 12, 16), datetime.date(2017, 4, 10), datetime.date(2017, 12, 7), datetime.date(2017, 7, 6), datetime.date(2017, 8, 18), datetime.date(2017, 6, 25), datetime.date(2017, 10, 5), datetime.date(2017, 10, 30), datetime.date(2017, 7, 19), datetime.date(2017, 4, 25), datetime.date(2017, 1, 1), datetime.date(2017, 8, 3), datetime.date(2017, 1, 25), datetime.date(2017, 6, 14), datetime.date(2017, 3, 18), datetime.date(2017, 2, 4), datetime.date(2017, 3, 13), datetime.date(2017, 5, 2), datetime.date(2017, 8, 26), datetime.date(2017, 10, 13), datetime.date(2017, 6, 19), datetime.date(2017, 1, 11), datetime.date(2017, 2, 25), datetime.date(2017, 9, 26), datetime.date(2017, 7, 15), datetime.date(2017, 12, 15), datetime.date(2017, 7, 20), datetime.date(2017, 9, 6), datetime.date(2017, 6, 11), datetime.date(2017, 6, 6), datetime.date(2017, 5, 20), datetime.date(2017, 10, 6), datetime.date(2017, 3, 20), datetime.date(2017, 11, 6), datetime.date(2017, 9, 22), datetime.date(2017, 3, 4), datetime.date(2017, 1, 23), datetime.date(2017, 12, 23), datetime.date(2017, 11, 11), datetime.date(2017, 5, 17), datetime.date(2017, 4, 15), datetime.date(2017, 1, 16), datetime.date(2017, 4, 14), datetime.date(2017, 5, 5), datetime.date(2017, 11, 20), datetime.date(2017, 8, 24), datetime.date(2017, 10, 22), datetime.date(2017, 6, 16), datetime.date(2017, 6, 7), datetime.date(2017, 3, 27), datetime.date(2017, 9, 15), datetime.date(2017, 5, 9), datetime.date(2017, 5, 22), datetime.date(2017, 3, 23), datetime.date(2017, 8, 20), datetime.date(2017, 8, 13), datetime.date(2017, 8, 14), datetime.date(2017, 1, 18), datetime.date(2017, 11, 19), datetime.date(2017, 12, 5), datetime.date(2017, 11, 14), datetime.date(2017, 12, 17), datetime.date(2017, 7, 5), datetime.date(2017, 2, 26), datetime.date(2017, 1, 15), datetime.date(2017, 6, 30), datetime.date(2017, 1, 6), datetime.date(2017, 1, 29), datetime.date(2017, 7, 14), datetime.date(2017, 9, 23), datetime.date(2017, 12, 14), datetime.date(2017, 7, 11), datetime.date(2017, 10, 1), datetime.date(2017, 2, 24), datetime.date(2017, 8, 7), datetime.date(2017, 5, 14), datetime.date(2017, 5, 25), datetime.date(2017, 1, 13), datetime.date(2017, 7, 21), datetime.date(2017, 12, 6), datetime.date(2017, 11, 18), datetime.date(2017, 1, 17), datetime.date(2017, 6, 12), datetime.date(2017, 3, 9), datetime.date(2017, 2, 16), datetime.date(2017, 5, 30), datetime.date(2017, 10, 10), datetime.date(2017, 7, 17), datetime.date(2017, 8, 10), datetime.date(2017, 9, 3), datetime.date(2017, 12, 19), datetime.date(2017, 3, 21), datetime.date(2017, 9, 20), datetime.date(2017, 2, 12), datetime.date(2017, 1, 22), datetime.date(2017, 10, 24), datetime.date(2017, 2, 11), datetime.date(2017, 5, 4), datetime.date(2017, 10, 28), datetime.date(2017, 8, 22), datetime.date(2017, 3, 1), datetime.date(2017, 11, 26), datetime.date(2017, 3, 19), datetime.date(2017, 1, 2), datetime.date(2017, 2, 15), datetime.date(2017, 6, 4), datetime.date(2017, 12, 9), datetime.date(2017, 7, 30), datetime.date(2017, 10, 27), datetime.date(2017, 11, 27), datetime.date(2017, 8, 25), datetime.date(2017, 3, 10), datetime.date(2017, 7, 10), datetime.date(2017, 8, 12), datetime.date(2017, 5, 8), datetime.date(2017, 7, 23), datetime.date(2017, 12, 2), datetime.date(2017, 11, 12), datetime.date(2017, 11, 17), datetime.date(2017, 1, 12), datetime.date(2017, 7, 12), datetime.date(2017, 10, 18), datetime.date(2017, 7, 3), datetime.date(2017, 7, 4), datetime.date(2017, 3, 5), datetime.date(2017, 4, 12), datetime.date(2017, 11, 7), datetime.date(2017, 4, 24), datetime.date(2017, 10, 20), datetime.date(2017, 12, 12), datetime.date(2017, 5, 13), datetime.date(2017, 6, 29), datetime.date(2017, 2, 21), datetime.date(2017, 11, 23), datetime.date(2017, 3, 7), datetime.date(2017, 8, 15), datetime.date(2017, 4, 20), datetime.date(2017, 6, 20), datetime.date(2017, 12, 21), datetime.date(2017, 6, 26), datetime.date(2017, 11, 8), datetime.date(2017, 1, 10), datetime.date(2017, 2, 5), datetime.date(2017, 12, 10), datetime.date(2017, 11, 29), datetime.date(2017, 1, 8), datetime.date(2017, 2, 6), datetime.date(2017, 4, 2), datetime.date(2017, 10, 4), datetime.date(2017, 1, 9), datetime.date(2017, 12, 3), datetime.date(2017, 6, 21), datetime.date(2017, 7, 31), datetime.date(2017, 5, 6), datetime.date(2017, 7, 29), datetime.date(2017, 8, 4), datetime.date(2017, 9, 2), datetime.date(2017, 8, 29), datetime.date(2017, 8, 28), datetime.date(2017, 2, 27), datetime.date(2017, 6, 10), datetime.date(2017, 2, 20), datetime.date(2017, 5, 29), datetime.date(2017, 2, 28), datetime.date(2017, 4, 9), datetime.date(2017, 11, 5), datetime.date(2017, 8, 23), datetime.date(2017, 9, 12), datetime.date(2017, 3, 26), datetime.date(2017, 12, 4), datetime.date(2017, 4, 23), datetime.date(2017, 9, 18), datetime.date(2017, 12, 11), datetime.date(2017, 2, 8), datetime.date(2017, 6, 5), datetime.date(2017, 10, 26), datetime.date(2017, 8, 5), datetime.date(2017, 7, 26), datetime.date(2017, 8, 19), datetime.date(2017, 5, 18), datetime.date(2017, 10, 7), datetime.date(2017, 7, 2), datetime.date(2017, 8, 30), datetime.date(2017, 7, 8), datetime.date(2017, 5, 1), datetime.date(2017, 4, 22), datetime.date(2017, 2, 3), datetime.date(2017, 10, 17), datetime.date(2017, 6, 18), datetime.date(2017, 8, 8), datetime.date(2017, 9, 7), datetime.date(2017, 4, 1), datetime.date(2017, 4, 27), datetime.date(2017, 9, 19), datetime.date(2017, 4, 16), datetime.date(2017, 2, 1), datetime.date(2017, 6, 23), datetime.date(2017, 7, 25), datetime.date(2017, 7, 1), datetime.date(2017, 8, 21), datetime.date(2017, 10, 16), datetime.date(2017, 3, 12), datetime.date(2017, 9, 27), datetime.date(2017, 9, 21), datetime.date(2017, 3, 29), datetime.date(2017, 4, 21), datetime.date(2017, 11, 2), datetime.date(2017, 4, 13), datetime.date(2017, 2, 14), datetime.date(2017, 10, 25), datetime.date(2017, 9, 14), datetime.date(2017, 1, 30), datetime.date(2017, 5, 10), datetime.date(2017, 4, 19), datetime.date(2017, 8, 17), datetime.date(2017, 4, 8), datetime.date(2017, 11, 9), datetime.date(2017, 11, 22), datetime.date(2017, 12, 22), datetime.date(2017, 6, 2), datetime.date(2017, 10, 12), datetime.date(2017, 2, 19), datetime.date(2017, 6, 8), datetime.date(2017, 1, 24), datetime.date(2017, 9, 9), datetime.date(2017, 2, 13), datetime.date(2017, 4, 30), datetime.date(2017, 11, 10), datetime.date(2017, 1, 21), datetime.date(2017, 9, 25), datetime.date(2017, 9, 29), datetime.date(2017, 1, 7), datetime.date(2017, 10, 21)]\n",
          "name": "stdout"
        },
        {
          "output_type": "error",
          "ename": "TypeError",
          "evalue": "'NoneType' object is not iterable",
          "traceback": [
            "\u001b[0;31m---------------------------------------------------------------------------\u001b[0m",
            "\u001b[0;31mTypeError\u001b[0m                                 Traceback (most recent call last)",
            "\u001b[0;32m<ipython-input-6-8b7c6c2a7d16>\u001b[0m in \u001b[0;36m<module>\u001b[0;34m()\u001b[0m\n\u001b[1;32m    421\u001b[0m \u001b[0;34m\u001b[0m\u001b[0m\n\u001b[1;32m    422\u001b[0m \u001b[0;31m# Run the program\u001b[0m\u001b[0;34m\u001b[0m\u001b[0;34m\u001b[0m\u001b[0m\n\u001b[0;32m--> 423\u001b[0;31m \u001b[0mmain\u001b[0m\u001b[0;34m(\u001b[0m\u001b[0;34m)\u001b[0m\u001b[0;34m\u001b[0m\u001b[0m\n\u001b[0m",
            "\u001b[0;32m<ipython-input-6-8b7c6c2a7d16>\u001b[0m in \u001b[0;36mmain\u001b[0;34m()\u001b[0m\n\u001b[1;32m    341\u001b[0m \u001b[0;34m\u001b[0m\u001b[0m\n\u001b[1;32m    342\u001b[0m     \u001b[0;31m# earliest and latest years on record\u001b[0m\u001b[0;34m\u001b[0m\u001b[0;34m\u001b[0m\u001b[0m\n\u001b[0;32m--> 343\u001b[0;31m     \u001b[0mmin_year\u001b[0m \u001b[0;34m=\u001b[0m \u001b[0mmin\u001b[0m\u001b[0;34m(\u001b[0m\u001b[0myearly_weather\u001b[0m\u001b[0;34m)\u001b[0m\u001b[0;34m\u001b[0m\u001b[0m\n\u001b[0m\u001b[1;32m    344\u001b[0m     \u001b[0mmax_year\u001b[0m \u001b[0;34m=\u001b[0m \u001b[0mmax\u001b[0m\u001b[0;34m(\u001b[0m\u001b[0myearly_weather\u001b[0m\u001b[0;34m)\u001b[0m\u001b[0;34m\u001b[0m\u001b[0m\n\u001b[1;32m    345\u001b[0m \u001b[0;34m\u001b[0m\u001b[0m\n",
            "\u001b[0;31mTypeError\u001b[0m: 'NoneType' object is not iterable"
          ]
        }
      ]
    }
  ],
  "metadata": {
    "kernelspec": {
      "name": "python3",
      "display_name": "Python 3",
      "language": "python"
    },
    "language_info": {
      "mimetype": "text/x-python",
      "nbconvert_exporter": "python",
      "name": "python",
      "pygments_lexer": "ipython3",
      "version": "3.5.4",
      "file_extension": ".py",
      "codemirror_mode": {
        "version": 3,
        "name": "ipython"
      }
    }
  },
  "nbformat": 4,
  "nbformat_minor": 2
}