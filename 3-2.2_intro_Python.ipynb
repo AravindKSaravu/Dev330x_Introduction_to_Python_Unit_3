{
  "cells": [
    {
      "metadata": {},
      "cell_type": "markdown",
      "source": "# Section 2.2: Advanced Loop Structures\n* pass\n* while, for: break, continue\n* Nested loops\n* Loops containing compound conditional expressions\n\n### Students will be able to:\n* Recognize the purpose of a `pass` statement\n* Differentiate between `break` and `continue` statements\n* Control loop iteration using `break` or `continue` \n* Use nested loops to iterate over the elements of a table\n* Employ compound conditional expressions in a loop structure"
    },
    {
      "metadata": {},
      "cell_type": "markdown",
      "source": "---\n<font size=\"6\" color=\"#00A0B2\"  face=\"verdana\"> <B>Concepts</B></font>  \n\n\n## `pass` statements\n\n[![view video](https://iajupyterprodblobs.blob.core.windows.net/imagecontainer/common/play_video.png)](https://www.youtube.com/watch?v=pnYOfpvCXTk)\n\nThe `pass` statement does nothing; however, it still has useful applications. It is typically used as a placeholder, indicating that it will be replaced by valid functioning code. For example, say you are developing a function but you are not ready to write its code; you can use `pass` as a placeholder to make your code syntactically correct and avoid any interpreter errors."
    },
    {
      "metadata": {},
      "cell_type": "markdown",
      "source": "---\n<font size=\"6\" color=\"#00A0B2\"  face=\"verdana\"> <B>Examples</B></font>\n"
    },
    {
      "metadata": {
        "trusted": true
      },
      "cell_type": "code",
      "source": "# Does nothing, but syntactically valid\ndef useless_function():\n    pass",
      "execution_count": 1,
      "outputs": []
    },
    {
      "metadata": {
        "trusted": true
      },
      "cell_type": "code",
      "source": "# Does nothing, but syntactically valid\nfor i in range(10):\n    pass",
      "execution_count": 2,
      "outputs": []
    },
    {
      "metadata": {
        "trusted": true
      },
      "cell_type": "code",
      "source": "# Does nothing, but syntactically valid\nif (5 < 6):\n    pass",
      "execution_count": 3,
      "outputs": []
    },
    {
      "metadata": {},
      "cell_type": "markdown",
      "source": "---\n<font size=\"6\" color=\"#00A0B2\"  face=\"verdana\"> <B>Concepts</B></font>  \n\n\n## Changing Loop Iterations\n\n[![view video](https://iajupyterprodblobs.blob.core.windows.net/imagecontainer/common/play_video.png)](https://www.youtube.com/watch?v=zmxxUqw4pXo)\n\n### `break` statements\nIt is sometimes useful to stop a loop and then resume executing the code that follows. This process is called breaking a loop and can be achieved in Python using a `break` statement. A `break` statement can be used with `while` or `for` loops and it breaks the innermost loop of nested loops. \n\nA `break` statement is useful for improving the efficiency of your code. For example, assume you are looping over the elements of an unsorted list looking for the first occurrence of a 0. If a 0 is encountered earlier in the search, there is no need to continue the search and a loop break would be very desirable. `break` statements can also be used to break out of infinite loops.\n\n### `continue` statements\nSometimes you do not need to break out of a loop, but you want to skip an iteration and jump to the next one. This can be done in Python using the `continue` statement. A `continue` statement can be used with `while` or `for` loops, and it applies to the innermost loop of nested loops. A `continue` statement is used to improve the efficiency of code by skipping unnecessary iterations."
    },
    {
      "metadata": {},
      "cell_type": "markdown",
      "source": "---\n<font size=\"6\" color=\"#00A0B2\"  face=\"verdana\"> <B>Examples</B></font>\n\n### `break` statements\n\n#### Breaking loops to improve efficiency"
    },
    {
      "metadata": {
        "trusted": true
      },
      "cell_type": "code",
      "source": "# Find the index of the first occurrence of 611 in an arbitrarily long list\n\n# Define a long list\nlst = [976, 618, 812, 898, 804, 689, 611, 630, 467, 411, 648, 931, 618, 425, 328, 196, 56, 615, 458, 166, 115, 118, 22, 585, 213, 855, 615, 478, 234, 360, 981, 174, 993, 627, 911, 385, 219, 577, 540, 49, 164, 109, 893, 727, 687, 709, 971, 781, 802, 701, 789, 421, 863, 44, 573, 91, 140, 338, 36, 102, 502, 723, 134, 336, 940, 969, 649, 598, 413, 307, 929, 951, 993, 436, 149, 280, 907, 733, 713, 268, 29, 946, 102, 277, 352, 449, 527, 201, 566, 643, 118, 587, 717, 358, 542, 223, 846, 244, 83, 268]\n\n# Find the index (without break)\nindex = 0\niteration_count = 0\nfor num in lst:\n    if (num == 611):\n        found_at = index\n    index = index + 1\n    iteration_count = iteration_count + 1\n\nprint(\"Without using a break, 611 was found at index:\", found_at, \"using\", iteration_count, \"iterations\")\n\n\n\n# Find the index (with break)\nindex = 0\niteration_count = 0\nfor num in lst:\n    if (num == 611):\n        found_at = index\n        break # adding a break to improve efficiency\n    index = index + 1\n    iteration_count = iteration_count + 1\n\nprint(\"Using a break, 611 was found at index:\", found_at, \"using\", iteration_count, \"iterations\")",
      "execution_count": 1,
      "outputs": [
        {
          "output_type": "stream",
          "text": "Without using a break, 611 was found at index: 6 using 100 iterations\nUsing a break, 611 was found at index: 6 using 6 iterations\n",
          "name": "stdout"
        }
      ]
    },
    {
      "metadata": {},
      "cell_type": "markdown",
      "source": "#### Breaking infinite loops\nInfinite loops have some applications, and a `break` statement would be necessary to break such loops and continue executing the rest of a program. For example, infinite loops are useful for prompting the user for specific input, and should be broken when valid input is entered."
    },
    {
      "metadata": {
        "trusted": true
      },
      "cell_type": "code",
      "source": "# Prompt the user for a positive number\nwhile True:\n    x = int(input(\"Enter a positive number: \"))\n    if (x > 0):\n        break #x is positive, break the loop\n    ",
      "execution_count": 2,
      "outputs": [
        {
          "output_type": "stream",
          "name": "stdout",
          "text": "Enter a positive number: 3\n"
        }
      ]
    },
    {
      "metadata": {},
      "cell_type": "markdown",
      "source": "### `continue` statements"
    },
    {
      "metadata": {
        "trusted": true
      },
      "cell_type": "code",
      "source": "# Print the odd elements in a list\nlst = [14, 6, 5, 10, 6, 9, 33, 103, 21, 55]\n\nfor num in lst:\n    # Skip all even numbers\n    if (num % 2 == 0):\n        continue\n    print(num)",
      "execution_count": 3,
      "outputs": [
        {
          "output_type": "stream",
          "text": "5\n9\n33\n103\n21\n55\n",
          "name": "stdout"
        }
      ]
    },
    {
      "metadata": {},
      "cell_type": "markdown",
      "source": "---\n<font size=\"6\" color=\"#B24C00\"  face=\"verdana\"> <B>Task 1</B></font>\n\n## Changing Loop Iterations"
    },
    {
      "metadata": {},
      "cell_type": "markdown",
      "source": "### Prime numbers\nA prime number is a number greater than 1 that is divisible only by 1 and itself. Prime numbers play an important role in several cryptographic algorithms that we use every day, and it is very useful to build a program to test whether a number is prime."
    },
    {
      "metadata": {
        "trusted": true
      },
      "cell_type": "code",
      "source": "# [ ] The following program tests if `num` is prime or not, use a `break` statement to improve its efficiency\n# and reduce the number of necessary iterations\n\n# Compare the number of necessary iterations with and without the `break` statement\n# Use the following numbers for the comparison: \n\nnum = 45345\n#num = 11579\n#num = 948240\n#num = 128093\n#num = 519937\n#num = 694394\n\nprime = True # assume num is prime unless proven otherwise\n\niteration_count = 0\nfor i in range(2, num):\n    if num % i == 0:\n        prime = False\n        break\n    iteration_count = iteration_count + 1\n\n# Display results\nif prime:\n    print(num, \"is prime\")\nelse:\n    print(num, \"is NOT prime\")\n\nprint(\"Total number of iterations:\", iteration_count)\n\n",
      "execution_count": 6,
      "outputs": [
        {
          "output_type": "stream",
          "text": "45345 is NOT prime\nTotal number of iterations: 1\n",
          "name": "stdout"
        }
      ]
    },
    {
      "metadata": {},
      "cell_type": "markdown",
      "source": "### User input"
    },
    {
      "metadata": {
        "trusted": true
      },
      "cell_type": "code",
      "source": "# [ ] Write a program to prompt the user for an odd number; use an infinite loop and a `break` statement.\nwhile True:\n    odd_number = input(\"Input an Odd Number:\")\n    if int(odd_number) % 2 != 0 and odd_number.isnumeric():\n        print(\"Thank you for the odd number!\")\n        break\n    else:\n        pass",
      "execution_count": 7,
      "outputs": [
        {
          "output_type": "stream",
          "name": "stdout",
          "text": "Input an Odd Number:5\nThank you for the odd number!\n"
        }
      ]
    },
    {
      "metadata": {},
      "cell_type": "markdown",
      "source": "### `continue`"
    },
    {
      "metadata": {
        "trusted": false
      },
      "cell_type": "code",
      "source": "# [ ] Modify the following program to display numbers that are divisible by 7 along with their square roots.\n# HINT: Use a `continue` statement in the loop\n\nfrom math import sqrt\n\nfor num in range(1, 100):\n\n    # TODO\n    if num % 7 != 0:\n        continue\n    print(num, sqrt(num))",
      "execution_count": null,
      "outputs": []
    },
    {
      "metadata": {},
      "cell_type": "markdown",
      "source": "---\n<font size=\"6\" color=\"#00A0B2\"  face=\"verdana\"> <B>Concepts</B></font>  \n\n\n## Nested loops\n\n[![view video](https://iajupyterprodblobs.blob.core.windows.net/imagecontainer/common/play_video.png)](https://www.youtube.com/watch?v=6TtDMKzaa4I)\n\nYou can use a loop inside another loop, this concept is known as nested loops. Nested loops have many applications, but they are especially useful for iterating over the elements of a table. A table can be represented in Python as a 2 dimensional list, which is a list containing other lists. You will need two loops to iterate over all the elements of a table, the outer loop iterates over the rows of the table, while the inner loop iterates over the columns in each row.\n"
    },
    {
      "metadata": {},
      "cell_type": "markdown",
      "source": "---\n<font size=\"6\" color=\"#00A0B2\"  face=\"verdana\"> <B>Examples</B></font>\n\n### Displaying a table\nIn this example, you will print the elements of a 2 dimensional list as a table:\n\n| \n|---|---|---|\n| 5 | 2 | 6 |\n| 4 | 6 | 0 |\n| 9 | 1 | 8 |\n| 7 | 3 | 8 |\n\nNOTE: `print` statements end with a new line character. You can change this behavior by using an optional argument `end`. By default `end` is set to a new line. You can set it to the empty string to suppress the new line behavior. In this example, you will set `end` to `\\t`, which replaces the new line with a tab.\n"
    },
    {
      "metadata": {
        "trusted": true
      },
      "cell_type": "code",
      "source": "# list of lists\ntable = [[5, 2, 6], [4, 6, 0], [9, 1, 8], [7, 3, 8]]\n\nfor row in table:\n    for col in row:\n        # print the value col followed by a tab\n        print(col, end = \"\\t\")\n\n    # Print a new line\n    print()",
      "execution_count": 1,
      "outputs": [
        {
          "output_type": "stream",
          "text": "5\t2\t6\t\n4\t6\t0\t\n9\t1\t8\t\n7\t3\t8\t\n",
          "name": "stdout"
        }
      ]
    },
    {
      "metadata": {},
      "cell_type": "markdown",
      "source": "### Character art\nIn this example you will see how you can generate an interesting two dimensional character art"
    },
    {
      "metadata": {
        "trusted": true
      },
      "cell_type": "code",
      "source": "# Generate a staircase character art\n# Size controls the number of steps\ndef char_art(steps):\n    for row in range(steps):\n        for col in range(steps):\n            if(col <= row):\n                print(\"[]\", end = \"\")\n        print()\n\n# Generate a staircase with 6 steps                \nchar_art(6)",
      "execution_count": 13,
      "outputs": [
        {
          "output_type": "stream",
          "text": "[]\n[][]\n[][][]\n[][][][]\n[][][][][]\n[][][][][][]\n",
          "name": "stdout"
        }
      ]
    },
    {
      "metadata": {},
      "cell_type": "markdown",
      "source": "---\n<font size=\"6\" color=\"#B24C00\"  face=\"verdana\"> <B>Task 2</B></font>\n\n## Nested Loops"
    },
    {
      "metadata": {},
      "cell_type": "markdown",
      "source": "### Sum of rows"
    },
    {
      "metadata": {
        "trusted": true
      },
      "cell_type": "code",
      "source": "# [ ] Write a program to display the sum of each row in table\ntable = [[5, 2, 6], [4, 6, 0], [9, 1, 8], [7, 3, 8]]\n\nfor row in table:\n    print(sum(row))",
      "execution_count": 14,
      "outputs": [
        {
          "output_type": "stream",
          "text": "13\n10\n18\n18\n",
          "name": "stdout"
        }
      ]
    },
    {
      "metadata": {},
      "cell_type": "markdown",
      "source": "### Character art"
    },
    {
      "metadata": {
        "trusted": true
      },
      "cell_type": "code",
      "source": "# [x] Complete the function `generate_star` so it displays a star of variable `size` using \"*\"\n# For size = 5 the star should look like:\n# *   *\n#  * * \n#   *  \n#  * * \n# *   *\n\ndef generate_star(size):\n    for a in range(size):\n        for b in range(size):\n            if b == a:\n                print(\"*\", end = \"\")\n            elif (a+b) == 4:\n                print(\"*\", end = \"\")\n            else:\n                print(\"\", end = \" \")\n        print()\n    #pass\n\n# Display star\ngenerate_star(5)",
      "execution_count": 14,
      "outputs": [
        {
          "output_type": "stream",
          "text": "*   *\n * * \n  *  \n * * \n*   *\n",
          "name": "stdout"
        }
      ]
    },
    {
      "metadata": {},
      "cell_type": "markdown",
      "source": "---\n<font size=\"6\" color=\"#00A0B2\"  face=\"verdana\"> <B>Concepts</B></font>  \n\n\n## Loops Containing Compound Conditional Expressions\n\n[![view video](https://iajupyterprodblobs.blob.core.windows.net/imagecontainer/common/play_video.png)](https://www.youtube.com/watch?v=8sWNFXp-OCk)\n\nCompound conditional expressions utilizing Boolean logic can be nested within loops. This will allow you to write versatile and flexible code. You can also use the `break` and `continue` statements within nested compound conditionals."
    },
    {
      "metadata": {},
      "cell_type": "markdown",
      "source": "---\n<font size=\"6\" color=\"#00A0B2\"  face=\"verdana\"> <B>Examples</B></font>\n\nIn the following examples, you will explore the versatility of using compound conditionals inside loops."
    },
    {
      "metadata": {},
      "cell_type": "markdown",
      "source": "### Finding the largest even number in a list"
    },
    {
      "metadata": {
        "trusted": true
      },
      "cell_type": "code",
      "source": "lst = [102, 34, 55, 166, 20, 67, 305]\n\n# Nesting a compound conditional in a for loop\n\nlargest = 0\n\nfor num in lst:\n    # test if num is even and greater than largest\n    if((largest < num) and (num % 2 == 0)):\n        largest = num\n\nprint(\"Largest even number in the list is: \", largest)",
      "execution_count": 15,
      "outputs": [
        {
          "output_type": "stream",
          "text": "Largest even number in the list is:  166\n",
          "name": "stdout"
        }
      ]
    },
    {
      "metadata": {},
      "cell_type": "markdown",
      "source": "### Counting within ranges\nIn this example, you are given a list containing ages of 100 people. The code will count the number of children (younger than 13), the number of teenagers (from 13 through 19), the number of young adults (from 20 through 30), and the number of adults (older than 30)."
    },
    {
      "metadata": {
        "trusted": true
      },
      "cell_type": "code",
      "source": "# Ages of 100 people\nages = [86, 38, 30, 19, 29, 6, 95, 22, 23, 82, 39, 73, 30, 98, 5, 68, 57, 34, 35, 81, 54, 77, 29, 75, 83, 14, 88, 7, 8, 32, 93, 76, 42, 1, 32, 70, 70, 3, 34, 52, 44, 41, 7, 77, 73, 97, 34, 13, 33, 54, 8, 82, 21, 55, 72, 41, 34, 98, 72, 73, 24, 55, 50, 63, 38, 92, 43, 68, 52, 68, 69, 51, 19, 24, 35, 55, 74, 47, 8, 19, 69, 12, 96, 96, 11, 30, 97, 73, 22, 25, 19, 85, 37, 68, 39, 76, 73, 18, 45, 42]\n\n# Initial count\nchildren = 0\nteens = 0\nyoung_adults = 0\nadults = 0\n\n# Nesting compound conditionals within a for loop\nfor age in ages:\n    if(age <= 12):\n        children = children + 1\n    elif((age >= 13) and (age <= 19)):\n         teens = teens + 1\n    elif((age >= 20) and (age <= 30)):\n         young_adults = young_adults + 1\n    elif(age > 30):\n         adults = adults + 1\n            \nprint(\"Number of children: \", children)\nprint(\"Number of teens: \", teens)\nprint(\"Number of young_adults: \", young_adults)\nprint(\"Number of adults: \", adults)",
      "execution_count": 16,
      "outputs": [
        {
          "output_type": "stream",
          "text": "Number of children:  11\nNumber of teens:  7\nNumber of young_adults:  12\nNumber of adults:  70\n",
          "name": "stdout"
        }
      ]
    },
    {
      "metadata": {},
      "cell_type": "markdown",
      "source": "### Prompting for specific input\nYou can use compound conditionals to test whether user input is valid. The compound conditional statement can be nested within a loop to continuously prompt for input until a valid entry is provided."
    },
    {
      "metadata": {
        "trusted": true
      },
      "cell_type": "code",
      "source": "# Prompt the user for a number between 50 and 60\n\n# Using infinite loop and break\nwhile True:\n    x = int(input(\"Enter a number between 50 and 60: \"))\n    if ((x >= 50) and (x <= 60)):\n        print(\"Thank you!\")\n        break\n    ",
      "execution_count": 17,
      "outputs": [
        {
          "output_type": "stream",
          "name": "stdout",
          "text": "Enter a number between 50 and 60: 55\nThank you!\n"
        }
      ]
    },
    {
      "metadata": {},
      "cell_type": "markdown",
      "source": "---\n<font size=\"6\" color=\"#B24C00\"  face=\"verdana\"> <B>Task 3</B></font>\n\n## Loops Containing Compound Conditional Expressions\n"
    },
    {
      "metadata": {},
      "cell_type": "markdown",
      "source": "### Counting specific numbers"
    },
    {
      "metadata": {
        "scrolled": true,
        "trusted": false
      },
      "cell_type": "code",
      "source": "# [ ] Complete the following program to count the number of even positive numbers, odd negative numbers, and zeros in `lst`\n\nlst = [9, 0, -2, -4, -5, 2, -15, 6, -65, -7]\n\neven_positives = 0\nodd_negatives = 0\nzeros = 0\n\n# TODO: Count even_positives, odd_negatives, and zeros\nfor num in lst:\n    if num>0 and num % 2 == 0 :\n        even_positives+=1\n    elif num<0 and num % 2 != 0:\n        odd_negatives+=1\n    elif num == 0:\n        zeros+=1\n\nprint(\"Number of even positives:\", even_positives)\nprint(\"Number of odd negatives:\", odd_negatives)\nprint(\"Number of zeros:\", zeros)",
      "execution_count": null,
      "outputs": []
    },
    {
      "metadata": {},
      "cell_type": "markdown",
      "source": "### Counting characters"
    },
    {
      "metadata": {
        "trusted": false
      },
      "cell_type": "code",
      "source": "# [ ] Write a program to count the number of punctuation marks (. , ? ! ' \" : ;) in `s`\n\ns = \"Once you eliminate the impossible, whatever remains, no matter how improbable, must be the truth.\" # Sherlock Holmes (by Sir Arthur Conan Doyle, 1859-1930)\nprint(s)\ncount = 0\nfor a in s:\n    if \".\" in a:\n        count += 1\n    elif \",\" in a:\n        count += 1\n    elif \"?\" in a:\n        count += 1\n    elif \"!\" in a:\n        count += 1\n    elif \"'\" in a:\n        count += 1\n    elif '\"' in a:\n        count += 1\n    elif \":\" in a:\n        count += 1\n    elif \";\" in a:\n        count += 1\nprint(count)",
      "execution_count": null,
      "outputs": []
    },
    {
      "metadata": {},
      "cell_type": "markdown",
      "source": "### User input"
    },
    {
      "metadata": {
        "trusted": true
      },
      "cell_type": "code",
      "source": "# [ ] Write a program to prompt the user for an odd positive number; use an infinite  loop and a `break` statement.\ntry:\n    while True:\n        odd_pos_num = float(input(\"Input an Odd positive number:\"))\n        if odd_pos_num % 2 != 0 and odd_pos_num > 0:\n            pass\n            break\nexcept BaseException:\n    print(\"Not an Integer!\")",
      "execution_count": 2,
      "outputs": [
        {
          "output_type": "stream",
          "name": "stdout",
          "text": "Input an Odd positive number:2\nInput an Odd positive number:2\nInput an Odd positive number:6\nInput an Odd positive number:-9\nInput an Odd positive number:5\n"
        }
      ]
    }
  ],
  "metadata": {
    "kernelspec": {
      "name": "python3",
      "display_name": "Python 3",
      "language": "python"
    },
    "language_info": {
      "mimetype": "text/x-python",
      "nbconvert_exporter": "python",
      "name": "python",
      "file_extension": ".py",
      "version": "3.5.4",
      "pygments_lexer": "ipython3",
      "codemirror_mode": {
        "version": 3,
        "name": "ipython"
      }
    }
  },
  "nbformat": 4,
  "nbformat_minor": 2
}