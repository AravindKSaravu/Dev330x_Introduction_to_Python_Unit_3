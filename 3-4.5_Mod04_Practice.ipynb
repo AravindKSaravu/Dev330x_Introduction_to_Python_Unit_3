{
  "cells": [
    {
      "metadata": {},
      "cell_type": "markdown",
      "source": "# Module 4 Practice  \n\n### Student will be able to\n\n## 3-4.1 Script Environment & Command Line Arguments\n* Distinguish if a Python code is running as a script or being imported as a module\n* Recognize the basic structure of a Unix command line\n* Parse command line arguments:\n    * Use add_argument method to parse command line arguments\n    * Add positional arguments\n    * Add optional arguments\n    * Utilize the parameters of add_argument to control how it works\n* Employ the parsed command line argument in a practical application\n\n## 3-4.2 Variable Scope\n* Define local variables\n* Read and modify the value of local variables\n* Identify the scope of a variable\n* Define global variables\n* Read the value of global variables from local scopes\n* Modify the value of global variables from local scopes\n\n## 3-4.3 Documenting Functions (Docstring)\n* Write one-line docstrings\n* Write multi-line docstrings\n* Access docstrings\n\n## 3-4.4 Documenting Functions (`pydoc`) \n* Use pydoc to generate textual documentation\n* Use pydoc to generate HTML textual documentation"
    },
    {
      "metadata": {},
      "cell_type": "markdown",
      "source": "---\n<font size=\"6\" color=\"#B24C00\"  face=\"verdana\"> <B>Task 1</B></font>\n\n## Script environment ( `__name__` )"
    },
    {
      "metadata": {},
      "cell_type": "markdown",
      "source": "## Change working directory to `command_line`\n\nNecessary so all generated files are saved in this directory, the cell will generate an error message if you are already in the `command_line` directory."
    },
    {
      "metadata": {
        "trusted": true
      },
      "cell_type": "code",
      "source": "%cd command_line",
      "execution_count": 7,
      "outputs": [
        {
          "output_type": "stream",
          "text": "[Errno 2] No such file or directory: 'command_line'\n/home/nbuser/library/command_line\n",
          "name": "stdout"
        }
      ]
    },
    {
      "metadata": {},
      "cell_type": "markdown",
      "source": "## Sentence counter"
    },
    {
      "metadata": {
        "trusted": true
      },
      "cell_type": "code",
      "source": "\n%%writefile sentence_counter.py\n\n# [x] The following program contains a few functions to count the number of: vowels, consonants, and digits in a sentence.\n# Modify the program so it only run the test case when the program is executed directly. \n# In other words, when the program is imported as a module for another program, it shouldn't display the test cases.\ndef count_vowels(sentence):\n    \"\"\"Count the number of vowels in sentence.\"\"\"\n    vowels = 0\n    for c in sentence:\n        if c.lower() in \"aeiouy\":\n            vowels = vowels + 1\n    return vowels\n\ndef count_consonants(sentence):\n    \"\"\"Count the number of consonants in sentence.\"\"\"\n    consonants = 0\n    for c in sentence:\n        if c.isalpha():\n            if c.lower() not in \"aeiouy\":\n                consonants = consonants + 1\n    return consonants\n\ndef count_digits(sentence):\n    \"\"\"Count the number of digits in sentence.\"\"\"\n    digits = 0\n    for c in sentence:\n        if c.isdigit():\n            digits = digits + 1\n    return digits\n\ntest_sentence = \"Plan 2 is not working!\"\nprint(\"Number of vowels = {:d}\".format(count_vowels(test_sentence)))\nprint(\"Number of consonants = {:d}\".format(count_consonants(test_sentence)))\nprint(\"Number of digits = {:d}\".format(count_digits(test_sentence)))",
      "execution_count": 8,
      "outputs": [
        {
          "output_type": "stream",
          "text": "Overwriting sentence_counter.py\n",
          "name": "stdout"
        }
      ]
    },
    {
      "metadata": {},
      "cell_type": "markdown",
      "source": "---\n<font size=\"6\" color=\"#B24C00\"  face=\"verdana\"> <B>Task 2</B></font>\n\n## Parsing command line arguments"
    },
    {
      "metadata": {},
      "cell_type": "markdown",
      "source": "## Change working directory to `command_line`\n\nNecessary so all generated files are saved in this directory, the cell will generate an error message if you are already in the `command_line` directory."
    },
    {
      "metadata": {
        "scrolled": true,
        "trusted": true
      },
      "cell_type": "code",
      "source": "%cd command_line",
      "execution_count": 19,
      "outputs": [
        {
          "output_type": "stream",
          "text": "[Errno 2] No such file or directory: 'command_line'\n/home/nbuser/library/command_line\n",
          "name": "stdout"
        }
      ]
    },
    {
      "metadata": {},
      "cell_type": "markdown",
      "source": "## Character art\n\nThe following program is saved as `stairs.py`. Once you complete the task, you can test it using the next `bash` code cell"
    },
    {
      "metadata": {
        "trusted": true
      },
      "cell_type": "code",
      "source": "%%writefile stairs.py`\n\n# [x] The following program generates a staircase character art\n# The `size` variable controls the number of steps\n# The `base_shape` defines the characters used to generate the art\n# Modify the program so the `size` is set as a positional command line argument, and base_shape as an optional \n# command line argument with a default value of `[]`\n\nimport argparse\n\ndef gen_stairs(steps, base_shape):\n    for row in range(steps):\n        for col in range(steps):\n            if(col <= row):\n                print(base_shape, end = \"\")\n        print()\n\n# Define an argument parser object\nparser = argparse.ArgumentParser()\n\n# Add positional arguments\nparser.add_argument('size', action = 'store', type = int, help = 'Controls the numbers of steps')\n\n# Add optional arguments\nparser.add_argument('-b', '--base_shape', metavar = \"shape\", action = 'store', type = str, default = \"[]\", help = 'Defines the characters used to generate the art')\n\n# Parse command-line arguments\nargs = parser.parse_args()\n\n# Program\n# Generate a staircase with steps using '[]` as default a base shape \ngen_stairs(args.size, args.base_shape)",
      "execution_count": 20,
      "outputs": [
        {
          "output_type": "stream",
          "text": "Overwriting stairs.py\n",
          "name": "stdout"
        }
      ]
    },
    {
      "metadata": {
        "trusted": true
      },
      "cell_type": "code",
      "source": "%%bash\n\npython3 stairs.py 6 -b '^' -h",
      "execution_count": 21,
      "outputs": [
        {
          "output_type": "stream",
          "text": "usage: stairs.py [-h] [-b shape] size\n\npositional arguments:\n  size                  Controls the numbers of steps\n\noptional arguments:\n  -h, --help            show this help message and exit\n  -b shape, --base_shape shape\n                        Defines the characters used to generate the art\n",
          "name": "stdout"
        }
      ]
    },
    {
      "metadata": {},
      "cell_type": "markdown",
      "source": "        \\``\n       ## Days counter"
    },
    {
      "metadata": {
        "trusted": true
      },
      "cell_type": "code",
      "source": "%%writefile day_counter.py\n\n# [ ] Write a program that reads a date from the command line as numbers (month then day then year),\n# if the date entered is in the past, a message saying \"The date has passed\" should be printed\n# if the date is in the future the program should display the number of days remaining from today till that date,\n# there should be an optional command line flag that displays the results in total number of seconds instead of days\n\n# help message should look like:\n'''\nusage: day_counter.py [-h] [-s] month day year\n\npositional arguments:\n  month                Month as a number (1, 12)\n  day                  Day as a number (1, 31) depending on the month\n  year                 Year as a 4 digits number (2018)\n\noptional arguments:\n  -h, --help           show this help message and exit\n  -s, --total_seconds  Show the time difference in total number of seconds\n'''\nimport argparse\nfrom datetime import datetime, timedelta\n\nparser = argparse.ArgumentParser()\n\n# Add positional arguments\nparser.add_argument('month', action = 'store', type = int, help = 'Month as a number (1, 12)')\nparser.add_argument('day', action = 'store', type = int, help = 'Day as a number (1, 31) depending on the month')\nparser.add_argument('year', action = 'store', type = int, help = 'Year as a 4 digit number (2018)')\n\n# Add optional arguments\nparser.add_argument('-s', '--total_seconds', action = 'store_true', help = 'Show the time difference in total number of seconds')\n\n# Parse command-line arguments\nargs = parser.parse_args()\n\n# Program\nt = datetime(month = args.month, day = args.day, year = args.year)\ntd = abs(t - datetime.today())\n\nif t < datetime.today():\n    print(\"The date has passed\")   \nelse:\n    print(\"There is\",td.days,\"days left until this date\")\n\n# If args.total_seconds is used, print the date with the complete format\nif args.total_seconds:\n        print(\"There is\",int(td.total_seconds()),\"seconds difference between this date and today\")",
      "execution_count": 1,
      "outputs": [
        {
          "output_type": "stream",
          "text": "Writing day_counter.py\n",
          "name": "stdout"
        }
      ]
    },
    {
      "metadata": {
        "trusted": true
      },
      "cell_type": "code",
      "source": "%%bash\n\npython3 day_counter.py 3 2 2018 -s\n",
      "execution_count": 2,
      "outputs": [
        {
          "output_type": "stream",
          "text": "The date has passed\nThere is 56694283 seconds difference between this date and today\n",
          "name": "stdout"
        }
      ]
    },
    {
      "metadata": {},
      "cell_type": "markdown",
      "source": "## Adder\n"
    },
    {
      "metadata": {
        "trusted": true
      },
      "cell_type": "code",
      "source": "%%writefile adder.py\n# [x] Write a program that reads an unspecified number of integers from the command line,\n# then prints out the sum of all the numbers\n# the program should also have an optional argument to show the product of the numbers (in addition to the sum)\n# help message should look like:\n'''\nusage: adder.py [-h] [-p] [numbers [numbers ...]]\n\npositional arguments:\n  numbers        numbers to be added (or multiplied)\n\noptional arguments:\n  -h, --help     show this help message and exit\n  -p, --product  show the product of the numbers (in addition to the displayed\n                 sum)\n'''\nimport argparse\nparser = argparse.ArgumentParser()\nparser.add_argument('numbers', action = 'store', nargs = '*', type = int, help = 'numbers to be added (or multiplied)')\nparser.add_argument('-p', '--product', action = 'count', help = 'show the product of the numbers (in addition to the displayed sum)')\nargs = parser.parse_args()\nprint(sum(args.numbers))\nif args.product:\n    a = 1\n    for b in args.numbers:\n        a *= b\n    print(a)",
      "execution_count": 6,
      "outputs": [
        {
          "output_type": "stream",
          "text": "Writing adder.py\n",
          "name": "stdout"
        }
      ]
    },
    {
      "metadata": {
        "trusted": true
      },
      "cell_type": "code",
      "source": "%%bash\n\npython3 adder.py 2 3 5 10 -p\n",
      "execution_count": 7,
      "outputs": [
        {
          "output_type": "stream",
          "text": "20\n300\n",
          "name": "stdout"
        }
      ]
    },
    {
      "metadata": {},
      "cell_type": "markdown",
      "source": "---\n<font size=\"6\" color=\"#B24C00\"  face=\"verdana\"> <B>Task 3</B></font>\n\n## Local variables"
    },
    {
      "metadata": {},
      "cell_type": "markdown",
      "source": "## Fix the errors"
    },
    {
      "metadata": {
        "trusted": true
      },
      "cell_type": "code",
      "source": "# The following program displays the double of a number\n# Fix the error/s in the program so the correct answer is displayed\n\ndef double(num):\n    answer = num * 2\n    \n    return answer\n\nprint(double(6))\n\n\n",
      "execution_count": 10,
      "outputs": [
        {
          "output_type": "stream",
          "text": "12\n",
          "name": "stdout"
        }
      ]
    },
    {
      "metadata": {},
      "cell_type": "markdown",
      "source": "## Length Converter"
    },
    {
      "metadata": {
        "trusted": true
      },
      "cell_type": "code",
      "source": "# [ ] The program below converts a length from Centimeters to Inches, Feet, Yards, and Miles\n# Complete the functions cent2inches, cent2feet, cent2yards, cent2miles so they all return the expected result\n\n\ndef cent2inches(length):\n    result = float(length) * 0.393701\n    \"\"\"\n    Convert length from Centimeters to Inches.\n\n    1 Centimeter = 0.393701 Inches\n\n    args:\n        length: in Centimeter (float)\n\n    results:\n        result: equivalent length in Inches (float)\n    \"\"\"\n\n    # TODO: Your code goes here\n    return float(result)\n\n\ndef cent2feet(length):\n    result = float(length) * 0.0328084\n    \"\"\"\n    Convert length from Centimeters to Feet.\n\n    1 Centimeter = 0.0328084 Feet\n\n    args:\n        length: in Centimeter (float)\n\n    results:\n        result: equivalent length in Feet (float)\n    \"\"\"\n\n    # TODO: Your code goes here\n    return float(result)\n\n\ndef cent2yards(length):\n    result = float(length) * 0.0109361\n    \"\"\"\n    Convert length from Centimeters to Yards.\n\n    1 Centimeter = 0.0109361 Yards\n\n    args:\n        length: in Centimeter (float)\n\n    results:\n        result: equivalent length in Yards (float)\n    \"\"\"\n\n    # TODO: Your code goes here\n    return float(result)\n\n\ndef cent2miles(length):\n    result = float(length) * 6.2137e-6\n    \"\"\"\n    Convert length from Centimeters to Miles.\n\n    1 Centimeter = 6.2137e-6 Miles\n\n    args:\n        length: in Centimeter (float)\n\n    results:\n        result: equivalent length in Miles (float)\n    \"\"\"\n\n    # TODO: Your code goes here\n    return float(result)\n\n\ndef main():\n    length = float(input(\"Enter length in Centimeters: \"))\n\n    # In Inches\n    inches = cent2inches(length)\n\n    # In Feet\n    feet = cent2feet(length)\n\n    # In Yards\n    yards = cent2yards(length)\n\n    # In Miles\n    miles = cent2miles(length)\n\nprint('{:.2f} [cm] = {:.2f} [inches], {:.2f} [feet], {:.2f} [yards], {:.2e} [miles]'.format(length, inches, feet,\n                                                                                                 yards, miles))\nif __name__ == '__main__':\n    main()",
      "execution_count": 11,
      "outputs": [
        {
          "output_type": "stream",
          "name": "stdout",
          "text": "Enter length in Centimeters: 5.\n5.00 [cm] = 1.97 [inches], 0.16 [feet], 0.05 [yards], 3.11e-05 [miles]\n"
        }
      ]
    },
    {
      "metadata": {
        "collapsed": true,
        "trusted": false
      },
      "cell_type": "code",
      "source": "# [ ] The program below converts a length from Centimeters to Feet without using direct conversion\n# Complete the functions cent2inches, inches2feet, and cent2feet so they return the expected result\n# You should use cent2inches and inchest2feet in cent2feet\n\ndef cent2inches(length):\n    result = float(length) * 0.393701\n    \"\"\"\n    Convert length from Centimeters to Inches.\n\n    1 Centimeter = 0.393701 Inches\n\n    args:\n        length: in Centimeter (float)\n\n    results:\n        result: equivalent length in Inches (float)\n    \"\"\"\n\n    # TODO: Your code goes here\n    return float(result)\n\n\ndef inches2feet(length):\n    a = cent2inches(length)\n    result = a * 0.0833333\n    \"\"\"\n    Convert length from Inches to Feet.\n\n    1 Inch = 0.0833333 Feet\n\n    args:\n        length: in Inches (float)\n\n    results:\n        result: equivalent length in Feet (float)\n    \"\"\"\n\n    # TODO: Your code goes here\n    return result\n\n\ndef cent2feet(length):\n    result = inches2feet(length)\n    \"\"\"\n    Convert length from Centimeters to Yards.\n\n    The conversion rate is unknown, you have to use cent2inches and inches2feet\n\n    args:\n        length: in Centimeter (float)\n\n    results:\n        result: equivalent length in Yards (float)\n    \"\"\"\n\n    # TODO: Your code goes here\n    return result\n\n\ndef main():\n    length = float(input(\"Enter length in Centimeters: \"))\n\n    # In Feet\n    feet = cent2feet(length)\n\n    print('{:.2f} [cm] = {:.2f} [feet]'.format(length, feet))\n\n\nif __name__ == '__main__':\n    main()",
      "execution_count": null,
      "outputs": []
    },
    {
      "metadata": {},
      "cell_type": "markdown",
      "source": "---\n<font size=\"6\" color=\"#B24C00\"  face=\"verdana\"> <B>Task 4</B></font>\n\n## Global variables"
    },
    {
      "metadata": {},
      "cell_type": "markdown",
      "source": "### Formatted Phone Number"
    },
    {
      "metadata": {
        "collapsed": true,
        "trusted": false
      },
      "cell_type": "code",
      "source": "# [ ] Complete the function `formatted_phone()` so it displays the PHONE number as 777-248-3940\n\nPHONE = \"7895550153\"\n\n\ndef formatted_phone():\n    # TODO: Your code goes here\n    PHONE = \"777-248-3940\"\n    return PHONE\n\n\nprint(formatted_phone())",
      "execution_count": null,
      "outputs": []
    },
    {
      "metadata": {},
      "cell_type": "markdown",
      "source": "### Changing global variables"
    },
    {
      "metadata": {
        "collapsed": true,
        "trusted": false
      },
      "cell_type": "code",
      "source": "# [ ] In the following program, the function change_x should change the value stored in x from 5 to 7\n# modify the function so the value of x is changed from within the function\n\nx = 5\n\ndef change_x():\n    global x\n    x = 7\n\nprint(\"Before change x =\", x)  # should be 5\nchange_x()\nprint(\"After change x =\", x)  # should be 7",
      "execution_count": null,
      "outputs": []
    },
    {
      "metadata": {
        "trusted": true
      },
      "cell_type": "code",
      "source": "# [ ] The function upper_case should change the NAME to upper case\n# correct the function so that NAME is changed permanently\n\n# HINT: Use the string function str.upper()\n\nNAME = \"Aravind\"\n\n\ndef upper_case():\n    global NAME\n    NAME = NAME.upper()\n    return NAME\n\nprint(\"Current name case:\", NAME)\nupper_case()\nprint(\"Updated name case:\", NAME)",
      "execution_count": 1,
      "outputs": [
        {
          "output_type": "stream",
          "text": "Current name case: Aravind\nUpdated name case: ARAVIND\n",
          "name": "stdout"
        }
      ]
    },
    {
      "metadata": {},
      "cell_type": "markdown",
      "source": "---\n<font size=\"6\" color=\"#B24C00\"  face=\"verdana\"> <B>Task 5</B></font>\n\n## Docstrings"
    },
    {
      "metadata": {
        "trusted": true
      },
      "cell_type": "code",
      "source": "# [ ] The function `average` computes the average of a list (or tuple) T\n# Document the function using a one-line docstring\n\ndef average(T):\n    \"\"\"Calculate the average of the tuple or list.\"\"\"\n    s = 0\n    for num in T:\n        s = s + num\n\n    return s / len(T)\nhelp(average)",
      "execution_count": 1,
      "outputs": [
        {
          "output_type": "stream",
          "text": "Help on function average in module __main__:\n\naverage(T)\n    Calculate the average of the tuple or list.\n\n",
          "name": "stdout"
        }
      ]
    },
    {
      "metadata": {
        "trusted": true
      },
      "cell_type": "code",
      "source": "# [ ] The following functions compute the area and average of a circle with radius r\n# Document both function using a one-line docstring\n\nfrom math import pi\n\ndef circle_area(r):\n    \"\"\"Calculate the Area of the circle with radius 'r'.\"\"\"\n    return pi * r ** 2\n\ndef circle_circumference(r):\n    \"\"\"Calculate the circumference of the circle with radius 'r'.\"\"\"\n    return 2 * pi * r\n\nhelp(circle_area)\nhelp(circle_circumference)",
      "execution_count": 2,
      "outputs": [
        {
          "output_type": "stream",
          "text": "Help on function circle_area in module __main__:\n\ncircle_area(r)\n    Calculate the Area of the circle with radius 'r'.\n\nHelp on function circle_circumference in module __main__:\n\ncircle_circumference(r)\n    Calculate the circumference of the circle with radius 'r'.\n\n",
          "name": "stdout"
        }
      ]
    },
    {
      "metadata": {
        "trusted": true
      },
      "cell_type": "code",
      "source": "# [ ] As you saw before, the function gen_stairs generates a number of stairs using (base_shape)\n# Document the function using a multi-line docstring\n\ndef gen_stairs(steps, base_shape):\n    \"\"\"\n    Generate a staircase with the help of steps and base shapes.\n\n    args:\n        Iterating row and col and equality checks.\n\n    return:\n        None\n    \"\"\"\n    for row in range(steps):\n        for col in range(steps):\n            if(col <= row):\n                print(base_shape, end = \"\")\n        print()\n\n# Generate a staircase with 6 steps using '[]` as a base shape\ngen_stairs(6, '[]')\nhelp(gen_stairs)",
      "execution_count": 3,
      "outputs": [
        {
          "output_type": "stream",
          "text": "[]\n[][]\n[][][]\n[][][][]\n[][][][][]\n[][][][][][]\nHelp on function gen_stairs in module __main__:\n\ngen_stairs(steps, base_shape)\n    Generate a staircase with the help of steps and base shapes.\n    \n    args:\n        Iterating row and col and equality checks.\n    \n    return:\n        None\n\n",
          "name": "stdout"
        }
      ]
    },
    {
      "metadata": {
        "trusted": true
      },
      "cell_type": "code",
      "source": "# [ ] The following function returns the minimum and maximum of a tuple (or list) T\n# # Document the function using a multi-line docstring\n\ndef min_max(T):\n    return (min(T), max(T))\n\n",
      "execution_count": 4,
      "outputs": []
    },
    {
      "metadata": {},
      "cell_type": "markdown",
      "source": "---\n<font size=\"6\" color=\"#B24C00\"  face=\"verdana\"> <B>Task 6</B></font>\n\n## `pydoc`"
    },
    {
      "metadata": {},
      "cell_type": "markdown",
      "source": "The following program is a code from a previous module. Though the working code is not included, the documentation is thorough and complete. Use `pydoc` to generate the textual documentation page.\n\nNOTE: You do not need to complete the functions' code to generate the documentation pages"
    },
    {
      "metadata": {
        "trusted": true
      },
      "cell_type": "code",
      "source": "%%writefile weather.py\n\n\n######### You do not need to complete the functions' code to generate the documentation pages\n\n\n# [ ] In this project, you will read a CSV file containing about 25K lines of weather information \n# and store the information in a Python dictionary. You will then use the dictionary to find out\n# the hottest, coldest, rainiest years and so on...\n# You will see that the dictionary's search optimization algorithms will allow you to explore \n# this large dataset without any noticeable delays.\n\n# The logic of the program is in the `main` function, read it before writing any code.\n\n# Use the description and examples under each of the following functions to implement them:\n# 1) convert_file(file_path)\n# 2) add_rainy(weather)\n# 3) consolidate(weather)\n# 4) year_info(year, yearly_weather)\n# 5) hottest(yearly_weather)\n# 6) coldest(yearly_weather)\n# 7) rainiest_days(yearly_weather)\n# 8) highest_prcp(yearly_weather)\n\n\nfrom datetime import date, datetime\n\ndef convert_file(file_path):\n    \"\"\"\n    Convert CSV file to a Python dictionary.\n    \n    The CSV file contains daily weather information arranged in rows,\n    the rows contain  (date, precipitation (inches), maximum temperature (F), minimum temperature (F)) in order.\n    First line in CSV file is a header (DATE, PRCP, TMAX, TMIN), the rest contain the weather data.\n    \n    The function should read the data in the file and generate a dictionary where:\n        1) keys are date objects (from the datetime module), using the daily date info in the file\n        2) values are lists containing [TMAX, TMIN, PRCP] in order\n        \n    args:\n        file_path: path to the CSV file\n    \n    returns:\n        weather: the generated dictionary using date objects as keys and lists of weather info as values\n        \n    examples:\n    Input CSV file:\n    DATE,PRCP,TMAX,TMIN\n    12/10/2017,0,49,34\n    12/11/2017,0,49,29\n    12/12/2017,0,46,32\n    12/13/2017,0,48,34\n    12/14/2017,0,50,36\n    12/15/2017,0.06,43,37\n    12/16/2017,0.14,45,37\n    12/17/2017,0.03,50,42\n    12/18/2017,0.7,49,41\n    12/19/2017,1,50,40\n    12/20/2017,0.13,49,32\n    12/21/2017,0.01,41,29\n    12/22/2017,0.09,40,35\n    12/23/2017,0,38,29\n    12/24/2017,0.12,38,28\n\n    Output dictionary (weather):\n    {datetime.date(2017, 12, 10): [49, 34, 0.0],\n     datetime.date(2017, 12, 11): [49, 29, 0.0],\n     datetime.date(2017, 12, 12): [46, 32, 0.0],\n     datetime.date(2017, 12, 13): [48, 34, 0.0],\n     datetime.date(2017, 12, 14): [50, 36, 0.0],\n     datetime.date(2017, 12, 15): [43, 37, 0.06],\n     datetime.date(2017, 12, 16): [45, 37, 0.14],\n     datetime.date(2017, 12, 17): [50, 42, 0.03],\n     datetime.date(2017, 12, 18): [49, 41, 0.7],\n     datetime.date(2017, 12, 19): [50, 40, 1.0],\n     datetime.date(2017, 12, 20): [49, 32, 0.13],\n     datetime.date(2017, 12, 21): [41, 29, 0.01],\n     datetime.date(2017, 12, 22): [40, 35, 0.09],\n     datetime.date(2017, 12, 23): [38, 29, 0.0],\n     datetime.date(2017, 12, 24): [38, 28, 0.12]}\n    \"\"\"\n    #TODO: Your code goes here, see hints below\n    \n    # open the file for reading (HINT: use `with` statement)\n\n    # ignore the first header line (DATE, PRCP, TMAX, TMIN)\n\n    # remove newline characters from end of each line (HINT: use str.rstrip())\n\n    # split line into a list (HINT: use str.split(','))\n\n    # create the date object from the first list element (HINT: use the date_creater(date_string) function provided below)\n\n    # read the weather related variables\n    # precipitation\n    # maximum temperature\n    # minimum temperature\n    \n    # create dictionary key:value pair\n\ndef add_rainy(weather):\n    \"\"\"\n    Emphasize rainy days using Boolean values.\n    \n    Modify the weather dictionary by adding another Boolean element to the values' lists. \n    If precipitation is observed on a day (more than 0\"), the associated list is appended by True.\n    If precipitation is not observed (0\"), the associated list is appended by False.\n    \n    args:\n        weather: dictionary, keys are date objects and values are lists [TMAX, TMIN, PRCP]\n        \n    returns:\n        None: the weather dictionary is modified directly, keys are date objects and values are lists [TMAX, TMIN, PRCP, RAINY_DAY]\n        \n    examples:\n    Input weather dictionary:\n    {datetime.date(2017, 12, 10): [49, 34, 0.0],\n     datetime.date(2017, 12, 11): [49, 29, 0.0],\n     datetime.date(2017, 12, 12): [46, 32, 0.0],\n     datetime.date(2017, 12, 13): [48, 34, 0.0],\n     datetime.date(2017, 12, 14): [50, 36, 0.0],\n     datetime.date(2017, 12, 15): [43, 37, 0.06],\n     datetime.date(2017, 12, 16): [45, 37, 0.14],\n     datetime.date(2017, 12, 17): [50, 42, 0.03],\n     datetime.date(2017, 12, 18): [49, 41, 0.7],\n     datetime.date(2017, 12, 19): [50, 40, 1.0],\n     datetime.date(2017, 12, 20): [49, 32, 0.13],\n     datetime.date(2017, 12, 21): [41, 29, 0.01],\n     datetime.date(2017, 12, 22): [40, 35, 0.09],\n     datetime.date(2017, 12, 23): [38, 29, 0.0],\n     datetime.date(2017, 12, 24): [38, 28, 0.12]}\n    \n    Updated weather dictionary with Boolean values\n    {datetime.date(2017, 12, 10): [49, 34, 0.0, False],\n     datetime.date(2017, 12, 11): [49, 29, 0.0, False],\n     datetime.date(2017, 12, 12): [46, 32, 0.0, False],\n     datetime.date(2017, 12, 13): [48, 34, 0.0, False],\n     datetime.date(2017, 12, 14): [50, 36, 0.0, False],\n     datetime.date(2017, 12, 15): [43, 37, 0.06, True],\n     datetime.date(2017, 12, 16): [45, 37, 0.14, True],\n     datetime.date(2017, 12, 17): [50, 42, 0.03, True],\n     datetime.date(2017, 12, 18): [49, 41, 0.7, True],\n     datetime.date(2017, 12, 19): [50, 40, 1.0, True],\n     datetime.date(2017, 12, 20): [49, 32, 0.13, True],\n     datetime.date(2017, 12, 21): [41, 29, 0.01, True],\n     datetime.date(2017, 12, 22): [40, 35, 0.09, True],\n     datetime.date(2017, 12, 23): [38, 29, 0.0, False],\n     datetime.date(2017, 12, 24): [38, 28, 0.12, True]}\n    \"\"\"\n    #TODO: Your code goes here\ndef consolidate(weather):\n    \"\"\"\n    Consolidate the daily weather information by year.\n    \n    Use the weather dictionary to generate a new consolidated dictionary (yearly_weather). \n    The new dictionary uses years as keys, and the associated values are lists containing (in order):\n        1) The average of the highest recorded temperatures in the year (AVG_TMAX)\n        2) The average of the lowest recorded temperatures in the year (AVG_TMIN)\n        3) The total recorded precipitation in the year (TOTAL_PRCP)\n        4) The total number of rainy days in the year (TOTAL_RAINY_DAYS)\n        5) The number of recorded days (TOTAL_DAYS). \n           This element is necessary to account for days where the station breaks (missing recordings),\n           or if the year hasn't finished yet.\n           \n    args: \n        weather: dictionary, keys are date objects and values are lists [TMAX, TMIN, PRCP, RAINY_DAY]\n    \n    returns:\n        yearly_weather: consolidated dictionary, keys are years (int), values are lists \n                        [AVG_TMAX, AVG_TMIN, TOTAL_PRCP, TOTAL_RAINY_DAYS, TOTAL_DAYS]\n                        \n    examples:\n    Input weather dictionary:\n    {datetime.date(2017, 12, 10): [49, 34, 0.0, False],\n     datetime.date(2017, 12, 11): [49, 29, 0.0, False],\n     datetime.date(2017, 12, 12): [46, 32, 0.0, False],\n     datetime.date(2017, 12, 13): [48, 34, 0.0, False],\n     datetime.date(2017, 12, 14): [50, 36, 0.0, False],\n     datetime.date(2017, 12, 15): [43, 37, 0.06, True],\n     datetime.date(2017, 12, 16): [45, 37, 0.14, True],\n     datetime.date(2017, 12, 17): [50, 42, 0.03, True],\n     datetime.date(2017, 12, 18): [49, 41, 0.7, True],\n     datetime.date(2017, 12, 19): [50, 40, 1.0, True],\n     datetime.date(2017, 12, 20): [49, 32, 0.13, True],\n     datetime.date(2017, 12, 21): [41, 29, 0.01, True],\n     datetime.date(2017, 12, 22): [40, 35, 0.09, True],\n     datetime.date(2017, 12, 23): [38, 29, 0.0, False],\n     datetime.date(2017, 12, 24): [38, 28, 0.12, True]}\n     \n     Output yearly_weather dictionary:\n     {2017: [45.666666666666664, 34.333333333333336, 2.28, 9, 15]}\n    \"\"\"    \n    #TODO: Your code goes here\n    pass\n\ndef year_info(year, yearly_weather):\n    \"\"\"\n    Convert the year's weather information to a formatted string.\n    \n    Look for the weather information of `year` in the `yearly_weather` dictionary.\n    If it exists, convert the information list into a formatted string:\n            YEAR | AVG_TMAX | AVG_TMIN | TOTAL_PRCP | TOTAL_RAINY_DAYS | TOTAL_DAYS\n    If it does not exist, the formatted string should be:\n            N/A  |    N/A   |    N/A   |     N/A    |        N/A       |    N/A   \n    \n    args:\n        year: int value to look for in the yearly_weather dictionary\n        \n        yearly_weather: consolidated dictionary, keys are years (int), values are lists \n                        [AVG_TMAX, AVG_TMIN, TOTAL_PRCP, TOTAL_RAINY_DAYS, TOTAL_DAYS] \n    \n    returns:\n        formatted_string: containing the year's weather information\n                          \n    examples:\n    Input yearly weather dictionary:\n    {2017: [45.666666666666664, 34.333333333333336, 2.28, 9, 15]}\n    \n    Output formatted string:\n    == year_info(2017, yearly_weather) == (contained in the dictionary)\n    ' 2017 |         45.67 |        34.33 |   2.28\" |            9 |             15 '\n    \n    == year_info(2055, yearly_weather) == (not contained in the dictionary)\n    ' N/A  |      N/A      |     N/A      |   N/A   |     N/A      |      N/A       '\n    \"\"\"\n    #TODO: Your code goes here\n    pass\n\ndef hottest(yearly_weather):\n    \"\"\"\n    Find the hottest year in yearly_weather.\n    \n    Look through all the years in the yearly_weather dictionary and return the year with \n    the highest average maximum temperature (highest AVG_TMAX)\n    \n    args:\n        yearly_weather: consolidated dictionary, keys are years (int), values are lists \n                        [AVG_TMAX, AVG_TMIN, TOTAL_PRCP, TOTAL_RAINY_DAYS, TOTAL_DAYS] \n    \n    returns:\n        hottest_year: the year with the highest maximum temperature average (AVG_TMAX)\n    \"\"\"\n    #TODO: Your code goes here\n    pass\n\ndef coldest(yearly_weather):\n    \"\"\"\n    Find the coldest year in yearly_weather.\n    \n    Look through all the years in the yearly_weather dictionary and return the year with \n    the lowest average minimum temperature (lowest AVG_TMIN)\n    \n    args:\n        yearly_weather: consolidated dictionary, keys are years (int), values are lists \n                        [AVG_TMAX, AVG_TMIN, TOTAL_PRCP, TOTAL_RAINY_DAYS, TOTAL_DAYS] \n    \n    returns:\n        coldest_year: the year with the lowest minimum temperature average (AVG_TMIN)\n    \"\"\"\n    #TODO: Your code goes here\n    pass\n\ndef rainiest_days(yearly_weather):\n    \"\"\"\n    Find the year with the largest number of rainy days in yearly_weather.\n    \n    Look through all the years in the yearly_weather dictionary and return the year with \n    the largest TOTAL_RAINY_DAYS\n    \n    args:\n        yearly_weather: consolidated dictionary, keys are years (int), values are lists \n                        [AVG_TMAX, AVG_TMIN, TOTAL_PRCP, TOTAL_RAINY_DAYS, TOTAL_DAYS] \n    \n    returns:\n        rainiest_year: the year with the largest number of rainy days\n    \"\"\"\n    #TODO: Your code goes here\n    pass\n\ndef highest_prcp(yearly_weather):\n    \"\"\"\n    Find the year with the highest total precipitation in yearly_weather.\n    \n    Look through all the years in the yearly_weather dictionary and return the year with \n    the largest TOTAL_PRCP\n    \n    args:\n        yearly_weather: consolidated dictionary, keys are years (int), values are lists \n                        [AVG_TMAX, AVG_TMIN, TOTAL_PRCP, TOTAL_RAINY_DAYS, TOTAL_DAYS] \n    \n    returns:\n        rainiest_year: the year with the highest total precipitation\n    \"\"\"\n    #TODO: Your code goes here\n    pass\n\ndef date_creater(date_string):\n    \"\"\"Convert the date_string (formatted as m/d/yyyy) to a date object.\"\"\"\n    d = datetime.strptime(date_string, \"%m/%d/%Y\")\n    return d.date()\n\ndef dashes(count):\n    \"\"\"Print a fancy line of `count` dashes\"\"\"\n    print(\"o\" + count *'-' + \"o\")\n\ndef page_header(title):\n    \"\"\"Print a page header with a title surrounded by dashes\"\"\"\n    dashes(78)\n    print(\"|{:^78s}|\".format(title))\n    dashes(78)\n\ndef table_header():\n    \"\"\"Print the first row in a table  (header row)\"\"\"\n    print()\n    print(' {0:^4s} | {1:^13s} | {2:^12s} | {3:^7s} | {4:^12s} | {5:^14s} '.format(\"Year\", \"Avg High Temp\", \"Avg Low Temp\", \"Percip\", \"# Rainy days\", \"# Recorded days\"))\n    dashes(78)\n    \ndef display(title, years, yearly_weather):\n    \"\"\"Print a page with a header, title, and the weather information of all years as found in yearly_weather\"\"\"\n    clear_output()\n    page_header(title)\n    table_header()\n    \n    # if years contain a single int, convert to a single item list\n    if type(years) is not list: years = [years]\n    \n    # print weather information for all years\n    for year in years:\n        print(year_info(year, yearly_weather)) \n        \n    # display this page till you go back to the main menu\n    while True:\n        m = input(\"Return to main menu [y/n]?\")\n        if m in 'yesYesYES':\n            break\n            \n\ndef main():\n    # convert the data in the (csv) file into a Python dictionary\n    weather = convert_file(\"data/seattle_weather.csv\")\n    \n    # highlight rainy days by adding a Boolean entry to the dictionary's values\n    add_rainy(weather)\n    \n    # consolidate the weather data by year then store the result in a new dictionary\n    yearly_weather = consolidate(weather)\n    \n    # earliest and latest years on record\n    min_year = min(yearly_weather)\n    max_year = max(yearly_weather)\n    \n    # menus functionality\n    while True:\n        clear_output()\n\n        # display header\n        page_header(\"Weather Records\")\n\n        # display main menu\n        print()\n        print(\"Main Menu (choose an option to display):\\n\")\n        print(\"1. Summary of a certain year\")\n        print(\"2. All years summary table\")\n        print(\"3. Hottest year on record\")\n        print(\"4. Coldest year on record\")\n        print(\"5. Year with most rainy days\")\n        print(\"6. Year with the highest precipitation\")\n        print(\"7. Quit\")\n        print()\n\n        # display footer with user input message\n        dashes(78)\n        while True:\n            try:\n                option = input(\"Select an option (1, 7): \")\n                option = int(option)\n                if 1 <= option <= 7:\n                    break # break the user input loop only, main loop does NOT break\n            except ValueError:\n                print(\"Cannot convert {:} to int\".format(type(option)))\n        \n        \n        # execute relevant function\n        # 1. Summary of a certain year\n        if option == 1:\n            # ask the user for a valid year\n            while True:\n                try:\n                    year = input(\"Enter a year ({} - {})\".format(min_year, max_year))\n                    year = int(year)\n                    if min_year <= year <= max_year:\n                        break\n                except ValueError:\n                    print(\"Cannot convert {:} to int\".format(type(option)))\n            display(\"Year Summary\", year, yearly_weather)\n\n        # 2. All years summary table \n        elif option == 2:\n            years = list(sorted(yearly_weather))\n            display(\"Tabular Summary\", years, yearly_weather)\n       \n        # 3. Hottest year on record\n        elif option == 3:\n            year = hottest(yearly_weather)\n            display(\"Hottest year on record\", year, yearly_weather)\n            \n        # 4. Coldest year on record   \n        elif option == 4:\n            year = coldest(yearly_weather)\n            display(\"Coldest year on record\", year, yearly_weather)\n            \n        # 5. Year with most rainy days    \n        elif option == 5:\n            year = rainiest_days(yearly_weather)\n            display(\"Year with most rainy days\", year, yearly_weather)\n        \n        # 6. Year with the highest precipitation\n        elif option == 6:\n            year = highest_prcp(yearly_weather)\n            display(\"Year with the highest precipitation\", year, yearly_weather)\n            \n        # 7. Quit    \n        elif option == 7:\n            clear_output()\n            break\n    \n\n\n\n",
      "execution_count": 2,
      "outputs": [
        {
          "output_type": "stream",
          "text": "Overwriting weather.py\n",
          "name": "stdout"
        }
      ]
    },
    {
      "metadata": {
        "scrolled": true,
        "trusted": true
      },
      "cell_type": "code",
      "source": "%%bash\n\npydoc weather",
      "execution_count": 3,
      "outputs": [
        {
          "output_type": "stream",
          "text": "Help on module weather:\n\nNAME\n    weather - ######### You do not need to complete the functions' code to generate the documentation pages\n\nFUNCTIONS\n    add_rainy(weather)\n        Emphasize rainy days using Boolean values.\n        \n        Modify the weather dictionary by adding another Boolean element to the values' lists. \n        If precipitation is observed on a day (more than 0\"), the associated list is appended by True.\n        If precipitation is not observed (0\"), the associated list is appended by False.\n        \n        args:\n            weather: dictionary, keys are date objects and values are lists [TMAX, TMIN, PRCP]\n            \n        returns:\n            None: the weather dictionary is modified directly, keys are date objects and values are lists [TMAX, TMIN, PRCP, RAINY_DAY]\n            \n        examples:\n        Input weather dictionary:\n        {datetime.date(2017, 12, 10): [49, 34, 0.0],\n         datetime.date(2017, 12, 11): [49, 29, 0.0],\n         datetime.date(2017, 12, 12): [46, 32, 0.0],\n         datetime.date(2017, 12, 13): [48, 34, 0.0],\n         datetime.date(2017, 12, 14): [50, 36, 0.0],\n         datetime.date(2017, 12, 15): [43, 37, 0.06],\n         datetime.date(2017, 12, 16): [45, 37, 0.14],\n         datetime.date(2017, 12, 17): [50, 42, 0.03],\n         datetime.date(2017, 12, 18): [49, 41, 0.7],\n         datetime.date(2017, 12, 19): [50, 40, 1.0],\n         datetime.date(2017, 12, 20): [49, 32, 0.13],\n         datetime.date(2017, 12, 21): [41, 29, 0.01],\n         datetime.date(2017, 12, 22): [40, 35, 0.09],\n         datetime.date(2017, 12, 23): [38, 29, 0.0],\n         datetime.date(2017, 12, 24): [38, 28, 0.12]}\n        \n        Updated weather dictionary with Boolean values\n        {datetime.date(2017, 12, 10): [49, 34, 0.0, False],\n         datetime.date(2017, 12, 11): [49, 29, 0.0, False],\n         datetime.date(2017, 12, 12): [46, 32, 0.0, False],\n         datetime.date(2017, 12, 13): [48, 34, 0.0, False],\n         datetime.date(2017, 12, 14): [50, 36, 0.0, False],\n         datetime.date(2017, 12, 15): [43, 37, 0.06, True],\n         datetime.date(2017, 12, 16): [45, 37, 0.14, True],\n         datetime.date(2017, 12, 17): [50, 42, 0.03, True],\n         datetime.date(2017, 12, 18): [49, 41, 0.7, True],\n         datetime.date(2017, 12, 19): [50, 40, 1.0, True],\n         datetime.date(2017, 12, 20): [49, 32, 0.13, True],\n         datetime.date(2017, 12, 21): [41, 29, 0.01, True],\n         datetime.date(2017, 12, 22): [40, 35, 0.09, True],\n         datetime.date(2017, 12, 23): [38, 29, 0.0, False],\n         datetime.date(2017, 12, 24): [38, 28, 0.12, True]}\n    \n    coldest(yearly_weather)\n        Find the coldest year in yearly_weather.\n        \n        Look through all the years in the yearly_weather dictionary and return the year with \n        the lowest average minimum temperature (lowest AVG_TMIN)\n        \n        args:\n            yearly_weather: consolidated dictionary, keys are years (int), values are lists \n                            [AVG_TMAX, AVG_TMIN, TOTAL_PRCP, TOTAL_RAINY_DAYS, TOTAL_DAYS] \n        \n        returns:\n            coldest_year: the year with the lowest minimum temperature average (AVG_TMIN)\n    \n    consolidate(weather)\n        Consolidate the daily weather information by year.\n        \n        Use the weather dictionary to generate a new consolidated dictionary (yearly_weather). \n        The new dictionary uses years as keys, and the associated values are lists containing (in order):\n            1) The average of the highest recorded temperatures in the year (AVG_TMAX)\n            2) The average of the lowest recorded temperatures in the year (AVG_TMIN)\n            3) The total recorded precipitation in the year (TOTAL_PRCP)\n            4) The total number of rainy days in the year (TOTAL_RAINY_DAYS)\n            5) The number of recorded days (TOTAL_DAYS). \n               This element is necessary to account for days where the station breaks (missing recordings),\n               or if the year hasn't finished yet.\n               \n        args: \n            weather: dictionary, keys are date objects and values are lists [TMAX, TMIN, PRCP, RAINY_DAY]\n        \n        returns:\n            yearly_weather: consolidated dictionary, keys are years (int), values are lists \n                            [AVG_TMAX, AVG_TMIN, TOTAL_PRCP, TOTAL_RAINY_DAYS, TOTAL_DAYS]\n                            \n        examples:\n        Input weather dictionary:\n        {datetime.date(2017, 12, 10): [49, 34, 0.0, False],\n         datetime.date(2017, 12, 11): [49, 29, 0.0, False],\n         datetime.date(2017, 12, 12): [46, 32, 0.0, False],\n         datetime.date(2017, 12, 13): [48, 34, 0.0, False],\n         datetime.date(2017, 12, 14): [50, 36, 0.0, False],\n         datetime.date(2017, 12, 15): [43, 37, 0.06, True],\n         datetime.date(2017, 12, 16): [45, 37, 0.14, True],\n         datetime.date(2017, 12, 17): [50, 42, 0.03, True],\n         datetime.date(2017, 12, 18): [49, 41, 0.7, True],\n         datetime.date(2017, 12, 19): [50, 40, 1.0, True],\n         datetime.date(2017, 12, 20): [49, 32, 0.13, True],\n         datetime.date(2017, 12, 21): [41, 29, 0.01, True],\n         datetime.date(2017, 12, 22): [40, 35, 0.09, True],\n         datetime.date(2017, 12, 23): [38, 29, 0.0, False],\n         datetime.date(2017, 12, 24): [38, 28, 0.12, True]}\n         \n         Output yearly_weather dictionary:\n         {2017: [45.666666666666664, 34.333333333333336, 2.28, 9, 15]}\n    \n    convert_file(file_path)\n        Convert CSV file to a Python dictionary.\n        \n        The CSV file contains daily weather information arranged in rows,\n        the rows contain  (date, precipitation (inches), maximum temperature (F), minimum temperature (F)) in order.\n        First line in CSV file is a header (DATE, PRCP, TMAX, TMIN), the rest contain the weather data.\n        \n        The function should read the data in the file and generate a dictionary where:\n            1) keys are date objects (from the datetime module), using the daily date info in the file\n            2) values are lists containing [TMAX, TMIN, PRCP] in order\n            \n        args:\n            file_path: path to the CSV file\n        \n        returns:\n            weather: the generated dictionary using date objects as keys and lists of weather info as values\n            \n        examples:\n        Input CSV file:\n        DATE,PRCP,TMAX,TMIN\n        12/10/2017,0,49,34\n        12/11/2017,0,49,29\n        12/12/2017,0,46,32\n        12/13/2017,0,48,34\n        12/14/2017,0,50,36\n        12/15/2017,0.06,43,37\n        12/16/2017,0.14,45,37\n        12/17/2017,0.03,50,42\n        12/18/2017,0.7,49,41\n        12/19/2017,1,50,40\n        12/20/2017,0.13,49,32\n        12/21/2017,0.01,41,29\n        12/22/2017,0.09,40,35\n        12/23/2017,0,38,29\n        12/24/2017,0.12,38,28\n        \n        Output dictionary (weather):\n        {datetime.date(2017, 12, 10): [49, 34, 0.0],\n         datetime.date(2017, 12, 11): [49, 29, 0.0],\n         datetime.date(2017, 12, 12): [46, 32, 0.0],\n         datetime.date(2017, 12, 13): [48, 34, 0.0],\n         datetime.date(2017, 12, 14): [50, 36, 0.0],\n         datetime.date(2017, 12, 15): [43, 37, 0.06],\n         datetime.date(2017, 12, 16): [45, 37, 0.14],\n         datetime.date(2017, 12, 17): [50, 42, 0.03],\n         datetime.date(2017, 12, 18): [49, 41, 0.7],\n         datetime.date(2017, 12, 19): [50, 40, 1.0],\n         datetime.date(2017, 12, 20): [49, 32, 0.13],\n         datetime.date(2017, 12, 21): [41, 29, 0.01],\n         datetime.date(2017, 12, 22): [40, 35, 0.09],\n         datetime.date(2017, 12, 23): [38, 29, 0.0],\n         datetime.date(2017, 12, 24): [38, 28, 0.12]}\n    \n    dashes(count)\n        Print a fancy line of `count` dashes\n    \n    date_creater(date_string)\n        Convert the date_string (formatted as m/d/yyyy) to a date object.\n    \n    display(title, years, yearly_weather)\n        Print a page with a header, title, and the weather information of all years as found in yearly_weather\n    \n    highest_prcp(yearly_weather)\n        Find the year with the highest total precipitation in yearly_weather.\n        \n        Look through all the years in the yearly_weather dictionary and return the year with \n        the largest TOTAL_PRCP\n        \n        args:\n            yearly_weather: consolidated dictionary, keys are years (int), values are lists \n                            [AVG_TMAX, AVG_TMIN, TOTAL_PRCP, TOTAL_RAINY_DAYS, TOTAL_DAYS] \n        \n        returns:\n            rainiest_year: the year with the highest total precipitation\n    \n    hottest(yearly_weather)\n        Find the hottest year in yearly_weather.\n        \n        Look through all the years in the yearly_weather dictionary and return the year with \n        the highest average maximum temperature (highest AVG_TMAX)\n        \n        args:\n            yearly_weather: consolidated dictionary, keys are years (int), values are lists \n                            [AVG_TMAX, AVG_TMIN, TOTAL_PRCP, TOTAL_RAINY_DAYS, TOTAL_DAYS] \n        \n        returns:\n            hottest_year: the year with the highest maximum temperature average (AVG_TMAX)\n    \n    main()\n    \n    page_header(title)\n        Print a page header with a title surrounded by dashes\n    \n    rainiest_days(yearly_weather)\n        Find the year with the largest number of rainy days in yearly_weather.\n        \n        Look through all the years in the yearly_weather dictionary and return the year with \n        the largest TOTAL_RAINY_DAYS\n        \n        args:\n            yearly_weather: consolidated dictionary, keys are years (int), values are lists \n                            [AVG_TMAX, AVG_TMIN, TOTAL_PRCP, TOTAL_RAINY_DAYS, TOTAL_DAYS] \n        \n        returns:\n            rainiest_year: the year with the largest number of rainy days\n    \n    table_header()\n        Print the first row in a table  (header row)\n    \n    year_info(year, yearly_weather)\n        Convert the year's weather information to a formatted string.\n        \n        Look for the weather information of `year` in the `yearly_weather` dictionary.\n        If it exists, convert the information list into a formatted string:\n                YEAR | AVG_TMAX | AVG_TMIN | TOTAL_PRCP | TOTAL_RAINY_DAYS | TOTAL_DAYS\n        If it does not exist, the formatted string should be:\n                N/A  |    N/A   |    N/A   |     N/A    |        N/A       |    N/A   \n        \n        args:\n            year: int value to look for in the yearly_weather dictionary\n            \n            yearly_weather: consolidated dictionary, keys are years (int), values are lists \n                            [AVG_TMAX, AVG_TMIN, TOTAL_PRCP, TOTAL_RAINY_DAYS, TOTAL_DAYS] \n        \n        returns:\n            formatted_string: containing the year's weather information\n                              \n        examples:\n        Input yearly weather dictionary:\n        {2017: [45.666666666666664, 34.333333333333336, 2.28, 9, 15]}\n        \n        Output formatted string:\n        == year_info(2017, yearly_weather) == (contained in the dictionary)\n        ' 2017 |         45.67 |        34.33 |   2.28\" |            9 |             15 '\n        \n        == year_info(2055, yearly_weather) == (not contained in the dictionary)\n        ' N/A  |      N/A      |     N/A      |   N/A   |     N/A      |      N/A       '\n\nFILE\n    /home/nbuser/library/weather.py\n\n\n",
          "name": "stdout"
        }
      ]
    },
    {
      "metadata": {},
      "cell_type": "markdown",
      "source": "---\n<font size=\"6\" color=\"#B24C00\"  face=\"verdana\"> <B>Module 4 Project</B></font>\n\n## Caesar Cipher\n\nIn this project, you will implement a program to encrypt and decrypt text using Caesar Cipher. The cipher is one of the oldest and simplest known encryption techniques known. It simply relies on substituting each character in a string by another character which is shifted by a certain number of places. For example, with a shift of 1 'a' becomes 'b', 'e' becomes 'f', and 'z' becomes 'a'. In the Caesar cipher, all characters are shifted by the same number of places and we refer to the shift value as key. \n\nTo decrypt a message, you simply use the same key, which was used during the encryption procedure, to shift the characters back the same number of places. For example, with a key = 1 'b' becomes 'a', 'f' becomes 'e', and 'a' becomes 'z'. \n\nSince there are 26 letters in English, there are only 25 keys available for Caesar cipher. Therefore, it is easy to decipher a message without knowing the key. Simply use all possible keys to decrypt a message then read the outputs till one of them makes sense. This process is also implemented in the project.\n"
    },
    {
      "metadata": {},
      "cell_type": "markdown",
      "source": "## Environment Setup\n\nThe following code blocks move the working directory to `command_line` and generate the necessary text file:\n* `plain_message.txt` : contains a plain message that will be encrypted\n* `encrypted_message.txt`: contains an encrypted message where the key is unknown"
    },
    {
      "metadata": {},
      "cell_type": "markdown",
      "source": "### Change working directory to `command_line`\n\nNecessary so all generated files are saved in this directory, the cell will generate an error message if you are already in the `command_line` directory."
    },
    {
      "metadata": {
        "scrolled": true,
        "trusted": true
      },
      "cell_type": "code",
      "source": "%cd \"/home/nbuser/library/parent_dir/command_line\"",
      "execution_count": 5,
      "outputs": [
        {
          "output_type": "stream",
          "text": "[Errno 2] No such file or directory: '/home/nbuser/library/parent_dir/command_line'\n/home/nbuser/library\n",
          "name": "stdout"
        }
      ]
    },
    {
      "metadata": {},
      "cell_type": "markdown",
      "source": "### Writing text files"
    },
    {
      "metadata": {
        "trusted": true
      },
      "cell_type": "code",
      "source": "%%writefile plain_message.txt\n\nSoftware is a great combination between artistry and engineering.\n\n--Bill Gates",
      "execution_count": 6,
      "outputs": [
        {
          "output_type": "stream",
          "text": "Overwriting plain_message.txt\n",
          "name": "stdout"
        }
      ]
    },
    {
      "metadata": {
        "trusted": true
      },
      "cell_type": "code",
      "source": "%%writefile encrypted_message.txt\n\nMHI LXVKXM!\n\nMabl fxlltzx ptl xgvkrimxw nlbgz dxr = gbgxmxxg.\n\ntuvwxyzabcdefghijklmnopqrs\n\nTUVWXYZABCDEFGHIJKLMNOPQRS",
      "execution_count": 7,
      "outputs": [
        {
          "output_type": "stream",
          "text": "Overwriting encrypted_message.txt\n",
          "name": "stdout"
        }
      ]
    },
    {
      "metadata": {},
      "cell_type": "markdown",
      "source": "## Program\n\nTo finish this project, run the environment setup code, read the `main` function, then use the description and examples under each of the following functions to implement them:\n* `parse_command_line()`\n* `read_file(file_path)`\n* `write_file(message, file_path)`\n* `transform(message, key, decrypt)`\n\nOnce you are done, use the terminal command line to:\n* Display the program's help message\n* Encrypt the text file `plain_message.txt` by key = 23 and save the result in `cipher_message.txt`\n* Find the key used to decrypt `encrypted_message.txt`"
    },
    {
      "metadata": {
        "trusted": true
      },
      "cell_type": "code",
      "source": "%%writefile cipher.py\n\nimport argparse\nimport os\ndef parse_command_line():\n    \"\"\"\n    Parse the command line arguments and return the parse_args object.\n    \n    There should be 1 positional argument and 6 optional arguments.\n    The help message generated by the parser should look like:\n    \n    usage: cipher.py [-h] [-o outfile_path] [-k KEY] [-d] [-a] [-v] infile\n\n    positional arguments:\n      infile                input file to be encrypted or decrypted\n\n    optional arguments:\n      -h, --help            show this help message and exit\n      -o outfile_path, --outfile outfile_path\n                            output file\n      -k KEY, --key KEY     encryption/decryption key (must be positive) (default\n                            = 1)\n      -d, --decrypt         decrypt the input file\n      -a, --all             decrypt using all keys [1, 25], save outputs in\n                            different files. (useful in case the key is lost or\n                            unknown)\n      -v, --verbose         verbose mode\n\n\n    args:\n        None\n        \n    returns:\n        args: generated argparse object with all the passed command line arguments      \n    \"\"\"\n    parser = argparse.ArgumentParser()\n    \n    # Add positional arguments\n    parser.add_argument('infile', action = 'store', type = str, help = 'input file to be encrypted or decrypted')\n\n    # Add optional arguments\n    parser.add_argument('-o', '--outfile', metavar = 'outfile_path', action = 'store', type = str, help = 'output file')\n    parser.add_argument('-k', '--key', metavar = 'KEY', action = 'store', default = 1, help = 'encryption/decryption key (must be positive) (default = 1)')\n    parser.add_argument('-d', '--decrypt', action = 'store_true', help = 'decrypt the input file')\n    parser.add_argument('-a', '--all', action = 'store_true', help = 'decrypt using all keys [1, 25], save outputs in different files. (useful in case the key is lost or unknown)')\n    parser.add_argument('-v', '--verbose', action = 'store_true', help = 'verbose mode')\n\n    args = parser.parse_args()\n    #HINTS: Review Jupyter Notebook 3-4.1\n    return(args)\ndef read_file(file_path):\n    \n    \"\"\"\n    Read file_path and return the content as string.\n    \n    The file must be opened and closed and the function should handle exceptions when they are raised.\n    \n    args:\n        file_path: path to file\n        \n    returns:\n        message: content of file in file_path as a string\n    \"\"\"\n    os.chdir(\"/home/nbuser/library\")\n    if (file_path not in os.listdir(\"/home/nbuser/library\")):\n        print(\"STOP!!!! Run the environment setup code!\")\n        return None\n    else:\n        with open(file_path,'r') as f:\n            try:\n                t = f.read()\n            except FileOpenError as exception:\n                print(exception)\n            else:\n                return t\n    \n            \ndef write_file(message, file_path):\n    \"\"\"\n    Write the message in file_path.\n    \n    The file must be opened and closed and the function should handle exceptions when they are raised.\n    \n    args:\n        message: string to write in file\n        file_path: path to file\n        \n    returns:\n        Non\\\n    \"\"\"\n    \n    #TODO: Your code goes here\n    os.chdir('/home/nbuser/library')\n    with open(file_path,'w') as f:\n        try:\n            f.write(message)\n        except FileOpenError as exception:\n            print(exception)\n        else:\n            return None\ndef transform(message, key, decrypt):\n    \"\"\"\n    Encrypt or decrypt a message using Caesar cipher.\n    \n    Encryption and decryption is determined by the Boolean value in decrypt. Key determines the number of \n    places a character is shifted. When encrypting, use the positive value of key to shift the characters forward; \n    when decrypting, use the negative key to shift the characters backward. \n    \n    The function should maintain characters that are not letters without change; for example, spaces, punctuations, \n    and numbers should not be encrypted or decrypted. Additionally, the case of the letters should be preserved, \n    small letters are transformed to other small letters and capital letters are transformed to capital letters.\n    \n    Use the function `shift` (provided later) to shift each character in message by the number in key.\n    \n    args:\n        message: string to be encrypted or decrypted\n        key: number of places to shift the characters (always positive)\n        decrypt: Boolean; when False the message is encrypted,  when True the message is decrypted\n        \n    returns:\n        transformed_message: encrypted (or decrypted) message\n        \n    examples:\n        Encryption\n        ==  transform(\"deal\", 1, False) returns:\n            \"efbm\"\n        \n        ==  transform(\"deal\", 2, False) returns:\n            \"fgcn\"\n        \n        ==  transform(\"deal\", 30, False) is equivalent to transform(message, 4, False)\n            \"hiep\"\n        \n        Decryption\n        ==  transform(\"efbm\", 1, True) returns:\n            \"deal\"\n            \n        ==  transform(\"fgcn\", 2, True) returns:\n            \"deal\"\n            \n        ==  transform(\"hiep\", 30, True) returns:\n            \"deal\"    \n        \n    \"\"\"\n    if decrypt:\n        split_message = message.split(\" \")   \n        decrypted = \"\"\n        for a in split_message:\n            for b in a:\n                if b == \"\\n\":\n                    decrypted += \"\\n\"\n                elif b == \".\":\n                    decrypted += \".\"\n                elif b == \"!\":\n                    decrypted += \"!\"\n                elif b == \"-\":\n                    decrypted += \"-\"\n                elif b == \"=\":\n                    decrypted += \"=\"\n                else:\n                    c = shift(b,key)\n                    decrypted += c\n            decrypted += \" \"\n        return decrypted\n    else:\n        split_message = message.split(\" \")\n        crypted = \"\"\n        for a in split_message:\n            for b in a:\n                if b == \"\\n\":\n                    crypted += \"\\n\"\n                elif b == \".\":\n                    crypted += \".\"\n                elif b == \"-\":\n                    crypted += \"-\"\n                else:\n                    c = shift(b,key)\n                    crypted += c\n            crypted += \" \"\n        return crypted    \n    #TODO: Your code goes here\ndef shift(char, key):    \n    \"\"\"\n    Shift char by the value in key while maintaining the case (small/capital).\n    \n    If char contains non-letters (i.e. digits, punctuations, and white spaces), it is ignored.\n    \n    args:\n        char: character to shift\n        key: number of places to shift char\n        \n    returns:\n        shifted character\n        \n    examples:\n        shfit('a', 1) ==> 'b'\n        shift('z', -1) ==> 'y'\n        shift('A', 5) ==> 'F'\n        shift('H', 7) ==> 'O'\n        shift('o', -10) ==> 'e'\n        shift('a', 30) ==> 'e'\n    \"\"\"\n    \n    # ordered lower case alphabet\n    alphabet = \"abcdefghijklmnopqrstuvwxyz\"\n    \n    # will contain shifted lower case alphabet\n    shifted_alphabet = ''\n    for i in range(len(alphabet)):\n        shifted_alphabet = shifted_alphabet + alphabet[(i + key) % 26]\n \n    if char.isalpha():\n        char_index = alphabet.index(char.lower())\n        shifted_char = shifted_alphabet[char_index]\n    \n        # keep char's case (upper or lower)\n        if char.isupper():\n            return shifted_char.upper()\n        else:\n            return shifted_char\n\ndef main():\n    # parse command line arguments\n    args = parse_command_line()\n    \n    # read content of infile to a string\n    instring = read_file(args.infile)\n    \n    # verbose\n    if args.verbose:\n        print(\"Input file:\")\n        print(\"------------\")\n        print(instring)\n        print()\n    \n    # key is specified\n    if not args.all:\n        # encrypt/decrypt content of infile\n        outstring = transform(instring, args.key, args.decrypt)\n    \n        # verbose\n        if args.verbose:\n            print(\"Output file:\")\n            print(\"------------\")\n            print(outstring)\n\n        # write content of outstring to outfile\n        write_file(outstring, args.outfile)\n    \n    # key is not specified, try all keys from 1 to 25 to decrypt infile\n    else:\n        for k in range(1, 26):\n            # decrypt content of infile\n            outstring = transform(instring, k, True)\n\n            # verbose\n            if args.verbose:\n                print(\"Key =\", k)\n                print(\"------------\")\n                print(outstring)\n                print()\n\n            # write content of outstring to outfile\n            write_file(outstring, \"decrypted_by_\" + str(k) + \".txt\")\n    \nif __name__ == '__main__':\n    main()",
      "execution_count": 8,
      "outputs": [
        {
          "output_type": "stream",
          "text": "Overwriting cipher.py\n",
          "name": "stdout"
        }
      ]
    },
    {
      "metadata": {},
      "cell_type": "markdown",
      "source": "## Terminal commands\n* Display the program's help message\n* Encrypt the text file `plain_message.txt` by key = 23 and save the result in `cipher_message.txt`\n* Find the key used to decrypt `encrypted_message.txt`"
    },
    {
      "metadata": {},
      "cell_type": "markdown",
      "source": "## Terminal commands"
    },
    {
      "metadata": {},
      "cell_type": "markdown",
      "source": "### Help message"
    },
    {
      "metadata": {
        "trusted": true
      },
      "cell_type": "code",
      "source": "%%bash\n\npython3 cipher.py -h",
      "execution_count": 9,
      "outputs": [
        {
          "output_type": "stream",
          "text": "usage: cipher.py [-h] [-o outfile_path] [-k KEY] [-d] [-a] [-v] infile\n\npositional arguments:\n  infile                input file to be encrypted or decrypted\n\noptional arguments:\n  -h, --help            show this help message and exit\n  -o outfile_path, --outfile outfile_path\n                        output file\n  -k KEY, --key KEY     encryption/decryption key (must be positive) (default\n                        = 1)\n  -d, --decrypt         decrypt the input file\n  -a, --all             decrypt using all keys [1, 25], save outputs in\n                        different files. (useful in case the key is lost or\n                        unknown)\n  -v, --verbose         verbose mode\n",
          "name": "stdout"
        }
      ]
    },
    {
      "metadata": {},
      "cell_type": "markdown",
      "source": "### Encrypt `plain_message.txt` by key = 23"
    },
    {
      "metadata": {
        "scrolled": true,
        "trusted": true
      },
      "cell_type": "code",
      "source": "%%bash\n\npython3 cipher.py plain_message.txt -k 23 -v -o cipher_message.txt\n",
      "execution_count": 10,
      "outputs": [
        {
          "output_type": "stream",
          "text": "Input file:\n------------\n\nSoftware is a great combination between artistry and engineering.\n\n--Bill Gates\n\n",
          "name": "stdout"
        },
        {
          "output_type": "stream",
          "text": "Traceback (most recent call last):\n  File \"cipher.py\", line 266, in <module>\n    main()\n  File \"cipher.py\", line 238, in main\n    outstring = transform(instring, args.key, args.decrypt)\n  File \"cipher.py\", line 176, in transform\n    c = shift(b,key)\n  File \"cipher.py\", line 209, in shift\n    shifted_alphabet = shifted_alphabet + alphabet[(i + key) % 26]\nTypeError: unsupported operand type(s) for +: 'int' and 'str'\n",
          "name": "stderr"
        }
      ]
    },
    {
      "metadata": {},
      "cell_type": "markdown",
      "source": "### Finding the key to decrypt `encrypted_message.txt`"
    },
    {
      "metadata": {
        "trusted": true
      },
      "cell_type": "code",
      "source": "%%bash\n\npython3 cipher.py encrypted_message.txt -a -v",
      "execution_count": 11,
      "outputs": [
        {
          "output_type": "stream",
          "text": "Input file:\n------------\n\nMHI LXVKXM!\n\nMabl fxlltzx ptl xgvkrimxw nlbgz dxr = gbgxmxxg.\n\ntuvwxyzabcdefghijklmnopqrs\n\nTUVWXYZABCDEFGHIJKLMNOPQRS\n\nKey = 1\n------------\n\nNIJ MYWLYN!\n\nNbcm gymmuay qum yhwlsjnyx omcha eys = hchynyyh.\n\nuvwxyzabcdefghijklmnopqrst\n\nUVWXYZABCDEFGHIJKLMNOPQRST \n\nKey = 2\n------------\n\nOJK NZXMZO!\n\nOcdn hznnvbz rvn zixmtkozy pndib fzt = idizozzi.\n\nvwxyzabcdefghijklmnopqrstu\n\nVWXYZABCDEFGHIJKLMNOPQRSTU \n\nKey = 3\n------------\n\nPKL OAYNAP!\n\nPdeo iaoowca swo ajynulpaz qoejc gau = jejapaaj.\n\nwxyzabcdefghijklmnopqrstuv\n\nWXYZABCDEFGHIJKLMNOPQRSTUV \n\nKey = 4\n------------\n\nQLM PBZOBQ!\n\nQefp jbppxdb txp bkzovmqba rpfkd hbv = kfkbqbbk.\n\nxyzabcdefghijklmnopqrstuvw\n\nXYZABCDEFGHIJKLMNOPQRSTUVW \n\nKey = 5\n------------\n\nRMN QCAPCR!\n\nRfgq kcqqyec uyq clapwnrcb sqgle icw = lglcrccl.\n\nyzabcdefghijklmnopqrstuvwx\n\nYZABCDEFGHIJKLMNOPQRSTUVWX \n\nKey = 6\n------------\n\nSNO RDBQDS!\n\nSghr ldrrzfd vzr dmbqxosdc trhmf jdx = mhmdsddm.\n\nzabcdefghijklmnopqrstuvwxy\n\nZABCDEFGHIJKLMNOPQRSTUVWXY \n\nKey = 7\n------------\n\nTOP SECRET!\n\nThis message was encrypted using key = nineteen.\n\nabcdefghijklmnopqrstuvwxyz\n\nABCDEFGHIJKLMNOPQRSTUVWXYZ \n\nKey = 8\n------------\n\nUPQ TFDSFU!\n\nUijt nfttbhf xbt fodszqufe vtjoh lfz = ojofuffo.\n\nbcdefghijklmnopqrstuvwxyza\n\nBCDEFGHIJKLMNOPQRSTUVWXYZA \n\nKey = 9\n------------\n\nVQR UGETGV!\n\nVjku oguucig ycu gpetarvgf wukpi mga = pkpgvggp.\n\ncdefghijklmnopqrstuvwxyzab\n\nCDEFGHIJKLMNOPQRSTUVWXYZAB \n\nKey = 10\n------------\n\nWRS VHFUHW!\n\nWklv phvvdjh zdv hqfubswhg xvlqj nhb = qlqhwhhq.\n\ndefghijklmnopqrstuvwxyzabc\n\nDEFGHIJKLMNOPQRSTUVWXYZABC \n\nKey = 11\n------------\n\nXST WIGVIX!\n\nXlmw qiwweki aew irgvctxih ywmrk oic = rmrixiir.\n\nefghijklmnopqrstuvwxyzabcd\n\nEFGHIJKLMNOPQRSTUVWXYZABCD \n\nKey = 12\n------------\n\nYTU XJHWJY!\n\nYmnx rjxxflj bfx jshwduyji zxnsl pjd = snsjyjjs.\n\nfghijklmnopqrstuvwxyzabcde\n\nFGHIJKLMNOPQRSTUVWXYZABCDE \n\nKey = 13\n------------\n\nZUV YKIXKZ!\n\nZnoy skyygmk cgy ktixevzkj ayotm qke = totkzkkt.\n\nghijklmnopqrstuvwxyzabcdef\n\nGHIJKLMNOPQRSTUVWXYZABCDEF \n\nKey = 14\n------------\n\nAVW ZLJYLA!\n\nAopz tlzzhnl dhz lujyfwalk bzpun rlf = upulallu.\n\nhijklmnopqrstuvwxyzabcdefg\n\nHIJKLMNOPQRSTUVWXYZABCDEFG \n\nKey = 15\n------------\n\nBWX AMKZMB!\n\nBpqa umaaiom eia mvkzgxbml caqvo smg = vqvmbmmv.\n\nijklmnopqrstuvwxyzabcdefgh\n\nIJKLMNOPQRSTUVWXYZABCDEFGH \n\nKey = 16\n------------\n\nCXY BNLANC!\n\nCqrb vnbbjpn fjb nwlahycnm dbrwp tnh = wrwncnnw.\n\njklmnopqrstuvwxyzabcdefghi\n\nJKLMNOPQRSTUVWXYZABCDEFGHI \n\nKey = 17\n------------\n\nDYZ COMBOD!\n\nDrsc wocckqo gkc oxmbizdon ecsxq uoi = xsxodoox.\n\nklmnopqrstuvwxyzabcdefghij\n\nKLMNOPQRSTUVWXYZABCDEFGHIJ \n\nKey = 18\n------------\n\nEZA DPNCPE!\n\nEstd xpddlrp hld pyncjaepo fdtyr vpj = ytypeppy.\n\nlmnopqrstuvwxyzabcdefghijk\n\nLMNOPQRSTUVWXYZABCDEFGHIJK \n\nKey = 19\n------------\n\nFAB EQODQF!\n\nFtue yqeemsq ime qzodkbfqp geuzs wqk = zuzqfqqz.\n\nmnopqrstuvwxyzabcdefghijkl\n\nMNOPQRSTUVWXYZABCDEFGHIJKL \n\nKey = 20\n------------\n\nGBC FRPERG!\n\nGuvf zrffntr jnf rapelcgrq hfvat xrl = avargrra.\n\nnopqrstuvwxyzabcdefghijklm\n\nNOPQRSTUVWXYZABCDEFGHIJKLM \n\nKey = 21\n------------\n\nHCD GSQFSH!\n\nHvwg asggous kog sbqfmdhsr igwbu ysm = bwbshssb.\n\nopqrstuvwxyzabcdefghijklmn\n\nOPQRSTUVWXYZABCDEFGHIJKLMN \n\nKey = 22\n------------\n\nIDE HTRGTI!\n\nIwxh bthhpvt lph tcrgneits jhxcv ztn = cxctittc.\n\npqrstuvwxyzabcdefghijklmno\n\nPQRSTUVWXYZABCDEFGHIJKLMNO \n\nKey = 23\n------------\n\nJEF IUSHUJ!\n\nJxyi cuiiqwu mqi udshofjut kiydw auo = dydujuud.\n\nqrstuvwxyzabcdefghijklmnop\n\nQRSTUVWXYZABCDEFGHIJKLMNOP \n\nKey = 24\n------------\n\nKFG JVTIVK!\n\nKyzj dvjjrxv nrj vetipgkvu ljzex bvp = ezevkvve.\n\nrstuvwxyzabcdefghijklmnopq\n\nRSTUVWXYZABCDEFGHIJKLMNOPQ \n\nKey = 25\n------------\n\nLGH KWUJWL!\n\nLzak ewkksyw osk wfujqhlwv mkafy cwq = fafwlwwf.\n\nstuvwxyzabcdefghijklmnopqr\n\nSTUVWXYZABCDEFGHIJKLMNOPQR \n\n",
          "name": "stdout"
        }
      ]
    }
  ],
  "metadata": {
    "kernelspec": {
      "name": "python3",
      "display_name": "Python 3",
      "language": "python"
    },
    "language_info": {
      "mimetype": "text/x-python",
      "nbconvert_exporter": "python",
      "name": "python",
      "file_extension": ".py",
      "version": "3.5.4",
      "pygments_lexer": "ipython3",
      "codemirror_mode": {
        "version": 3,
        "name": "ipython"
      }
    }
  },
  "nbformat": 4,
  "nbformat_minor": 2
}