{
  "cells": [
    {
      "metadata": {},
      "cell_type": "markdown",
      "source": "# Section 1.3: Date and Time Arithmetic\n* datetime.timedelta\n* datetime operators (+, -, *, /, //, %)\n\n### Students will be able to:\n* Create timedelta objects\n* Use timedelta objects to perform date arithmetic\n* Compare two datetime objects\n* Build a useful application using timedelta arithmetic"
    },
    {
      "metadata": {},
      "cell_type": "markdown",
      "source": "---\n<font size=\"6\" color=\"#00A0B2\"  face=\"verdana\"> <B>Concepts</B></font>  \n\n\n## `timedelta` Objects\n\n\nPerforming time and date calculations can be a tedious task. For example, if you want to know your age in days, you will need to know how many of the years you have lived through were leap years, and how many days were in each additional month that you've lived. Luckily, the `datetime` module has some utilities that will help you perform such calculations with ease. \n\nThe `time`, `date`, and `datetime` objects all represent points in time. The `datetime` module provides another data type called `timedelta`, which represents a duration of time rather than a point in time. As a programmer, you can define a `timedelta` variable explicitly or by taking the difference between 2 `datetime` variables.\n\nNOTE: The Greek letter &Delta; (pronounced \"delta\") is usually used to represent a difference. The name `timedelta` hints that it contains a time difference which is equivalent to a duration of time."
    },
    {
      "metadata": {},
      "cell_type": "markdown",
      "source": "---\n<font size=\"6\" color=\"#00A0B2\"  face=\"verdana\"> <B>Concepts</B></font>  \n\n\n## Creating `timedelta` objects\n[![view video](https://iajupyterprodblobs.blob.core.windows.net/imagecontainer/common/play_video.png)](https://www.youtube.com/watch?v=Xee__JhytDE)\n\n#### `timedelta(weeks = 0, days = 0, hours = 0, minutes = 0, seconds = 0, milliseconds = 0, microseconds = 0)`\nThe attributes of the `timedelta` object are all optional and default to 0 if not specified. `timedelta` does not have year or month attributes because neither of these represent a constant amount of time (leap years are longer than non-leap years and months have from 29 to 31 days).\n\n#### Explicit definition\nYou can define a `timedelta` object in the same way that you define a `time`, `date`, or `datetime` object. \n\n```python\nIn [1]: from datetime import timedelta\nIn [2]: delta1 = timedelta(days = 7,  hours = 2)\nIn [3]: print(detla1)\n7 days, 2:00:00\n```\n\n#### Calculating the difference between two `datetime` objects\nYou can define a `timedelta` object as the result of subtracting a `datetime` or `date` object from another.\n\n```python\nIn [1]: from datetime import datetime\nIn [2]: dt1 = datetime(year = 2017, month = 1, day = 1) \nIn [3]: dt2 = datetime(year = 2017, month = 2, day = 1)\nIn [4]: delta2 = dt2 - dt1\nIn [5]: print(delta2)\n31 days, 0:00:00\n```\n\n### Getting the `timedelta` attributes\nThough you can use many attributes to explicitly define a `timedelta` object, only the days, seconds, and microseconds are stored in the object. Python will convert all other attributes to these three. The days, seconds, and microseconds attributes can all be accessed in the same way we access a `timedelta` object attributes. \n\nIn the explicit definition example above, we defined `delta1` using the attributes `days = 7` and `hours = 2`, let's see what was actually stored in `delta1`.\n\n```python\nIn [5]: delta1.days\nOut[5]: 7\n\nIn [6]: delta1.seconds\nOut[6]: 7200\n\nIn [7]: delta1.microseconds\nOut[7]: 0\n```\n\nIt's apparent that Python has converted the 2 hours into 2 &times; 60 &times; 60 = 7200 seconds.\n\n### Total number of seconds\nPython can also compute the total number of seconds in a `timedelta` object using the `total_seconds()` function. For example, `delta1` has 7 days &times; 24 hours &times; 60 minutes &times; 60 seconds + 7200 seconds = 612000 seconds.\n\n```python\nIn [8]: delta1.total_seconds()\nOut[8]: 612000.0\n```"
    },
    {
      "metadata": {},
      "cell_type": "markdown",
      "source": "---\n<font size=\"6\" color=\"#00A0B2\"  face=\"verdana\"> <B>Examples</B></font>\n\n### Explicit definition"
    },
    {
      "metadata": {
        "trusted": true
      },
      "cell_type": "code",
      "source": "from datetime import timedelta\n\n# Define a timedelta object\ndelta1 = timedelta(days = 2, seconds = 0, minutes = 15, hours = 1, weeks = 4)\nprint(delta1, \" is stored in delta1\")\n\n# Get the stored attributes\nd = delta1.days \ns = delta1.seconds \nms = delta1.microseconds\nprint(\"Days = \", d, \"| Seconds = \", s, \"| Microseconds = \", ms)\n\n# Get total number of seconds\nall_seconds = delta1.total_seconds()\nprint(\"Total number of seconds = \", all_seconds)\n",
      "execution_count": 4,
      "outputs": [
        {
          "output_type": "stream",
          "text": "30 days, 1:15:00  is stored in delta1\nDays =  30 | Seconds =  4500 | Microseconds =  0\nTotal number of seconds =  2596500.0\n",
          "name": "stdout"
        }
      ]
    },
    {
      "metadata": {},
      "cell_type": "markdown",
      "source": "### Calculating the difference between two `datetime` points"
    },
    {
      "metadata": {
        "trusted": false
      },
      "cell_type": "code",
      "source": "from datetime import datetime, timedelta\ndate1 = datetime(year = 2015, month = 1, day = 19)\ndate2 = datetime.today()\n\n# Define a time delta\ndelta2 = date2 - date1\n\nprint(delta2, \" is stored in delta2\")\nprint(\"Total number of seconds = \", delta2.total_seconds())",
      "execution_count": null,
      "outputs": []
    },
    {
      "metadata": {},
      "cell_type": "markdown",
      "source": "---\n<font size=\"6\" color=\"#B24C00\"  face=\"verdana\"> <B>Task 1</B></font>\n\n## Creating `timedelta` objects\n"
    },
    {
      "metadata": {
        "trusted": true
      },
      "cell_type": "code",
      "source": "# [ ] Create a `timedelta` object that contains: 2 hours, 3 minutes, and 1 week\nfrom datetime import timedelta\nbd = timedelta(hours=2,minutes=3,weeks=1)\n",
      "execution_count": 2,
      "outputs": []
    },
    {
      "metadata": {
        "trusted": true
      },
      "cell_type": "code",
      "source": "# [ ] Use a `timedelta` object to calculate the total number of seconds in: 1 hour and 15 minutes\nbd = timedelta(hours=1,minutes=15)\nprint(bd.total_seconds())\n",
      "execution_count": 3,
      "outputs": [
        {
          "output_type": "stream",
          "text": "4500.0\n",
          "name": "stdout"
        }
      ]
    },
    {
      "metadata": {
        "trusted": true
      },
      "cell_type": "code",
      "source": "# Use a `timedelta` object to find out how many days are left until your upcoming birthday\nfrom datetime import timedelta,datetime\nbd = datetime.today()\nbirthday = datetime(day=3,year=2020,month=5)\ndelta = birthday - bd\nprint(delta)",
      "execution_count": 8,
      "outputs": [
        {
          "output_type": "stream",
          "text": "196 days, 21:33:14.088429\n",
          "name": "stdout"
        }
      ]
    },
    {
      "metadata": {},
      "cell_type": "markdown",
      "source": "---\n<font size=\"6\" color=\"#00A0B2\"  face=\"verdana\"> <B>Concepts</B></font>  \n\n\n## Performing Date Arithmetic\n\n[![view video](https://iajupyterprodblobs.blob.core.windows.net/imagecontainer/common/play_video.png)](https://www.youtube.com/watch?v=Q5B734rNbac)\n\n### Arithmetic involving `datetime` and `timedelta` objects\nThe `timedelta` objects can be used to perform date arithmetic on `datetime` and `date` objects. For examples, if you want to know the date 100 days from today, you can define a `timedelta` object with 100 days and add it to today's date. In general, a `timedelta` object can be added to or subtracted from a `datetime` object.\n\n### Arithmetic on `timedelta` objects\nYou can perform basic arithmetic operations on `timedelta` objects. For example, you can add 2 `timedelta` objects, subtract them, or divide them. The following table lists some of the available operations; a complete listing is available on the Python Documentation site at https://docs.python.org/3/library/datetime.html#timedelta-objects.\n\nAssume: t1, t2, t3 are all `timedelta` objects\n\n|Operation|Result|\n|---------|------|\n|t1 = t2 + t3| sum of objects|\n|t1 = t2 - t3| different between objects|\n|t1 = t2 * i | multiply by an integer i|\n|f = t2 / t3 | division, return `float`|\n|t1 = t2 // i| integer division, return `int`|\n|t1 = t2 % t3| modulo or remainder|\n"
    },
    {
      "metadata": {},
      "cell_type": "markdown",
      "source": "---\n<font size=\"6\" color=\"#00A0B2\"  face=\"verdana\"> <B>Examples</B></font>\n\n### Arithmetic using `datetime` and `timedelta` objects\n#### Finding the date 100 days from today. "
    },
    {
      "metadata": {
        "trusted": true
      },
      "cell_type": "code",
      "source": "from datetime import datetime, timedelta\n\n# Define a timedelta object\none_hundred_days = timedelta(days = 100)\n\n# Get today's date\ncurrent_date = datetime.today()\n\n# Compute the new date\nnew_date = current_date + one_hundred_days\n\n# Print formatted new date\nprint(\"After 100 days:\", new_date.strftime(\"%b/%d/%Y\"))",
      "execution_count": 9,
      "outputs": [
        {
          "output_type": "stream",
          "text": "After 100 days: Jan/27/2020\n",
          "name": "stdout"
        }
      ]
    },
    {
      "metadata": {},
      "cell_type": "markdown",
      "source": "#### Finding the dates 200 and 300 days from today"
    },
    {
      "metadata": {
        "trusted": true
      },
      "cell_type": "code",
      "source": "from datetime import datetime, timedelta\n\n# Define the timedelta objects\none_hundred_days = timedelta(days = 100)\ntwo_hundred_days = one_hundred_days * 2\nthree_hundred_days = one_hundred_days * 3\n\n# Get today's date\ncurrent_date = datetime.today()\n\n# Compute the new dates\nnew_date1 = current_date + two_hundred_days\nnew_date2 = current_date + three_hundred_days\n\n# Print formatted new dates\nprint(\"After 200 days:\", new_date1.strftime(\"%b/%d/%Y\"))\nprint(\"After 300 days:\", new_date2.strftime(\"%b/%d/%Y\"))\n",
      "execution_count": 10,
      "outputs": [
        {
          "output_type": "stream",
          "text": "After 200 days: May/06/2020\nAfter 300 days: Aug/14/2020\n",
          "name": "stdout"
        }
      ]
    },
    {
      "metadata": {},
      "cell_type": "markdown",
      "source": "---\n<font size=\"6\" color=\"#B24C00\"  face=\"verdana\"> <B>Task 2</B></font>\n\n## Performing Date Arithmetic"
    },
    {
      "metadata": {
        "trusted": true
      },
      "cell_type": "code",
      "source": "# [ ] Write a program to compute the date 3 weeks before your birthday \n# to help you remember when to send the invitations\nfrom datetime import timedelta,date\nbd = timedelta(weeks=3)\nbirthday = date(day=3,year=2020,month=5)\ndelta = birthday - bd\nprint(\"Send the Invitation on\",delta.strftime(\"%B-%d-%Y\"))",
      "execution_count": 11,
      "outputs": [
        {
          "output_type": "stream",
          "text": "Send the Invitation on April-12-2020\n",
          "name": "stdout"
        }
      ]
    },
    {
      "metadata": {
        "trusted": true
      },
      "cell_type": "code",
      "source": "# [ ] Write a program that computes the number of days from the current date till the 3 weeks reminder\n# 1) Create a `timedelta` object (td1) for the period between the current date and your upcoming birthday\n# 2) Create a `timedelta` object (td2) containing 3 weeks\n# 3) Use the `timedelta` objects (td) from 1 and 2 to compute the required number of days\nfrom datetime import timedelta,datetime\na = datetime.today()\nbirthday = datetime(day=3,year=2020,month=5)\ntd1 = birthday - a\ntd2 = timedelta(weeks=3)\ntd = td1 - td2\nprint(\"The Remaining days to send the invitation is\",td)",
      "execution_count": 14,
      "outputs": [
        {
          "output_type": "stream",
          "text": "The Remaining days to send the invitation is 175 days, 21:11:54.150583\n",
          "name": "stdout"
        }
      ]
    },
    {
      "metadata": {},
      "cell_type": "markdown",
      "source": "---\n<font size=\"6\" color=\"#00A0B2\"  face=\"verdana\"> <B>Concepts</B></font>  \n\n\n## Comparing `datetime` objects\n\n[![view video](https://iajupyterprodblobs.blob.core.windows.net/imagecontainer/common/play_video.png)](https://www.youtube.com/watch?v=O4C_yR7WOmI)\n\nYou can compare `datetime` objects to find out which date precedes the other. The result of the comparison can be used in a conditional or loop structure to control the flow of your program. You can use any of the operators in the following table to perform a comparison.\n\n|Operator|Description|\n|--------|-----------|\n| < | less than|\n| <= | less than or equal to|\n| > | greater than|\n| >= | greater than or equal to|\n| == | equal to|"
    },
    {
      "metadata": {},
      "cell_type": "markdown",
      "source": "---\n<font size=\"6\" color=\"#00A0B2\"  face=\"verdana\"> <B>Examples</B></font>\n\n### Comparing two birthdays\nIn this example, a comparison operator is used to find out which person is older:"
    },
    {
      "metadata": {
        "trusted": false
      },
      "cell_type": "code",
      "source": "from datetime import date\n\n# Birthday of person 1\nbirthday1 = date(year = 1993, month = 3, day = 5)\n\n# Birthday of person 2\nbirthday2 = date(year = 2003, month = 3, day = 20)\n\n# Compare birthdays\nif (birthday1 > birthday2):\n    print(\"Person 2 is older\")\nelif (birthday1 < birthday2):\n    print(\"Person 1 is older\")\nelse:\n    print(\"Person 1 and Person 2 are of the same age\")",
      "execution_count": null,
      "outputs": []
    },
    {
      "metadata": {},
      "cell_type": "markdown",
      "source": "---\n<font size=\"6\" color=\"#B24C00\"  face=\"verdana\"> <B>Task 3</B></font>\n\n## Comparing `datetime` objects"
    },
    {
      "metadata": {
        "trusted": true
      },
      "cell_type": "code",
      "source": "# [ ] Write a program to find out if 4th of July of this year has passed or not\nfrom datetime import datetime\ndate = datetime(month=7,day=4,year=2019)\na = datetime.today()\nif date > a:\n    print(date.strftime(\"%dth of %B %Y has not passed yet\"))\nelif date == a:\n    print(date.strftime(\"%dth of %B %Y is today\"))\nelse:\n    print(date.strftime(\"%dth of %B %Y has already passed\"))",
      "execution_count": 1,
      "outputs": [
        {
          "output_type": "stream",
          "text": "04th of July 2019 has already passed\n",
          "name": "stdout"
        }
      ]
    },
    {
      "metadata": {},
      "cell_type": "markdown",
      "source": "---\n<font size=\"6\" color=\"#00A0B2\"  face=\"verdana\"> <B>Concepts</B></font>  \n\n\n## Creating Useful Applications\n\n[![view video](https://iajupyterprodblobs.blob.core.windows.net/imagecontainer/common/play_video.png)](https://www.youtube.com/watch?v=4VNbrLjcYl8)\n\nThe `datetime` module allows you to perform tedious date calculations and display the result in a human-friendly way. The simplicity and versatile functionality of the module will let you design very useful applications involving date and/or time."
    },
    {
      "metadata": {},
      "cell_type": "markdown",
      "source": "---\n<font size=\"6\" color=\"#00A0B2\"  face=\"verdana\"> <B>Examples</B></font>\n\n### Creating a December Solstice Countdown application\nIn this section, you will see how easy it is to design a December Solstice Countdown application using the `datetime`, `replace`, and `timedelta` functions you have already seen."
    },
    {
      "metadata": {
        "trusted": true
      },
      "cell_type": "code",
      "source": "from datetime import datetime\n\n# Define today's date\nnow = datetime.today()\n\n# December solstice of year 1, it can be any year, it will be changed later\nsolstice = datetime(month = 12, day = 21, year = 1)\n\n# Change solstice's year to current year\nsolstice = solstice.replace(year = (datetime.today().year))\n\n# Get the timedelta\ncount = solstice - now\n\n# Display the solstice countdown\nprint(\"There are\", count.days, \"days until the December solstice!\" )",
      "execution_count": 2,
      "outputs": [
        {
          "output_type": "stream",
          "text": "There are 62 days until the December solstice!\n",
          "name": "stdout"
        }
      ]
    },
    {
      "metadata": {},
      "cell_type": "markdown",
      "source": "---\n<font size=\"6\" color=\"#B24C00\"  face=\"verdana\"> <B>Task 4</B></font>\n\n## Creating Useful Applications\n"
    },
    {
      "metadata": {
        "trusted": true
      },
      "cell_type": "code",
      "source": "# [ ] Complete the following program to find out if you are closer to the current year's June or December solstice\nfrom datetime import datetime\n# Define today's date\nnow = datetime.today()\nif now.month >=7:\n    december_solstice = datetime(month = 12, day = 21, year = now.year)\n    print(december_solstice.strftime(\"%B solstice\"),\"is closer\")\n# Define the December solstice\n# Define the June solstice\nelse:\n    june_solstice = datetime(month = 6, day = 21, year = now.year)\n    print(june_solstice.strftime(\"%B solstice\"),\"is closer\")\n# Find out which solstice is closer",
      "execution_count": 3,
      "outputs": [
        {
          "output_type": "stream",
          "text": "December solstice is closer\n",
          "name": "stdout"
        }
      ]
    },
    {
      "metadata": {
        "collapsed": true,
        "trusted": false
      },
      "cell_type": "code",
      "source": "",
      "execution_count": null,
      "outputs": []
    }
  ],
  "metadata": {
    "kernelspec": {
      "name": "python3",
      "display_name": "Python 3",
      "language": "python"
    },
    "language_info": {
      "mimetype": "text/x-python",
      "nbconvert_exporter": "python",
      "name": "python",
      "pygments_lexer": "ipython3",
      "version": "3.5.4",
      "file_extension": ".py",
      "codemirror_mode": {
        "version": 3,
        "name": "ipython"
      }
    }
  },
  "nbformat": 4,
  "nbformat_minor": 2
}