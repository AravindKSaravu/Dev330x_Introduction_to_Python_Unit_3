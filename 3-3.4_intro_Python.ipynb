{
  "cells": [
    {
      "metadata": {},
      "cell_type": "markdown",
      "source": "# Section 3.4: Dictionaries\n* {}, .pop(), .clear\n* .keys(), .values() .items(), sorted()\n* in, not in, is, ==, len()\n\n### Students will be able to:\n* Create dictionaries\n* Access dictionary values\n* Add, change, and delete dictionary items\n* Delete a whole dictionary variable\n* Iterate over the keys, values, and items of a dictionary \n* Use dictionary operations and functions (i.e. containment and sorting)"
    },
    {
      "metadata": {},
      "cell_type": "markdown",
      "source": "---\n<font size=\"6\" color=\"#00A0B2\"  face=\"verdana\"> <B>Concepts</B></font>  \n\n## Dictionary Basics\n\n[![view video](https://iajupyterprodblobs.blob.core.windows.net/imagecontainer/common/play_video.png)](https://www.youtube.com/watch?v=jZZeX0qJl4Y)\n\nA Python dictionary is yet another data structure to store a collection of data. However, unlike lists and tuples, a dictionary does not store a sequence of data but rather an association of (_key, value_) pairs. All keys in a dictionary are unique, while a value can be associated with multiple keys. Dictionaries provide a very useful utility to represent real-world data, such as that stored in contact lists and birthday lists. \n\nThe power of Python's dictionary is in the way it can be searched. If you are searching for a specific element in an unordered list (or tuple) you will have to traverse the whole list until you find the element; on the other hand, when you search a Python dictionary, there is no need to traverse all of its elements. A Python dictionary uses a mathematical process called _hashing_ that optimizes the search capability by using the keys of a dictionary. This is more obvious when you are storing thousands of items in a dictionary.\n\n#### Creating a dictionary\nA dictionary can be created by using the braces operator `{key:value}`. You have to specify the keys and their associated values.\n\n##### `int` keys\nKeys can be integer values starting from 0, much like lists and tuples.\n```python\n>>> D = {0:5.5, 1:10.3, 2:43.2, 3:85.3}\n>>> type(D)\n<class 'dict'>\n```\n\nKeys do not have to start from 0, neither do they have to be in order.\n```python\n>>> D = {1343:5.5, 2:10.3, 3234235234:43.2, -324:85.3}\n>>> type(D)\n<class 'dict'>\n```\n##### `float` keys\nKeys can be float.\n```python\n>>> D = {1.5:5.5, 2.9:10.3, -3.8:43.2, 5:85.3}\n>>> type(D)\n<class 'dict'>\n```\n\n##### `str` keys\nAs you might have noticed by now, keys can be of different types, and keys within the same dictionary can be of different types. Generally speaking, a key should be of a hashable type; therefore, you cannot use mutable objects such as lists or other dictionaries.\n\n```python\n>>> D = {'Name':'Skye', 'Age':35, 'Temperature':98.7}\n```\n\nNOTE: An empty dictionary can be created as `D = {}`.\n\n#### Accessing dictionary items\nYou can access the value associated with a key of a dictionary by using the subscript `[]` operator, in much the same way you did with lists and tuples.\n\n```python\n>>> D = {'Name':'Skye', 'Age':35, 'Temperature':98.7}\n>>> print(\"The name is: {}\".format(D['Name']))\nThe name is: Skye\n>>> print(\"Age is:\", D['Age'])\nAge is: 35\n```\n\n#### Modifying dictionary items\nDictionaries are mutable objects and can be modified. For example, you can change the value associated with a key by accessing it using the `[]` operator amd then assigning it a new value.\n\n```python\n>>> D = {'Name':'Skye', 'Age':35, 'Temperature':98.7}\n>>> D['Name'] = 'Tamara'\n>>> D\n{'Name': 'Tamara', 'Age': 35, 'Temperature': 98.7}\n```\n\n#### Adding dictionary items\nYou can add a new _key:value_ pair to a dictionary by using the operator `[]`. Just make sure the key doesn't already exist in the dictionary. (You will see later that you can use the containment operator `in` to test a key's existence.)\n\n```python\n>>> D = {'Name':'Skye', 'Age':35, 'Temperature':98.7}\n>>> D['Last Name'] = 'Babic'\n>>> D\n{'Name': 'Skye', 'Age': 35, 'Temperature': 98.7, 'Last Name': 'Babic'}\n```\n\n#### Deleting dictionary items\nYou can delete a dictionary _key:value_ pair using the `pop(key)` method, the _key:value_ pair will be deleted and the method will return the value associated with the key.\n\n```python\n>>> D = {'Name':'Skye', 'Age':35, 'Temperature':98.7, 'Last Name': 'Babic'}\n>>> a = D.pop('Age') # remove the key:value ('Age':35) pair\n>>> a # D['Age']\n35\n>>> D\n{'Name': 'Skye', 'Temperature': 98.7, 'Last Name': 'Babic'}\n```\n\nIf you try to delete a key:value pair not in the dictionary, a `KeyError` exception will be raised. \n```python\n>>> D = {'Name':'Skye', 'Age':35, 'Temperature':98.7, 'Last Name': 'Babic'}\n>>> D.pop('Middle Name') # There is no middle name in D\nTraceback (most recent call last):\n  File \"<stdin>\", line 1, in <module>\nKeyError: 'Middle Name'\n```\n#### Clearing and deleting a dictionary\nYou can delete all the elements in a dictionary by using the `.clear()` method.\n\n```python\n>>> D = {'Name':'Skye', 'Age':35, 'Temperature':98.7, 'Last Name': 'Babic'}\n>>> D.clear()\n>>> D\n{}\n```\n\nYou can delete the whole dictionary by using `del` like you would delete any other variable.\n```python\n>>> D = {'Name':'Skye', 'Age':35, 'Temperature':98.7, 'Last Name': 'Babic'}\n>>> del(D)\n>>> D\nTraceback (most recent call last):\n  File \"<stdin>\", line 1, in <module>\nNameError: name 'D' is not defined\n```"
    },
    {
      "metadata": {},
      "cell_type": "markdown",
      "source": "---\n<font size=\"6\" color=\"#00A0B2\"  face=\"verdana\"> <B>Examples</B></font>\n\n"
    },
    {
      "metadata": {},
      "cell_type": "markdown",
      "source": "## Creating a Contact List\n\nIn the following examples, you will see how to create, search, modify, add, and delete names and phone numbers from a contacts dictionary."
    },
    {
      "metadata": {},
      "cell_type": "markdown",
      "source": "### Querying contacts"
    },
    {
      "metadata": {
        "trusted": true
      },
      "cell_type": "code",
      "source": "# Create a dictionary of contacts; names as keys, phone numbers as values\ncontacts = {\"Suresh Datta\": \"345-555-0101\", \"Colette Browning\": \"483-555-0119\", \"Skey Homsi\": \"485-555-0195\"}\n\n# Ask user for a name, then display the number\nname = input(\"Enter a name: \")\n\n# If name is not in the contacts dictionary, a KeyError exception will be raised\nnumber = contacts[name]\n\nprint(\"Number is: {:s}\".format(number))",
      "execution_count": 1,
      "outputs": [
        {
          "output_type": "stream",
          "name": "stdout",
          "text": "Enter a name: Aravind\n"
        },
        {
          "output_type": "error",
          "ename": "KeyError",
          "evalue": "'Aravind'",
          "traceback": [
            "\u001b[0;31m---------------------------------------------------------------------------\u001b[0m",
            "\u001b[0;31mKeyError\u001b[0m                                  Traceback (most recent call last)",
            "\u001b[0;32m<ipython-input-1-861f23f23acf>\u001b[0m in \u001b[0;36m<module>\u001b[0;34m()\u001b[0m\n\u001b[1;32m      6\u001b[0m \u001b[0;34m\u001b[0m\u001b[0m\n\u001b[1;32m      7\u001b[0m \u001b[0;31m# If name is not in the contacts dictionary, a KeyError exception will be raised\u001b[0m\u001b[0;34m\u001b[0m\u001b[0;34m\u001b[0m\u001b[0m\n\u001b[0;32m----> 8\u001b[0;31m \u001b[0mnumber\u001b[0m \u001b[0;34m=\u001b[0m \u001b[0mcontacts\u001b[0m\u001b[0;34m[\u001b[0m\u001b[0mname\u001b[0m\u001b[0;34m]\u001b[0m\u001b[0;34m\u001b[0m\u001b[0m\n\u001b[0m\u001b[1;32m      9\u001b[0m \u001b[0;34m\u001b[0m\u001b[0m\n\u001b[1;32m     10\u001b[0m \u001b[0mprint\u001b[0m\u001b[0;34m(\u001b[0m\u001b[0;34m\"Number is: {:s}\"\u001b[0m\u001b[0;34m.\u001b[0m\u001b[0mformat\u001b[0m\u001b[0;34m(\u001b[0m\u001b[0mnumber\u001b[0m\u001b[0;34m)\u001b[0m\u001b[0;34m)\u001b[0m\u001b[0;34m\u001b[0m\u001b[0m\n",
            "\u001b[0;31mKeyError\u001b[0m: 'Aravind'"
          ]
        }
      ]
    },
    {
      "metadata": {},
      "cell_type": "markdown",
      "source": "### Querying contacts with exception handling"
    },
    {
      "metadata": {
        "trusted": true
      },
      "cell_type": "code",
      "source": "# Create a dictionary of contacts; names as keys, phone numbers as values\ncontacts = {\"Suresh Datta\": \"345-555-0101\", \"Colette Browning\": \"483-555-0119\", \"Skey Homsi\": \"485-555-0195\"}\n\n# Ask user for a name, then display the number\nname = input(\"Enter a name: \")\n\n# If name is not in the contacts dictionary, the exception message will be displayed\ntry:\n    number = contacts[name]\n    print(\"Number is: {:s}\".format(number))\nexcept KeyError as exception_object:\n    print(\"{:s} was not found in contacts\".format(name))",
      "execution_count": 2,
      "outputs": [
        {
          "output_type": "stream",
          "name": "stdout",
          "text": "Enter a name: aravind\naravind was not found in contacts\n"
        }
      ]
    },
    {
      "metadata": {},
      "cell_type": "markdown",
      "source": "### Adding or changing a contact"
    },
    {
      "metadata": {
        "trusted": true
      },
      "cell_type": "code",
      "source": "# Create a dictionary of contacts; names as keys, phone numbers as values\ncontacts = {\"Suresh Datta\": \"345-555-0101\", \"Colette Browning\": \"483-555-0119\", \"Skey Homsi\": \"485-555-0195\"}\n\n# Ask user for a name and number\nname = input(\"Enter a name: \")\nnumber = input(\"Enter a number: \")\n\n# If the name exists in the dictionary, the number will be updated\n# If the name does NOT exist in the dictionary, a new name:number pair will be added\ncontacts[name] = number\n\nprint(\"Updated contact:\", contacts)",
      "execution_count": 3,
      "outputs": [
        {
          "output_type": "stream",
          "name": "stdout",
          "text": "Enter a name: Suresh Datta\nEnter a number: 345-555-0101\nUpdated contact: {'Colette Browning': '483-555-0119', 'Skey Homsi': '485-555-0195', 'Suresh Datta': '345-555-0101'}\n"
        }
      ]
    },
    {
      "metadata": {},
      "cell_type": "markdown",
      "source": "### Deleting a contact"
    },
    {
      "metadata": {
        "trusted": true
      },
      "cell_type": "code",
      "source": "# Create a dictionary of contacts; names as keys, phone numbers as values\ncontacts = {\"Suresh Datta\": \"345-555-0101\", \"Colette Browning\": \"483-555-0119\", \"Skey Homsi\": \"485-555-0195\"}\n\n# Ask user for a name and number\nname = input(\"Enter a name: \")\n\n# If the name is not in the contacts dictionary, display the exception message\ntry:\n    number = contacts.pop(name)\n    print(\"{:s}: {:s} was deleted from contacts\".format(name, number))\nexcept KeyError as exception_object:\n    print(\"{:s} was not found in contacts\".format(name))\n    \nprint(\"Updated contact:\", contacts)",
      "execution_count": 5,
      "outputs": [
        {
          "output_type": "stream",
          "name": "stdout",
          "text": "Enter a name: u8h\nu8h was not found in contacts\nUpdated contact: {'Colette Browning': '483-555-0119', 'Suresh Datta': '345-555-0101', 'Skey Homsi': '485-555-0195'}\n"
        }
      ]
    },
    {
      "metadata": {},
      "cell_type": "markdown",
      "source": "## Tracking Grocery Prices\nIn the following example, you will use a dictionary to store and manipulate groceries and their associated prices. Each grocery is represented by a unique item name that is used as the unique dictionary key. The average daily price of a grocery will be used as the associated value."
    },
    {
      "metadata": {
        "trusted": true
      },
      "cell_type": "code",
      "source": "# Create a dictionary of grocery items and associated prices\ngroceries = {'Bread':2.26, 'Milk':3.62, 'Chocolate':1.59}\n\n# Display the price for the item name\nitem = 'Bread'\nprint(\"{} price = {:.2f}\".format(item, groceries[item]))\n\n# Add a new key:value pair to the dictionary\ngroceries['Banana']= 1.00\nprint('Adding Banana:')\nprint(groceries)\n\n# Modify a dictionary element\ngroceries['Banana'] = 1.10\nprint('Modifying Banana:')\nprint(groceries)\n\n# Remove a dictionary element\nprint(\"Removing: '{}':{:.2f}\".format('Banana', groceries.pop('Banana')))\nprint(groceries)",
      "execution_count": 6,
      "outputs": [
        {
          "output_type": "stream",
          "text": "Bread price = 2.26\nAdding Banana:\n{'Chocolate': 1.59, 'Banana': 1.0, 'Milk': 3.62, 'Bread': 2.26}\nModifying Banana:\n{'Chocolate': 1.59, 'Banana': 1.1, 'Milk': 3.62, 'Bread': 2.26}\nRemoving: 'Banana':1.10\n{'Chocolate': 1.59, 'Milk': 3.62, 'Bread': 2.26}\n",
          "name": "stdout"
        }
      ]
    },
    {
      "metadata": {},
      "cell_type": "markdown",
      "source": "---\n<font size=\"6\" color=\"#B24C00\"  face=\"verdana\"> <B>Task 1</B></font>\n\n## Dictionary Basics"
    },
    {
      "metadata": {
        "trusted": true
      },
      "cell_type": "code",
      "source": "# [x] The `data` list contains information about a company's employees.\n# Use the `data` list and an appropriate loop to create a dictionary of employees.\n# Use IDs (as keys) and names (as values).\n# Ignore the email addresses for now.\n\n# The created dictionary should look like:\n# {57394: 'Suresh Datta', 48539: 'Colette Browning', 58302: 'Skye Homsi', 48502: 'Hiroto Yamaguchi', 48291: 'Tobias Ledford', 48293: 'Jin Xu', 23945: 'Joana Dias', 85823: 'Alton Derosa'}\n\ndata = [[\"Suresh Datta\", 57394, \"suresh@example.com\"], [\"Colette Browning\", 48539, \"colette@example.com\"], [\"Skye Homsi\", 58302, \"skye@example.com\"], [\"Hiroto Yamaguchi\", 48502, \"hiroto@example.com\"], [\"Tobias Ledford\", 48291, \"tobias@example.com\", \"Tamara Babic\", 58201, \"tamara@example.com\"], [\"Jin Xu\", 48293, \"jin@example.com\"], [\"Joana Dias\", 23945, \"joana@example.com\"], [\"Alton Derosa\", 85823, \"alton@example.com\"]]\ndictionary = {}\nfor a in data:\n    dictionary[a[1]] =a[0]\nprint (dictionary)",
      "execution_count": 5,
      "outputs": [
        {
          "output_type": "stream",
          "text": "[57394: Suresh Datta, [48539: Colette Browning, [58302: Skye Homsi, [48502: Hiroto Yamaguchi, [48291: Tobias Ledford, [48293: Jin Xu, [23945: Joana Dias, [85823: Alton Derosa, ",
          "name": "stdout"
        }
      ]
    },
    {
      "metadata": {
        "trusted": true
      },
      "cell_type": "code",
      "source": "# [x] Use the `records` dictionary in a program that asks the user for an ID and prints the name of the associated employee.\n# Display an appropriate message if the ID is not found in the dictionary.\n\nrecords = {57394: 'Suresh Datta', 48539: 'Colette Browning', 58302: 'Skye Homsi', 48502: 'Hiroto Yamaguchi', 48291: 'Tobias Ledford', 48293: 'Jin Xu', 23945: 'Joana Dias', 85823: 'Alton Derosa'}\n\nnumber = int(input(\"Enter the ID of the user : \"))\n\ntry:\n    name = records[number]\n    print(\"Name is: {:s}\".format(name))\nexcept KeyError as exception_object:\n    print(\"{:d} was not found in contacts\".format(number))",
      "execution_count": 7,
      "outputs": [
        {
          "output_type": "stream",
          "name": "stdout",
          "text": "Enter the ID of the user : 57394\nName is: Suresh Datta\n"
        }
      ]
    },
    {
      "metadata": {
        "trusted": true
      },
      "cell_type": "code",
      "source": "# [ ] Use the `records` dictionary in a program to ask the user for an ID then delete the employee record associated with the ID\n# The program should display an appropriate message if the ID is not found in the dictionary.\n\nrecords = {57394: 'Suresh Datta', 48539: 'Colette Browning', 58302: 'Skye Homsi', 48502: 'Hiroto Yamaguchi', 48291: 'Tobias Ledford', 48293: 'Jin Xu', 23945: 'Joana Dias', 85823: 'Alton Derosa'}\nnumber = int(input(\"Enter the ID of the user : \"))\n\ntry:\n    name = records[number]\n    print(number,\"is removed!!\")\n    records.pop(number)\n    print(records)\nexcept KeyError as exception_object:\n    print(\"{:d} was not found in contacts\".format(number))",
      "execution_count": 14,
      "outputs": [
        {
          "output_type": "stream",
          "name": "stdout",
          "text": "Enter the ID of the user : 57394\n57394 is removed!!\n{48291: 'Tobias Ledford', 48293: 'Jin Xu', 48502: 'Hiroto Yamaguchi', 23945: 'Joana Dias', 48539: 'Colette Browning', 58302: 'Skye Homsi', 85823: 'Alton Derosa'}\n"
        }
      ]
    },
    {
      "metadata": {},
      "cell_type": "markdown",
      "source": "---\n<font size=\"6\" color=\"#00A0B2\"  face=\"verdana\"> <B>Concepts</B></font>  \n\n\n## Looping Over Dictionary Items\n\n\n[![view video](https://iajupyterprodblobs.blob.core.windows.net/imagecontainer/common/play_video.png)](https://www.youtube.com/watch?v=sRmMADRVbNo)\n\nYou can traverse the elements of a dictionary in much the same way you loop over the elements of a list or a tuple; however, with dictionaries you can use the keys, the values, or both keys and values when iterating over the dictionary elements."
    },
    {
      "metadata": {},
      "cell_type": "markdown",
      "source": "---\n<font size=\"6\" color=\"#00A0B2\"  face=\"verdana\"> <B>Examples</B></font>\n## Dictionary Iterations"
    },
    {
      "metadata": {},
      "cell_type": "markdown",
      "source": "### Iterating over the keys\n\nYou can iterate over all the keys of a dictionary using the `.keys()` method in a for loop. \n"
    },
    {
      "metadata": {
        "trusted": true
      },
      "cell_type": "code",
      "source": "D = {'Name':'Skye', 'Age':35, 'Temperature':98.7, 'Last Name': 'Babic'}\n\n# Iterate over the keys of D\nfor key in D.keys():\n    print(\"D[{}] = '{}'\".format(key, D[key]))",
      "execution_count": 15,
      "outputs": [
        {
          "output_type": "stream",
          "text": "D[Age] = '35'\nD[Temperature] = '98.7'\nD[Last Name] = 'Babic'\nD[Name] = 'Skye'\n",
          "name": "stdout"
        }
      ]
    },
    {
      "metadata": {},
      "cell_type": "markdown",
      "source": "### Iterating over the sorted keys\nPython stores the _key:value_ pairs of a dictionary in an order based on its optimization algorithm. You can use the `sorted` method to traverse the keys of a dictionary in a sorted order.\n\nIn the previous example, the keys were not printed alphabetically. In the following code snippet, we change the order by using the `sorted` method."
    },
    {
      "metadata": {
        "trusted": true
      },
      "cell_type": "code",
      "source": "D = {'Name':'Skye', 'Age':35, 'Temperature':98.7, 'Last Name': 'Babic'}\n\n# Iterate over the sorted keys of D \n# Keys sorted alphabetically because they are all strings\nfor key in sorted(D.keys()):\n    print(\"D[{}] = '{}'\".format(key, D[key]))",
      "execution_count": 16,
      "outputs": [
        {
          "output_type": "stream",
          "text": "D[Age] = '35'\nD[Last Name] = 'Babic'\nD[Name] = 'Skye'\nD[Temperature] = '98.7'\n",
          "name": "stdout"
        }
      ]
    },
    {
      "metadata": {},
      "cell_type": "markdown",
      "source": "### Iterating over the values\nYou can iterate over the elements of a dictionary using the values in the same way you did when iterating using the keys. This can be achieved using the `.values()` method.\n\nNOTE: Because the values in this example are of different types, you cannot sort them. If they were all of the same type, you could use the `sorted()` method to iterate over them in an ordered way."
    },
    {
      "metadata": {
        "trusted": true
      },
      "cell_type": "code",
      "source": "D = {'Name':'Skye', 'Age':35, 'Temperature':98.7, 'Last Name': 'Babic'}\nfor value in D.values():\n    print(value)",
      "execution_count": 17,
      "outputs": [
        {
          "output_type": "stream",
          "text": "35\n98.7\nBabic\nSkye\n",
          "name": "stdout"
        }
      ]
    },
    {
      "metadata": {},
      "cell_type": "markdown",
      "source": "### Iterating over the keys and values\nYou can iterate over the _key:value_ pairs of a dictionary using the `.items()` method. The method returns a tuple as `(key, value)` for each pair in the dictionary."
    },
    {
      "metadata": {
        "trusted": true
      },
      "cell_type": "code",
      "source": "D = {'Name':'Skye', 'Age':35, 'Temperature':98.7, 'Last Name': 'Babic'}\nfor (key, value) in D.items():\n    print(key,':', value)",
      "execution_count": 18,
      "outputs": [
        {
          "output_type": "stream",
          "text": "Age : 35\nTemperature : 98.7\nLast Name : Babic\nName : Skye\n",
          "name": "stdout"
        }
      ]
    },
    {
      "metadata": {},
      "cell_type": "markdown",
      "source": "Of course, because the (key, value) tuple in the `for` loop is just unpacking the returned tuple of `D.items`, you can drop the parentheses."
    },
    {
      "metadata": {
        "trusted": true
      },
      "cell_type": "code",
      "source": "D = {'Name':'Skye', 'Age':35, 'Temperature':98.7, 'Last Name': 'Babic'}\nfor key, value in D.items():\n    print(key,':', value)",
      "execution_count": 19,
      "outputs": [
        {
          "output_type": "stream",
          "text": "Age : 35\nTemperature : 98.7\nLast Name : Babic\nName : Skye\n",
          "name": "stdout"
        }
      ]
    },
    {
      "metadata": {},
      "cell_type": "markdown",
      "source": "## Tracking Grocery Prices\n\nIn this example, you will create a groceries dictionary, traverse it based on the keys (in a sorted way) and display the price for each of the items."
    },
    {
      "metadata": {
        "trusted": true
      },
      "cell_type": "code",
      "source": "# Create a dictionary of grocery items and associated prices\ngroceries = {'Bread':2.26, 'Milk':3.62, 'Chocolate':1.59}\n\n# Display the price for the items in a sorted order\nfor item in sorted(groceries.keys()):\n    print(\"{} = {:.2f}\".format(item, groceries[item]))",
      "execution_count": 20,
      "outputs": [
        {
          "output_type": "stream",
          "text": "Bread = 2.26\nChocolate = 1.59\nMilk = 3.62\n",
          "name": "stdout"
        }
      ]
    },
    {
      "metadata": {},
      "cell_type": "markdown",
      "source": "---\n<font size=\"6\" color=\"#B24C00\"  face=\"verdana\"> <B>Task 2</B></font>\n\n## Looping Over Dictionary Items"
    },
    {
      "metadata": {
        "trusted": true
      },
      "cell_type": "code",
      "source": "# [ ] The `data` list contains information about a company's employees\n# Use the `data` list and an appropriate loop to create a dictionary of\n# IDs (as keys): [name, email] (as values)\n\n# The resulting dictionary should look like: \n# {57394: ['Suresh Datta', 'suresh@example.com'], 48539: ['Colette Browning', 'colette@example.com'], 58302: ['Skye Homsi', 'skye@example.com'], 48502: ['Hiroto Yamaguchi', 'hiroto@example.com'], 48291: ['Tobias Ledford', 'tobias@example.com'], 48293: ['Jin Xu', 'jin@example.com'], 23945: ['Joana Dias', 'joana@example.com'], 85823: ['Alton Derosa', 'alton@example.com']}\n\ndata = [[\"Suresh Datta\", 57394, \"suresh@example.com\"], [\"Colette Browning\", 48539, \"colette@example.com\"], [\"Skye Homsi\", 58302, \"skye@example.com\"], [\"Hiroto Yamaguchi\", 48502, \"hiroto@example.com\"], [\"Tobias Ledford\", 48291, \"tobias@example.com\", \"Tamara Babic\", 58201, \"tamara@example.com\"], [\"Jin Xu\", 48293, \"jin@example.com\"], [\"Joana Dias\", 23945, \"joana@example.com\"], [\"Alton Derosa\", 85823, \"alton@example.com\"]]\ndictionary = {}\nfor a in data:\n    dictionary[a[1]] = [a[0],a[2]]\nprint (dictionary)\n",
      "execution_count": 22,
      "outputs": [
        {
          "output_type": "stream",
          "text": "{57394: ['Suresh Datta', 'suresh@example.com'], 48291: ['Tobias Ledford', 'tobias@example.com'], 48293: ['Jin Xu', 'jin@example.com'], 48502: ['Hiroto Yamaguchi', 'hiroto@example.com'], 23945: ['Joana Dias', 'joana@example.com'], 48539: ['Colette Browning', 'colette@example.com'], 58302: ['Skye Homsi', 'skye@example.com'], 85823: ['Alton Derosa', 'alton@example.com']}\n",
          "name": "stdout"
        }
      ]
    },
    {
      "metadata": {
        "trusted": true
      },
      "cell_type": "code",
      "source": "\n# [x] Write a program to display the content of the `records` dictionary as shown here\n# Note the IDs are sorted in an ascending order\n\n'''\n        Name         |     ID     |        Email        \n________________________________________________________\n     Joana Dias      |   23945    |    joana@example.com\n   Tobias Ledford    |   48291    |   tobias@example.com\n       Jin Xu        |   48293    |      jin@example.com\n  Hiroto Yamaguchi   |   48502    |   hiroto@example.com\n  Colette Browning   |   48539    |  colette@example.com\n    Suresh Datta     |   57394    |   suresh@example.com\n     Skye Homsi      |   58302    |     skye@example.com\n    Alton Derosa     |   85823    |    alton@example.com\n'''\nrecords = {57394: ['Suresh Datta', 'suresh@example.com'], 48539: ['Colette Browning', 'colette@example.com'], 58302: ['Skye Homsi', 'skye@example.com'], 48502: ['Hiroto Yamaguchi', 'hiroto@example.com'], 48291: ['Tobias Ledford', 'tobias@example.com'], 48293: ['Jin Xu', 'jin@example.com'], 23945: ['Joana Dias', 'joana@example.com'], 85823: ['Alton Derosa', 'alton@example.com']}\nprint(\"{:^20s}|{:^14s}|{:^20s}\".format(\"Name\",\"ID\",\"Email\"))\nprint(\"________________________________________________________\")\nfor item in sorted(records.keys()):\n    print(\"{:^20s}|{:^14d}|{:>20s}\".format(records[item][0], item, records[item][1]))",
      "execution_count": 1,
      "outputs": [
        {
          "output_type": "stream",
          "text": "        Name        |      ID      |       Email        \n________________________________________________________\n     Joana Dias     |    23945     |   joana@example.com\n   Tobias Ledford   |    48291     |  tobias@example.com\n       Jin Xu       |    48293     |     jin@example.com\n  Hiroto Yamaguchi  |    48502     |  hiroto@example.com\n  Colette Browning  |    48539     | colette@example.com\n    Suresh Datta    |    57394     |  suresh@example.com\n     Skye Homsi     |    58302     |    skye@example.com\n    Alton Derosa    |    85823     |   alton@example.com\n",
          "name": "stdout"
        }
      ]
    },
    {
      "metadata": {
        "trusted": true
      },
      "cell_type": "code",
      "source": "# [ ] The company's domain has changed from (example.com) to (example.org)\n# Write a program to modify the email addresses in the `records` dictionary to reflect this change\n\nrecords = {57394: ['Suresh Datta', 'suresh@example.com'], 48539: ['Colette Browning', 'colette@example.com'], 58302: ['Skye Homsi', 'skye@example.com'], 48502: ['Hiroto Yamaguchi', 'hiroto@example.com'], 48291: ['Tobias Ledford', 'tobias@example.com'], 48293: ['Jin Xu', 'jin@example.com'], 23945: ['Joana Dias', 'joana@example.com'], 85823: ['Alton Derosa', 'alton@example.com']}\n\nfor item in sorted(records.keys()):\n    records[item][1] = records[item][1].replace(\"com\",\"org\")\n\nprint(\"{:^20s}|{:^14s}|{:^20s}\".format(\"Name\",\"ID\",\"Email\"))\nprint(\"________________________________________________________\")\nfor item in sorted(records.keys()):\n    print(\"{:^20s}|{:^14d}|{:>20s}\".format(records[item][0], item, records[item][1]))",
      "execution_count": 25,
      "outputs": [
        {
          "output_type": "stream",
          "text": "        Name        |      ID      |       Email        \n________________________________________________________\n     Joana Dias     |    23945     |   joana@example.org\n   Tobias Ledford   |    48291     |  tobias@example.org\n       Jin Xu       |    48293     |     jin@example.org\n  Hiroto Yamaguchi  |    48502     |  hiroto@example.org\n  Colette Browning  |    48539     | colette@example.org\n    Suresh Datta    |    57394     |  suresh@example.org\n     Skye Homsi     |    58302     |    skye@example.org\n    Alton Derosa    |    85823     |   alton@example.org\n",
          "name": "stdout"
        }
      ]
    },
    {
      "metadata": {
        "trusted": true
      },
      "cell_type": "code",
      "source": "# [ ] You want to send a mass email to all company employees, so you need a list of all the email addresses in `records`\n# Write a program to extract the email addresses from the `records` dictionary and store them in a list\n\n# The output list should look like:\n# ['suresh@example.com', 'colette@example.com', 'skye@example.com', 'hiroto@example.com', 'tobias@example.com', 'jin@example.com', 'joana@example.com', 'alton@example.com']\n\n# Hint: use the `.values()` method\n\nrecords = {57394: ['Suresh Datta', 'suresh@example.com'], 48539: ['Colette Browning', 'colette@example.com'], 58302: ['Skye Homsi', 'skye@example.com'], 48502: ['Hiroto Yamaguchi', 'hiroto@example.com'], 48291: ['Tobias Ledford', 'tobias@example.com'], 48293: ['Jin Xu', 'jin@example.com'], 23945: ['Joana Dias', 'joana@example.com'], 85823: ['Alton Derosa', 'alton@example.com']}\nemails = []\nfor a in records.values():\n    emails.append(a[1])\nprint (emails)",
      "execution_count": 26,
      "outputs": [
        {
          "output_type": "stream",
          "text": "['suresh@example.com', 'tobias@example.com', 'jin@example.com', 'hiroto@example.com', 'joana@example.com', 'colette@example.com', 'skye@example.com', 'alton@example.com']\n",
          "name": "stdout"
        }
      ]
    },
    {
      "metadata": {},
      "cell_type": "markdown",
      "source": "---\n<font size=\"6\" color=\"#00A0B2\"  face=\"verdana\"> <B>Concepts</B></font>  \n\n\n## Dictionary Operations and Functions\n\n\n[![view video](https://iajupyterprodblobs.blob.core.windows.net/imagecontainer/common/play_video.png)](https://www.youtube.com/watch?v=SG0KQXGMXRM)\n\nPython supports several functions and dictionary operations such as containment, identity, and dictionary length. You will explore some of them in the following examples."
    },
    {
      "metadata": {},
      "cell_type": "markdown",
      "source": "---\n<font size=\"6\" color=\"#00A0B2\"  face=\"verdana\"> <B>Examples</B></font>\n"
    },
    {
      "metadata": {},
      "cell_type": "markdown",
      "source": "### Containment (`in`, `not in`)\n\n"
    },
    {
      "metadata": {},
      "cell_type": "markdown",
      "source": "#### _key_ containment\nYou can test if a value is one of the dictionary keys by using the (`in`) and (`not in`) containment operators. \n\nWhen testing the containment, you can use the `.keys()` method or just the name of the dictionary, Python will generate the same results. "
    },
    {
      "metadata": {
        "trusted": true
      },
      "cell_type": "code",
      "source": "# Create a dictionary of grocery items and associated prices\ngroceries = {'Bread':2.26, 'Milk':3.62, 'Chocolate':1.59}\n\nitem = input(\"Please enter an item name: \")\n\n# Using .keys()\nif (item in groceries.keys()):\n    print(\"Price of {} is: ${:4.2f}\".format(item, groceries[item]))\nelif (item not in groceries):\n    print(\"Price not in the dictionary\")",
      "execution_count": 2,
      "outputs": [
        {
          "output_type": "stream",
          "name": "stdout",
          "text": "Please enter an item name: Bread\nPrice of Bread is: $2.26\n"
        }
      ]
    },
    {
      "metadata": {
        "trusted": true
      },
      "cell_type": "code",
      "source": "# Create a dictionary of grocery items and associated prices\ngroceries = {'Bread':2.26, 'Milk':3.62, 'Chocolate':1.59}\n\nitem = input(\"Please enter a item: \")\n\n# Without using .keys()\nif (item in groceries):\n    print(\"Price of {} is: ${:4.2f}\".format(item, groceries[item]))\nelif (item not in groceries):\n    print(\"Price not in the dictionary\")",
      "execution_count": 3,
      "outputs": [
        {
          "output_type": "stream",
          "name": "stdout",
          "text": "Please enter a item: Bread\nPrice of Bread is: $2.26\n"
        }
      ]
    },
    {
      "metadata": {},
      "cell_type": "markdown",
      "source": "#### _value_ containment\nYou can test if a value is one of the dictionary values by using the (`in`) and (`not in`) containment operators and the `.values()` method. Unlike _key_ containment, you cannot use only the dictionary name."
    },
    {
      "metadata": {
        "trusted": true
      },
      "cell_type": "code",
      "source": "# Create a dictionary of grocery items and associated prices\ngroceries = {'Bread':2.26, 'Milk':3.62, 'Chocolate':1.59}\n\nprice = float(input(\"Please enter an exact price: \"))\n\nif (price in groceries.values()):\n    print(\"There is a matching grocery\")\nelse:\n    print(\"There are no groceries matching this price\")",
      "execution_count": null,
      "outputs": []
    },
    {
      "metadata": {},
      "cell_type": "markdown",
      "source": "### Identity (`is`) and equality (`==`)\n\nWhen comparing two tuples or lists using the equality operator `==`, the result would be `True` if and only if both sequences had the same exact elements and in the same order. Of course, being equal does not indicate that the sequences are identical as you saw earlier.\n\nFor dictionaries, the order of the items is not important. Thus, two dictionaries can be equal despite the fact that they store the elements in a different order. Identity of dictionaries is the same as identities of tuples and lists; changing one of two identical dictionaries will also change the other."
    },
    {
      "metadata": {
        "trusted": true
      },
      "cell_type": "code",
      "source": "# Create 2 equal but not identical dictionaries\nD1 = {0:'number 0', 1:'number 1', 2:'number 2'}\nD2 = {1:'number 1', 0:'number 0', 2:'number 2'}\n\nprint(\"Equality: D1 == D2 ?\", D1 == D2)\nprint(\"Identity: D1 is D2 ?\", D1 is D2)",
      "execution_count": 5,
      "outputs": [
        {
          "output_type": "stream",
          "text": "Equality: D1 == D2 ? True\nIdentity: D1 is D2 ? False\n",
          "name": "stdout"
        }
      ]
    },
    {
      "metadata": {
        "trusted": true
      },
      "cell_type": "code",
      "source": "# Create 2 equal and identical dictionaries\nD1 = {0:'number 0', 1:'number 1', 2:'number 2'}\nD2 = D1\nD1[0] = 'changed number'\n\nprint(\"Equality: D1 == D2 ?\", D1 == D2)\nprint(\"Identity: D1 is D2 ?\", D1 is D2)\n\nprint(\"D2 after changing D1:\", D2)",
      "execution_count": 6,
      "outputs": [
        {
          "output_type": "stream",
          "text": "Equality: D1 == D2 ? True\nIdentity: D1 is D2 ? True\nD2 after changing D1: {0: 'changed number', 1: 'number 1', 2: 'number 2'}\n",
          "name": "stdout"
        }
      ]
    },
    {
      "metadata": {},
      "cell_type": "markdown",
      "source": "### Length of a dictionary\nThe length of a dictionary is the number of key:value pairs it contains. You can find out this number by using the `len()` function."
    },
    {
      "metadata": {
        "trusted": true
      },
      "cell_type": "code",
      "source": "# Create a dictionary of grocery items and associated prices\ngroceries = {'Bread':2.26, 'Milk':3.62, 'Chocolate':1.59}\n\n# The length of a dictionary = how many key:value pairs it has\nprint(\"{} groceries total\".format(len(groceries)))",
      "execution_count": 7,
      "outputs": [
        {
          "output_type": "stream",
          "text": "3 groceries total\n",
          "name": "stdout"
        }
      ]
    },
    {
      "metadata": {},
      "cell_type": "markdown",
      "source": "---\n<font size=\"6\" color=\"#B24C00\"  face=\"verdana\"> <B>Task 3</B></font>\n\n## Dictionary Operations and Functions"
    },
    {
      "metadata": {
        "trusted": true
      },
      "cell_type": "code",
      "source": "# Write a program that can ONLY update the price of an existing grocery \n# in the `groceries` dictionary.\n# The item and updated price should be entered by the user.\n# If the user enters a new item, the program should not create \n# a new dictionary item. It should instead display an error message.\n\ngroceries = {'Bread':2.26, 'Milk':3.62, 'Chocolate':1.59}\nitem = input(\"Enter the name of the item you want to change : \")\nif item not in groceries:\n    print(\"Price not in the dictionary\")\nelif (item in groceries):\n    new_price = float(input(\"Enter the new price for this item : \"))\n    groceries[item] = new_price\nprint(groceries)",
      "execution_count": 2,
      "outputs": [
        {
          "output_type": "stream",
          "name": "stdout",
          "text": "Enter the name of the item you want to change : Chocolate\nEnter the new price for this item : 3.63\n{'Chocolate': 3.63, 'Bread': 2.26, 'Milk': 3.62}\n"
        }
      ]
    },
    {
      "metadata": {
        "trusted": true
      },
      "cell_type": "code",
      "source": "# [ ] Write a program to find out the number of employees stored in `records`.\n\nrecords = {57394: ['Suresh Datta', 'suresh@example.com'], 48539: ['Colette Browning', 'colette@example.com'], 58302: ['Skye Homsi', 'skye@example.com'], 48502: ['Hiroto Yamaguchi', 'hiroto@example.com'], 48291: ['Tobias Ledford', 'tobias@example.com'], 48293: ['Jin Xu', 'jin@example.com'], 23945: ['Joana Dias', 'joana@example.com'], 85823: ['Alton Derosa', 'alton@example.com']}\nname = []\nfor a in records.values():\n    name.append(a[0])\nprint(len(name))",
      "execution_count": 4,
      "outputs": [
        {
          "output_type": "stream",
          "text": "8\n",
          "name": "stdout"
        }
      ]
    }
  ],
  "metadata": {
    "kernelspec": {
      "name": "python3",
      "display_name": "Python 3",
      "language": "python"
    },
    "language_info": {
      "mimetype": "text/x-python",
      "nbconvert_exporter": "python",
      "name": "python",
      "file_extension": ".py",
      "version": "3.5.4",
      "pygments_lexer": "ipython3",
      "codemirror_mode": {
        "version": 3,
        "name": "ipython"
      }
    }
  },
  "nbformat": 4,
  "nbformat_minor": 2
}