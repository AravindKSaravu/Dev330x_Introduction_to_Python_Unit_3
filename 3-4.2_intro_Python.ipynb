{
  "cells": [
    {
      "metadata": {},
      "cell_type": "markdown",
      "source": "# Section 4.2: Variable Scope\n* def\n* global\n\n### Students will be able to:\n* Define local variables\n* Read and modify the values of local variables\n* Identify the scope of a variable\n* Define global variables\n* Read and modify the values of global variables from local scopes"
    },
    {
      "metadata": {},
      "cell_type": "markdown",
      "source": "---\n<font size=\"6\" color=\"#00A0B2\"  face=\"verdana\"> <B>Concepts</B></font>  \n\n\n## Local Variables\n\n[![view video](https://iajupyterprodblobs.blob.core.windows.net/imagecontainer/common/play_video.png)](https://www.youtube.com/watch?v=VWL7pfdFEeM)\n\nA variable in Python lives within a scope; the scope determines how the variable is accessed and when it is deleted. A variable scope is determined by the place where it is initially assigned. There are two types of scopes: local and global. Parameters passed to a function and variables assigned within it are within the local scope of the function and are called local variables; variables assigned outside all functions in a module are within the global scope of the module and are called global variables. \n\nLocal scopes are created when a function is called, and destroyed when the function return to its caller. This means that you might have several local scopes that have different local variables within them. These local variables can be accessed and changed within their own local scopes; however, they cannot interact with variables from other local scopes and they cannot be accessed from the global scope. This is important because it allows you to use the same variable name in different functions without worrying about name conflicts or the collision of variables.\n\nThe concept of a local scope guides you to think about functions as black boxes that can interact with your code only through arguments and returned values. When developing a function, you do not have to worry about a variable name being used in another function because you know that each will be local within its own function and can be accessed only from within that function.\n\nGenerally speaking:\n* Local variables cannot be read or modified from the global scope\n* Local variables cannot be read or modified from other local scopes\n* The same variable name can be used in different functions without causing a conflict"
    },
    {
      "metadata": {},
      "cell_type": "markdown",
      "source": "---\n<font size=\"6\" color=\"#00A0B2\"  face=\"verdana\"> <B>Examples</B></font>\n\nIn the following examples, functions compute the areas and volumes of different geometric figures. The variable name `area` will be used in all functions to demonstrate the concepts of local scope and global scope. The demonstrated concepts also apply to other data types (such as lists and strings)."
    },
    {
      "metadata": {},
      "cell_type": "markdown",
      "source": "### Local variables cannot be read or modified from the global scope"
    },
    {
      "metadata": {
        "trusted": true
      },
      "cell_type": "code",
      "source": "# Compute the area of a square\ndef square_area (side):\n    # area is a local variable in square_area\n    area = side ** 2\n    return area\n\n\n# Global scope\nsquare_area(2)\n\n# area is not within scope anymore and cannot be\n# accessed from this global scope\nprint(area)",
      "execution_count": 2,
      "outputs": [
        {
          "output_type": "error",
          "ename": "NameError",
          "evalue": "name 'area' is not defined",
          "traceback": [
            "\u001b[0;31m---------------------------------------------------------------------------\u001b[0m",
            "\u001b[0;31mNameError\u001b[0m                                 Traceback (most recent call last)",
            "\u001b[0;32m<ipython-input-2-d65bb23d7a70>\u001b[0m in \u001b[0;36m<module>\u001b[0;34m()\u001b[0m\n\u001b[1;32m     11\u001b[0m \u001b[0;31m# area is not within scope anymore and cannot be\u001b[0m\u001b[0;34m\u001b[0m\u001b[0;34m\u001b[0m\u001b[0m\n\u001b[1;32m     12\u001b[0m \u001b[0;31m# accessed from this global scope\u001b[0m\u001b[0;34m\u001b[0m\u001b[0;34m\u001b[0m\u001b[0m\n\u001b[0;32m---> 13\u001b[0;31m \u001b[0mprint\u001b[0m\u001b[0;34m(\u001b[0m\u001b[0marea\u001b[0m\u001b[0;34m)\u001b[0m\u001b[0;34m\u001b[0m\u001b[0m\n\u001b[0m",
            "\u001b[0;31mNameError\u001b[0m: name 'area' is not defined"
          ]
        }
      ]
    },
    {
      "metadata": {},
      "cell_type": "markdown",
      "source": "### Local variables cannot be read or modified from other local scopes\n\nA local variable in one function cannot be accessed from another function."
    },
    {
      "metadata": {
        "trusted": true
      },
      "cell_type": "code",
      "source": "# Compute the area of a square\ndef square_area (side):\n    # area is a local variable in square_area\n    area = side ** 2\n    return area\n\n# Compute the volume of a cube\ndef cube_volume (side):\n    # cube volume = area of base X side\n    volume = area * side # area is not defined within this scope\n    return volume\n\n# Global scope\ns = 2\nsquare_area(s)\n# area was deleted when the local scope of square_area was destroyed\ncube_volume(s)",
      "execution_count": 3,
      "outputs": [
        {
          "output_type": "error",
          "ename": "NameError",
          "evalue": "name 'area' is not defined",
          "traceback": [
            "\u001b[0;31m---------------------------------------------------------------------------\u001b[0m",
            "\u001b[0;31mNameError\u001b[0m                                 Traceback (most recent call last)",
            "\u001b[0;32m<ipython-input-3-e25dc1f1332a>\u001b[0m in \u001b[0;36m<module>\u001b[0;34m()\u001b[0m\n\u001b[1;32m     15\u001b[0m \u001b[0msquare_area\u001b[0m\u001b[0;34m(\u001b[0m\u001b[0ms\u001b[0m\u001b[0;34m)\u001b[0m\u001b[0;34m\u001b[0m\u001b[0m\n\u001b[1;32m     16\u001b[0m \u001b[0;31m# area was deleted when the local scope of square_area was destroyed\u001b[0m\u001b[0;34m\u001b[0m\u001b[0;34m\u001b[0m\u001b[0m\n\u001b[0;32m---> 17\u001b[0;31m \u001b[0mcube_volume\u001b[0m\u001b[0;34m(\u001b[0m\u001b[0ms\u001b[0m\u001b[0;34m)\u001b[0m\u001b[0;34m\u001b[0m\u001b[0m\n\u001b[0m",
            "\u001b[0;32m<ipython-input-3-e25dc1f1332a>\u001b[0m in \u001b[0;36mcube_volume\u001b[0;34m(side)\u001b[0m\n\u001b[1;32m      8\u001b[0m \u001b[0;32mdef\u001b[0m \u001b[0mcube_volume\u001b[0m \u001b[0;34m(\u001b[0m\u001b[0mside\u001b[0m\u001b[0;34m)\u001b[0m\u001b[0;34m:\u001b[0m\u001b[0;34m\u001b[0m\u001b[0m\n\u001b[1;32m      9\u001b[0m     \u001b[0;31m# cube volume = area of base X side\u001b[0m\u001b[0;34m\u001b[0m\u001b[0;34m\u001b[0m\u001b[0m\n\u001b[0;32m---> 10\u001b[0;31m     \u001b[0mvolume\u001b[0m \u001b[0;34m=\u001b[0m \u001b[0marea\u001b[0m \u001b[0;34m*\u001b[0m \u001b[0mside\u001b[0m \u001b[0;31m# area is not defined within this scope\u001b[0m\u001b[0;34m\u001b[0m\u001b[0m\n\u001b[0m\u001b[1;32m     11\u001b[0m     \u001b[0;32mreturn\u001b[0m \u001b[0mvolume\u001b[0m\u001b[0;34m\u001b[0m\u001b[0m\n\u001b[1;32m     12\u001b[0m \u001b[0;34m\u001b[0m\u001b[0m\n",
            "\u001b[0;31mNameError\u001b[0m: name 'area' is not defined"
          ]
        }
      ]
    },
    {
      "metadata": {},
      "cell_type": "markdown",
      "source": "### The same variable name can be used in different functions without causing a conflict"
    },
    {
      "metadata": {
        "trusted": true
      },
      "cell_type": "code",
      "source": "# Compute the area of a square\ndef square_area (side):\n    # area is a local variable in square_area\n    # area does not conflict with the variable area in rectangle_area\n    area = side ** 2\n    print(\"square area =\", area)\n\n# Compute the area of a rectangle\ndef rectangle_area (length, width):\n    # area is a local variable in rectangle_area\n    # area does not conflict with the variable area in square_area\n    area = length * width\n    print(\"rectangle area =\", area)\n\n# Global scope\nsquare_area(2)\nrectangle_area(2, 3)",
      "execution_count": 4,
      "outputs": [
        {
          "output_type": "stream",
          "text": "square area = 4\nrectangle area = 6\n",
          "name": "stdout"
        }
      ]
    },
    {
      "metadata": {},
      "cell_type": "markdown",
      "source": "---\n<font size=\"6\" color=\"#B24C00\"  face=\"verdana\"> <B>Task 1</B></font>\n\n## Local Variables"
    },
    {
      "metadata": {},
      "cell_type": "markdown",
      "source": "### Fix the Errors\n\nReturn to the examples that generated errors and fix them so they function as expected."
    },
    {
      "metadata": {
        "trusted": true
      },
      "cell_type": "code",
      "source": "# [ ] Fix the program below so it displays the area of a square with a side = 2\n\n# Compute the area of a square\ndef square_area (side):\n    # area is a local variable in square_area\n    area = side ** 2\n    print(\"The area of a square is:\",area)\n\n# Global scope\nsquare_area(2)\n\n# area is not within scope anymore and cannot be\n# accessed from this global scope\n\n",
      "execution_count": 6,
      "outputs": [
        {
          "output_type": "stream",
          "text": "The area of a square is: 4\n",
          "name": "stdout"
        }
      ]
    },
    {
      "metadata": {
        "trusted": true
      },
      "cell_type": "code",
      "source": "# [ ] Fix the program below so it displays the area of a square with side = 2\n# and the volume of a cube with side = 2\nside = 2\n# Compute the area of a square\ndef square_area (side):\n    # area is a local variable in square_area\n    area = side ** 2\n    return area\n\n# Compute the volume of a cube\ndef cube_volume (side):\n    # cube volume = area of base X side\n    volume = square_area(side) * side # area is not defined within this scope\n    return volume\n\n# Global scop\n\n# area was deleted when the local scope of square_area was destroyed\nprint(square_area(2))\nprint(cube_volume(2))",
      "execution_count": 1,
      "outputs": [
        {
          "output_type": "stream",
          "text": "4\n8\n",
          "name": "stdout"
        }
      ]
    },
    {
      "metadata": {},
      "cell_type": "markdown",
      "source": "### Currency Converter\n\nThe same name for arguments and local variables can be used across different functions."
    },
    {
      "metadata": {
        "trusted": true
      },
      "cell_type": "code",
      "source": "# [ ] The program below converts US Dollars to Euros, British Pounds, and Japanese Yen\n# Complete the functions USD2EUR, USD2GBP, USD2JPY so they all return the correct value\n\ndef USD2EUR(amount):\n    value = float(amount)*0.831467\n    \"\"\"\n    Convert amount from US Dollars to Euros.\n\n    Use 1 USD = 0.831467 EUR\n\n    args:\n        amount: US dollar amount (float)\n\n    returns:\n        value: the equivalent of amount in Euros (float)\n    \"\"\"\n    # TODO: Your code goes here\n    return value\n\n\ndef USD2GBP(amount):\n    value = float(amount) * 0.739472\n    \"\"\"\n    Convert amount from US Dollars to British Pounds.\n\n    Use 1 USD = 0.739472 GBP\n\n    args:\n        amount: US dollar amount (float)\n\n    returns:\n        value: the equivalent of amount in British Pounds (float)\n    \"\"\"\n    # TODO: Your code goes here\n    return value\n\n\ndef USD2JPY(amount):\n    value = float(amount) * 112.656\n    \"\"\"\n    Convert amount from US Dollars to Japanese Yen.\n\n    Use 1 USD = 112.656 JPY\n\n    args:\n        amount: US dollar amount (float)\n\n    returns:\n        value: the equivalent of amount in Japanese Yen (float)\n    \"\"\"\n    # TODO: Your code goes here\n    return value\n\n\ndef main():\n    amount = float(input(\"Enter amount in USD: $\"))\n\n    # In Euros\n    eur = USD2EUR(amount)\n\n    # In British Pounds\n    gbp = USD2GBP(amount)\n\n    # In Japanese Yen\n    jpy = USD2JPY(amount)\n\n    print(\"${:.2f} USD = {:.2f} EUR, {:.2f} GBP, {:.2f} JPY\".format(amount, eur, gbp, jpy))\n\n\nif __name__ == '__main__':\n    main()",
      "execution_count": 2,
      "outputs": [
        {
          "output_type": "stream",
          "name": "stdout",
          "text": "Enter amount in USD: $5\n$5.00 USD = 4.16 EUR, 3.70 GBP, 563.28 JPY\n"
        }
      ]
    },
    {
      "metadata": {},
      "cell_type": "markdown",
      "source": "---\n<font size=\"6\" color=\"#00A0B2\"  face=\"verdana\"> <B>Concepts</B></font>  \n\n## Isolated Local Scopes\n\n[![view video](https://iajupyterprodblobs.blob.core.windows.net/imagecontainer/common/play_video.png)](https://www.youtube.com/watch?v=tudi7H3BGNc)\n\nWhen a function calls a subfunction, the current variables within the function scope are stored in memory, and another temporary local scope is created to accommodate the subfunction variables. The temporary local scope is destroyed when the subfunction returns; at that point, the original local scope becomes active again."
    },
    {
      "metadata": {},
      "cell_type": "markdown",
      "source": "---\n<font size=\"6\" color=\"#00A0B2\"  face=\"verdana\"> <B>Examples</B></font>\n\nIn this example, the function `area_diff` computes the area difference between a rectangle and a square. The `area_diff` function calls `square_area` and `rectangle_area`. All three functions use a local variable named `area` without any conflict. As you can see, using the same variable name in all three functions does not create an issue.\n\nWhen `area_diff` calls `square_area`, the current local variables within `area_diff` are stored in a location in memory called the _stack_, then a new local scope is created with new variables for `square_area`. The local scope of `area_diff` is still alive; however, it's inaccessible until `square_area` returns. Both `area_diff` and `square_area` use the variable `area`; however, the two variables live in two different local scopes and cannot affect each other. After `square_area` returns, the local scope of `area_diff` becomes active again until calling `rectangle_area`, and the cycle repeats.\n\nIn summary, a variable called `area` is used in all three functions without any conflict. The content of the three variables are kept separate because they belong to three different local scopes."
    },
    {
      "metadata": {
        "trusted": true
      },
      "cell_type": "code",
      "source": "# Compute the area of a square\ndef square_area (side):\n    # area is a local variable in square_area\n    # area does not conflict with the variable area in rectangle_area or area_diff\n    area = side ** 2\n    return area\n\n# Compute the area of a rectangle\ndef rectangle_area (length, width):\n    # area is a local variable in rectangle_area\n    # area does not conflict with the variable area in square_aream or area_diff\n    area = length * width\n    return area\n\n# Compute the area difference between a square and a rectangle\ndef area_diff (side, length, width):\n    # square area\n    area1 = square_area(side) # defines area in its local scope\n    \n    # rectangle area\n    area2 = rectangle_area(length, width) # defines area in its local scope\n    \n    # area difference \n    area = area2 - area1 # area is local in area_diff local scope\n    \n    return area\n\n# Call the area_diff function\nprint(\"Area difference = \", area_diff(2, 2, 3))",
      "execution_count": 3,
      "outputs": [
        {
          "output_type": "stream",
          "text": "Area difference =  2\n",
          "name": "stdout"
        }
      ]
    },
    {
      "metadata": {},
      "cell_type": "markdown",
      "source": "---\n<font size=\"6\" color=\"#B24C00\"  face=\"verdana\"> <B>Task 2</B></font>\n\n## Isolated Local Scopes\n"
    },
    {
      "metadata": {},
      "cell_type": "markdown",
      "source": "### Currency Converter\nThe same variable name can be used across different functions, even when the functions call each other."
    },
    {
      "metadata": {
        "trusted": true
      },
      "cell_type": "code",
      "source": "# [ ] The program below converts US Dollars to British Pounds. However, the conversion rate is unknown\n# Complete the functions USD2EUR, EUR2GBP, and USD2GBP so they all return the correct value\n# You should use USD2EUR and EUR2GBP in USD2GBP, do not try to find out the conversion rate\n\ndef USD2EUR(amount):\n    value = float(amount) * 0.831467\n    \"\"\"\n    Convert amount from US Dollars to Euros.\n\n    Use 1 USD = 0.831467 EUR\n\n    args:\n        amount: US dollar amount (float)\n\n    returns:\n        value: the equivalent of amount in Euros (float)\n    \"\"\"\n    # TODO: Your code goes here\n    return float(value)\n\n\ndef EUR2GBP(amount):\n    amount1 = USD2EUR(amount)\n    value = amount1 * 0.889358\n    \"\"\"\n    Convert amount from Euros to British Pounds.\n\n    Use 1 EUR = 0.889358 GBP\n\n    args:\n        amount: Euros amount (float)\n\n    returns:\n        value: the equivalent of amount in GBP (float)\n    \"\"\"\n    # TODO: Your code goes here\n    return float(value)\n\n\ndef USD2GBP(amount):\n    amount2 =EUR2GBP(amount)\n    value = amount2\n    \"\"\"\n    Convert amount from US Dollars to British Pounds.\n\n    The conversion rate is unknown, you have to use USD2EUR and EUR2GBP\n\n    args:\n        amount: US dollar amount (float)\n\n    returns:\n        value: the equivalent of amount in British Pounds (float)\n    \"\"\"\n    # TODO: Your code goes here\n\n    return float(value)\n\n\ndef main():\n    amount = float(input(\"Enter amount in USD: $\"))\n\n    # In British Pounds\n    gbp = USD2GBP(amount)\n\n    print(\"${:.2f} USD = {:.2f} GBP\".format(amount, gbp))\n\n\nif __name__ == '__main__':\n    main()",
      "execution_count": 4,
      "outputs": [
        {
          "output_type": "stream",
          "name": "stdout",
          "text": "Enter amount in USD: $6\n$6.00 USD = 4.44 GBP\n"
        }
      ]
    },
    {
      "metadata": {},
      "cell_type": "markdown",
      "source": "---\n<font size=\"6\" color=\"#00A0B2\"  face=\"verdana\"> <B>Concepts</B></font>  \n\n\n## Global Variables\n\n[![view video](https://iajupyterprodblobs.blob.core.windows.net/imagecontainer/common/play_video.png)](https://www.youtube.com/watch?v=ek3vf_x732k)\n\nA global variable is assigned outside all functions and lives within the global scope of the module. It exists from the time of its assignment until the program ends. Global variables are visible to all functions within the module and can be used within their different local scopes. Additionally, global variables can be used by expressions in the global scope. The value of a global variable can be changed from the global scope, and can also be modified from a local scope using the `global` statement (i.e. `global x = 4`). If (`global`) was not used, a local variable would be defined instead, and any changes to this new variable will not affect the global variable that bears the same name.\n\nGlobal variables are highly discouraged because they make your code hard to understand and follow. Imagine that 20 functions written by different developers all change one global variable; tracking the functionality of the program will be very challenging. Global variables are covered in this lesson because some developers use them for very specialized applications when there are no alternatives. You can write very complicated Python scripts without using global variables. It is OK, however, to use constant global variables that are accessible from all functions but will not (and cannot) be changed.\n\nGenerally speaking:\n* Global variables are accessible from local scopes\n* Global variables can be changed from the global scope \n* Global variables can be changed  from a local scope using the `global` statement\n* If a local variable shares the same name with a global variable, changes in the local will not affect the global"
    },
    {
      "metadata": {},
      "cell_type": "markdown",
      "source": "---\n<font size=\"6\" color=\"#00A0B2\"  face=\"verdana\"> <B>Examples</B></font>\n\nIn the following examples, you will see how to define, read, and modify global variables."
    },
    {
      "metadata": {},
      "cell_type": "markdown",
      "source": "## Global Variables\n\n### Global variables are accessible from local scopes"
    },
    {
      "metadata": {},
      "cell_type": "markdown",
      "source": "#### Numeric variables"
    },
    {
      "metadata": {
        "trusted": true
      },
      "cell_type": "code",
      "source": "# Global variable\npi = 3.14\n\n# Compute the area of a circle\ndef circle_area (radius):\n    # pi is accessible from this local scope\n    area = pi * radius ** 2\n    return area\n\n# Global scope\na = circle_area(4)\nprint(\"circle area =\", a)",
      "execution_count": 1,
      "outputs": [
        {
          "output_type": "stream",
          "text": "circle area = 50.24\n",
          "name": "stdout"
        }
      ]
    },
    {
      "metadata": {},
      "cell_type": "markdown",
      "source": "#### String variables"
    },
    {
      "metadata": {
        "trusted": true
      },
      "cell_type": "code",
      "source": "# Global variable\nvowels = 'AaEeIiOoUiYy'\n\n# Count the number of vowels in a sentence\ndef count_vowels(sentence):\n    # vowels is accessible from this local scope\n    count = 0\n    for c in sentence:\n        if c in vowels:\n            count = count + 1\n    return count\n\n# Global scope\ns = 'Monty Python'\nprint('Number of vowels in \"{:s}\" = {:d}'.format(s, count_vowels(s)))",
      "execution_count": 2,
      "outputs": [
        {
          "output_type": "stream",
          "text": "Number of vowels in \"Monty Python\" = 4\n",
          "name": "stdout"
        }
      ]
    },
    {
      "metadata": {},
      "cell_type": "markdown",
      "source": "### Global variables can be changed from a local scope\nWhen the value of a global variable is changed from a local scope, it stays changed even after the local scope has been destroyed."
    },
    {
      "metadata": {},
      "cell_type": "markdown",
      "source": "#### Numeric variables"
    },
    {
      "metadata": {
        "trusted": true
      },
      "cell_type": "code",
      "source": "# Global variable\npi = 3.14\n\n# Compute the area of a circle\ndef circle_area (radius):\n    # Define pi as a global variable in this scope\n    global pi \n    pi = 3.14159265359 # More accurate pi\n    area = pi * radius ** 2\n    return area\n\n# Global scope\nprint(\"pi =\", pi)\na = circle_area(4)\nprint(\"More accurate circle area =\", a)\nprint(\"Updated pi =\", pi) # Global variable pi changed in circle_area",
      "execution_count": 3,
      "outputs": [
        {
          "output_type": "stream",
          "text": "pi = 3.14\nMore accurate circle area = 50.26548245744\nUpdated pi = 3.14159265359\n",
          "name": "stdout"
        }
      ]
    },
    {
      "metadata": {},
      "cell_type": "markdown",
      "source": "#### String variables"
    },
    {
      "metadata": {
        "trusted": true
      },
      "cell_type": "code",
      "source": "# String global variable\nplanet = 'Mercury'\n\n# function to change the current planet\ndef planet_change(new_planet):\n    # Define planet as a global variable in this scope\n    global planet\n    planet = new_planet\n   \n# Global scope\nprint(\"Planet =\", planet)\nplanet_change('Mars')\nprint(\"Planet =\", planet)",
      "execution_count": 2,
      "outputs": [
        {
          "output_type": "stream",
          "text": "Planet = Mercury\nPlanet = Mars\n",
          "name": "stdout"
        }
      ]
    },
    {
      "metadata": {},
      "cell_type": "markdown",
      "source": "### Assigning a value to a global variable in a local scope without `global`\nChanges to a local variable sharing the same name as a global variable are not reflected in the global variable."
    },
    {
      "metadata": {},
      "cell_type": "markdown",
      "source": "#### Numeric variables"
    },
    {
      "metadata": {
        "trusted": true
      },
      "cell_type": "code",
      "source": "# Global variable\npi = 3.14\n\n# Compute the area of a circle\ndef circle_area (radius):\n    # Assigning a value to pi without (global) makes it a local variable\n    pi = 3.14159265359 # more accurate pi\n    area = pi * radius ** 2\n    return area\n\n# Global scope\nprint(\"pi =\", pi)\na = circle_area(4)\nprint(\"More accurate circle area =\", a)\nprint(\"Unchanged pi =\", pi) # Global pi didn't change",
      "execution_count": 5,
      "outputs": [
        {
          "output_type": "stream",
          "text": "pi = 3.14\nMore accurate circle area = 50.26548245744\nUnchanged pi = 3.14\n",
          "name": "stdout"
        }
      ]
    },
    {
      "metadata": {},
      "cell_type": "markdown",
      "source": "#### String variables"
    },
    {
      "metadata": {
        "trusted": true
      },
      "cell_type": "code",
      "source": "# String global variable\nplanet = 'Mercury'\n\n# Function to change the current planet\ndef planet_change(new_planet):\n    planet = new_planet # planet is a local variable\n   \n# Global scope\nprint(\"Planet = \", planet)\nplanet_change('Mars')\nprint(\"Planet = \", planet)",
      "execution_count": 6,
      "outputs": [
        {
          "output_type": "stream",
          "text": "Planet =  Mercury\nPlanet =  Mercury\n",
          "name": "stdout"
        }
      ]
    },
    {
      "metadata": {},
      "cell_type": "markdown",
      "source": "### Global variables can be changed from the global scope"
    },
    {
      "metadata": {},
      "cell_type": "markdown",
      "source": "#### Numeric variables"
    },
    {
      "metadata": {
        "trusted": true
      },
      "cell_type": "code",
      "source": "# Global variable\npi = 3.14\n\n# Compute the area of a circle\ndef circle_area (radius):\n    # pi is accessible from this local scope\n    area = pi * radius ** 2\n    return area\n\n# Global scope\n# pi is changed before it is used in circle_area\npi = 0\na = circle_area(4)\nprint(\"pi =\", pi)\nprint(\"Wrong circle area =\", a)\n",
      "execution_count": 7,
      "outputs": [
        {
          "output_type": "stream",
          "text": "pi = 0\nWrong circle area = 0\n",
          "name": "stdout"
        }
      ]
    },
    {
      "metadata": {},
      "cell_type": "markdown",
      "source": "#### String variables"
    },
    {
      "metadata": {
        "trusted": true
      },
      "cell_type": "code",
      "source": "# String global variable\nplanet = 'Mercury'\n\n# Function to change the current planet\ndef planet_change(new_planet):\n    planet = new_planet # planet is a local variable\n   \nprint(\"Planet = \", planet)\nplanet_change('Mars')\nprint(\"Planet = \", planet) # Global variable (planet) did not change\nplanet = \"Earth\" # Changing global variable (planet)\nprint(\"Planet = \", planet)",
      "execution_count": 8,
      "outputs": [
        {
          "output_type": "stream",
          "text": "Planet =  Mercury\nPlanet =  Mercury\nPlanet =  Earth\n",
          "name": "stdout"
        }
      ]
    },
    {
      "metadata": {},
      "cell_type": "markdown",
      "source": "---\n<font size=\"6\" color=\"#B24C00\"  face=\"verdana\"> <B>Task 3</B></font>\n\n## Global Variables"
    },
    {
      "metadata": {},
      "cell_type": "markdown",
      "source": "### Currency Converter"
    },
    {
      "metadata": {
        "trusted": true
      },
      "cell_type": "code",
      "source": "# [ ] The following program converts an amount from US Dollars to Indian Rupees using the XCHANGE_RATE variable\n# Complete the function USD2INR so it performs the conversion\n\nXCHANGE_RATE = 63.6856 # = 1 USD\n\ndef USD2INR(amount):\n    value = float(amount) * XCHANGE_RATE\n    \"\"\"\n    Convert amount from US Dollars to Indian Rupees.\n    \n    Use XCHANGE_RATE\n    \n    args:\n        amount: US dollar amount (float)\n        \n    returns:\n        value: the equivalent of amount in Indian Rupees (float)\n    \"\"\"\n    #TODO: Your code goes here\n    return float(value)\n\nprint(\"Current exchange rate $1 USD = {} INR\".format(XCHANGE_RATE))\namount = 220 #USD\ninr = USD2INR(amount)\nprint(\"${} = {}\".format(amount, inr))\n\n\n",
      "execution_count": 11,
      "outputs": [
        {
          "output_type": "stream",
          "text": "Current exchange rate $1 USD = 63.6856 INR\n$220 = 14010.832\n",
          "name": "stdout"
        }
      ]
    },
    {
      "metadata": {
        "trusted": true
      },
      "cell_type": "code",
      "source": "# [ ] The following program calculates the equivalent of $220 USD in Indian Rupees,\n# then updates the exchange rate and performs the conversion again\n# Complete the functions USD2INR and change_rate so they function according to the specifications below\n\nXCHANGE_RATE = 63.6856  # = 1 USD\n\n\ndef USD2INR(amount):\n    value = amount * XCHANGE_RATE\n    \"\"\"\n    Convert amount from US Dollars to Indian Rupees.\n\n    Use XCHANGE_RATE\n\n    args:\n        amount: US dollar amount (float)\n\n    returns:\n        value: the equivalent of amount in Indian Rupees (float)\n    \"\"\"\n    # TODO: Your code goes here\n    return value\n\n\ndef change_rate():\n    global XCHANGE_RATE\n    XCHANGE_RATE = 63.6782\n    \"\"\"\n    Change the exchange rate to 63.6782\n\n    args:\n        None\n\n    returns:\n        None\n    \"\"\"\n    # TODO: Your code goes here\n\n\nprint(\"Current exchange rate $1 USD = {} INR\".format(XCHANGE_RATE))\namount = 220  # USD\ninr = USD2INR(amount)\nprint(\"${} = {}\".format(amount, inr))\n\nprint()\nchange_rate()\nprint(\"After changing the exchange rate $1 USD = {} INR\".format(XCHANGE_RATE))\ninr = USD2INR(amount)\nprint(\"${} = {}\".format(amount, inr))",
      "execution_count": null,
      "outputs": []
    },
    {
      "metadata": {},
      "cell_type": "markdown",
      "source": "### Flip"
    },
    {
      "metadata": {
        "trusted": true
      },
      "cell_type": "code",
      "source": "# [ ] In the following program, the function `flip()` is designed to reverse the order of the elements in NUMBERS\n# Fix the `UnboundLocalError` exception without changing the expression (NUMBERS = NUMBERS[-1:0:-1])\n\nNUMBERS = [1, 2, 3, 4, 5, 6]\ndef flip():\n    global NUMBERS\n    NUMBERS = NUMBERS[-1:0:-1]\n\nprint(\"Before flipping, NUMBERS =\", NUMBERS)\nflip()\nprint(\"After flipping, NUMBERS =\", NUMBERS)",
      "execution_count": 14,
      "outputs": [
        {
          "output_type": "stream",
          "text": "Before flipping, NUMBERS = [1, 2, 3, 4, 5, 6]\nAfter flipping, NUMBERS = [6, 5, 4, 3, 2]\n",
          "name": "stdout"
        }
      ]
    }
  ],
  "metadata": {
    "kernelspec": {
      "name": "python36",
      "display_name": "Python 3.6",
      "language": "python"
    },
    "language_info": {
      "mimetype": "text/x-python",
      "nbconvert_exporter": "python",
      "name": "python",
      "pygments_lexer": "ipython3",
      "version": "3.6.6",
      "file_extension": ".py",
      "codemirror_mode": {
        "version": 3,
        "name": "ipython"
      }
    }
  },
  "nbformat": 4,
  "nbformat_minor": 2
}