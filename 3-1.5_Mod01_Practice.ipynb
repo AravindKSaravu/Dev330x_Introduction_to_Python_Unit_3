{
  "cells": [
    {
      "metadata": {},
      "cell_type": "markdown",
      "source": "# Module 1 Practice\n\n### Students will be able to:\n\n## 3-1.1 Using Python Modules\n* Import different Python modules\n* Compute mathematical expressions using functions from the math module\n* Recognize the effect of operator precedence\n* Round real numbers into the nearest integer\n* Generate (pseudo-)random integers\n* Select a random element from a list\n* Shuffle the elements of a list\n\n##  3-1.2 Working with Date and Time\n* Assign and modify a time object (variable)\n* Assign and modify a date object (variable)\n* Get the current local date\n* Assign and modify a datetime object (variable)\n* Split a datetime object into separate time and date objects\n* Combine time and date objects into datetime objects\n* Display a datetime object as a formatted string\n\n## 3-1.3 Date and Time Arithmetic\n\n* Create timedelta objects\n* Use timedelta objects to perform date arithmetic\n* Compare two datetime objects\n* Build a useful application using timedelta arithmetic\n\n## 3-1.4 File System\n\n* Identify the platform running a Python script ('Linux', 'win32', 'Darwin')\n* Get the current working directory\n* Change the current working directory\n* List the content of the current working directory\n* Create a new directory\n* Remove a directory\n* Rename files and/or directories\n* Recognize the difference between a relative path and an absolute path\n* Test if a path exists\n* Test if a specific file or directory exists"
    },
    {
      "metadata": {},
      "cell_type": "markdown",
      "source": "---\n<font size=\"6\" color=\"#B24C00\"  face=\"verdana\"> <B>Task 1</B></font>\n\n## `math` module\n"
    },
    {
      "metadata": {
        "trusted": true
      },
      "cell_type": "code",
      "source": "# [ ] Use the math module to display an accurate value for pi\nfrom math import pi\nprint(pi)",
      "execution_count": 2,
      "outputs": [
        {
          "output_type": "stream",
          "text": "3.141592653589793\n",
          "name": "stdout"
        }
      ]
    },
    {
      "metadata": {
        "trusted": true
      },
      "cell_type": "code",
      "source": "# [ ] Write a program to:\n# 1) find all the numbers in a list that are divisible by 3\n# 2) display the square root of these numbers\n# 3) use a rounding function to display the square roots while ignoring the decimal fraction\nfrom math import sqrt\nlist = [23, 45, 65, 2345, 42, 76, 37, 87, 647, 35, 37 ,39, 898, 92, 18]\nfor a in list:\n    if a % 3 == 0:\n        print(round(sqrt(a)))\n    else:\n        pass",
      "execution_count": 1,
      "outputs": [
        {
          "output_type": "stream",
          "text": "7\n6\n9\n6\n4\n",
          "name": "stdout"
        }
      ]
    },
    {
      "metadata": {},
      "cell_type": "markdown",
      "source": "---\n<font size=\"6\" color=\"#B24C00\"  face=\"verdana\"> <B>Task 2</B></font>\n\n## Mathematical operators\n"
    },
    {
      "metadata": {},
      "cell_type": "markdown",
      "source": "### Coin calculators\n\nIn the following exercises, you will develop functions to count the number of coins in a certain dollar amount. You will then use these functions to write a program that can calculate the change due to a customer in coins."
    },
    {
      "metadata": {},
      "cell_type": "markdown",
      "source": "#### Quarters"
    },
    {
      "metadata": {
        "trusted": true
      },
      "cell_type": "code",
      "source": "def quarters_count(input_cents):\n    print(input_cents // 25)\n    return input_cents % 25\n\n# test with $2\n# Output should be: 8 quarter\\s\ndollars = 2\ntotal_cents = dollars * 100\nremaining_cents = quarters_count(total_cents)\nprint(remaining_cents)\n\n# test with $5.30\n# Output should be: 21.0 quarter\\s\ndollars = 5.30\ntotal_cents = dollars * 100\nremaining_cents = quarters_count(total_cents)\nprint(remaining_cents)\n\n# test with $9.49\n# Output should be: 37.0 quarter\\s\ndollars = 9.49\ntotal_cents = dollars * 100\nremaining_cents = quarters_count(total_cents)\nprint(remaining_cents)",
      "execution_count": 1,
      "outputs": [
        {
          "output_type": "stream",
          "text": "8\n0\n21.0\n5.0\n37.0\n24.0\n",
          "name": "stdout"
        }
      ]
    },
    {
      "metadata": {},
      "cell_type": "markdown",
      "source": "#### Dimes"
    },
    {
      "metadata": {
        "trusted": true
      },
      "cell_type": "code",
      "source": "def dimes_count(input_cents):\n    print(input_cents // 10)\n    return input_cents % 10\n\n# test with $2\n# Output should be: 20 dime\\s\ndollars = 2\ntotal_cents = dollars * 100\nremaining_cents = dimes_count(total_cents)\n\n# test with $5.30\n# Output should be: 53.0 dime\\s\ndollars = 5.30\ntotal_cents = dollars * 100\nremaining_cents = dimes_count(total_cents)\n\n# test with $9.49\n# Output should be: 94.0 dime\\s\ndollars = 9.49\ntotal_cents = dollars * 100\nremaining_cents = dimes_count(total_cents)",
      "execution_count": 2,
      "outputs": [
        {
          "output_type": "stream",
          "text": "20\n53.0\n94.0\n",
          "name": "stdout"
        }
      ]
    },
    {
      "metadata": {},
      "cell_type": "markdown",
      "source": "#### Nickels"
    },
    {
      "metadata": {
        "trusted": true
      },
      "cell_type": "code",
      "source": "def nickels_count(input_cents):\n    print(input_cents // 5)\n    return input_cents % 5\n\n# test with $2\n# Output should be: 40 nickel\\s\ndollars = 2\ntotal_cents = dollars * 100\nremaining_cents = nickels_count(total_cents)\n\n# test with $5.30\n# Output should be: 106.0 nickel\\s\ndollars = 5.30\ntotal_cents = dollars * 100\nremaining_cents = nickels_count(total_cents)\n\n# test with $9.49\n# Output should be: 189.0 nickel\\s\ndollars = 9.49\ntotal_cents = dollars * 100\nremaining_cents = nickels_count(total_cents)",
      "execution_count": 3,
      "outputs": [
        {
          "output_type": "stream",
          "text": "40\n106.0\n189.0\n",
          "name": "stdout"
        }
      ]
    },
    {
      "metadata": {},
      "cell_type": "markdown",
      "source": "#### Change calculator"
    },
    {
      "metadata": {
        "trusted": true
      },
      "cell_type": "code",
      "source": "# [ ] Complete the function `coins_due` to calculate and print the change due to a customer in coins\n#\n# The function `coins_due` has 2 inputs:\n#      - `amount_paid`: Amount paid by a customer (in cents)\n#      - `item_price`: Purchase price of an item\n#\n# The function should print:\n#      - The number of quarters due\n#      - The number of dimes due\n#      - The number of nickels due\n#      - The number of cents due\n#      \n# The function does not need to return anything\n#\n# HINT: Use the functions you developed before `quarters_count`, `dimes_count`, `nickels_count`\n\n\ndef quarters_count(input_cents):\n    #TODO\n    print(input_cents // 25,\"quarter\\s\")\n    return input_cents % 25\ndef dimes_count(input_cents):\n    #TODO\n    print(input_cents // 10,\"dime\\s\")\n    return input_cents % 10\ndef nickels_count(input_cents):\n    #TODO\n    print(input_cents // 5,\"nickel\\s\")\n    return input_cents % 5\ndef coins_due(amount_paid, item_price):\n    print(\"Change due:\")\n    changeCents = amount_paid - item_price\n    print(nickels_count(dimes_count(quarters_count(changeCents))),'cent\\s')\n\n# Test case:\n# amount paid = $10, item price = $5.37\n# Output should be: \n#    Change due:\n#    18.0 quarter\\s\n#    1.0 dime\\s\n#    0.0 nickel\\s\n#    3.0 cent\\s\n\namount_paid = 10 * 100 # in cents\nitem_price = 5.37 * 100 # in cents\ncoins_due(amount_paid, item_price)",
      "execution_count": 5,
      "outputs": [
        {
          "output_type": "stream",
          "text": "Change due:\n18.0 quarter\\s\n1.0 dime\\s\n0.0 nickel\\s\n3.0 cent\\s\n",
          "name": "stdout"
        }
      ]
    },
    {
      "metadata": {},
      "cell_type": "markdown",
      "source": "---\n<font size=\"6\" color=\"#B24C00\"  face=\"verdana\"> <B>Task 3</B></font>\n\n## Random numbers\n"
    },
    {
      "metadata": {},
      "cell_type": "markdown",
      "source": "### Probability of a die roll\n\nIt is possible to mathematically predict the probability (or chance) of getting a certain die roll; however, in this exercise you will use Python to do it without math. The trick is to roll a die a large number of times and count how many times we get a certain roll. You can, then, divide the count by the large number to get the probability. For a fair 6-sided die, the chance of getting any of its faces is about 16.6%"
    },
    {
      "metadata": {
        "trusted": true
      },
      "cell_type": "code",
      "source": "# [ ] Complete the following program to display the probability of a certain die roll\n\nfrom random import randint\n\ndef die_roller ():\n    return(randint(1, 6))\ncount3 = 0\nfor i in range(0,1000):\n    if die_roller() == 3:\n        count3 +=1\nprint(\"Probabality of a number occcuring is:\",count3/10)",
      "execution_count": 15,
      "outputs": [
        {
          "output_type": "stream",
          "text": "Probabality of a number occcuring is: 17.6\n",
          "name": "stdout"
        }
      ]
    },
    {
      "metadata": {
        "trusted": true
      },
      "cell_type": "code",
      "source": "from random import randint\ndef die_roller ():\n    return(randint(1, 6))\n\ncount6 = 0\nfor i in range(0,1000):\n    if die_roller() == 6:\n        count6 += 1\nprint('probability of rolling 6:',count6/10)",
      "execution_count": 19,
      "outputs": [
        {
          "output_type": "stream",
          "text": "probability of rolling 6: 18.2\n",
          "name": "stdout"
        }
      ]
    },
    {
      "metadata": {},
      "cell_type": "markdown",
      "source": "### Roll till you get 11\n\nIn this exercise, you will count the number of times you need to roll a set of 2 dice till you get a roll sum of 11."
    },
    {
      "metadata": {
        "collapsed": true,
        "trusted": false
      },
      "cell_type": "code",
      "source": "# [ ] Complete the following program so you can count the number of times needed to get a roll sum of 11\n\nfrom random import randint\n\ndef die_roller():\n    return(randint(1, 6))\n\ndef roll_sum():\n    return die_roller() + die_roller()\n\n#TODO\n\ncount = 0\nwhile True:\n    count+=1\n    if roll_sum() == 11:\n        break\nprint(count)",
      "execution_count": null,
      "outputs": []
    },
    {
      "metadata": {},
      "cell_type": "markdown",
      "source": "### Pick a candy\n\nIn this exercise, you will write a program to randomly select a candy from a box."
    },
    {
      "metadata": {
        "collapsed": true,
        "trusted": false
      },
      "cell_type": "code",
      "source": "# [ ] Complete the function `pick_candy` so it returns a candy from box at random\nimport random\ndef pick_candy():\n    box = [\"Taffy\", \"Brownie\", \"Cookie\", \"Candy bar\", \"Chocolate\", \"Lollipop\", \"Gingerbread\", \"Marshmallow\"]\n    #TODO\n    a = random.choice(box)\n    print(a)\npick_candy()",
      "execution_count": null,
      "outputs": []
    },
    {
      "metadata": {},
      "cell_type": "markdown",
      "source": "### Shuffle a sorted list"
    },
    {
      "metadata": {
        "collapsed": true,
        "trusted": false
      },
      "cell_type": "code",
      "source": "# [ ] Write a program to shuffle the following sorted list\nimport random\nlst = [3, 5, 9, 29, 35, 59, 62, 69, 102, 394, 594, 1993]\nrandom.shuffle(lst)\n#TODO\nprint(lst)",
      "execution_count": null,
      "outputs": []
    },
    {
      "metadata": {},
      "cell_type": "markdown",
      "source": "---\n<font size=\"6\" color=\"#B24C00\"  face=\"verdana\"> <B>Task 4</B></font>\n\n## Working with date and time\n"
    },
    {
      "metadata": {},
      "cell_type": "markdown",
      "source": "### Current date and time"
    },
    {
      "metadata": {
        "trusted": true
      },
      "cell_type": "code",
      "source": "# [ ] Write a program that displays the current time as (HH:MM AM/PM) (example 02:28 PM)\nfrom datetime import time,datetime\ndt = datetime.today()\nprint(dt.time().strftime('%H:%M %p'))",
      "execution_count": 32,
      "outputs": [
        {
          "output_type": "stream",
          "text": "05:33 AM\n",
          "name": "stdout"
        }
      ]
    },
    {
      "metadata": {
        "trusted": true
      },
      "cell_type": "code",
      "source": "# [ ] Write a program that displays the current time as (HH:MM:SS) (example 14:28:10)\nfrom datetime import time,datetime\ndt = datetime.today()\nprint(dt.time().strftime('%H:%M:%S %p'))",
      "execution_count": 33,
      "outputs": [
        {
          "output_type": "stream",
          "text": "05:33:32 AM\n",
          "name": "stdout"
        }
      ]
    },
    {
      "metadata": {
        "trusted": true
      },
      "cell_type": "code",
      "source": "# [ ] Write a program that displays the current date as (Friday, December 15, 2017)\nfrom datetime import datetime,time\ndt = datetime.today()\nd = dt.date()\nprint(d.strftime('%A, %B %d, %Y'))",
      "execution_count": 35,
      "outputs": [
        {
          "output_type": "stream",
          "text": "Tuesday, November 05, 2019\n",
          "name": "stdout"
        }
      ]
    },
    {
      "metadata": {},
      "cell_type": "markdown",
      "source": "### American VS European date format\n\nIn the United States, the date is formatted as Month/Day/Year; whereas, in Europe the date is formatted as Day/Month/Year. In this exercise, you will write two functions that will display a `datetime` object in the American or European format."
    },
    {
      "metadata": {
        "trusted": true
      },
      "cell_type": "code",
      "source": "# [ ] Complete the functions `american_format(d)` and `european_format(d)` to display the datetime object d in the proper format\n\nfrom datetime import datetime\n\n\ndef american_format(d):\n    return d.strftime('%m/%d/%Y')\n# TODO\n\ndef european_format(d):\n    return d.strftime('%d/%m/%Y')\n# TODO\n\n# test\nd = datetime(month=2, year=2012, day=13)\n\nprint(\"American format:\", american_format(d))\nprint(\"European format:\", european_format(d))",
      "execution_count": 36,
      "outputs": [
        {
          "output_type": "stream",
          "text": "American format: 02/13/2012\nEuropean format: 13/02/2012\n",
          "name": "stdout"
        }
      ]
    },
    {
      "metadata": {},
      "cell_type": "markdown",
      "source": "### Birthday days"
    },
    {
      "metadata": {
        "trusted": true
      },
      "cell_type": "code",
      "source": "# [ ] Write a program to display a list of all your birthdays from the day you were born till 2025.\n# You should also show the weekdays so you can see which of them was (or will be) on a weekend\nfrom datetime import date\n\nfor i in range (2005, 2026):\n    print(date(i,5,3).strftime('%A, %B %d, %Y'))\n",
      "execution_count": 39,
      "outputs": [
        {
          "output_type": "stream",
          "text": "Tuesday, May 03, 2005\nWednesday, May 03, 2006\nThursday, May 03, 2007\nSaturday, May 03, 2008\nSunday, May 03, 2009\nMonday, May 03, 2010\nTuesday, May 03, 2011\nThursday, May 03, 2012\nFriday, May 03, 2013\nSaturday, May 03, 2014\nSunday, May 03, 2015\nTuesday, May 03, 2016\nWednesday, May 03, 2017\nThursday, May 03, 2018\nFriday, May 03, 2019\nSunday, May 03, 2020\nMonday, May 03, 2021\nTuesday, May 03, 2022\nWednesday, May 03, 2023\nFriday, May 03, 2024\nSaturday, May 03, 2025\n",
          "name": "stdout"
        }
      ]
    },
    {
      "metadata": {},
      "cell_type": "markdown",
      "source": "---\n<font size=\"6\" color=\"#B24C00\"  face=\"verdana\"> <B>Task 5</B></font>\n\n## Date and Time Arithmetic\n"
    },
    {
      "metadata": {},
      "cell_type": "markdown",
      "source": "### `timedelta`"
    },
    {
      "metadata": {
        "trusted": true
      },
      "cell_type": "code",
      "source": "# Write a program to find out how many minutes are in a 4-week period\n# Hint: Use a timedelta object and the total_seconds() method\nfrom datetime import timedelta\n\nprint(timedelta(weeks = 4).total_seconds())\n",
      "execution_count": 40,
      "outputs": [
        {
          "output_type": "stream",
          "text": "2419200.0\n",
          "name": "stdout"
        }
      ]
    },
    {
      "metadata": {},
      "cell_type": "markdown",
      "source": "### Date arithmetic"
    },
    {
      "metadata": {
        "trusted": true
      },
      "cell_type": "code",
      "source": "# [ ] Write a program to compute the number of days remaining in the current year\nfrom datetime import date\nprint(date(2019,12,31) - date.today())\n",
      "execution_count": 41,
      "outputs": [
        {
          "output_type": "stream",
          "text": "56 days, 0:00:00\n",
          "name": "stdout"
        }
      ]
    },
    {
      "metadata": {},
      "cell_type": "markdown",
      "source": "### Comparing `datetime` objects"
    },
    {
      "metadata": {
        "trusted": true
      },
      "cell_type": "code",
      "source": "# [ ] Complete the program below to find out if July 4th is within 10 days of today's date,\n# if it is, find out if has passed or not\n\n\nfrom datetime import datetime\n\n# get today's date\ntodays_date = datetime.today()\n\n# 4th of July of current year\njuly_4th = datetime(month = 7, day = 4, year = todays_date.year)\n\ndays_difference = todays_date - july_4th\n\n#TODO\n\nif days_difference.days <= 10:\n    if days_difference.days > 0:\n        print('July 4th is withing 10 days range and it has already passed')\n    else:\n        print('July 4th is withing 10 days range and not yet passed')    \nelse:\n    print('July 4th is not within 10 days')\n        \n\n#TODO\n    \n    \n",
      "execution_count": 2,
      "outputs": [
        {
          "output_type": "stream",
          "text": "July 4th is not within 10 days\n",
          "name": "stdout"
        }
      ]
    },
    {
      "metadata": {},
      "cell_type": "markdown",
      "source": "---\n<font size=\"6\" color=\"#B24C00\"  face=\"verdana\"> <B>Task 6</B></font>\n\n## File System\n"
    },
    {
      "metadata": {},
      "cell_type": "markdown",
      "source": "### Directory operations"
    },
    {
      "metadata": {
        "trusted": true
      },
      "cell_type": "code",
      "source": "# [ ] Complete the following program to:\n# 1) navigate to `parent_dir` directory (if not already in it)\n# 2) create a new directory called `practice_1`\n# 3) change the working directory to `practice_1`\n# 4) display the current working directory to verify you are in the correct location\n# 5) create a new directory called `practice_2`\n# 6) verify that `practice_2` was created by listing the content of the current directory\n# 7) rename `practice_2` as `sub_practice_2`\n# 8) verify the name was successful changed by listing the content of the current directory\n# 9) remove `sub_practice_2`\n# 10) change working directory to the parent directory using `..`\n# 11) remove `practice_1`\n# 12) verify your current working directory and display its content\n\nimport os, os.path\n\n# 1) navigate to `parent_dir` directory (if not already in it)\nif('parent_dir' not in os.getcwd()):\n    # Changing the current working directory to parent dir\n    print(\"Changing working dir to parent_dir\")\n    os.chdir('parent_dir')\n    print(\"Current working directory:\", os.getcwd())\n\n# 2) create a new directory called `practice_1`\n#TODO\nos.mkdir('practice_1')\n# 3) change the working directory to `practice_1`\n#TODO\nos.chdir('practice_1')\n\n# 4) display the current working directory to verify you are in the correct location\n#TODO\nprint(\"Current working directory:\", os.getcwd())\n# 5) create a new directory called `practice_2`\n#TODO\nos.mkdir('practice_2')\n\n# 6) verify that `practice_2` was created by listing the content of the current directory\n#TODO\nos.listdir()\n# 7) rename `practice_2` as `sub_practice_2`\n#TODO\nos.rename('practice_2','sub_practice_2')\n\n# 8) verify the name was successful changed by listing the content of the current directory\n#TODO\nos.listdir()\n# 9) remove `sub_practice_2`\n#TODO\nos.rmdir('sub_practice_2')\n\n# 10) change working directory to the parent directory using `..`\n#TODO\nos.chdir('..')\n\n# 11) remove `practice_1`\n#TODO\nos.rmdir('practice_1')\n\n# 12) verify your current working directory and display its content\n#TODO\nprint(\"Current working directory:\", os.getcwd())\nos.listdir()",
      "execution_count": 6,
      "outputs": [
        {
          "output_type": "stream",
          "text": "Current working directory: /home/nbuser/library/parent_dir/practice_1/practice_1/practice_1/practice_1\nCurrent working directory: /home/nbuser/library/parent_dir/practice_1/practice_1/practice_1\n",
          "name": "stdout"
        },
        {
          "output_type": "execute_result",
          "execution_count": 6,
          "data": {
            "text/plain": "['sub_practice_2']"
          },
          "metadata": {}
        }
      ]
    },
    {
      "metadata": {},
      "cell_type": "markdown",
      "source": "### Path operations"
    },
    {
      "metadata": {
        "trusted": true
      },
      "cell_type": "code",
      "source": "# [ ] Write a program that prompts the user for a file or directory name\n# if it exists in the current working directory, it prints whether it is a file or directory\nimport os\nfile_dir = input(\"Give in an file or directory name:\")\nif os.path.exists(file_dir):\n    if os.path.isfile(file_dir):\n        print(file_dir,\"is a file and it exist\")\n    else:\n        print(file_dir,\"is a directory and it exist\")\nelse:\n    print(\"It doesn't exist!\")",
      "execution_count": 20,
      "outputs": [
        {
          "output_type": "stream",
          "name": "stdout",
          "text": "Give in an file or directory name:data\nIt doesn't exist!\n"
        }
      ]
    },
    {
      "metadata": {},
      "cell_type": "markdown",
      "source": "---\n<font size=\"6\" color=\"#B24C00\"  face=\"verdana\"> <B>Module 1 Project</B></font>\n\n## Directory creator\n\n"
    },
    {
      "metadata": {
        "trusted": true
      },
      "cell_type": "code",
      "source": "import os, math, random\nfrom datetime import datetime\n\n\ndef directory_count():\n    \"\"\"\n    Calculate the number of directories to be generated.\n\n    I) Get the current minute using appropriate functionality from `datetime`\n    II) Take the square root of ..the current minute + 15\n    III) Round the square root to an integer\n    VI) return the rounded number as the number of directories to be created\n\n    args:\n          NONE\n\n    returns:\n         `dir_count`: number of directories to be created\n    \"\"\"\n    return math.trunc(math.sqrt(datetime.today().minute))\n\n\ndef name_generator():\n    \"\"\"\n    Generate a single directory name using the pattern (MM_DD_YY_randnum).\n\n    args:\n         NONE\n\n    returns:\n         `dir_name`: string containing a valid directory name\n    \"\"\"\n    return datetime.today().strftime('%m_%d_%y_') + str(random.randint(10000, 50000))\n\n\ndef directory_creator(name):\n    \"\"\"\n    Create a single directory called `name` in the current working directory.\n\n    args:\n         name: directory to be created\n\n    returns:\n         NONE\n    \"\"\"\n    os.mkdir(name)\n\n\ndef create():\n    \"\"\"\n    Generate the necessary directories.\n\n    Use `directory_count` to calculate the number of directories, then use `directory_creator` and `name_generator`.\n\n    args:\n         NONE\n\n    returns:\n         NONE\n    \"\"\"\n    dir_count = directory_count()\n    for i in range(dir_count):\n        directory_creator(name_generator())\n\n\n# Change working directory to `parent_dir` or `create`\nif (\"parent_dir\" not in os.getcwd()):\n    if os.path.exists(\"./parent_dir\"):\n        print(\"Changing working dir to parent_dir\")\n        os.chdir(\"parent_dir\")\n    else:\n        os.mkdir(os.getcwd() + \"./parent_dir\")\n        print(\"Changing working dir to parent_dir\")\n        os.chdir(\"parent_dir\")\nelse:\n    # so the code can run multiple times\n    # while directory not ending with 'parent_dir' move up the path ..\\\n    while \"parent_dir\" not in os.getcwd()[-11:]:\n        # move up in dir to find 'parent_dir'\n        os.chdir(\"..\")\n        print(\"moved up\", os.getcwd())\n\n# print the current working directory (should be \"parent_dir\")\nprint(\"The current working directory is:\", os.getcwd())\n\n# check for randoms_directory if not present, create new\nif os.path.exists(os.getcwd() + \"/randoms_directory\") != True:\n    os.mkdir(\"randoms_directory\")\n\n# change the current working directory to randoms_directory\nprint(\"Changing working dir to randoms_directory\")\nos.chdir(\"randoms_directory\")\n# print the current working directory (should be \"randoms_dir\")\nprint(\"The current working directory is:\", os.getcwd())\n\n# create directories inside \"randoms_directory\"\ncreate()\n\n# list the content of the current directory\nprint(\"Current directory content:\", os.listdir())",
      "execution_count": 38,
      "outputs": [
        {
          "output_type": "stream",
          "text": "moved up /home/nbuser/library/parent_dir\nThe current working directory is: /home/nbuser/library/parent_dir\nChanging working dir to randoms_directory\nThe current working directory is: /home/nbuser/library/parent_dir/randoms_directory\nCurrent directory content: ['11_06_19_30294', '11_06_2019_40226', '11_06_19_47349', '11_06_2019_12365', '11_06_2019_48183', '11_06_19_24666', '11_06_19_38263', '11_06_2019_21071', '11_06_2019_14537', '11_06_19_35477', '11_06_19_44765', '11_06_19_31964', '11_06_19_29140', '11_06_2019_17162', '11_06_2019_46634', '11_06_19_25413', '11_06_19_41239', '11_06_2019_22839', '11_06_2019_36915', '11_06_19_49390', '11_06_19_10024', '11_06_19_16450', '11_06_2019_13433', '11_06_19_40078', '11_06_19_19242', '11_06_19_23194', '11_06_19_23105', '11_06_19_25752', '11_06_19_35989', '11_06_2019_16383', '11_06_2019_33929', '11_06_19_22766', '11_06_2019_12314', '11_06_2019_11903', '11_06_2019_37669', '11_06_19_42516', '11_06_2019_10076', '11_06_19_21629', '11_06_2019_48457', '11_06_2019_18409', '11_06_19_32476', '11_06_19_45588', '11_06_19_30061', '11_06_19_25902', '11_06_19_16665', '11_06_19_32859', '11_06_2019_36253', '11_06_2019_31366', '11_06_2019_48812', '11_06_19_18699', '11_06_2019_41372', '11_06_19_16584', 'name', '11_06_19_16698', '11_06_19_36179', '11_06_19_14686', '11_06_2019_34895', '11_06_2019_15690', '11_06_2019_49996', '11_06_2019_48225']\n",
          "name": "stdout"
        }
      ]
    }
  ],
  "metadata": {
    "kernelspec": {
      "name": "python36",
      "display_name": "Python 3.6",
      "language": "python"
    },
    "language_info": {
      "mimetype": "text/x-python",
      "nbconvert_exporter": "python",
      "name": "python",
      "pygments_lexer": "ipython3",
      "version": "3.6.6",
      "file_extension": ".py",
      "codemirror_mode": {
        "version": 3,
        "name": "ipython"
      }
    }
  },
  "nbformat": 4,
  "nbformat_minor": 2
}