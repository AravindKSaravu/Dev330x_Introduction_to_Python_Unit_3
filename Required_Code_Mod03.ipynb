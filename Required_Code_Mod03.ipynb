{
  "cells": [
    {
      "metadata": {},
      "cell_type": "markdown",
      "source": "# Module 3 Required code  \n  \n\n## Note: Students of Dev330x on edX\n\n> ### It is required to submit your required code for Module 3 within the edX course   \n> The completed code must be copied from the cell below and pasted in to the edX required code page at the end of Module 3 in the course \"Introduction to Python: Creating Scalable, Robust, Interactive Code\" on edX.  \n>  \n> **REQUIREMENTS**  \n> Submit all of the code in working order, you will only be graded on correct completion tasks below:\n- Use the inventory dictionary in a program that asks the user for a UPC number, description, unit price, quantity in stock.  \n- If the item already exists in the inventory, the information is updated, and your program should display a message that it is updating the entry.  \n- If the item does NOT exists in the inventory, a new dictionary entry is created, and your program should display a message that it is creating a new entry.  \n- Use try/except in the program. \n- **use the following required keywords & functions:** `try`, `except`, `int`, `input`,`.format`"
    },
    {
      "metadata": {},
      "cell_type": "markdown",
      "source": "<font size=\"6\" color=\"#B24C00\"  face=\"verdana\"> <B>Required Code Module 3</B></font>  \n\n### Complete the Required Code in the Jupyter Notebook Required_Code_Mod03 and then paste into edX code submission page   \n\nThis is the same code assignment located as **Task 7,  Dictionary: Updating/adding an item** in 3-3.5_Mod03_Practice.ipynb\n\n## Dictionary: Updating/adding an item  \n"
    },
    {
      "metadata": {
        "trusted": true
      },
      "cell_type": "code",
      "source": "# [ ] Use the `inventory` dictionary in a program that asks the user for a UPC number, description, unit price, \n# quantity in stock.\n# If the item already exists in the inventory, the information is updated, \n# and your program should display a message that it is updating the entry.\n# If the item does NOT exists in the inventory, a new dictionary entry is created, \n# and your program should display a message that it is creating a new entry.\n# Use try/except in the program.\n\n\n# test cases\n\n# For an existing item\n'''\nEnter UPC number: 839529\nEnter item description: TOMATOS 1LB\nEnter unit price: 1.55\nEnter item quantity: 21\nExisting item, updating: ['TOMATOS 1LB', 1.29, 25]\n\n  UPC   | Description       |  Unit Price  |  Quantity \n-------------------------------------------------------\n839529  | TOMATOS 1LB       |         1.55 |      21.00\n'''\n\n# For a new item\n'''\nEnter UPC number: 29430\nEnter item description: ORANGE 1LB\nEnter unit price: 0.99\nEnter item quantity: 40\nNew item, creating ORANGE 1LB\n\n  UPC   | Description       |  Unit Price  |  Quantity \n-------------------------------------------------------\n29430   | ORANGE 1LB        |         0.99 |      40.00\n'''\ninventory = {847502: ['APPLES 1LB', 1.99, 50], 847283: ['OLIVE OIL', 10.99, 100], 839529: ['TOMATOS 1LB', 1.29, 25], 483946: ['MILK 1/2G', 3.45, 35], 493402: ['FLOUR 5LB', 2.99, 40], 485034: ['BELL PEPPERS 1LB', 1.35, 28], 828391: ['WHITE TUNA', 1.69, 100], 449023: ['CHEESE 1/2LB', 4.99, 15]}\nnum = 0\ndescription = \"\"\nunit_price = 0\nitem_quantity = 0\n\nwhile num == 0:\n    try:\n        num = int(input(\"Enter UPC number: \"))\n    except ValueError as exception:\n        print(exception)\nwhile description == \"\":\n    description = input(\"Enter item description: \")\n            \nwhile unit_price == 0:\n    try:\n        unit_price = float(input(\"Enter unit price: \"))\n    except ValueError as exception:\n        print(exception)\n\nwhile item_quantity == 0:\n    try:\n        item_quantity = float(input(\"Enter item quantity: \"))\n    except ValueError as exception:\n        print(exception)\n\nif num not in inventory.keys():\n    print(\"New item, creating {:s}\".format(description))\n    inventory.update({num:[description, unit_price, item_quantity]})\n\nif num in inventory.keys():\n    print(\"Existing item, updating: {:s}\".format(str(inventory[num])))\n    inventory[num] = [description,unit_price,item_quantity]\n\nprint()\nprint(\"{:^9s}| {:<18s}|{:^13s}| {:^10s}\".format(\"UPC\",\"Description\",\"Unit Price\", \"Quantity\"))\nprint(\"-------------------------------------------------------\")\nprint(\"{:<9d}| {:<18s}|{:>12.2f} |{:>11.2f}\".format(num, inventory[num][0], inventory[num][1], inventory[num][2]))",
      "execution_count": null,
      "outputs": []
    },
    {
      "metadata": {},
      "cell_type": "markdown",
      "source": "### Test your graded code  \nUse the supplied data and make sure the output running code above looks the same\n\nComplete the Required Code in the Jupyter Notebook Required_Code_Mod03 and then paste into edX code submission page\n#### Test 1  \n```  \nEnter UPC number: 839529\nEnter item description: TOMATOS 1LB\nEnter unit price: 1.55\nEnter item quantity: 21\n \n```  \n#### Expected Result Test 1  \n```  \nExisting item, updating: ['TOMATOS 1LB', 1.29, 25]\n\n  UPC   | Description       |  Unit Price  |  Quantity \n-------------------------------------------------------\n839529  | TOMATOS 1LB       |         1.55 |      21.00\n```  \n\n#### Test 2   \n```  \nEnter UPC number: 29430\nEnter item description: ORANGE 1LB\nEnter unit price: 0.99\nEnter item quantity: 40\n```  \n#### Expected Result Test 2  \n```  \nNew item, creating ORANGE 1LB\n\n  UPC   | Description       |  Unit Price  |  Quantity \n-------------------------------------------------------\n29430   | ORANGE 1LB        |         0.99 |      40.00\n```  "
    }
  ],
  "metadata": {
    "kernelspec": {
      "name": "python3",
      "display_name": "Python 3",
      "language": "python"
    },
    "language_info": {
      "mimetype": "text/x-python",
      "nbconvert_exporter": "python",
      "name": "python",
      "pygments_lexer": "ipython3",
      "version": "3.5.4",
      "file_extension": ".py",
      "codemirror_mode": {
        "version": 3,
        "name": "ipython"
      }
    }
  },
  "nbformat": 4,
  "nbformat_minor": 2
}