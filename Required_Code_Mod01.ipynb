{
  "cells": [
    {
      "metadata": {},
      "cell_type": "markdown",
      "source": "# Module 1 Required code  \n  \n\n## Note: Students of Dev330x on edX\n\n> ### It is required to submit your required code for Module 1 within the edX course   \n> The completed code must be copied from the cell below and pasted in to the edX required code page at the end of Module 1 in the course \"Introduction to Python: Creating Scalable, Robust, Interactive Code\" on edX.  \n>  \n> **REQUIREMENTS**  \n> Submit all of the code in working order but you will only be graded on the the 2 functions below:\n- ### name_generator()\n  - **use the following required keywords & functions:** `datetime.today()`, `randint()`, `.strftime()`, `return`\n- ### directory_creator()\n  - **use the following:** Python `os` module"
    },
    {
      "metadata": {},
      "cell_type": "markdown",
      "source": "---\n<font size=\"6\" color=\"#B24C00\"  face=\"verdana\"> <B>Required Code Module 1</B></font>   \n\n\n\n## Directory creator  \n\n### Complete the Required Code in the Jupyter Notebook Required_Code_Mod01 and then paste into edX code submission page   \n\nThis is the same code assignment located as the project at the bottom of 3-1.5_Mod01_Practice.ipynb"
    },
    {
      "metadata": {
        "trusted": true
      },
      "cell_type": "code",
      "source": "# [ ] The following program is designed to generate a number of directories.\n# The directory names follow the pattern (MM_DD_YY_randnum), where:\n#     - MM_DD_YY: is today's date as month/day/year\n#     - randnum: is a random integer between 10000 and 50000\n# For example, if today is May 12th, 2016, then the following would be valid names: 05_12_16_11050 or 05_12_16_15001\n#\n# For this task, you should complete the functions:\n# 1) `directory_count()`\n# 2) `name_generator()`\n# 3) `directory_creator(name)`\n# 4) `create()`\n#\n# HINT: You should import all necessary modules\n\nimport os, math, random\nfrom datetime import datetime\n\n\ndef directory_count():\n    \"\"\"\n    Calculate the number of directories to be generated.\n\n    I) Get the current minute using appropriate functionality from `datetime`\n    II) Take the square root of ..the current minute + 15\n    III) Round the square root to an integer\n    VI) return the rounded number as the number of directories to be created\n\n    args:\n          NONE\n\n    returns:\n         `dir_count`: number of directories to be created\n    \"\"\"\n    return math.trunc(math.sqrt(datetime.today().minute))\n\n\ndef name_generator():\n    \"\"\"\n    Generate a single directory name using the pattern (MM_DD_YY_randnum).\n\n    args:\n         NONE\n\n    returns:\n         `dir_name`: string containing a valid directory name\n    \"\"\"\n    return datetime.today().strftime('%m_%d_%y_') + str(random.randint(10000, 50000))\n\n\ndef directory_creator(name):\n    \"\"\"\n    Create a single directory called `name` in the current working directory.\n\n    args:\n         name: directory to be created\n\n    returns:\n         NONE\n    \"\"\"\n    os.mkdir(name)\n\n\ndef create():\n    \"\"\"\n    Generate the necessary directories.\n\n    Use `directory_count` to calculate the number of directories, then use `directory_creator` and `name_generator`.\n\n    args:\n         NONE\n\n    returns:\n         NONE\n    \"\"\"\n    dir_count = directory_count()\n    for i in range(dir_count):\n        directory_creator(name_generator())\n\n\n# Change working directory to `parent_dir` or `create`\nif (\"parent_dir\" not in os.getcwd()):\n    if os.path.exists(\"./parent_dir\"):\n        print(\"Changing working dir to parent_dir\")\n        os.chdir(\"parent_dir\")\n    else:\n        os.mkdir(os.getcwd() + \"./parent_dir\")\n        print(\"Changing working dir to parent_dir\")\n        os.chdir(\"parent_dir\")\nelse:\n    # so the code can run multiple times\n    # while directory not ending with 'parent_dir' move up the path ..\\\n    while \"parent_dir\" not in os.getcwd()[-11:]:\n        # move up in dir to find 'parent_dir'\n        os.chdir(\"..\")\n        print(\"moved up\", os.getcwd())\n\n# print the current working directory (should be \"parent_dir\")\nprint(\"The current working directory is:\", os.getcwd())\n\n# check for randoms_directory if not present, create new\nif os.path.exists(os.getcwd() + \"/randoms_directory\") != True:\n    os.mkdir(\"randoms_directory\")\n\n# change the current working directory to randoms_directory\nprint(\"Changing working dir to randoms_directory\")\nos.chdir(\"randoms_directory\")\n# print the current working directory (should be \"randoms_dir\")\nprint(\"The current working directory is:\", os.getcwd())\n\n# create directories inside \"randoms_directory\"\ncreate()\n\n# list the content of the current directory\nprint(\"Current directory content:\", os.listdir())",
      "execution_count": 2,
      "outputs": [
        {
          "output_type": "stream",
          "text": "moved up /home/nbuser/library/parent_dir/randoms_directory\nmoved up /home/nbuser/library/parent_dir\nThe current working directory is: /home/nbuser/library/parent_dir\nChanging working dir to randoms_directory\nThe current working directory is: /home/nbuser/library/parent_dir/randoms_directory\nCurrent directory content: ['11_06_19_47349', '11_06_19_45588', '11_06_2019_37669', '11_06_2019_48457', '11_06_19_30061', '11_06_2019_11903', 'name', '11_06_19_25752', '11_06_2019_21071', '11_06_19_40078', '11_06_2019_40226', '11_06_19_38263', '11_06_19_16450', '11_06_19_16665', '11_06_2019_49996', '11_06_2019_17162', '11_06_19_21629', '11_06_19_25902', '11_06_2019_15690', '11_06_2019_22839', '11_06_2019_12365', '11_06_19_29140', '12_22_19_33458', '11_06_19_25413', '11_06_2019_41372', '11_06_2019_16383', '11_06_19_23105', '11_06_2019_48183', '11_06_19_35477', '11_06_19_30294', '11_06_2019_36915', '11_06_19_35989', '11_06_19_44765', '11_06_2019_33929', '11_06_19_32859', '11_06_19_10024', '11_06_19_49390', '11_06_19_42516', 'test_required', '11_06_2019_18409', '11_06_2019_12314', '11_06_2019_46634', '11_06_19_16698', '11_06_2019_10076', '11_06_2019_13433', '11_06_19_19242', '11_06_2019_14537', '11_06_19_14686', '11_06_2019_48225', '11_06_19_41239', '11_06_19_23194', '11_06_2019_31366', '11_06_19_32476', '11_06_19_36179', '11_06_2019_48812', '11_06_19_16584', '11_06_19_31964', '11_06_2019_34895', '11_06_19_22766', '11_06_19_24666', '11_06_2019_36253', '12_22_19_11044', '11_06_19_18699']\n",
          "name": "stdout"
        }
      ]
    },
    {
      "metadata": {},
      "cell_type": "markdown",
      "source": "### Test your code for the graded functions name_generator() & directory_creator()  \nHelp ensure that required name_generator() & directory_creator() functions will earn credit when submitted to edX by running the code below after the functions have been loaded in this notebook.\n\nBe sure to meet the following **requirements** for name_generator() & directory_creator() functions before submission to edX:  \n> \n- ### name_generator()\n  - **use the following required keywords & functions:** `datetime.today()`, `randint()`, `.strftime()`, `return`\n- ### directory_creator()\n  - **use the following Python module:** `os` "
    },
    {
      "metadata": {
        "trusted": true
      },
      "cell_type": "code",
      "source": "# Test your code for the graded functions name_generator() & directory_creator()\nimport os\nimport shutil\n\n# make sure directory structure is in place\nos.chdir(\"/home/nbuser/library\")\n\nif os.path.exists(os.getcwd() + \"/parent_dir\") != True:\n    os.mkdir(\"parent_dir\")\nos.chdir(\"parent_dir\")\n    \n    \nif os.path.exists(os.getcwd() + \"/randoms_directory\") != True:\n    os.mkdir(\"randoms_directory\")\nos.chdir(\"randoms_directory\")\n    \nif os.path.exists(os.getcwd() + \"/test_required\") == True:\n    # delete the test_required directory\n    shutil.rmtree(\"/home/nbuser/library/parent_dir/randoms_directory/test_required\")\n# create and move to Test_required\nos.mkdir(\"test_required\")\nos.chdir(\"test_required\")\n\n# print the current working directory (should be \"parent_dir\")\nprint(\"The current working directory is:\", os.getcwd())\nprint(\"\\nThe created directories should be named MM_DD_YY_randnum - such as '03_22_19_17040'\")\n\n# TEST*** test name_generator & directory_creator() by creating 3 directories ***TEST\nfor i in range(3):\n    dir_name = name_generator()\n    print(\"creating directory\", dir_name)\n    directory_creator(dir_name)\n\n\n# list the content of the current directory\nprint(\"Current directory content:\", os.listdir())\n\n# Check if TEST created 3 directories\nnum_dir = len(os.listdir())\n\nif num_dir == 3:\n    print(\"\\nPASS: Contains 3 directories as expected. Be sure name_generator() & directory_creator() contain required keywords and functions.\")  \n    print(\"Copy code cell above into edX required code submission.\")\nelse:\n    print(\"\\nFAIL: Should contain 3 directories, contains\", num_dir )",
      "execution_count": 3,
      "outputs": [
        {
          "output_type": "stream",
          "text": "The current working directory is: /home/nbuser/library/parent_dir/randoms_directory/test_required\n\nThe created directories should be named MM_DD_YY_randnum - such as '03_22_19_17040'\ncreating directory 12_22_19_16036\ncreating directory 12_22_19_40201\ncreating directory 12_22_19_49370\nCurrent directory content: ['12_22_19_49370', '12_22_19_40201', '12_22_19_16036']\n\nPASS: Contains 3 directories as expected. Be sure name_generator() & directory_creator() contain required keywords and functions.\nCopy code cell above into edX required code submission.\n",
          "name": "stdout"
        }
      ]
    },
    {
      "metadata": {
        "collapsed": true,
        "trusted": false
      },
      "cell_type": "code",
      "source": "",
      "execution_count": null,
      "outputs": []
    }
  ],
  "metadata": {
    "kernelspec": {
      "name": "python36",
      "display_name": "Python 3.6",
      "language": "python"
    },
    "language_info": {
      "mimetype": "text/x-python",
      "nbconvert_exporter": "python",
      "name": "python",
      "pygments_lexer": "ipython3",
      "version": "3.6.6",
      "file_extension": ".py",
      "codemirror_mode": {
        "version": 3,
        "name": "ipython"
      }
    }
  },
  "nbformat": 4,
  "nbformat_minor": 2
}